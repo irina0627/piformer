{
 "cells": [
  {
   "cell_type": "code",
   "execution_count": 1,
   "id": "4a559766-03b5-49b5-8440-36be5a7f2807",
   "metadata": {},
   "outputs": [],
   "source": [
    "import numpy as np\n",
    "import pandas as pd\n",
    "import matplotlib.pyplot as plt\n",
    "import torch\n",
    "import torch.nn as nn\n",
    "import os"
   ]
  },
  {
   "cell_type": "code",
   "execution_count": 53,
   "id": "3dba2278-ac16-47f4-8f05-eaeb0967e0d6",
   "metadata": {},
   "outputs": [],
   "source": [
    "# checkpoint -> result 불러오기\n",
    "import argparse\n",
    "from exp.exp_long_term_forecasting import Exp_Long_Term_Forecast\n",
    "from exp.exp_imputation import Exp_Imputation\n",
    "from exp.exp_short_term_forecasting import Exp_Short_Term_Forecast\n",
    "from exp.exp_long_term_forecasting_partial import Exp_Long_Term_Forecast_Partial\n",
    "from exp.exp_anomaly_detection import Exp_Anomaly_Detection\n",
    "from exp.exp_classification import Exp_Classification\n",
    "from utils.print_args import print_args\n",
    "import random\n",
    "import time\n",
    "from utils.metrics import *\n",
    "from utils.tools import EarlyStopping"
   ]
  },
  {
   "cell_type": "code",
   "execution_count": 3,
   "id": "2e4e6687-5c08-4ae4-b322-14474d098b73",
   "metadata": {},
   "outputs": [],
   "source": [
    "# fix random seed\n",
    "fix_seed = 2021\n",
    "random.seed(fix_seed)\n",
    "torch.manual_seed(fix_seed)\n",
    "np.random.seed(fix_seed)\n",
    "parser = argparse.ArgumentParser(description='TimesNet')"
   ]
  },
  {
   "cell_type": "code",
   "execution_count": 4,
   "id": "dd6ab229-a7d8-4cad-8eae-4866ff3bbbec",
   "metadata": {
    "scrolled": true
   },
   "outputs": [
    {
     "data": {
      "text/plain": [
       "_StoreAction(option_strings=['--base_model'], dest='base_model', nargs=None, const=None, default='iTransformer', type=<class 'str'>, choices=None, help='Base Model Type', metavar=None)"
      ]
     },
     "execution_count": 4,
     "metadata": {},
     "output_type": "execute_result"
    }
   ],
   "source": [
    "# config 지정 -> 오류 방지를 위해 \n",
    "\n",
    "# basic config\n",
    "parser.add_argument('--task_name', type=str, default='long_term_forecast',\n",
    "                    help='task name, options:[long_term_forecast, short_term_forecast, imputation, classification, anomaly_detection]')\n",
    "parser.add_argument('--is_training', type=int, default=1, help='status')\n",
    "parser.add_argument('--model_id', type=str, default='test', help='model id')\n",
    "parser.add_argument('--model', type=str, default='Autoformer',\n",
    "                    help='model name, options: [Autoformer, Transformer, TimesNet]')\n",
    "\n",
    "# data loader\n",
    "parser.add_argument('--data', type=str, default='ETTm1', help='dataset type')\n",
    "parser.add_argument('--root_path', type=str, default='./data/ETT/', help='root path of the data file')\n",
    "parser.add_argument('--data_path', type=str, default='ETTh1.csv', help='data file')\n",
    "parser.add_argument('--features', type=str, default='M',\n",
    "                    help='forecasting task, options:[M, S, MS]; M:multivariate predict multivariate, S:univariate predict univariate, MS:multivariate predict univariate')\n",
    "parser.add_argument('--target', type=str, default='OT', help='target feature in S or MS task')\n",
    "parser.add_argument('--freq', type=str, default='h',\n",
    "                    help='freq for time features encoding, options:[s:secondly, t:minutely, h:hourly, d:daily, b:business days, w:weekly, m:monthly], you can also use more detailed freq like 15min or 3h')\n",
    "parser.add_argument('--checkpoints', type=str, default='./checkpoints/', help='location of model checkpoints')\n",
    "\n",
    "# added option \n",
    "parser.add_argument('--train_ratio', type=float, default=0.7, help='train data ratio')\n",
    "parser.add_argument('--test_ratio', type=float, default=0.2, help='test data ratio')\n",
    "parser.add_argument('--train_step', type=float, default=1.0, help='train data with certain stes. for example train_step=2 means only train even number of data')\n",
    "\n",
    "# SparseTSF\n",
    "parser.add_argument('--period_len', type=int, default=24, help='period length')\n",
    "\n",
    "# PITS\n",
    "parser.add_argument('--fc_dropout', type=float, default=0.05, help='fully connected dropout')\n",
    "parser.add_argument('--head_dropout', type=float, default=0.0, help='head dropout')\n",
    "parser.add_argument('--patch_len', type=int, default=16, help='patch length')\n",
    "parser.add_argument('--stride', type=int, default=8, help='stride')\n",
    "parser.add_argument('--shared_embedding', type=int, default=1, help='stride')\n",
    "parser.add_argument('--padding_patch', default='end', help='None: None; end: padding on the end')\n",
    "parser.add_argument('--revin', type=int, default=1, help='RevIN; True 1 False 0')\n",
    "parser.add_argument('--affine', type=int, default=0, help='RevIN-affine; True 1 False 0')\n",
    "parser.add_argument('--subtract_last', type=int, default=0, help='0: subtract mean; 1: subtract last')\n",
    "parser.add_argument('--decomposition', type=int, default=0, help='decomposition; True 1 False 0')\n",
    "parser.add_argument('--kernel_size', type=int, default=25, help='decomposition-kernel')\n",
    "parser.add_argument('--individual', type=int, default=0, help='individual head; True 1 False 0')\n",
    "\n",
    "# Piformer\n",
    "parser.add_argument('--joint_var', type=int, default=0, help='use attention for each patching; True 1 False 0')\n",
    "\n",
    "# forecasting task\n",
    "parser.add_argument('--seq_len', type=int, default=96, help='input sequence length')\n",
    "parser.add_argument('--label_len', type=int, default=48, help='start token length')\n",
    "parser.add_argument('--pred_len', type=int, default=96, help='prediction sequence length')\n",
    "parser.add_argument('--seasonal_patterns', type=str, default='Monthly', help='subset for M4')\n",
    "parser.add_argument('--inverse', action='store_true', help='inverse output data', default=False)\n",
    "\n",
    "# inputation task\n",
    "parser.add_argument('--mask_rate', type=float, default=0.25, help='mask ratio')\n",
    "\n",
    "# anomaly detection task\n",
    "parser.add_argument('--anomaly_ratio', type=float, default=0.25, help='prior anomaly ratio (%)')\n",
    "\n",
    "# model define\n",
    "parser.add_argument('--expand', type=int, default=2, help='expansion factor for Mamba')\n",
    "parser.add_argument('--d_conv', type=int, default=4, help='conv kernel size for Mamba')\n",
    "parser.add_argument('--top_k', type=int, default=5, help='for TimesBlock')\n",
    "parser.add_argument('--num_kernels', type=int, default=6, help='for Inception')\n",
    "parser.add_argument('--enc_in', type=int, default=7, help='encoder input size')\n",
    "parser.add_argument('--dec_in', type=int, default=7, help='decoder input size')\n",
    "parser.add_argument('--c_out', type=int, default=7, help='output size')\n",
    "parser.add_argument('--d_model', type=int, default=512, help='dimension of model')\n",
    "parser.add_argument('--n_heads', type=int, default=8, help='num of heads')\n",
    "parser.add_argument('--e_layers', type=int, default=2, help='num of encoder layers')\n",
    "parser.add_argument('--d_layers', type=int, default=1, help='num of decoder layers')\n",
    "parser.add_argument('--d_ff', type=int, default=2048, help='dimension of fcn')\n",
    "parser.add_argument('--moving_avg', type=int, default=25, help='window size of moving average')\n",
    "parser.add_argument('--factor', type=int, default=1, help='attn factor')\n",
    "parser.add_argument('--distil', action='store_false',\n",
    "                    help='whether to use distilling in encoder, using this argument means not using distilling',\n",
    "                    default=True)\n",
    "parser.add_argument('--dropout', type=float, default=0.1, help='dropout')\n",
    "parser.add_argument('--embed', type=str, default='timeF',\n",
    "                    help='time features encoding, options:[timeF, fixed, learned]')\n",
    "parser.add_argument('--activation', type=str, default='gelu', help='activation')\n",
    "parser.add_argument('--output_attention', action='store_true', help='whether to output attention in ecoder')\n",
    "parser.add_argument('--channel_independence', type=int, default=1,\n",
    "                    help='0: channel dependence 1: channel independence for FreTS model')\n",
    "parser.add_argument('--decomp_method', type=str, default='moving_avg',\n",
    "                    help='method of series decompsition, only support moving_avg or dft_decomp')\n",
    "parser.add_argument('--use_norm', type=int, default=1, help='whether to use normalize; True 1 False 0')\n",
    "parser.add_argument('--down_sampling_layers', type=int, default=0, help='num of down sampling layers')\n",
    "parser.add_argument('--down_sampling_window', type=int, default=1, help='down sampling window size')\n",
    "parser.add_argument('--down_sampling_method', type=str, default=None,\n",
    "                    help='down sampling method, only support avg, max, conv')\n",
    "parser.add_argument('--seg_len', type=int, default=48,\n",
    "                    help='the length of segmen-wise iteration of SegRNN')\n",
    "\n",
    "# optimization\n",
    "parser.add_argument('--num_workers', type=int, default=10, help='data loader num workers')\n",
    "parser.add_argument('--itr', type=int, default=1, help='experiments times')\n",
    "parser.add_argument('--train_epochs', type=int, default=10, help='train epochs')\n",
    "parser.add_argument('--batch_size', type=int, default=32, help='batch size of train input data')\n",
    "parser.add_argument('--patience', type=int, default=3, help='early stopping patience')\n",
    "parser.add_argument('--learning_rate', type=float, default=0.0001, help='optimizer learning rate')\n",
    "parser.add_argument('--des', type=str, default='test', help='exp description')\n",
    "parser.add_argument('--loss', type=str, default='MSE', help='loss function')\n",
    "parser.add_argument('--lradj', type=str, default='type1', help='adjust learning rate')\n",
    "parser.add_argument('--use_amp', action='store_true', help='use automatic mixed precision training', default=False)\n",
    "\n",
    "# GPU\n",
    "parser.add_argument('--use_gpu', type=bool, default=True, help='use gpu')\n",
    "parser.add_argument('--gpu', type=int, default=0, help='gpu')\n",
    "parser.add_argument('--use_multi_gpu', action='store_true', help='use multiple gpus', default=False)\n",
    "parser.add_argument('--devices', type=str, default='0,1,2,3', help='device ids of multile gpus')\n",
    "\n",
    "# de-stationary projector params\n",
    "parser.add_argument('--p_hidden_dims', type=int, nargs='+', default=[128, 128],\n",
    "                    help='hidden layer dimensions of projector (List)')\n",
    "parser.add_argument('--p_hidden_layers', type=int, default=2, help='number of hidden layers in projector')\n",
    "\n",
    "# metrics (dtw)\n",
    "parser.add_argument('--use_dtw', type=bool, default=False, \n",
    "                    help='the controller of using dtw metric (dtw is time consuming, not suggested unless necessary)')\n",
    "\n",
    "# Augmentation\n",
    "parser.add_argument('--augmentation_ratio', type=int, default=0, help=\"How many times to augment\")\n",
    "parser.add_argument('--seed', type=int, default=2, help=\"Randomization seed\")\n",
    "parser.add_argument('--jitter', default=False, action=\"store_true\", help=\"Jitter preset augmentation\")\n",
    "parser.add_argument('--scaling', default=False, action=\"store_true\", help=\"Scaling preset augmentation\")\n",
    "parser.add_argument('--permutation', default=False, action=\"store_true\", help=\"Equal Length Permutation preset augmentation\")\n",
    "parser.add_argument('--randompermutation', default=False, action=\"store_true\", help=\"Random Length Permutation preset augmentation\")\n",
    "parser.add_argument('--magwarp', default=False, action=\"store_true\", help=\"Magnitude warp preset augmentation\")\n",
    "parser.add_argument('--timewarp', default=False, action=\"store_true\", help=\"Time warp preset augmentation\")\n",
    "parser.add_argument('--windowslice', default=False, action=\"store_true\", help=\"Window slice preset augmentation\")\n",
    "parser.add_argument('--windowwarp', default=False, action=\"store_true\", help=\"Window warp preset augmentation\")\n",
    "parser.add_argument('--rotation', default=False, action=\"store_true\", help=\"Rotation preset augmentation\")\n",
    "parser.add_argument('--spawner', default=False, action=\"store_true\", help=\"SPAWNER preset augmentation\")\n",
    "parser.add_argument('--dtwwarp', default=False, action=\"store_true\", help=\"DTW warp preset augmentation\")\n",
    "parser.add_argument('--shapedtwwarp', default=False, action=\"store_true\", help=\"Shape DTW warp preset augmentation\")\n",
    "parser.add_argument('--wdba', default=False, action=\"store_true\", help=\"Weighted DBA preset augmentation\")\n",
    "parser.add_argument('--discdtw', default=False, action=\"store_true\", help=\"Discrimitive DTW warp preset augmentation\")\n",
    "parser.add_argument('--discsdtw', default=False, action=\"store_true\", help=\"Discrimitive shapeDTW warp preset augmentation\")\n",
    "parser.add_argument('--extra_tag', type=str, default=\"\", help=\"Anything extra\")\n",
    "\n",
    "#piformer\n",
    "parser.add_argument('--shuffle', type=int, default=1, help=\"Shuffle data when training\")\n",
    "parser.add_argument('--base_model', type=str, default=\"iTransformer\", help=\"Base Model Type\")"
   ]
  },
  {
   "cell_type": "code",
   "execution_count": 5,
   "id": "0fa9d399-bb09-4e1f-bfb9-7691c88e4858",
   "metadata": {},
   "outputs": [],
   "source": [
    "# 스크립트 4개 정리 (./scripts/long_term_forecast/Multi_script/iTransformer_exchange_weather.sh)\n",
    "scripts_list = [\"\"\"--task_name long_term_forecast \\\n",
    "  --is_training 1 \\\n",
    "  --root_path ./dataset/exchange_rate/ \\\n",
    "  --data_path exchange_rate.csv \\\n",
    "  --model_id iTransformer_Exchange_96_96 \\\n",
    "  --model iTransformer \\\n",
    "  --data custom \\\n",
    "  --features M \\\n",
    "  --seq_len 96 \\\n",
    "  --label_len 48 \\\n",
    "  --pred_len 96 \\\n",
    "  --e_layers 2 \\\n",
    "  --d_layers 1 \\\n",
    "  --factor 3 \\\n",
    "  --enc_in 8 \\\n",
    "  --dec_in 8 \\\n",
    "  --c_out 8 \\\n",
    "  --batch_size 8 \\\n",
    "  --d_model 64\\\n",
    "  --d_ff 128\\\n",
    "  --des 'Exp' \\\n",
    "  --itr 1 \"\"\",\n",
    "                \"\"\"--task_name long_term_forecast \\\n",
    "  --is_training 1 \\\n",
    "  --root_path ./dataset/exchange_rate/ \\\n",
    "  --data_path exchange_rate.csv \\\n",
    "  --model_id iTransformer_Exchange_96_192 \\\n",
    "  --model iTransformer \\\n",
    "  --data custom \\\n",
    "  --features M \\\n",
    "  --seq_len 96 \\\n",
    "  --label_len 48 \\\n",
    "  --pred_len 192 \\\n",
    "  --e_layers 2 \\\n",
    "  --d_layers 1 \\\n",
    "  --factor 3 \\\n",
    "  --enc_in 8 \\\n",
    "  --dec_in 8 \\\n",
    "  --c_out 8 \\\n",
    "  --batch_size 8 \\\n",
    "  --d_model 64\\\n",
    "  --d_ff 128\\\n",
    "  --des 'Exp' \\\n",
    "  --itr 1 \"\"\",\n",
    "                \"\"\"--task_name long_term_forecast \\\n",
    "  --is_training 1 \\\n",
    "  --root_path ./dataset/weather/ \\\n",
    "  --data_path weather.csv \\\n",
    "  --model_id iTransformer_weather_96_96 \\\n",
    "  --model iTransformer \\\n",
    "  --data custom \\\n",
    "  --features M \\\n",
    "  --seq_len 96 \\\n",
    "  --label_len 48 \\\n",
    "  --pred_len 96 \\\n",
    "  --e_layers 3 \\\n",
    "  --d_layers 1 \\\n",
    "  --factor 3 \\\n",
    "  --enc_in 21 \\\n",
    "  --dec_in 21 \\\n",
    "  --c_out 21 \\\n",
    "  --des 'Exp' \\\n",
    "  --batch_size 8 \\\n",
    "  --d_model 64\\\n",
    "  --d_ff 128\\\n",
    "  --itr 1\"\"\",\n",
    "                \"\"\"--task_name long_term_forecast \\\n",
    "  --is_training 1 \\\n",
    "  --root_path ./dataset/weather/ \\\n",
    "  --data_path weather.csv \\\n",
    "  --model_id iTransformer_weather_96_192 \\\n",
    "  --model iTransformer \\\n",
    "  --data custom \\\n",
    "  --features M \\\n",
    "  --seq_len 96 \\\n",
    "  --label_len 48 \\\n",
    "  --pred_len 192 \\\n",
    "  --e_layers 3 \\\n",
    "  --d_layers 1 \\\n",
    "  --factor 3 \\\n",
    "  --enc_in 21 \\\n",
    "  --dec_in 21 \\\n",
    "  --c_out 21 \\\n",
    "  --des 'Exp' \\\n",
    "  --batch_size 8 \\\n",
    "  --d_model 64\\\n",
    "  --d_ff 128\\\n",
    "  --itr 1 \"\"\"]"
   ]
  },
  {
   "cell_type": "code",
   "execution_count": 6,
   "id": "4a32461c-63f5-4665-91ba-1107067d8eef",
   "metadata": {},
   "outputs": [
    {
     "name": "stdout",
     "output_type": "stream",
     "text": [
      "Args in experiment:\n",
      "Namespace(activation='gelu', affine=0, anomaly_ratio=0.25, augmentation_ratio=0, base_model='iTransformer', batch_size=8, c_out=8, channel_independence=1, checkpoints='./checkpoints/', d_conv=4, d_ff=128, d_layers=1, d_model=64, data='custom', data_path='exchange_rate.csv', dec_in=8, decomp_method='moving_avg', decomposition=0, des=\"'Exp'\", devices='0,1,2,3', discdtw=False, discsdtw=False, distil=True, down_sampling_layers=0, down_sampling_method=None, down_sampling_window=1, dropout=0.1, dtwwarp=False, e_layers=2, embed='timeF', enc_in=8, expand=2, extra_tag='', factor=3, fc_dropout=0.05, features='M', freq='h', gpu=0, head_dropout=0.0, individual=0, inverse=False, is_training=1, itr=1, jitter=False, joint_var=0, kernel_size=25, label_len=48, learning_rate=0.0001, loss='MSE', lradj='type1', magwarp=False, mask_rate=0.25, model='iTransformer', model_id='iTransformer_Exchange_96_96', moving_avg=25, n_heads=8, num_kernels=6, num_workers=10, output_attention=False, p_hidden_dims=[128, 128], p_hidden_layers=2, padding_patch='end', patch_len=16, patience=3, period_len=24, permutation=False, pred_len=96, randompermutation=False, revin=1, root_path='./dataset/exchange_rate/', rotation=False, scaling=False, seasonal_patterns='Monthly', seed=2, seg_len=48, seq_len=96, shapedtwwarp=False, shared_embedding=1, shuffle=1, spawner=False, stride=8, subtract_last=0, target='OT', task_name='long_term_forecast', test_ratio=0.2, timewarp=False, top_k=5, train_epochs=10, train_ratio=0.7, train_step=1.0, use_amp=False, use_dtw=False, use_gpu=True, use_multi_gpu=False, use_norm=1, wdba=False, windowslice=False, windowwarp=False)\n"
     ]
    }
   ],
   "source": [
    "args0 = parser.parse_args(scripts_list[0].split())\n",
    "args0.use_gpu = True if torch.cuda.is_available() and args0.use_gpu else False\n",
    "\n",
    "if args0.use_gpu and args0.use_multi_gpu:\n",
    "    args0.devices = args0.devices.replace(' ', '')\n",
    "    device_ids0 = args0.devices.split(',')\n",
    "    args0.device_ids = [int(id_) for id_ in device_ids0]\n",
    "    args0.gpu = args0.device_ids[0]\n",
    "\n",
    "print('Args in experiment:')\n",
    "print(args0)"
   ]
  },
  {
   "cell_type": "code",
   "execution_count": 7,
   "id": "d61cd3d5-90f2-4787-961b-29f2066d3e43",
   "metadata": {},
   "outputs": [
    {
     "name": "stdout",
     "output_type": "stream",
     "text": [
      "Args in experiment:\n",
      "Namespace(activation='gelu', affine=0, anomaly_ratio=0.25, augmentation_ratio=0, base_model='iTransformer', batch_size=8, c_out=8, channel_independence=1, checkpoints='./checkpoints/', d_conv=4, d_ff=128, d_layers=1, d_model=64, data='custom', data_path='exchange_rate.csv', dec_in=8, decomp_method='moving_avg', decomposition=0, des=\"'Exp'\", devices='0,1,2,3', discdtw=False, discsdtw=False, distil=True, down_sampling_layers=0, down_sampling_method=None, down_sampling_window=1, dropout=0.1, dtwwarp=False, e_layers=2, embed='timeF', enc_in=8, expand=2, extra_tag='', factor=3, fc_dropout=0.05, features='M', freq='h', gpu=0, head_dropout=0.0, individual=0, inverse=False, is_training=1, itr=1, jitter=False, joint_var=0, kernel_size=25, label_len=48, learning_rate=0.0001, loss='MSE', lradj='type1', magwarp=False, mask_rate=0.25, model='iTransformer', model_id='iTransformer_Exchange_96_192', moving_avg=25, n_heads=8, num_kernels=6, num_workers=10, output_attention=False, p_hidden_dims=[128, 128], p_hidden_layers=2, padding_patch='end', patch_len=16, patience=3, period_len=24, permutation=False, pred_len=192, randompermutation=False, revin=1, root_path='./dataset/exchange_rate/', rotation=False, scaling=False, seasonal_patterns='Monthly', seed=2, seg_len=48, seq_len=96, shapedtwwarp=False, shared_embedding=1, shuffle=1, spawner=False, stride=8, subtract_last=0, target='OT', task_name='long_term_forecast', test_ratio=0.2, timewarp=False, top_k=5, train_epochs=10, train_ratio=0.7, train_step=1.0, use_amp=False, use_dtw=False, use_gpu=True, use_multi_gpu=False, use_norm=1, wdba=False, windowslice=False, windowwarp=False)\n"
     ]
    }
   ],
   "source": [
    "args1 = parser.parse_args(scripts_list[1].split())\n",
    "args1.use_gpu = True if torch.cuda.is_available() and args1.use_gpu else False\n",
    "\n",
    "if args1.use_gpu and args1.use_multi_gpu:\n",
    "    args1.devices = args1.devices.replace(' ', '')\n",
    "    device_ids1 = args1.devices.split(',')\n",
    "    args1.device_ids = [int(id_) for id_ in device_ids1]\n",
    "    args1.gpu = args1.device_ids[0]\n",
    "\n",
    "print('Args in experiment:')\n",
    "print(args1)"
   ]
  },
  {
   "cell_type": "code",
   "execution_count": 8,
   "id": "6d365791-acf3-43dc-8967-c84ff257e226",
   "metadata": {},
   "outputs": [
    {
     "name": "stdout",
     "output_type": "stream",
     "text": [
      "Args in experiment:\n",
      "Namespace(activation='gelu', affine=0, anomaly_ratio=0.25, augmentation_ratio=0, base_model='iTransformer', batch_size=8, c_out=21, channel_independence=1, checkpoints='./checkpoints/', d_conv=4, d_ff=128, d_layers=1, d_model=64, data='custom', data_path='weather.csv', dec_in=21, decomp_method='moving_avg', decomposition=0, des=\"'Exp'\", devices='0,1,2,3', discdtw=False, discsdtw=False, distil=True, down_sampling_layers=0, down_sampling_method=None, down_sampling_window=1, dropout=0.1, dtwwarp=False, e_layers=3, embed='timeF', enc_in=21, expand=2, extra_tag='', factor=3, fc_dropout=0.05, features='M', freq='h', gpu=0, head_dropout=0.0, individual=0, inverse=False, is_training=1, itr=1, jitter=False, joint_var=0, kernel_size=25, label_len=48, learning_rate=0.0001, loss='MSE', lradj='type1', magwarp=False, mask_rate=0.25, model='iTransformer', model_id='iTransformer_weather_96_96', moving_avg=25, n_heads=8, num_kernels=6, num_workers=10, output_attention=False, p_hidden_dims=[128, 128], p_hidden_layers=2, padding_patch='end', patch_len=16, patience=3, period_len=24, permutation=False, pred_len=96, randompermutation=False, revin=1, root_path='./dataset/weather/', rotation=False, scaling=False, seasonal_patterns='Monthly', seed=2, seg_len=48, seq_len=96, shapedtwwarp=False, shared_embedding=1, shuffle=1, spawner=False, stride=8, subtract_last=0, target='OT', task_name='long_term_forecast', test_ratio=0.2, timewarp=False, top_k=5, train_epochs=10, train_ratio=0.7, train_step=1.0, use_amp=False, use_dtw=False, use_gpu=True, use_multi_gpu=False, use_norm=1, wdba=False, windowslice=False, windowwarp=False)\n"
     ]
    }
   ],
   "source": [
    "args2 = parser.parse_args(scripts_list[2].split())\n",
    "args2.use_gpu = True if torch.cuda.is_available() and args2.use_gpu else False\n",
    "\n",
    "if args2.use_gpu and args2.use_multi_gpu:\n",
    "    args2.devices = args2.devices.replace(' ', '')\n",
    "    device_ids2 = args2.devices.split(',')\n",
    "    args2.device_ids = [int(id_) for id_ in device_ids2]\n",
    "    args2.gpu = args2.device_ids[0]\n",
    "\n",
    "print('Args in experiment:')\n",
    "print(args2)"
   ]
  },
  {
   "cell_type": "code",
   "execution_count": 9,
   "id": "19deefc2-4c6f-4c2e-8b77-c07907cc6bd3",
   "metadata": {
    "scrolled": true
   },
   "outputs": [
    {
     "name": "stdout",
     "output_type": "stream",
     "text": [
      "Args in experiment:\n",
      "Namespace(activation='gelu', affine=0, anomaly_ratio=0.25, augmentation_ratio=0, base_model='iTransformer', batch_size=8, c_out=21, channel_independence=1, checkpoints='./checkpoints/', d_conv=4, d_ff=128, d_layers=1, d_model=64, data='custom', data_path='weather.csv', dec_in=21, decomp_method='moving_avg', decomposition=0, des=\"'Exp'\", devices='0,1,2,3', discdtw=False, discsdtw=False, distil=True, down_sampling_layers=0, down_sampling_method=None, down_sampling_window=1, dropout=0.1, dtwwarp=False, e_layers=3, embed='timeF', enc_in=21, expand=2, extra_tag='', factor=3, fc_dropout=0.05, features='M', freq='h', gpu=0, head_dropout=0.0, individual=0, inverse=False, is_training=1, itr=1, jitter=False, joint_var=0, kernel_size=25, label_len=48, learning_rate=0.0001, loss='MSE', lradj='type1', magwarp=False, mask_rate=0.25, model='iTransformer', model_id='iTransformer_weather_96_192', moving_avg=25, n_heads=8, num_kernels=6, num_workers=10, output_attention=False, p_hidden_dims=[128, 128], p_hidden_layers=2, padding_patch='end', patch_len=16, patience=3, period_len=24, permutation=False, pred_len=192, randompermutation=False, revin=1, root_path='./dataset/weather/', rotation=False, scaling=False, seasonal_patterns='Monthly', seed=2, seg_len=48, seq_len=96, shapedtwwarp=False, shared_embedding=1, shuffle=1, spawner=False, stride=8, subtract_last=0, target='OT', task_name='long_term_forecast', test_ratio=0.2, timewarp=False, top_k=5, train_epochs=10, train_ratio=0.7, train_step=1.0, use_amp=False, use_dtw=False, use_gpu=True, use_multi_gpu=False, use_norm=1, wdba=False, windowslice=False, windowwarp=False)\n"
     ]
    }
   ],
   "source": [
    "args3 = parser.parse_args(scripts_list[3].split())\n",
    "args3.use_gpu = True if torch.cuda.is_available() and args1.use_gpu else False\n",
    "\n",
    "if args3.use_gpu and args3.use_multi_gpu:\n",
    "    args1.devices = args3.devices.replace(' ', '')\n",
    "    device_ids3 = args3.devices.split(',')\n",
    "    args3.device_ids = [int(id_) for id_ in device_ids3]\n",
    "    args3.gpu = args3.device_ids[0]\n",
    "\n",
    "print('Args in experiment:')\n",
    "print(args3)"
   ]
  },
  {
   "cell_type": "markdown",
   "id": "92ef8942-9aed-4165-b8a8-dad39eb0b7e2",
   "metadata": {},
   "source": [
    "## 모델 사용법\n",
    "\n",
    "* 우선 `./scripts/long_term_forecast/Multi_script/iTransformer_exchange_weather.sh` 파일을 돌린다.\n",
    "* 돌린 결과의 setting 기록을 아래 셀에 적음"
   ]
  },
  {
   "cell_type": "code",
   "execution_count": 10,
   "id": "09aee4a4-0256-43ca-9713-a92b4eab215d",
   "metadata": {},
   "outputs": [],
   "source": [
    "# 스크립트 4개 정리 (./scripts/long_term_forecast/Multi_script/iTransformer_exchange_weather.sh)\n",
    "exchange_96_96_result = \"long_term_forecast_iTransformer_Exchange_96_96_Mod-iTransformer_data-exchange_rate.csv_(96to96)_0(1727247520)\"\n",
    "exchange_96_192_result = \"long_term_forecast_iTransformer_Exchange_96_192_Mod-iTransformer_data-exchange_rate.csv_(96to192)_0(1727247761)\"\n",
    "weather_96_96_result = \"long_term_forecast_iTransformer_weather_96_96_Mod-iTransformer_data-weather.csv_(96to96)_0(1727247965)\"\n",
    "weather_96_192_result = \"long_term_forecast_iTransformer_weather_96_192_Mod-iTransformer_data-weather.csv_(96to192)_0(1727250638)\"\n"
   ]
  },
  {
   "cell_type": "code",
   "execution_count": 253,
   "id": "246440a3-89be-4a64-a2b7-a0a4b06eb040",
   "metadata": {},
   "outputs": [],
   "source": [
    "# 변경해야 할 부분\n",
    "setting_pairs = [\n",
    "    (exchange_96_96_result, args0),\n",
    "    (exchange_96_192_result, args1),\n",
    "    (weather_96_96_result, args2),\n",
    "    (weather_96_192_result, args3)\n",
    "]\n",
    "\n",
    "idx = 0 # 순서\n",
    "setting_path = setting_pairs[idx][0]\n",
    "args = setting_pairs[idx][1]"
   ]
  },
  {
   "cell_type": "code",
   "execution_count": 254,
   "id": "4b877c08-fe8b-459e-9b97-c1588105472a",
   "metadata": {
    "scrolled": true
   },
   "outputs": [
    {
     "name": "stdout",
     "output_type": "stream",
     "text": [
      "Use GPU: cuda:0\n"
     ]
    }
   ],
   "source": [
    "# 모델 호출 - Exp_Long_Term_Forecast - exchange_96_96\n",
    "exp_model = Exp_Long_Term_Forecast(args)\n",
    "exp_model._build_model()\n",
    "device = exp_model.device"
   ]
  },
  {
   "cell_type": "code",
   "execution_count": 187,
   "id": "5069374e-146d-4884-b707-b2714658eb17",
   "metadata": {},
   "outputs": [],
   "source": [
    "%matplotlib inline"
   ]
  },
  {
   "cell_type": "code",
   "execution_count": 255,
   "id": "535e4730-4195-465a-a8ea-db45c67358bd",
   "metadata": {},
   "outputs": [
    {
     "data": {
      "text/plain": [
       "_IncompatibleKeys(missing_keys=['enc_embedding.value_embedding.weight', 'enc_embedding.value_embedding.bias', 'encoder.attn_layers.0.attention.query_projection.weight', 'encoder.attn_layers.0.attention.query_projection.bias', 'encoder.attn_layers.0.attention.key_projection.weight', 'encoder.attn_layers.0.attention.key_projection.bias', 'encoder.attn_layers.0.attention.value_projection.weight', 'encoder.attn_layers.0.attention.value_projection.bias', 'encoder.attn_layers.0.attention.out_projection.weight', 'encoder.attn_layers.0.attention.out_projection.bias', 'encoder.attn_layers.0.conv1.weight', 'encoder.attn_layers.0.conv1.bias', 'encoder.attn_layers.0.conv2.weight', 'encoder.attn_layers.0.conv2.bias', 'encoder.attn_layers.0.norm1.weight', 'encoder.attn_layers.0.norm1.bias', 'encoder.attn_layers.0.norm2.weight', 'encoder.attn_layers.0.norm2.bias', 'encoder.attn_layers.1.attention.query_projection.weight', 'encoder.attn_layers.1.attention.query_projection.bias', 'encoder.attn_layers.1.attention.key_projection.weight', 'encoder.attn_layers.1.attention.key_projection.bias', 'encoder.attn_layers.1.attention.value_projection.weight', 'encoder.attn_layers.1.attention.value_projection.bias', 'encoder.attn_layers.1.attention.out_projection.weight', 'encoder.attn_layers.1.attention.out_projection.bias', 'encoder.attn_layers.1.conv1.weight', 'encoder.attn_layers.1.conv1.bias', 'encoder.attn_layers.1.conv2.weight', 'encoder.attn_layers.1.conv2.bias', 'encoder.attn_layers.1.norm1.weight', 'encoder.attn_layers.1.norm1.bias', 'encoder.attn_layers.1.norm2.weight', 'encoder.attn_layers.1.norm2.bias', 'encoder.norm.weight', 'encoder.norm.bias', 'projection.weight', 'projection.bias'], unexpected_keys=['a', 'b'])"
      ]
     },
     "execution_count": 255,
     "metadata": {},
     "output_type": "execute_result"
    }
   ],
   "source": [
    "# 위의 argument와 맞는 모델 호출\n",
    "checkpoint_path = './checkpoints/'\n",
    "model_path = f\"{checkpoint_path}{setting_path}/checkpoint.pth\"\n",
    "exp_model.model.load_state_dict(torch.load(model_path), strict=False)"
   ]
  },
  {
   "cell_type": "code",
   "execution_count": 256,
   "id": "ebcf9e5f-b07a-4ba9-b6d9-53ceb35d9019",
   "metadata": {},
   "outputs": [],
   "source": [
    "from utils.metrics import *\n",
    "from utils.tools import linear_regression_direct, linear_predict\n",
    "from data_provider.data_factory import data_provider\n",
    "from data_provider.data_loader import Dataset_Custom"
   ]
  },
  {
   "cell_type": "code",
   "execution_count": 257,
   "id": "55269fd2-94d1-4443-ab9b-a5bf41bb237e",
   "metadata": {},
   "outputs": [],
   "source": [
    "# data_provider -> Exchange_rate\n",
    "dataset_exchange_96 = Dataset_Custom(args, args.root_path,\n",
    "                                    flag='train', size=(args.seq_len, args.label_len, args.pred_len),\n",
    "                                    features='M', data_path = args.data_path,\n",
    "                                    target='OT', scale=True, freq='h', timeenc=0,\n",
    "                                    seasonal_patterns=None, train_ratio=args.train_ratio, test_ratio=args.test_ratio)\n",
    "dataset_exchange_96_valid = Dataset_Custom(args, args.root_path,\n",
    "                                    flag='val', size=(args.seq_len, args.label_len, args.pred_len),\n",
    "                                    features='M', data_path = args.data_path,\n",
    "                                    target='OT', scale=True, freq='h', timeenc=0,\n",
    "                                    seasonal_patterns=None, train_ratio=args.train_ratio, test_ratio=args.test_ratio)\n",
    "dataset_exchange_96_test = Dataset_Custom(args, args.root_path,\n",
    "                                    flag='test', size=(args.seq_len, args.label_len, args.pred_len),\n",
    "                                    features='M', data_path = args.data_path,\n",
    "                                    target='OT', scale=True, freq='h', timeenc=0,\n",
    "                                    seasonal_patterns=None, train_ratio=args.train_ratio, test_ratio=args.test_ratio)"
   ]
  },
  {
   "cell_type": "code",
   "execution_count": 258,
   "id": "dcdd6605-06d2-4814-b2e8-3ee1b24879f9",
   "metadata": {},
   "outputs": [
    {
     "data": {
      "text/plain": [
       "Model(\n",
       "  (enc_embedding): DataEmbedding_inverted(\n",
       "    (value_embedding): Linear(in_features=96, out_features=64, bias=True)\n",
       "    (dropout): Dropout(p=0.1, inplace=False)\n",
       "  )\n",
       "  (encoder): Encoder(\n",
       "    (attn_layers): ModuleList(\n",
       "      (0-1): 2 x EncoderLayer(\n",
       "        (attention): AttentionLayer(\n",
       "          (inner_attention): FullAttention(\n",
       "            (dropout): Dropout(p=0.1, inplace=False)\n",
       "          )\n",
       "          (query_projection): Linear(in_features=64, out_features=64, bias=True)\n",
       "          (key_projection): Linear(in_features=64, out_features=64, bias=True)\n",
       "          (value_projection): Linear(in_features=64, out_features=64, bias=True)\n",
       "          (out_projection): Linear(in_features=64, out_features=64, bias=True)\n",
       "        )\n",
       "        (conv1): Conv1d(64, 128, kernel_size=(1,), stride=(1,))\n",
       "        (conv2): Conv1d(128, 64, kernel_size=(1,), stride=(1,))\n",
       "        (norm1): LayerNorm((64,), eps=1e-05, elementwise_affine=True)\n",
       "        (norm2): LayerNorm((64,), eps=1e-05, elementwise_affine=True)\n",
       "        (dropout): Dropout(p=0.1, inplace=False)\n",
       "      )\n",
       "    )\n",
       "    (norm): LayerNorm((64,), eps=1e-05, elementwise_affine=True)\n",
       "  )\n",
       "  (projection): Linear(in_features=64, out_features=96, bias=True)\n",
       ")"
      ]
     },
     "execution_count": 258,
     "metadata": {},
     "output_type": "execute_result"
    }
   ],
   "source": [
    "exp_model.model.eval()"
   ]
  },
  {
   "cell_type": "code",
   "execution_count": 259,
   "id": "333dd0c2-c436-488a-9c3c-b876461dce01",
   "metadata": {},
   "outputs": [],
   "source": [
    "# 모델 훈련셋 결과 확인하기\n",
    "from data_provider.data_factory import data_provider\n",
    "from torch.utils.data import DataLoader\n",
    "\n",
    "dataset_exchange_96_loader = DataLoader(\n",
    "            dataset_exchange_96,\n",
    "            batch_size=args.batch_size,\n",
    "            shuffle=True,\n",
    "            num_workers=args.num_workers,\n",
    "            drop_last=False)\n",
    "dataset_exchange_96_test_loader = DataLoader(\n",
    "            dataset_exchange_96_test,\n",
    "            batch_size=1, # 모든 데이터셋을 확인해야 해서 batch_size를 강제로 1로 조정.\n",
    "            shuffle=False,\n",
    "            num_workers=args.num_workers,\n",
    "            drop_last=False)\n",
    "dataset_exchange_96_valid_loader = DataLoader(\n",
    "            dataset_exchange_96_valid,\n",
    "            batch_size=1, # 모든 데이터셋을 확인해야 해서 batch_size를 강제로 1로 조정.\n",
    "            shuffle=False,\n",
    "            num_workers=args.num_workers,\n",
    "            drop_last=False)"
   ]
  },
  {
   "cell_type": "code",
   "execution_count": 260,
   "id": "1eeb74f9-c2cd-4a9c-8a10-3b90c66c9023",
   "metadata": {},
   "outputs": [],
   "source": [
    "X = np.array([[t] for t in range(-args.seq_len, 0)])  # X는 입력 feature, shape: [seq_len, 1]\n",
    "X_new = np.array([[t] for t in range(args.pred_len)])  # 예측을 위한 새로운 시간 변수\n",
    "X_concat = np.concatenate([X, X_new], axis=0).reshape(-1)"
   ]
  },
  {
   "cell_type": "code",
   "execution_count": 261,
   "id": "83e45070-a191-4bf3-b434-ba865503fc59",
   "metadata": {},
   "outputs": [],
   "source": [
    "# Combination 모델 제작\n",
    "class CombinedModel(nn.Module):\n",
    "    # 모델 정의 - \n",
    "    def __init__(self, res_A, res_B, res_C):\n",
    "        super(CombinedModel, self).__init__()\n",
    "        self.res_A = res_A  # iTransformer train_result\n",
    "        self.res_B = res_B  # lin_reg_96 train_result\n",
    "        self.res_C = res_C\n",
    "        self.a = nn.Parameter(torch.ones(1, device=device)*0.998, requires_grad=True)\n",
    "        self.b = nn.Parameter(torch.ones(1, device=device)*0.001, requires_grad=True)\n",
    "        # self.c = nn.Parameter(torch.zeros(1, device=device), requires_grad=True)\n",
    "        # self.d = nn.Parameter(torch.zeros(1, device=device), requires_grad=True)\n",
    "    \n",
    "    def forward(self, x):\n",
    "        output_A = self.res_A(x)\n",
    "        output_B = self.res_B(x)\n",
    "        output_C = self.res_C(x)\n",
    "        self.c = nn.Parameter(torch.ones(1, device=device), requires_grad=True) - self.a - self.b\n",
    "        combined_output = self.a * output_A + self.b * output_B + output_C * self.c # + self.d\n",
    "        return combined_output"
   ]
  },
  {
   "cell_type": "code",
   "execution_count": null,
   "id": "a3e38b23-9ee7-490f-ac3a-0269eed84c7b",
   "metadata": {},
   "outputs": [],
   "source": []
  },
  {
   "cell_type": "code",
   "execution_count": 262,
   "id": "152352ab-695b-4bb5-8c9f-90eeae9e76cb",
   "metadata": {},
   "outputs": [],
   "source": [
    "# model_output_function\n",
    "\n",
    "def res_iTransformer(batch_x): # S \n",
    "    B, L, N = batch_x.shape  # L은 시퀀스 길이(seq_len)\n",
    "    return exp_model.model(batch_x, None, torch.zeros(B, len(X_new), N), None)\n",
    "\n",
    "def res_lin_reg(batch_x):\n",
    "    B, L, N = batch_x.shape  # L은 시퀀스 길이(seq_len)\n",
    "    # 각 배치와 변수에 대해 선형 회귀 해를 계산\n",
    "    vals = [[linear_regression_direct(X, batch_x.permute(0,2,1)[idx, var , :], device) for var in range(N)] for idx in range(B)]\n",
    "    lin_result = [[linear_predict(X_new, vals[idx][var], device) for var in range(N)] for idx in range(B)]\n",
    "    # 결과를 3D 텐서로 변환\n",
    "    lin_result = torch.stack([torch.stack(lin_result[idx], dim=0) for idx in range(B)], dim=0).to(device).permute(0,2,1)\n",
    "    return lin_result\n",
    "\n",
    "def res_lin_reg_24(batch_x):\n",
    "    B, L, N = batch_x.shape  # L은 시퀀스 길이(seq_len)\n",
    "    # 24 조각에 대해서도 계산\n",
    "    vals_24 = [[linear_regression_direct(X[-24:], batch_x.permute(0,2,1)[idx, var , -24:], device) for var in range(N)] for idx in range(B)]\n",
    "    lin_result_24 = [[linear_predict(X_new, vals_24[idx][var], device) for var in range(N)] for idx in range(B)]\n",
    "    # 결과를 3D 텐서로 변환\n",
    "    lin_result_24 = torch.stack([torch.stack(lin_result_24[idx], dim=0) for idx in range(B)], dim=0).to(device).permute(0,2,1)\n",
    "    return lin_result_24\n",
    "\n",
    "def zero_model(batch_x): # S 길이\n",
    "    B, L, N = batch_x.shape  # L은 시퀀스 길이(seq_len)\n",
    "    return torch.zeros(B, len(X_new), N)"
   ]
  },
  {
   "cell_type": "code",
   "execution_count": 263,
   "id": "22fc20d1-e3e8-452e-b47d-2e2365a06e1c",
   "metadata": {
    "scrolled": true
   },
   "outputs": [
    {
     "name": "stdout",
     "output_type": "stream",
     "text": [
      "step 100 completed\n",
      "step 200 completed\n",
      "step 300 completed\n",
      "step 400 completed\n",
      "step 500 completed\n",
      "step 600 completed\n"
     ]
    }
   ],
   "source": [
    "# 우선 train_set의 data_exchange를 바탕으로 측정값 참값 가져기\n",
    "# 트레인 데이터셋을 테스트해서 결과 받기, test 함수에서 가져옴\n",
    "preds_te_tr = [] # 예측값\n",
    "trues_te_tr = [] # 참값\n",
    "preds_te_lin = [] # 96_lin\n",
    "preds_te_lin_24 = [] # 24_lin\n",
    "\n",
    "for i, (batch_x, batch_y, batch_x_mark, batch_y_mark) in enumerate(dataset_exchange_96_loader):\n",
    "    batch_x = batch_x.float().to(device)\n",
    "    batch_y = batch_y.float().to(device)\n",
    "\n",
    "    B, L, N = batch_x.shape  # L은 시퀀스 길이(seq_len)\n",
    "\n",
    "    batch_x_mark = batch_x_mark.float().to(device)\n",
    "    batch_y_mark = batch_y_mark.float().to(device)\n",
    "\n",
    "    # decoder input\n",
    "    dec_inp = torch.zeros_like(batch_y[:, -args.pred_len:, :]).float()\n",
    "    dec_inp = torch.cat([batch_y[:, :args.label_len, :], dec_inp], dim=1).float().to(device)\n",
    "    # encoder - decoder\n",
    "\n",
    "    # use_amp도 사용하지 않음, \n",
    "    outputs = exp_model.model(batch_x, batch_x_mark, dec_inp, batch_y_mark)\n",
    "    \n",
    "    # 각 배치와 변수에 대해 선형 회귀 해를 계산\n",
    "    vals = [[linear_regression_direct(X, batch_x.permute(0,2,1)[idx, var , :], device) for var in range(N)] for idx in range(B)]\n",
    "    lin_result = [[linear_predict(X_new, vals[idx][var], device) for var in range(N)] for idx in range(B)]\n",
    "    # 결과를 3D 텐서로 변환\n",
    "    lin_result = torch.stack([torch.stack(lin_result[idx], dim=0) for idx in range(B)], dim=0).to(device)\n",
    "\n",
    "    # 24 조각에 대해서도 계산\n",
    "    vals_24 = [[linear_regression_direct(X[-24:], batch_x.permute(0,2,1)[idx, var , -24:], device) for var in range(N)] for idx in range(B)]\n",
    "    lin_result_24 = [[linear_predict(X_new, vals_24[idx][var], device) for var in range(N)] for idx in range(B)]\n",
    "    # 결과를 3D 텐서로 변환\n",
    "    lin_result_24 = torch.stack([torch.stack(lin_result_24[idx], dim=0) for idx in range(B)], dim=0).to(device)\n",
    "    \n",
    "    outputs = outputs[:, -args.pred_len:, :]\n",
    "    batch_y = batch_y[:, -args.pred_len:, :].to(device)\n",
    "    outputs = outputs.detach().cpu().numpy()\n",
    "    batch_y = batch_y.detach().cpu().numpy()\n",
    "\n",
    "    pred = outputs\n",
    "    true = batch_y\n",
    "\n",
    "    preds_te_tr.append(pred)\n",
    "    trues_te_tr.append(true)\n",
    "    preds_te_lin.append(lin_result)\n",
    "    preds_te_lin_24.append(lin_result_24)\n",
    "\n",
    "    if (i+1)%100==0:\n",
    "        print(f\"step {i+1} completed\")\n",
    "    \n",
    "preds_te_tr = np.concatenate(preds_te_tr, axis=0)\n",
    "trues_te_tr = np.concatenate(trues_te_tr, axis=0)\n",
    "preds_te_lin = torch.concat(preds_te_lin, axis=0).detach().cpu().numpy()\n",
    "preds_te_lin_24 = torch.concat(preds_te_lin_24, axis=0).detach().cpu().numpy()\n",
    "preds_te_lin = np.transpose(preds_te_lin, (0,2,1))\n",
    "preds_te_lin_24 = np.transpose(preds_te_lin_24, (0,2,1))"
   ]
  },
  {
   "cell_type": "code",
   "execution_count": 264,
   "id": "4e142515-8b15-4cee-b04a-8b52ebdd59db",
   "metadata": {},
   "outputs": [
    {
     "data": {
      "text/plain": [
       "0.22036049"
      ]
     },
     "execution_count": 264,
     "metadata": {},
     "output_type": "execute_result"
    }
   ],
   "source": [
    "MSE(preds_te_tr, trues_te_tr)"
   ]
  },
  {
   "cell_type": "code",
   "execution_count": null,
   "id": "7fe6fa1d-0679-4195-841c-b60389017259",
   "metadata": {},
   "outputs": [],
   "source": []
  },
  {
   "cell_type": "code",
   "execution_count": 268,
   "id": "b727f659-7096-4b22-8935-31561082225f",
   "metadata": {},
   "outputs": [],
   "source": [
    "# 모델 실험\n",
    "num_epochs = 5\n",
    "combine_model_test = CombinedModel(res_iTransformer, res_lin_reg, res_lin_reg_24)\n",
    "# combine_model_test training\n",
    "combine_model_test.train()\n",
    "\n",
    "criterion = nn.MSELoss()\n",
    "optimizer = torch.optim.Adam([combine_model_test.a, combine_model_test.b])\n"
   ]
  },
  {
   "cell_type": "code",
   "execution_count": null,
   "id": "20a7cc52-0ff5-4da1-a584-e66a94024e92",
   "metadata": {},
   "outputs": [],
   "source": []
  },
  {
   "cell_type": "code",
   "execution_count": 266,
   "id": "a191c0a0-7df5-480f-ac4e-6979e1197d67",
   "metadata": {},
   "outputs": [],
   "source": [
    "# 검증 데이터셋 결과 확인\n",
    "def vali(vali_data, vali_loader, criterion):\n",
    "    total_loss = []\n",
    "    combine_model_test.eval()\n",
    "    with torch.no_grad():\n",
    "        for i, (batch_x, batch_y, batch_x_mark, batch_y_mark) in enumerate(vali_loader):\n",
    "            batch_x = batch_x.float().to(device)\n",
    "            batch_y = batch_y.float().to(device)\n",
    "            targets = batch_y[:, -args.pred_len:, :].to(device)\n",
    "            outputs = combine_model_test(batch_x)\n",
    "            loss = criterion(outputs, targets)\n",
    "            total_loss.append(loss)\n",
    "\n",
    "    total_loss = [v.item() for v in total_loss]\n",
    "    total_loss = np.average(total_loss)\n",
    "    combine_model_test.train()\n",
    "    return total_loss"
   ]
  },
  {
   "cell_type": "code",
   "execution_count": 267,
   "id": "eb09000c-f1e4-46e3-9249-06f1117d5286",
   "metadata": {},
   "outputs": [
    {
     "data": {
      "text/plain": [
       "(Parameter containing:\n",
       " tensor([0.9980], device='cuda:0', requires_grad=True),\n",
       " Parameter containing:\n",
       " tensor([0.0010], device='cuda:0', requires_grad=True))"
      ]
     },
     "execution_count": 267,
     "metadata": {},
     "output_type": "execute_result"
    }
   ],
   "source": [
    "combine_model_test.a, combine_model_test.b, # combine_model_test.c # train 되지 않은 상태"
   ]
  },
  {
   "cell_type": "code",
   "execution_count": null,
   "id": "51169a4a-e6b1-48e2-ad76-4da2d7016bea",
   "metadata": {},
   "outputs": [],
   "source": []
  },
  {
   "cell_type": "code",
   "execution_count": 269,
   "id": "4961d549-0c55-427d-99f6-5c1c78165e4e",
   "metadata": {
    "scrolled": true
   },
   "outputs": [
    {
     "name": "stdout",
     "output_type": "stream",
     "text": [
      "50th batch done, loss 0.18725000321865082\n",
      "100th batch done, loss 0.12160056829452515\n",
      "150th batch done, loss 0.1814602017402649\n",
      "200th batch done, loss 0.1991383284330368\n",
      "250th batch done, loss 0.39247703552246094\n",
      "300th batch done, loss 0.08290696889162064\n",
      "350th batch done, loss 0.16748440265655518\n",
      "400th batch done, loss 0.10347044467926025\n",
      "450th batch done, loss 0.13262198865413666\n",
      "500th batch done, loss 0.0643218383193016\n",
      "550th batch done, loss 0.12906283140182495\n",
      "600th batch done, loss 0.20158427953720093\n",
      "==================================================\n",
      "Epoch 1 DONE\n",
      "\n",
      "vali_loss: 0.10149958461088177\n",
      "\n",
      "Parameter containing:\n",
      "tensor([0.7004], device='cuda:0', requires_grad=True) Parameter containing:\n",
      "tensor([0.0913], device='cuda:0', requires_grad=True)\n",
      "Validation loss decreased (inf --> 0.101500).  Saving model ...\n",
      "50th batch done, loss 0.1660454273223877\n",
      "100th batch done, loss 0.34622496366500854\n",
      "150th batch done, loss 0.10323111712932587\n",
      "200th batch done, loss 0.08678881824016571\n",
      "250th batch done, loss 0.14810898900032043\n",
      "300th batch done, loss 0.20336923003196716\n",
      "350th batch done, loss 0.15125274658203125\n",
      "400th batch done, loss 0.14758378267288208\n",
      "450th batch done, loss 0.2540735900402069\n",
      "500th batch done, loss 0.15860921144485474\n",
      "550th batch done, loss 0.11896630376577377\n",
      "600th batch done, loss 0.2938635051250458\n",
      "==================================================\n",
      "Epoch 2 DONE\n",
      "\n",
      "vali_loss: 0.0935362155029207\n",
      "\n",
      "Parameter containing:\n",
      "tensor([0.5802], device='cuda:0', requires_grad=True) Parameter containing:\n",
      "tensor([0.2043], device='cuda:0', requires_grad=True)\n",
      "Validation loss decreased (0.101500 --> 0.093536).  Saving model ...\n",
      "50th batch done, loss 0.07577590644359589\n",
      "100th batch done, loss 0.11695931851863861\n",
      "150th batch done, loss 0.1281341314315796\n",
      "200th batch done, loss 0.07965018600225449\n",
      "250th batch done, loss 0.23399727046489716\n",
      "300th batch done, loss 0.2342842072248459\n",
      "350th batch done, loss 0.12492810189723969\n",
      "400th batch done, loss 0.15976868569850922\n",
      "450th batch done, loss 0.14882802963256836\n",
      "500th batch done, loss 0.15216127038002014\n",
      "550th batch done, loss 0.08674095571041107\n",
      "600th batch done, loss 0.10673016309738159\n",
      "==================================================\n",
      "Epoch 3 DONE\n",
      "\n",
      "vali_loss: 0.09165112046543221\n",
      "\n",
      "Parameter containing:\n",
      "tensor([0.5496], device='cuda:0', requires_grad=True) Parameter containing:\n",
      "tensor([0.2501], device='cuda:0', requires_grad=True)\n",
      "Validation loss decreased (0.093536 --> 0.091651).  Saving model ...\n",
      "50th batch done, loss 0.10732096433639526\n",
      "100th batch done, loss 0.07492027431726456\n",
      "150th batch done, loss 0.16011789441108704\n",
      "200th batch done, loss 0.10268934816122055\n",
      "250th batch done, loss 0.09262309968471527\n",
      "300th batch done, loss 0.0725712776184082\n",
      "350th batch done, loss 0.15361511707305908\n",
      "400th batch done, loss 0.09816513955593109\n",
      "450th batch done, loss 0.11623133718967438\n",
      "500th batch done, loss 0.08631543815135956\n",
      "550th batch done, loss 0.07304874807596207\n",
      "600th batch done, loss 0.11816137284040451\n",
      "==================================================\n",
      "Epoch 4 DONE\n",
      "\n",
      "vali_loss: 0.09151350146843286\n",
      "\n",
      "Parameter containing:\n",
      "tensor([0.5368], device='cuda:0', requires_grad=True) Parameter containing:\n",
      "tensor([0.2574], device='cuda:0', requires_grad=True)\n",
      "Validation loss decreased (0.091651 --> 0.091514).  Saving model ...\n",
      "50th batch done, loss 0.09130299091339111\n",
      "100th batch done, loss 0.1799508035182953\n",
      "150th batch done, loss 0.20247340202331543\n",
      "200th batch done, loss 0.1488688588142395\n",
      "250th batch done, loss 0.09835001826286316\n",
      "300th batch done, loss 0.17949359118938446\n",
      "350th batch done, loss 0.08469660580158234\n",
      "400th batch done, loss 0.11194166541099548\n",
      "450th batch done, loss 0.09610705822706223\n",
      "500th batch done, loss 0.09568683803081512\n",
      "550th batch done, loss 0.1172308549284935\n",
      "600th batch done, loss 0.11282696574926376\n",
      "==================================================\n",
      "Epoch 5 DONE\n",
      "\n",
      "vali_loss: 0.09120577841253137\n",
      "\n",
      "Parameter containing:\n",
      "tensor([0.5446], device='cuda:0', requires_grad=True) Parameter containing:\n",
      "tensor([0.2632], device='cuda:0', requires_grad=True)\n",
      "Validation loss decreased (0.091514 --> 0.091206).  Saving model ...\n"
     ]
    }
   ],
   "source": [
    "# 모델 훈련\n",
    "\n",
    "early_stopping = EarlyStopping(patience=2, verbose=True)\n",
    "for epoch in range(num_epochs):\n",
    "    cnt = 0\n",
    "    train_loss = []\n",
    "    # exp_model.train()\n",
    "    path = os.path.join(args.checkpoints, setting_path)\n",
    "    if not os.path.exists(path):\n",
    "        os.makedirs(path)\n",
    "    for i, (batch_x, batch_y, batch_x_mark, batch_y_mark) in enumerate(dataset_exchange_96_loader):\n",
    "        cnt += 1\n",
    "        batch_x = batch_x.float().to(device)\n",
    "        batch_y = batch_y.float().to(device)\n",
    "        targets = batch_y[:, -args.pred_len:, :].to(device)\n",
    "        optimizer.zero_grad()\n",
    "        outputs = combine_model_test(batch_x)\n",
    "        loss = criterion(outputs, targets)\n",
    "        loss.backward()\n",
    "        optimizer.step()\n",
    "        train_loss.append(loss)\n",
    "        if (cnt+1) % 50 == 0:\n",
    "            print(f\"{cnt+1}th batch done, loss {loss}\") \n",
    "    print(\"=\"*50)\n",
    "    print(f\"Epoch {epoch+1} DONE\")\n",
    "    print()\n",
    "    train_loss = [v.item() for v in train_loss]\n",
    "    train_loss = np.average(train_loss)\n",
    "    vali_loss = vali(dataset_exchange_96_test, dataset_exchange_96_test_loader, criterion)\n",
    "    print(\"vali_loss:\", vali_loss)\n",
    "    print()\n",
    "    print(combine_model_test.a, combine_model_test.b)\n",
    "    early_stopping(vali_loss, combine_model_test, path)\n",
    "    if early_stopping.early_stop:\n",
    "        print(\"Early stopping\")\n",
    "        break\n",
    "    model_path = path + '/' + 'checkpoint_ensenble.pth'\n",
    "    # torch.save(combine_model_test.state_dict(), model_path)\n",
    "    # combine_model_test.load_state_dict(torch.load(model_path, map_location=device))"
   ]
  },
  {
   "cell_type": "code",
   "execution_count": 270,
   "id": "b3e1dbf2-ec1e-49dc-abaa-9ead057b7b49",
   "metadata": {},
   "outputs": [
    {
     "data": {
      "text/plain": [
       "(Parameter containing:\n",
       " tensor([0.5446], device='cuda:0', requires_grad=True),\n",
       " Parameter containing:\n",
       " tensor([0.2632], device='cuda:0', requires_grad=True))"
      ]
     },
     "execution_count": 270,
     "metadata": {},
     "output_type": "execute_result"
    }
   ],
   "source": [
    "combine_model_test.a, combine_model_test.b, # combine_model_test.c # train 되지 않은 상태"
   ]
  },
  {
   "cell_type": "code",
   "execution_count": 271,
   "id": "4117b86b-63c5-4099-b838-d1cb0f36da42",
   "metadata": {},
   "outputs": [
    {
     "data": {
      "text/plain": [
       "(Parameter containing:\n",
       " tensor([0.5446], device='cuda:0', requires_grad=True),\n",
       " Parameter containing:\n",
       " tensor([0.2632], device='cuda:0', requires_grad=True))"
      ]
     },
     "execution_count": 271,
     "metadata": {},
     "output_type": "execute_result"
    }
   ],
   "source": [
    "# 훈련 결과 도출\n",
    "combine_model_test.eval()\n",
    "combine_model_test.a, combine_model_test.b, # combine_model_test.c # train 되지 않은 상태"
   ]
  },
  {
   "cell_type": "code",
   "execution_count": 272,
   "id": "4a4b9b83-b4f0-4991-a287-c371ca464914",
   "metadata": {},
   "outputs": [
    {
     "data": {
      "text/plain": [
       "(0.22036049, 0.30935314, 0.022755563)"
      ]
     },
     "execution_count": 272,
     "metadata": {},
     "output_type": "execute_result"
    }
   ],
   "source": [
    "# 기존 데이터의 메트릭 결과\n",
    "MSE(preds_te_tr, trues_te_tr), MAE(preds_te_tr, trues_te_tr), SMAE(preds_te_tr, trues_te_tr)"
   ]
  },
  {
   "cell_type": "code",
   "execution_count": 273,
   "id": "d063f8e3-25f9-437c-9727-e308a97866e0",
   "metadata": {},
   "outputs": [],
   "source": [
    "# 계수 변경\n",
    "a, b, = combine_model_test.a[0].item(), combine_model_test.b[0].item(),"
   ]
  },
  {
   "cell_type": "code",
   "execution_count": 274,
   "id": "3d66292f-9209-4040-b029-12d9feba92d4",
   "metadata": {},
   "outputs": [
    {
     "data": {
      "text/plain": [
       "(0.1411857, 0.24130966, 0.011216875)"
      ]
     },
     "execution_count": 274,
     "metadata": {},
     "output_type": "execute_result"
    }
   ],
   "source": [
    "# 새로운 모델 테트트\n",
    "pred_combi = a*preds_te_tr + b*preds_te_lin + (1-a-b)*preds_te_lin_24\n",
    "MSE(pred_combi, trues_te_tr), MAE(pred_combi, trues_te_tr), SMAE(pred_combi, trues_te_tr)"
   ]
  },
  {
   "cell_type": "code",
   "execution_count": 275,
   "id": "830fbfac-b124-49be-bf06-46bb9af9e680",
   "metadata": {},
   "outputs": [],
   "source": [
    "# 실제 데이터 셋 호출\n",
    "result_list = ['pred.npy', 'true.npy']\n",
    "result_path = './results/'\n",
    "np_pred = np.load(f\"{result_path}{setting_path}/{result_list[0]}\")\n",
    "np_true = np.load(f\"{result_path}{setting_path}/{result_list[1]}\")"
   ]
  },
  {
   "cell_type": "code",
   "execution_count": 276,
   "id": "254d689b-c8ba-418c-9614-4fd5c3fd4b66",
   "metadata": {},
   "outputs": [],
   "source": [
    "# 이제 계산도 한다\n",
    "# 각 배치와 변수에 대해 선형 회귀 해를 계산\n",
    "B, L, N = np_pred.shape  # L은 시퀀스 길이(seq_len)\n",
    "vals = [[linear_regression_direct(X, dataset_exchange_96_test[idx][0][:, var]) for var in range(N)] for idx in range(B)]\n",
    "lin_result = [[linear_predict(X_new, vals[idx][var]) for var in range(N)] for idx in range(B)]\n",
    "# 결과를 numpy 모듈로 변경\n",
    "np_pred_lin = torch.stack([torch.stack(lin_result[idx], dim=0) for idx in range(B)], dim=0).to(device).permute(0,2,1).detach().cpu().numpy()\n"
   ]
  },
  {
   "cell_type": "code",
   "execution_count": 277,
   "id": "c2072663-144a-4cd0-bda7-da63a7671c32",
   "metadata": {},
   "outputs": [],
   "source": [
    "vals2 = [[linear_regression_direct(X[-24:], dataset_exchange_96_test[idx][0][-24:, var], ) for var in range(N)] for idx in range(B)]\n",
    "lin_result2 = [[linear_predict(X_new, vals2[idx][var]) for var in range(N)] for idx in range(B)]\n",
    "# 결과를 numpy 모듈로 변경\n",
    "np_pred_lin_24 = torch.stack([torch.stack(lin_result2[idx], dim=0) for idx in range(B)], dim=0).to(device).permute(0,2,1).detach().cpu().numpy()\n"
   ]
  },
  {
   "cell_type": "code",
   "execution_count": 278,
   "id": "060fab4b-918f-4dca-8ec4-c732a2cddf44",
   "metadata": {},
   "outputs": [],
   "source": [
    "# 마지막으로 비교\n",
    "final_res = a*np_pred + b* np_pred_lin + (1-a-b)*np_pred_lin_24\n"
   ]
  },
  {
   "cell_type": "code",
   "execution_count": 279,
   "id": "fcdbc696-18dc-4270-a843-8da0cb6e2773",
   "metadata": {},
   "outputs": [
    {
     "data": {
      "text/plain": [
       "(0.087919034,\n",
       " 0.20848815,\n",
       " -0.067817636,\n",
       " -0.0024424494137001824,\n",
       " 5.0251985,\n",
       " -0.13202424140755364)"
      ]
     },
     "execution_count": 279,
     "metadata": {},
     "output_type": "execute_result"
    }
   ],
   "source": [
    "# 메트릭 비교하기 (원본 iTransformer)\n",
    "MSE(np_pred, np_true), MAE(np_pred, np_true), SMAE(np_pred, np_true), REC_CORR(np_pred, np_true), STD_RATIO(np_pred, np_true), SLOPE_RATIO(np_pred, np_true)"
   ]
  },
  {
   "cell_type": "code",
   "execution_count": 280,
   "id": "b21fedc2-dc57-43ed-b0de-f29395e66ed6",
   "metadata": {
    "scrolled": true
   },
   "outputs": [
    {
     "data": {
      "text/plain": [
       "(0.09395484,\n",
       " 0.21451128,\n",
       " -0.040668555,\n",
       " 0.03949927892063889,\n",
       " 2.6862917,\n",
       " -0.0806026243458276)"
      ]
     },
     "execution_count": 280,
     "metadata": {},
     "output_type": "execute_result"
    }
   ],
   "source": [
    "# 메트릭 비교하기 (조합)\n",
    "MSE(final_res, np_true), MAE(final_res, np_true), SMAE(final_res, np_true), REC_CORR(final_res, np_true), STD_RATIO(final_res, np_true), SLOPE_RATIO(final_res, np_true)"
   ]
  },
  {
   "cell_type": "code",
   "execution_count": 281,
   "id": "7bd70ea5-0f9e-4a89-9e2c-80bf290f1c0c",
   "metadata": {},
   "outputs": [
    {
     "data": {
      "text/plain": [
       "(0.15595366,\n",
       " 0.2832005,\n",
       " -0.010992739,\n",
       " 0.019175606104896086,\n",
       " 1.5525699,\n",
       " -0.023099260765984245)"
      ]
     },
     "execution_count": 281,
     "metadata": {},
     "output_type": "execute_result"
    }
   ],
   "source": [
    "# 메트릭 비교하기 (lin_96)\n",
    "MSE(np_pred_lin, np_true), MAE(np_pred_lin, np_true), SMAE(np_pred_lin, np_true), REC_CORR(np_pred_lin, np_true), STD_RATIO(np_pred_lin, np_true), SLOPE_RATIO(np_pred_lin, np_true)"
   ]
  },
  {
   "cell_type": "code",
   "execution_count": 284,
   "id": "78abc7ba-4c53-4c3c-9659-fb5c06183d59",
   "metadata": {},
   "outputs": [
    {
     "data": {
      "text/plain": [
       "(0.3661054,\n",
       " 0.39132276,\n",
       " -0.004390575,\n",
       " 0.03716115333136488,\n",
       " 0.76063466,\n",
       " -0.013665724959459391)"
      ]
     },
     "execution_count": 284,
     "metadata": {},
     "output_type": "execute_result"
    }
   ],
   "source": [
    "# 메트릭 비교하기 (lin_24)\n",
    "MSE(np_pred_lin_24, np_true), MAE(np_pred_lin_24, np_true), SMAE(np_pred_lin_24, np_true), REC_CORR(np_pred_lin_24, np_true), STD_RATIO(np_pred_lin_24, np_true), SLOPE_RATIO(np_pred_lin_24, np_true)"
   ]
  },
  {
   "cell_type": "code",
   "execution_count": 282,
   "id": "eac4076b-f696-4faf-ae5e-0c6d60847362",
   "metadata": {},
   "outputs": [
    {
     "data": {
      "image/png": "[encoded data removed]",
      "text/plain": [
       "<Figure size 640x480 with 1 Axes>"
      ]
     },
     "metadata": {},
     "output_type": "display_data"
    }
   ],
   "source": [
    "# 그래프 그리기\n",
    "idx = 474\n",
    "val = 7\n",
    "xval = range(args.pred_len)\n",
    "xval2 = range(-args.seq_len, args.pred_len)\n",
    "plt.plot(xval2, np.concatenate([np_true[idx-args.pred_len, -args.seq_len:, val], np_pred[idx, :, val]]), label='pred_normal')\n",
    "plt.plot(xval2, np.concatenate([np_true[idx-args.pred_len, -args.seq_len::, val],np_pred_lin[idx, :, val]]), label='pred_linear')\n",
    "plt.plot(xval2, np.concatenate([np_true[idx-args.pred_len, -args.seq_len::, val],np_pred_lin_24[idx, :, val]]), label='pred_linear_24')\n",
    "plt.plot(xval2, np.concatenate([np_true[idx-args.pred_len, -args.seq_len::, val],np_true[idx, :, val]]), label='true_normal')\n",
    "plt.plot(xval2, np.concatenate([np_true[idx-args.pred_len, -args.seq_len::, val],final_res[idx, :, val]]),'c', label='ensemble_normal')\n",
    "plt.legend()\n",
    "plt.show()"
   ]
  },
  {
   "cell_type": "code",
   "execution_count": null,
   "id": "d8c80e44-aeb1-4cd9-a091-2dbafca08a03",
   "metadata": {},
   "outputs": [],
   "source": []
  },
  {
   "cell_type": "code",
   "execution_count": 218,
   "id": "bb1457c9-3f83-4a8f-9a72-1a6d2a591108",
   "metadata": {},
   "outputs": [
    {
     "data": {
      "text/plain": [
       "(0.09672106, 0.23337734, -0.04462888)"
      ]
     },
     "execution_count": 218,
     "metadata": {},
     "output_type": "execute_result"
    }
   ],
   "source": [
    "# 메트릭 비교하기 (원본 iTransformer)\n",
    "MSE(np_pred[:,:,-1], np_true[:,:,-1]), MAE(np_pred[:,:,-1], np_true[:,:,-1]), SMAE(np_pred[:,:,-1], np_true[:,:,-1]), "
   ]
  },
  {
   "cell_type": "code",
   "execution_count": 219,
   "id": "431186b5-6726-430a-a363-28d11d4c7d38",
   "metadata": {
    "scrolled": true
   },
   "outputs": [
    {
     "data": {
      "text/plain": [
       "(0.10647956, 0.24189955, -0.026512032)"
      ]
     },
     "execution_count": 219,
     "metadata": {},
     "output_type": "execute_result"
    }
   ],
   "source": [
    "# 메트릭 비교하기 (스케일 수정)\n",
    "MSE(final_res[:,:,-1], np_true[:,:,-1]), MAE(final_res[:,:,-1], np_true[:,:,-1]), SMAE(final_res[:,:,-1], np_true[:,:,-1]), "
   ]
  },
  {
   "cell_type": "code",
   "execution_count": null,
   "id": "177860b8-8dd4-466c-af15-3023b511eb49",
   "metadata": {},
   "outputs": [],
   "source": [
    "# 메트릭 비교하기 (Linear)\n",
    "MSE(np_pred_lin[:,:,-1], np_true[:,:,-1]), MAE(np_pred_lin[:,:,-1], np_true[:,:,-1]), SMAE(np_pred_lin[:,:,-1], np_true[:,:,-1]), "
   ]
  },
  {
   "cell_type": "code",
   "execution_count": 151,
   "id": "ccc935d8-fa72-485d-99da-ca40ca40c815",
   "metadata": {},
   "outputs": [],
   "source": [
    "# 다음"
   ]
  },
  {
   "cell_type": "code",
   "execution_count": 285,
   "id": "3d381ba8-6f74-423f-973a-c0f3cd51dbd2",
   "metadata": {},
   "outputs": [],
   "source": [
    "# 변경해야 할 부분\n",
    "setting_pairs = [\n",
    "    (exchange_96_96_result, args0),\n",
    "    (exchange_96_192_result, args1),\n",
    "    (weather_96_96_result, args2),\n",
    "    (weather_96_192_result, args3)\n",
    "]\n",
    "\n",
    "idx = 1 # 순서\n",
    "setting_path = setting_pairs[idx][0]\n",
    "args = setting_pairs[idx][1]"
   ]
  },
  {
   "cell_type": "code",
   "execution_count": 286,
   "id": "28cb0207-4d63-43f4-8bd0-4ec4f7343934",
   "metadata": {
    "scrolled": true
   },
   "outputs": [
    {
     "name": "stdout",
     "output_type": "stream",
     "text": [
      "Use GPU: cuda:0\n"
     ]
    }
   ],
   "source": [
    "# 모델 호출 - Exp_Long_Term_Forecast - exchange_96_96\n",
    "exp_model = Exp_Long_Term_Forecast(args)\n",
    "exp_model._build_model()\n",
    "device = exp_model.device"
   ]
  },
  {
   "cell_type": "code",
   "execution_count": 287,
   "id": "e226e355-964c-47a1-8106-e6bf32edf533",
   "metadata": {},
   "outputs": [
    {
     "data": {
      "text/plain": [
       "_IncompatibleKeys(missing_keys=['enc_embedding.value_embedding.weight', 'enc_embedding.value_embedding.bias', 'encoder.attn_layers.0.attention.query_projection.weight', 'encoder.attn_layers.0.attention.query_projection.bias', 'encoder.attn_layers.0.attention.key_projection.weight', 'encoder.attn_layers.0.attention.key_projection.bias', 'encoder.attn_layers.0.attention.value_projection.weight', 'encoder.attn_layers.0.attention.value_projection.bias', 'encoder.attn_layers.0.attention.out_projection.weight', 'encoder.attn_layers.0.attention.out_projection.bias', 'encoder.attn_layers.0.conv1.weight', 'encoder.attn_layers.0.conv1.bias', 'encoder.attn_layers.0.conv2.weight', 'encoder.attn_layers.0.conv2.bias', 'encoder.attn_layers.0.norm1.weight', 'encoder.attn_layers.0.norm1.bias', 'encoder.attn_layers.0.norm2.weight', 'encoder.attn_layers.0.norm2.bias', 'encoder.attn_layers.1.attention.query_projection.weight', 'encoder.attn_layers.1.attention.query_projection.bias', 'encoder.attn_layers.1.attention.key_projection.weight', 'encoder.attn_layers.1.attention.key_projection.bias', 'encoder.attn_layers.1.attention.value_projection.weight', 'encoder.attn_layers.1.attention.value_projection.bias', 'encoder.attn_layers.1.attention.out_projection.weight', 'encoder.attn_layers.1.attention.out_projection.bias', 'encoder.attn_layers.1.conv1.weight', 'encoder.attn_layers.1.conv1.bias', 'encoder.attn_layers.1.conv2.weight', 'encoder.attn_layers.1.conv2.bias', 'encoder.attn_layers.1.norm1.weight', 'encoder.attn_layers.1.norm1.bias', 'encoder.attn_layers.1.norm2.weight', 'encoder.attn_layers.1.norm2.bias', 'encoder.norm.weight', 'encoder.norm.bias', 'projection.weight', 'projection.bias'], unexpected_keys=['a', 'b'])"
      ]
     },
     "execution_count": 287,
     "metadata": {},
     "output_type": "execute_result"
    }
   ],
   "source": [
    "# 위의 argument와 맞는 모델 호출\n",
    "checkpoint_path = './checkpoints/'\n",
    "model_path = f\"{checkpoint_path}{setting_path}/checkpoint.pth\"\n",
    "exp_model.model.load_state_dict(torch.load(model_path), strict=False)"
   ]
  },
  {
   "cell_type": "code",
   "execution_count": 288,
   "id": "52ef9478-f9ac-41fc-95ef-e26d234bf6cf",
   "metadata": {},
   "outputs": [],
   "source": [
    "# data_provider -> Exchange_rate\n",
    "dataset_exchange_96 = Dataset_Custom(args, args.root_path,\n",
    "                                    flag='train', size=(args.seq_len, args.label_len, args.pred_len),\n",
    "                                    features='M', data_path = args.data_path,\n",
    "                                    target='OT', scale=True, freq='h', timeenc=0,\n",
    "                                    seasonal_patterns=None, train_ratio=args.train_ratio, test_ratio=args.test_ratio)\n",
    "dataset_exchange_96_valid = Dataset_Custom(args, args.root_path,\n",
    "                                    flag='val', size=(args.seq_len, args.label_len, args.pred_len),\n",
    "                                    features='M', data_path = args.data_path,\n",
    "                                    target='OT', scale=True, freq='h', timeenc=0,\n",
    "                                    seasonal_patterns=None, train_ratio=args.train_ratio, test_ratio=args.test_ratio)\n",
    "dataset_exchange_96_test = Dataset_Custom(args, args.root_path,\n",
    "                                    flag='test', size=(args.seq_len, args.label_len, args.pred_len),\n",
    "                                    features='M', data_path = args.data_path,\n",
    "                                    target='OT', scale=True, freq='h', timeenc=0,\n",
    "                                    seasonal_patterns=None, train_ratio=args.train_ratio, test_ratio=args.test_ratio)"
   ]
  },
  {
   "cell_type": "code",
   "execution_count": 289,
   "id": "5886b379-7641-4143-ae75-311725532b9a",
   "metadata": {},
   "outputs": [
    {
     "data": {
      "text/plain": [
       "Model(\n",
       "  (enc_embedding): DataEmbedding_inverted(\n",
       "    (value_embedding): Linear(in_features=96, out_features=64, bias=True)\n",
       "    (dropout): Dropout(p=0.1, inplace=False)\n",
       "  )\n",
       "  (encoder): Encoder(\n",
       "    (attn_layers): ModuleList(\n",
       "      (0-1): 2 x EncoderLayer(\n",
       "        (attention): AttentionLayer(\n",
       "          (inner_attention): FullAttention(\n",
       "            (dropout): Dropout(p=0.1, inplace=False)\n",
       "          )\n",
       "          (query_projection): Linear(in_features=64, out_features=64, bias=True)\n",
       "          (key_projection): Linear(in_features=64, out_features=64, bias=True)\n",
       "          (value_projection): Linear(in_features=64, out_features=64, bias=True)\n",
       "          (out_projection): Linear(in_features=64, out_features=64, bias=True)\n",
       "        )\n",
       "        (conv1): Conv1d(64, 128, kernel_size=(1,), stride=(1,))\n",
       "        (conv2): Conv1d(128, 64, kernel_size=(1,), stride=(1,))\n",
       "        (norm1): LayerNorm((64,), eps=1e-05, elementwise_affine=True)\n",
       "        (norm2): LayerNorm((64,), eps=1e-05, elementwise_affine=True)\n",
       "        (dropout): Dropout(p=0.1, inplace=False)\n",
       "      )\n",
       "    )\n",
       "    (norm): LayerNorm((64,), eps=1e-05, elementwise_affine=True)\n",
       "  )\n",
       "  (projection): Linear(in_features=64, out_features=192, bias=True)\n",
       ")"
      ]
     },
     "execution_count": 289,
     "metadata": {},
     "output_type": "execute_result"
    }
   ],
   "source": [
    "exp_model.model.eval()"
   ]
  },
  {
   "cell_type": "code",
   "execution_count": 290,
   "id": "836f9253-6cf1-498a-8a53-904db8e7a493",
   "metadata": {},
   "outputs": [],
   "source": [
    "# 모델 훈련셋 결과 확인하기\n",
    "from data_provider.data_factory import data_provider\n",
    "from torch.utils.data import DataLoader\n",
    "\n",
    "dataset_exchange_96_loader = DataLoader(\n",
    "            dataset_exchange_96,\n",
    "            batch_size=args.batch_size,\n",
    "            shuffle=True,\n",
    "            num_workers=args.num_workers,\n",
    "            drop_last=False)\n",
    "dataset_exchange_96_test_loader = DataLoader(\n",
    "            dataset_exchange_96_test,\n",
    "            batch_size=1, # 모든 데이터셋을 확인해야 해서 batch_size를 강제로 1로 조정.\n",
    "            shuffle=False,\n",
    "            num_workers=args.num_workers,\n",
    "            drop_last=False)\n",
    "dataset_exchange_96_valid_loader = DataLoader(\n",
    "            dataset_exchange_96_valid,\n",
    "            batch_size=1, # 모든 데이터셋을 확인해야 해서 batch_size를 강제로 1로 조정.\n",
    "            shuffle=False,\n",
    "            num_workers=args.num_workers,\n",
    "            drop_last=False)"
   ]
  },
  {
   "cell_type": "code",
   "execution_count": 291,
   "id": "07207467-c2f9-41ef-a1b7-368935cd933f",
   "metadata": {},
   "outputs": [],
   "source": [
    "X = np.array([[t] for t in range(-args.seq_len, 0)])  # X는 입력 feature, shape: [seq_len, 1]\n",
    "X_new = np.array([[t] for t in range(args.pred_len)])  # 예측을 위한 새로운 시간 변수\n",
    "X_concat = np.concatenate([X, X_new], axis=0).reshape(-1)"
   ]
  },
  {
   "cell_type": "code",
   "execution_count": null,
   "id": "215c5e90-3013-4913-86c1-4faac9fe9a7f",
   "metadata": {},
   "outputs": [],
   "source": []
  },
  {
   "cell_type": "code",
   "execution_count": 293,
   "id": "8aaae197-477f-4a3f-a775-bf7b5596983a",
   "metadata": {
    "scrolled": true
   },
   "outputs": [
    {
     "name": "stdout",
     "output_type": "stream",
     "text": [
      "step 100 completed\n",
      "step 200 completed\n",
      "step 300 completed\n",
      "step 400 completed\n",
      "step 500 completed\n",
      "step 600 completed\n"
     ]
    }
   ],
   "source": [
    "# 우선 train_set의 data_exchange를 바탕으로 측정값 참값 가져기\n",
    "# 트레인 데이터셋을 테스트해서 결과 받기, test 함수에서 가져옴\n",
    "preds_te_tr = [] # 예측값\n",
    "trues_te_tr = [] # 참값\n",
    "preds_te_lin = [] # 96_lin\n",
    "preds_te_lin_24 = [] # 24_lin\n",
    "\n",
    "for i, (batch_x, batch_y, batch_x_mark, batch_y_mark) in enumerate(dataset_exchange_96_loader):\n",
    "    batch_x = batch_x.float().to(device)\n",
    "    batch_y = batch_y.float().to(device)\n",
    "\n",
    "    B, L, N = batch_x.shape  # L은 시퀀스 길이(seq_len)\n",
    "\n",
    "    batch_x_mark = batch_x_mark.float().to(device)\n",
    "    batch_y_mark = batch_y_mark.float().to(device)\n",
    "\n",
    "    # decoder input\n",
    "    dec_inp = torch.zeros_like(batch_y[:, -args.pred_len:, :]).float()\n",
    "    dec_inp = torch.cat([batch_y[:, :args.label_len, :], dec_inp], dim=1).float().to(device)\n",
    "    # encoder - decoder\n",
    "\n",
    "    # use_amp도 사용하지 않음, \n",
    "    outputs = exp_model.model(batch_x, batch_x_mark, dec_inp, batch_y_mark)\n",
    "    \n",
    "    # 각 배치와 변수에 대해 선형 회귀 해를 계산\n",
    "    vals = [[linear_regression_direct(X, batch_x.permute(0,2,1)[idx, var , :], device) for var in range(N)] for idx in range(B)]\n",
    "    lin_result = [[linear_predict(X_new, vals[idx][var], device) for var in range(N)] for idx in range(B)]\n",
    "    # 결과를 3D 텐서로 변환\n",
    "    lin_result = torch.stack([torch.stack(lin_result[idx], dim=0) for idx in range(B)], dim=0).to(device)\n",
    "\n",
    "    # 24 조각에 대해서도 계산\n",
    "    vals_24 = [[linear_regression_direct(X[-24:], batch_x.permute(0,2,1)[idx, var , -24:], device) for var in range(N)] for idx in range(B)]\n",
    "    lin_result_24 = [[linear_predict(X_new, vals_24[idx][var], device) for var in range(N)] for idx in range(B)]\n",
    "    # 결과를 3D 텐서로 변환\n",
    "    lin_result_24 = torch.stack([torch.stack(lin_result_24[idx], dim=0) for idx in range(B)], dim=0).to(device)\n",
    "    \n",
    "    outputs = outputs[:, -args.pred_len:, :]\n",
    "    batch_y = batch_y[:, -args.pred_len:, :].to(device)\n",
    "    outputs = outputs.detach().cpu().numpy()\n",
    "    batch_y = batch_y.detach().cpu().numpy()\n",
    "\n",
    "    pred = outputs\n",
    "    true = batch_y\n",
    "\n",
    "    preds_te_tr.append(pred)\n",
    "    trues_te_tr.append(true)\n",
    "    preds_te_lin.append(lin_result)\n",
    "    preds_te_lin_24.append(lin_result_24)\n",
    "\n",
    "    if (i+1)%100==0:\n",
    "        print(f\"step {i+1} completed\")\n",
    "    \n",
    "preds_te_tr = np.concatenate(preds_te_tr, axis=0)\n",
    "trues_te_tr = np.concatenate(trues_te_tr, axis=0)\n",
    "preds_te_lin = torch.concat(preds_te_lin, axis=0).detach().cpu().numpy()\n",
    "preds_te_lin_24 = torch.concat(preds_te_lin_24, axis=0).detach().cpu().numpy()\n",
    "preds_te_lin = np.transpose(preds_te_lin, (0,2,1))\n",
    "preds_te_lin_24 = np.transpose(preds_te_lin_24, (0,2,1))"
   ]
  },
  {
   "cell_type": "code",
   "execution_count": 294,
   "id": "e41e4cae-eef8-4534-a5dd-058e66d04b2f",
   "metadata": {},
   "outputs": [
    {
     "data": {
      "text/plain": [
       "0.3428107"
      ]
     },
     "execution_count": 294,
     "metadata": {},
     "output_type": "execute_result"
    }
   ],
   "source": [
    "MSE(preds_te_tr, trues_te_tr)"
   ]
  },
  {
   "cell_type": "code",
   "execution_count": 295,
   "id": "4e97c5bf-4557-4374-8f27-ec6d21acc3e5",
   "metadata": {},
   "outputs": [],
   "source": [
    "# 모델 실험\n",
    "num_epochs = 5\n",
    "combine_model_test = CombinedModel(res_iTransformer, res_lin_reg, res_lin_reg_24)\n",
    "# combine_model_test training\n",
    "combine_model_test.train()\n",
    "\n",
    "criterion = nn.MSELoss()\n",
    "optimizer = torch.optim.Adam([combine_model_test.a, combine_model_test.b])\n"
   ]
  },
  {
   "cell_type": "code",
   "execution_count": null,
   "id": "4fba3e8a-97d3-4527-a436-6e38bb1dcdde",
   "metadata": {},
   "outputs": [],
   "source": []
  },
  {
   "cell_type": "code",
   "execution_count": 296,
   "id": "3cebf49f-bd8a-4216-bc44-8d046d234409",
   "metadata": {},
   "outputs": [
    {
     "data": {
      "text/plain": [
       "(Parameter containing:\n",
       " tensor([0.9980], device='cuda:0', requires_grad=True),\n",
       " Parameter containing:\n",
       " tensor([0.0010], device='cuda:0', requires_grad=True))"
      ]
     },
     "execution_count": 296,
     "metadata": {},
     "output_type": "execute_result"
    }
   ],
   "source": [
    "combine_model_test.a, combine_model_test.b, # combine_model_test.c # train 되지 않은 상태"
   ]
  },
  {
   "cell_type": "code",
   "execution_count": null,
   "id": "80e9992b-25ba-45b4-8798-48c8cb98990c",
   "metadata": {},
   "outputs": [],
   "source": []
  },
  {
   "cell_type": "code",
   "execution_count": 297,
   "id": "dbc4912e-d073-463b-afb8-0ce1287e32bf",
   "metadata": {},
   "outputs": [
    {
     "name": "stdout",
     "output_type": "stream",
     "text": [
      "50th batch done, loss 0.34091243147850037\n",
      "100th batch done, loss 0.31412941217422485\n",
      "150th batch done, loss 0.266897052526474\n",
      "200th batch done, loss 0.4844338297843933\n",
      "250th batch done, loss 0.3508257567882538\n",
      "300th batch done, loss 0.2540969252586365\n",
      "350th batch done, loss 0.2971456050872803\n",
      "400th batch done, loss 0.24808423221111298\n",
      "450th batch done, loss 0.2235500067472458\n",
      "500th batch done, loss 0.16429254412651062\n",
      "550th batch done, loss 0.14062586426734924\n",
      "600th batch done, loss 0.26778942346572876\n",
      "==================================================\n",
      "Epoch 1 DONE\n",
      "\n",
      "Parameter containing:\n",
      "tensor([0.7803], device='cuda:0', requires_grad=True) Parameter containing:\n",
      "tensor([0.0848], device='cuda:0', requires_grad=True)\n",
      "vali_loss: 0.19174872051368202\n",
      "\n",
      "Validation loss decreased (inf --> 0.191749).  Saving model ...\n",
      "50th batch done, loss 0.26172301173210144\n",
      "100th batch done, loss 0.42339110374450684\n",
      "150th batch done, loss 0.2887727916240692\n",
      "200th batch done, loss 0.23860971629619598\n",
      "250th batch done, loss 0.14825725555419922\n",
      "300th batch done, loss 0.21390509605407715\n",
      "350th batch done, loss 0.15489229559898376\n",
      "400th batch done, loss 0.2949119210243225\n",
      "450th batch done, loss 0.17235493659973145\n",
      "500th batch done, loss 0.20296303927898407\n",
      "550th batch done, loss 0.3844655752182007\n",
      "600th batch done, loss 0.1941462755203247\n",
      "==================================================\n",
      "Epoch 2 DONE\n",
      "\n",
      "Parameter containing:\n",
      "tensor([0.7406], device='cuda:0', requires_grad=True) Parameter containing:\n",
      "tensor([0.1416], device='cuda:0', requires_grad=True)\n",
      "vali_loss: 0.18542062540343354\n",
      "\n",
      "Validation loss decreased (0.191749 --> 0.185421).  Saving model ...\n",
      "50th batch done, loss 0.20603260397911072\n",
      "100th batch done, loss 0.30244743824005127\n",
      "150th batch done, loss 0.228938028216362\n",
      "200th batch done, loss 0.2517651915550232\n",
      "250th batch done, loss 0.17818526923656464\n",
      "300th batch done, loss 0.2687526345252991\n",
      "350th batch done, loss 0.1845218390226364\n",
      "400th batch done, loss 0.40919560194015503\n",
      "450th batch done, loss 0.547756016254425\n",
      "500th batch done, loss 0.25783413648605347\n",
      "550th batch done, loss 0.1374719738960266\n",
      "600th batch done, loss 0.22614973783493042\n",
      "==================================================\n",
      "Epoch 3 DONE\n",
      "\n",
      "Parameter containing:\n",
      "tensor([0.7372], device='cuda:0', requires_grad=True) Parameter containing:\n",
      "tensor([0.1553], device='cuda:0', requires_grad=True)\n",
      "vali_loss: 0.18442707736084454\n",
      "\n",
      "Validation loss decreased (0.185421 --> 0.184427).  Saving model ...\n",
      "50th batch done, loss 0.24166588485240936\n",
      "100th batch done, loss 0.5371506214141846\n",
      "150th batch done, loss 0.22269992530345917\n",
      "200th batch done, loss 0.2512670159339905\n",
      "250th batch done, loss 0.18994572758674622\n",
      "300th batch done, loss 0.1616171896457672\n",
      "350th batch done, loss 0.25334617495536804\n",
      "400th batch done, loss 0.24641053378582\n",
      "450th batch done, loss 0.4411585330963135\n",
      "500th batch done, loss 0.5881597995758057\n",
      "550th batch done, loss 0.1766517460346222\n",
      "600th batch done, loss 0.49462854862213135\n",
      "==================================================\n",
      "Epoch 4 DONE\n",
      "\n",
      "Parameter containing:\n",
      "tensor([0.7318], device='cuda:0', requires_grad=True) Parameter containing:\n",
      "tensor([0.1545], device='cuda:0', requires_grad=True)\n",
      "vali_loss: 0.18434311259330038\n",
      "\n",
      "Validation loss decreased (0.184427 --> 0.184343).  Saving model ...\n",
      "50th batch done, loss 0.3195957541465759\n",
      "100th batch done, loss 0.22442057728767395\n",
      "150th batch done, loss 0.24545995891094208\n",
      "200th batch done, loss 0.23534512519836426\n",
      "250th batch done, loss 0.18875136971473694\n",
      "300th batch done, loss 0.13684287667274475\n",
      "350th batch done, loss 0.3850899636745453\n",
      "400th batch done, loss 0.24306607246398926\n",
      "450th batch done, loss 0.1697292923927307\n",
      "500th batch done, loss 0.23367714881896973\n",
      "550th batch done, loss 0.17679142951965332\n",
      "600th batch done, loss 0.18667900562286377\n",
      "==================================================\n",
      "Epoch 5 DONE\n",
      "\n",
      "Parameter containing:\n",
      "tensor([0.7283], device='cuda:0', requires_grad=True) Parameter containing:\n",
      "tensor([0.1546], device='cuda:0', requires_grad=True)\n",
      "vali_loss: 0.1842980177407216\n",
      "\n",
      "Validation loss decreased (0.184343 --> 0.184298).  Saving model ...\n"
     ]
    }
   ],
   "source": [
    "# 모델 훈련\n",
    "\n",
    "early_stopping = EarlyStopping(patience=3, verbose=True)\n",
    "for epoch in range(num_epochs):\n",
    "    cnt = 0\n",
    "    train_loss = []\n",
    "    # exp_model.train()\n",
    "    path = os.path.join(args.checkpoints, setting_path)\n",
    "    if not os.path.exists(path):\n",
    "        os.makedirs(path)\n",
    "    for i, (batch_x, batch_y, batch_x_mark, batch_y_mark) in enumerate(dataset_exchange_96_loader):\n",
    "        cnt += 1\n",
    "        batch_x = batch_x.float().to(device)\n",
    "        batch_y = batch_y.float().to(device)\n",
    "        targets = batch_y[:, -args.pred_len:, :].to(device)\n",
    "        optimizer.zero_grad()\n",
    "        outputs = combine_model_test(batch_x)\n",
    "        loss = criterion(outputs, targets)\n",
    "        loss.backward()\n",
    "        optimizer.step()\n",
    "        train_loss.append(loss)\n",
    "        if (cnt+1) % 50 == 0:\n",
    "            print(f\"{cnt+1}th batch done, loss {loss}\") \n",
    "    print(\"=\"*50)\n",
    "    print(f\"Epoch {epoch+1} DONE\")\n",
    "    print()\n",
    "    print(combine_model_test.a, combine_model_test.b)\n",
    "    train_loss = [v.item() for v in train_loss]\n",
    "    train_loss = np.average(train_loss)\n",
    "    vali_loss = vali(dataset_exchange_96_test, dataset_exchange_96_test_loader, criterion)\n",
    "    print(\"vali_loss:\", vali_loss)\n",
    "    print()\n",
    "    early_stopping(vali_loss, combine_model_test, path)\n",
    "    if early_stopping.early_stop:\n",
    "         print(\"Early stopping\")\n",
    "         break\n",
    "    model_path = path + '/' + 'checkpoint_ensenble.pth'\n",
    "    # torch.save(combine_model_test.state_dict(), model_path)\n",
    "    # combine_model_test.load_state_dict(torch.load(model_path, map_location=device))"
   ]
  },
  {
   "cell_type": "code",
   "execution_count": 308,
   "id": "bde250ba-087d-4947-a457-f701a0113c3e",
   "metadata": {},
   "outputs": [
    {
     "data": {
      "text/plain": [
       "(0.3428107, 0.39700416, 0.034149855)"
      ]
     },
     "execution_count": 308,
     "metadata": {},
     "output_type": "execute_result"
    }
   ],
   "source": [
    "# 기존 데이터의 메트릭 결과\n",
    "MSE(preds_te_tr, trues_te_tr), MAE(preds_te_tr, trues_te_tr), SMAE(preds_te_tr, trues_te_tr)"
   ]
  },
  {
   "cell_type": "code",
   "execution_count": 309,
   "id": "656c91f8-6efb-40f7-a183-e63ed0b9f356",
   "metadata": {},
   "outputs": [],
   "source": [
    "# 계수 변경\n",
    "a, b, = combine_model_test.a[0].item(), combine_model_test.b[0].item(),"
   ]
  },
  {
   "cell_type": "code",
   "execution_count": 310,
   "id": "b390858f-5c84-4464-b307-ea19add5c94d",
   "metadata": {},
   "outputs": [
    {
     "data": {
      "text/plain": [
       "(0.27715385, 0.34477854, 0.022304272)"
      ]
     },
     "execution_count": 310,
     "metadata": {},
     "output_type": "execute_result"
    }
   ],
   "source": [
    "# 새로운 모델 테트트\n",
    "pred_combi = a*preds_te_tr + b*preds_te_lin + (1-a-b)*preds_te_lin_24\n",
    "MSE(pred_combi, trues_te_tr), MAE(pred_combi, trues_te_tr), SMAE(pred_combi, trues_te_tr)"
   ]
  },
  {
   "cell_type": "code",
   "execution_count": 311,
   "id": "13a8c5c7-80fa-47ed-9af8-447b3f0ec43a",
   "metadata": {},
   "outputs": [],
   "source": [
    "# 실제 데이터 셋 호출\n",
    "result_list = ['pred.npy', 'true.npy']\n",
    "result_path = './results/'\n",
    "np_pred = np.load(f\"{result_path}{setting_path}/{result_list[0]}\")\n",
    "np_true = np.load(f\"{result_path}{setting_path}/{result_list[1]}\")"
   ]
  },
  {
   "cell_type": "code",
   "execution_count": 312,
   "id": "870d62dd-13b6-468f-ba75-3ae9639436a9",
   "metadata": {},
   "outputs": [],
   "source": [
    "# 이제 계산도 한다\n",
    "# 각 배치와 변수에 대해 선형 회귀 해를 계산\n",
    "B, L, N = np_pred.shape  # L은 시퀀스 길이(seq_len)\n",
    "vals = [[linear_regression_direct(X, dataset_exchange_96_test[idx][0][:, var]) for var in range(N)] for idx in range(B)]\n",
    "lin_result = [[linear_predict(X_new, vals[idx][var]) for var in range(N)] for idx in range(B)]\n",
    "# 결과를 numpy 모듈로 변경\n",
    "np_pred_lin = torch.stack([torch.stack(lin_result[idx], dim=0) for idx in range(B)], dim=0).to(device).permute(0,2,1).detach().cpu().numpy()\n"
   ]
  },
  {
   "cell_type": "code",
   "execution_count": 313,
   "id": "68852d29-c17d-4fb6-915b-b1cfa3cfa117",
   "metadata": {},
   "outputs": [],
   "source": [
    "vals2 = [[linear_regression_direct(X[-24:], dataset_exchange_96_test[idx][0][-24:, var], ) for var in range(N)] for idx in range(B)]\n",
    "lin_result2 = [[linear_predict(X_new, vals2[idx][var]) for var in range(N)] for idx in range(B)]\n",
    "# 결과를 numpy 모듈로 변경\n",
    "np_pred_lin_24 = torch.stack([torch.stack(lin_result2[idx], dim=0) for idx in range(B)], dim=0).to(device).permute(0,2,1).detach().cpu().numpy()\n"
   ]
  },
  {
   "cell_type": "code",
   "execution_count": 314,
   "id": "ba7bd0e8-c0ba-4d6c-b229-a670e3936d31",
   "metadata": {},
   "outputs": [],
   "source": [
    "# 마지막으로 비교\n",
    "final_res = a*np_pred + b* np_pred_lin + (1-a-b)*np_pred_lin_24\n"
   ]
  },
  {
   "cell_type": "code",
   "execution_count": 315,
   "id": "cfc24cfe-4902-4ead-9537-aced6347cea8",
   "metadata": {},
   "outputs": [
    {
     "data": {
      "text/plain": [
       "(0.18214451,\n",
       " 0.30508894,\n",
       " -0.13809326,\n",
       " -0.0445429789083923,\n",
       " 6.788984,\n",
       " -0.24811573384373464)"
      ]
     },
     "execution_count": 315,
     "metadata": {},
     "output_type": "execute_result"
    }
   ],
   "source": [
    "# 메트릭 비교하기 (원본 iTransformer)\n",
    "MSE(np_pred, np_true), MAE(np_pred, np_true), SMAE(np_pred, np_true), REC_CORR(np_pred, np_true), STD_RATIO(np_pred, np_true), SLOPE_RATIO(np_pred, np_true)"
   ]
  },
  {
   "cell_type": "code",
   "execution_count": 306,
   "id": "8813bb29-7bbb-44a4-80c5-b04df174fc21",
   "metadata": {
    "scrolled": true
   },
   "outputs": [
    {
     "data": {
      "text/plain": [
       "(0.1861476,\n",
       " 0.3086738,\n",
       " -0.10084505,\n",
       " 0.023237979131199987,\n",
       " 3.3384953,\n",
       " -0.17983685639874047)"
      ]
     },
     "execution_count": 306,
     "metadata": {},
     "output_type": "execute_result"
    }
   ],
   "source": [
    "# 메트릭 비교하기 (조합)\n",
    "MSE(final_res, np_true), MAE(final_res, np_true), SMAE(final_res, np_true), REC_CORR(final_res, np_true), STD_RATIO(final_res, np_true), SLOPE_RATIO(final_res, np_true)"
   ]
  },
  {
   "cell_type": "code",
   "execution_count": 307,
   "id": "dac67c22-c8f9-47b7-a62e-5116f363f8f6",
   "metadata": {},
   "outputs": [
    {
     "data": {
      "text/plain": [
       "(0.4075211,\n",
       " 0.45887357,\n",
       " -0.0047324984,\n",
       " -0.003513772482765678,\n",
       " 1.1138648,\n",
       " -0.002445812820389859)"
      ]
     },
     "execution_count": 307,
     "metadata": {},
     "output_type": "execute_result"
    }
   ],
   "source": [
    "# 메트릭 비교하기 (선형회귀)\n",
    "MSE(np_pred_lin, np_true), MAE(np_pred_lin, np_true), SMAE(np_pred_lin, np_true), REC_CORR(np_pred_lin, np_true), STD_RATIO(np_pred_lin, np_true), SLOPE_RATIO(np_pred_lin, np_true)"
   ]
  },
  {
   "cell_type": "code",
   "execution_count": 250,
   "id": "17f7f823-43ea-4a11-85aa-2bbbc8ba6661",
   "metadata": {},
   "outputs": [
    {
     "data": {
      "image/png": "[encoded data removed]",
      "text/plain": [
       "<Figure size 640x480 with 1 Axes>"
      ]
     },
     "metadata": {},
     "output_type": "display_data"
    }
   ],
   "source": [
    "# 그래프 그리기\n",
    "idx =648\n",
    "val = 7\n",
    "xval = range(args.pred_len)\n",
    "xval2 = range(-args.seq_len, args.pred_len)\n",
    "plt.plot(xval2, np.concatenate([np_true[idx-args.pred_len, -args.seq_len:, val], np_pred[idx, :, val]]), label='pred_normal')\n",
    "plt.plot(xval2, np.concatenate([np_true[idx-args.pred_len, -args.seq_len::, val],np_pred_lin[idx, :, val]]), label='pred_linear')\n",
    "plt.plot(xval2, np.concatenate([np_true[idx-args.pred_len, -args.seq_len::, val],np_pred_lin_24[idx, :, val]]), label='pred_linear_24')\n",
    "plt.plot(xval2, np.concatenate([np_true[idx-args.pred_len, -args.seq_len::, val],np_true[idx, :, val]]), label='true_normal')\n",
    "plt.plot(xval2, np.concatenate([np_true[idx-args.pred_len, -args.seq_len::, val],final_res[idx, :, val]]), 'c', label='ensemble_normal')\n",
    "plt.legend()\n",
    "plt.show()"
   ]
  },
  {
   "cell_type": "code",
   "execution_count": null,
   "id": "0571e604-3673-4777-b1cc-ba563b6eb276",
   "metadata": {},
   "outputs": [],
   "source": []
  },
  {
   "cell_type": "code",
   "execution_count": 251,
   "id": "26c736a7-0e6e-4a77-85f7-68c4309dc9c3",
   "metadata": {},
   "outputs": [
    {
     "data": {
      "text/plain": [
       "(0.19788972, 0.33676127, -0.11334736)"
      ]
     },
     "execution_count": 251,
     "metadata": {},
     "output_type": "execute_result"
    }
   ],
   "source": [
    "# 메트릭 비교하기 (원본 iTransformer)\n",
    "MSE(np_pred[:,:,-1], np_true[:,:,-1]), MAE(np_pred[:,:,-1], np_true[:,:,-1]), SMAE(np_pred[:,:,-1], np_true[:,:,-1]), "
   ]
  },
  {
   "cell_type": "code",
   "execution_count": 252,
   "id": "0ab5841c-63d1-451f-96f8-72d2be62d903",
   "metadata": {},
   "outputs": [
    {
     "data": {
      "text/plain": [
       "(0.20572089, 0.34333837, -0.079626895)"
      ]
     },
     "execution_count": 252,
     "metadata": {},
     "output_type": "execute_result"
    }
   ],
   "source": [
    "# 메트릭 비교하기 (스케일 수정)\n",
    "MSE(final_res[:,:,-1], np_true[:,:,-1]), MAE(final_res[:,:,-1], np_true[:,:,-1]), SMAE(final_res[:,:,-1], np_true[:,:,-1]), "
   ]
  },
  {
   "cell_type": "code",
   "execution_count": null,
   "id": "141f9275-1d36-4c2f-8a7a-e6f2f7353d24",
   "metadata": {},
   "outputs": [],
   "source": []
  },
  {
   "cell_type": "code",
   "execution_count": null,
   "id": "e7f2125e-0694-434a-bd80-82e634bd44a7",
   "metadata": {},
   "outputs": [],
   "source": []
  },
  {
   "cell_type": "code",
   "execution_count": 317,
   "id": "d73872b2-f596-4fad-b37a-9c62c15df170",
   "metadata": {},
   "outputs": [],
   "source": [
    "# 변경해야 할 부분\n",
    "setting_pairs = [\n",
    "    (exchange_96_96_result, args0),\n",
    "    (exchange_96_192_result, args1),\n",
    "    (weather_96_96_result, args2),\n",
    "    (weather_96_192_result, args3)\n",
    "]\n",
    "\n",
    "idx = 2 # 순서\n",
    "setting_path = setting_pairs[idx][0]\n",
    "args = setting_pairs[idx][1]"
   ]
  },
  {
   "cell_type": "code",
   "execution_count": 318,
   "id": "6e05cffe-8bac-4f0d-8839-ee4ee030aa7c",
   "metadata": {
    "scrolled": true
   },
   "outputs": [
    {
     "name": "stdout",
     "output_type": "stream",
     "text": [
      "Use GPU: cuda:0\n"
     ]
    }
   ],
   "source": [
    "# 모델 호출 - Exp_Long_Term_Forecast - exchange_96_96\n",
    "exp_model = Exp_Long_Term_Forecast(args)\n",
    "exp_model._build_model()\n",
    "device = exp_model.device"
   ]
  },
  {
   "cell_type": "code",
   "execution_count": 319,
   "id": "e43e364a-d111-4599-89b7-0c29001b2465",
   "metadata": {},
   "outputs": [],
   "source": [
    "%matplotlib inline"
   ]
  },
  {
   "cell_type": "code",
   "execution_count": 320,
   "id": "00295673-8f8a-4635-8001-e9fb9c940a56",
   "metadata": {},
   "outputs": [
    {
     "data": {
      "text/plain": [
       "<All keys matched successfully>"
      ]
     },
     "execution_count": 320,
     "metadata": {},
     "output_type": "execute_result"
    }
   ],
   "source": [
    "# 위의 argument와 맞는 모델 호출\n",
    "checkpoint_path = './checkpoints/'\n",
    "model_path = f\"{checkpoint_path}{setting_path}/checkpoint.pth\"\n",
    "exp_model.model.load_state_dict(torch.load(model_path), strict=False)"
   ]
  },
  {
   "cell_type": "code",
   "execution_count": 321,
   "id": "0f6f0e06-0061-4532-b5c1-5d663ee0c4e9",
   "metadata": {},
   "outputs": [],
   "source": [
    "from utils.metrics import *\n",
    "from utils.tools import linear_regression_direct, linear_predict\n",
    "from data_provider.data_factory import data_provider\n",
    "from data_provider.data_loader import Dataset_Custom"
   ]
  },
  {
   "cell_type": "code",
   "execution_count": 322,
   "id": "87a79ab7-a2f6-4e3c-afa5-34a7601baa5b",
   "metadata": {},
   "outputs": [],
   "source": [
    "# data_provider -> Exchange_rate\n",
    "dataset_exchange_96 = Dataset_Custom(args, args.root_path,\n",
    "                                    flag='train', size=(args.seq_len, args.label_len, args.pred_len),\n",
    "                                    features='M', data_path = args.data_path,\n",
    "                                    target='OT', scale=True, freq='h', timeenc=0,\n",
    "                                    seasonal_patterns=None, train_ratio=args.train_ratio, test_ratio=args.test_ratio)\n",
    "dataset_exchange_96_valid = Dataset_Custom(args, args.root_path,\n",
    "                                    flag='val', size=(args.seq_len, args.label_len, args.pred_len),\n",
    "                                    features='M', data_path = args.data_path,\n",
    "                                    target='OT', scale=True, freq='h', timeenc=0,\n",
    "                                    seasonal_patterns=None, train_ratio=args.train_ratio, test_ratio=args.test_ratio)\n",
    "dataset_exchange_96_test = Dataset_Custom(args, args.root_path,\n",
    "                                    flag='test', size=(args.seq_len, args.label_len, args.pred_len),\n",
    "                                    features='M', data_path = args.data_path,\n",
    "                                    target='OT', scale=True, freq='h', timeenc=0,\n",
    "                                    seasonal_patterns=None, train_ratio=args.train_ratio, test_ratio=args.test_ratio)"
   ]
  },
  {
   "cell_type": "code",
   "execution_count": 323,
   "id": "fba34dbd-098d-43cc-9a93-fbe59fc73327",
   "metadata": {},
   "outputs": [
    {
     "data": {
      "text/plain": [
       "Model(\n",
       "  (enc_embedding): DataEmbedding_inverted(\n",
       "    (value_embedding): Linear(in_features=96, out_features=64, bias=True)\n",
       "    (dropout): Dropout(p=0.1, inplace=False)\n",
       "  )\n",
       "  (encoder): Encoder(\n",
       "    (attn_layers): ModuleList(\n",
       "      (0-2): 3 x EncoderLayer(\n",
       "        (attention): AttentionLayer(\n",
       "          (inner_attention): FullAttention(\n",
       "            (dropout): Dropout(p=0.1, inplace=False)\n",
       "          )\n",
       "          (query_projection): Linear(in_features=64, out_features=64, bias=True)\n",
       "          (key_projection): Linear(in_features=64, out_features=64, bias=True)\n",
       "          (value_projection): Linear(in_features=64, out_features=64, bias=True)\n",
       "          (out_projection): Linear(in_features=64, out_features=64, bias=True)\n",
       "        )\n",
       "        (conv1): Conv1d(64, 128, kernel_size=(1,), stride=(1,))\n",
       "        (conv2): Conv1d(128, 64, kernel_size=(1,), stride=(1,))\n",
       "        (norm1): LayerNorm((64,), eps=1e-05, elementwise_affine=True)\n",
       "        (norm2): LayerNorm((64,), eps=1e-05, elementwise_affine=True)\n",
       "        (dropout): Dropout(p=0.1, inplace=False)\n",
       "      )\n",
       "    )\n",
       "    (norm): LayerNorm((64,), eps=1e-05, elementwise_affine=True)\n",
       "  )\n",
       "  (projection): Linear(in_features=64, out_features=96, bias=True)\n",
       ")"
      ]
     },
     "execution_count": 323,
     "metadata": {},
     "output_type": "execute_result"
    }
   ],
   "source": [
    "exp_model.model.eval()"
   ]
  },
  {
   "cell_type": "code",
   "execution_count": 324,
   "id": "da5f7c63-737d-49d6-a410-edfdc5a8be54",
   "metadata": {},
   "outputs": [],
   "source": [
    "# 모델 훈련셋 결과 확인하기\n",
    "from data_provider.data_factory import data_provider\n",
    "from torch.utils.data import DataLoader\n",
    "\n",
    "dataset_exchange_96_loader = DataLoader(\n",
    "            dataset_exchange_96,\n",
    "            batch_size=args.batch_size,\n",
    "            shuffle=True,\n",
    "            num_workers=args.num_workers,\n",
    "            drop_last=False)\n",
    "dataset_exchange_96_test_loader = DataLoader(\n",
    "            dataset_exchange_96_test,\n",
    "            batch_size=1, # 모든 데이터셋을 확인해야 해서 batch_size를 강제로 1로 조정.\n",
    "            shuffle=False,\n",
    "            num_workers=args.num_workers,\n",
    "            drop_last=False)\n",
    "dataset_exchange_96_valid_loader = DataLoader(\n",
    "            dataset_exchange_96_valid,\n",
    "            batch_size=1, # 모든 데이터셋을 확인해야 해서 batch_size를 강제로 1로 조정.\n",
    "            shuffle=False,\n",
    "            num_workers=args.num_workers,\n",
    "            drop_last=False)"
   ]
  },
  {
   "cell_type": "code",
   "execution_count": 325,
   "id": "53a7e134-f037-4f58-bee4-dfbb828ce876",
   "metadata": {},
   "outputs": [],
   "source": [
    "X = np.array([[t] for t in range(-args.seq_len, 0)])  # X는 입력 feature, shape: [seq_len, 1]\n",
    "X_new = np.array([[t] for t in range(args.pred_len)])  # 예측을 위한 새로운 시간 변수\n",
    "X_concat = np.concatenate([X, X_new], axis=0).reshape(-1)"
   ]
  },
  {
   "cell_type": "code",
   "execution_count": 326,
   "id": "669856ef-61e2-4279-9ab5-335e39a4de77",
   "metadata": {},
   "outputs": [],
   "source": [
    "# Combination 모델 제작\n",
    "class CombinedModel(nn.Module):\n",
    "    # 모델 정의 - \n",
    "    def __init__(self, res_A, res_B, res_C):\n",
    "        super(CombinedModel, self).__init__()\n",
    "        self.res_A = res_A  # iTransformer train_result\n",
    "        self.res_B = res_B  # lin_reg_96 train_result\n",
    "        self.res_C = res_C\n",
    "        self.a = nn.Parameter(torch.ones(1, device=device)*0.998, requires_grad=True)\n",
    "        self.b = nn.Parameter(torch.ones(1, device=device)*0.001, requires_grad=True)\n",
    "        # self.c = nn.Parameter(torch.zeros(1, device=device), requires_grad=True)\n",
    "        # self.d = nn.Parameter(torch.zeros(1, device=device), requires_grad=True)\n",
    "    \n",
    "    def forward(self, x):\n",
    "        output_A = self.res_A(x)\n",
    "        output_B = self.res_B(x)\n",
    "        output_C = self.res_C(x)\n",
    "        self.c = nn.Parameter(torch.ones(1, device=device), requires_grad=True) - self.a - self.b\n",
    "        combined_output = self.a * output_A + self.b * output_B + output_C * self.c # + self.d\n",
    "        return combined_output"
   ]
  },
  {
   "cell_type": "code",
   "execution_count": null,
   "id": "f5850e2b-5d39-45a8-a1a8-e26cb86b3a85",
   "metadata": {},
   "outputs": [],
   "source": []
  },
  {
   "cell_type": "code",
   "execution_count": 327,
   "id": "3f3b256c-5ee3-4227-a8d8-300750f930a0",
   "metadata": {},
   "outputs": [],
   "source": [
    "# model_output_function\n",
    "\n",
    "def res_iTransformer(batch_x): # S \n",
    "    B, L, N = batch_x.shape  # L은 시퀀스 길이(seq_len)\n",
    "    return exp_model.model(batch_x, None, torch.zeros(B, len(X_new), N), None)\n",
    "\n",
    "def res_lin_reg(batch_x):\n",
    "    B, L, N = batch_x.shape  # L은 시퀀스 길이(seq_len)\n",
    "    # 각 배치와 변수에 대해 선형 회귀 해를 계산\n",
    "    vals = [[linear_regression_direct(X, batch_x.permute(0,2,1)[idx, var , :], device) for var in range(N)] for idx in range(B)]\n",
    "    lin_result = [[linear_predict(X_new, vals[idx][var], device) for var in range(N)] for idx in range(B)]\n",
    "    # 결과를 3D 텐서로 변환\n",
    "    lin_result = torch.stack([torch.stack(lin_result[idx], dim=0) for idx in range(B)], dim=0).to(device).permute(0,2,1)\n",
    "    return lin_result\n",
    "\n",
    "def res_lin_reg_24(batch_x):\n",
    "    B, L, N = batch_x.shape  # L은 시퀀스 길이(seq_len)\n",
    "    # 24 조각에 대해서도 계산\n",
    "    vals_24 = [[linear_regression_direct(X[-24:], batch_x.permute(0,2,1)[idx, var , -24:], device) for var in range(N)] for idx in range(B)]\n",
    "    lin_result_24 = [[linear_predict(X_new, vals_24[idx][var], device) for var in range(N)] for idx in range(B)]\n",
    "    # 결과를 3D 텐서로 변환\n",
    "    lin_result_24 = torch.stack([torch.stack(lin_result_24[idx], dim=0) for idx in range(B)], dim=0).to(device).permute(0,2,1)\n",
    "    return lin_result_24\n",
    "\n",
    "def zero_model(batch_x): # S 길이\n",
    "    B, L, N = batch_x.shape  # L은 시퀀스 길이(seq_len)\n",
    "    return torch.zeros(B, len(X_new), N)"
   ]
  },
  {
   "cell_type": "code",
   "execution_count": 328,
   "id": "726a326a-c926-4b8e-bd65-b7c0281f9918",
   "metadata": {
    "scrolled": true
   },
   "outputs": [
    {
     "name": "stdout",
     "output_type": "stream",
     "text": [
      "step 100 completed\n",
      "step 200 completed\n",
      "step 300 completed\n",
      "step 400 completed\n",
      "step 500 completed\n",
      "step 600 completed\n",
      "step 700 completed\n",
      "step 800 completed\n",
      "step 900 completed\n",
      "step 1000 completed\n",
      "step 1100 completed\n",
      "step 1200 completed\n",
      "step 1300 completed\n",
      "step 1400 completed\n",
      "step 1500 completed\n",
      "step 1600 completed\n",
      "step 1700 completed\n",
      "step 1800 completed\n",
      "step 1900 completed\n",
      "step 2000 completed\n",
      "step 2100 completed\n",
      "step 2200 completed\n",
      "step 2300 completed\n",
      "step 2400 completed\n",
      "step 2500 completed\n",
      "step 2600 completed\n",
      "step 2700 completed\n",
      "step 2800 completed\n",
      "step 2900 completed\n",
      "step 3000 completed\n",
      "step 3100 completed\n",
      "step 3200 completed\n",
      "step 3300 completed\n",
      "step 3400 completed\n",
      "step 3500 completed\n",
      "step 3600 completed\n",
      "step 3700 completed\n",
      "step 3800 completed\n",
      "step 3900 completed\n",
      "step 4000 completed\n",
      "step 4100 completed\n",
      "step 4200 completed\n",
      "step 4300 completed\n",
      "step 4400 completed\n",
      "step 4500 completed\n"
     ]
    }
   ],
   "source": [
    "# 우선 train_set의 data_exchange를 바탕으로 측정값 참값 가져기\n",
    "# 트레인 데이터셋을 테스트해서 결과 받기, test 함수에서 가져옴\n",
    "preds_te_tr = [] # 예측값\n",
    "trues_te_tr = [] # 참값\n",
    "preds_te_lin = [] # 96_lin\n",
    "preds_te_lin_24 = [] # 24_lin\n",
    "\n",
    "for i, (batch_x, batch_y, batch_x_mark, batch_y_mark) in enumerate(dataset_exchange_96_loader):\n",
    "    batch_x = batch_x.float().to(device)\n",
    "    batch_y = batch_y.float().to(device)\n",
    "\n",
    "    B, L, N = batch_x.shape  # L은 시퀀스 길이(seq_len)\n",
    "\n",
    "    batch_x_mark = batch_x_mark.float().to(device)\n",
    "    batch_y_mark = batch_y_mark.float().to(device)\n",
    "\n",
    "    # decoder input\n",
    "    dec_inp = torch.zeros_like(batch_y[:, -args.pred_len:, :]).float()\n",
    "    dec_inp = torch.cat([batch_y[:, :args.label_len, :], dec_inp], dim=1).float().to(device)\n",
    "    # encoder - decoder\n",
    "\n",
    "    # use_amp도 사용하지 않음, \n",
    "    outputs = exp_model.model(batch_x, batch_x_mark, dec_inp, batch_y_mark)\n",
    "    \n",
    "    # 각 배치와 변수에 대해 선형 회귀 해를 계산\n",
    "    vals = [[linear_regression_direct(X, batch_x.permute(0,2,1)[idx, var , :], device) for var in range(N)] for idx in range(B)]\n",
    "    lin_result = [[linear_predict(X_new, vals[idx][var], device) for var in range(N)] for idx in range(B)]\n",
    "    # 결과를 3D 텐서로 변환\n",
    "    lin_result = torch.stack([torch.stack(lin_result[idx], dim=0) for idx in range(B)], dim=0).to(device)\n",
    "\n",
    "    # 24 조각에 대해서도 계산\n",
    "    vals_24 = [[linear_regression_direct(X[-24:], batch_x.permute(0,2,1)[idx, var , -24:], device) for var in range(N)] for idx in range(B)]\n",
    "    lin_result_24 = [[linear_predict(X_new, vals_24[idx][var], device) for var in range(N)] for idx in range(B)]\n",
    "    # 결과를 3D 텐서로 변환\n",
    "    lin_result_24 = torch.stack([torch.stack(lin_result_24[idx], dim=0) for idx in range(B)], dim=0).to(device)\n",
    "    \n",
    "    outputs = outputs[:, -args.pred_len:, :]\n",
    "    batch_y = batch_y[:, -args.pred_len:, :].to(device)\n",
    "    outputs = outputs.detach().cpu().numpy()\n",
    "    batch_y = batch_y.detach().cpu().numpy()\n",
    "\n",
    "    pred = outputs\n",
    "    true = batch_y\n",
    "\n",
    "    preds_te_tr.append(pred)\n",
    "    trues_te_tr.append(true)\n",
    "    preds_te_lin.append(lin_result)\n",
    "    preds_te_lin_24.append(lin_result_24)\n",
    "\n",
    "    if (i+1)%100==0:\n",
    "        print(f\"step {i+1} completed\")\n",
    "    \n",
    "preds_te_tr = np.concatenate(preds_te_tr, axis=0)\n",
    "trues_te_tr = np.concatenate(trues_te_tr, axis=0)\n",
    "preds_te_lin = torch.concat(preds_te_lin, axis=0).detach().cpu().numpy()\n",
    "preds_te_lin_24 = torch.concat(preds_te_lin_24, axis=0).detach().cpu().numpy()\n",
    "preds_te_lin = np.transpose(preds_te_lin, (0,2,1))\n",
    "preds_te_lin_24 = np.transpose(preds_te_lin_24, (0,2,1))"
   ]
  },
  {
   "cell_type": "code",
   "execution_count": 329,
   "id": "81e2842a-e12a-438c-84b8-771e7b036724",
   "metadata": {},
   "outputs": [
    {
     "data": {
      "text/plain": [
       "0.7127213"
      ]
     },
     "execution_count": 329,
     "metadata": {},
     "output_type": "execute_result"
    }
   ],
   "source": [
    "MSE(preds_te_tr, trues_te_tr)"
   ]
  },
  {
   "cell_type": "code",
   "execution_count": null,
   "id": "a9664a8f-9017-4de1-8976-23cb64568d1a",
   "metadata": {},
   "outputs": [],
   "source": []
  },
  {
   "cell_type": "code",
   "execution_count": 330,
   "id": "dc0f8b36-f306-498d-92f4-79ba81dbd781",
   "metadata": {},
   "outputs": [],
   "source": [
    "# 모델 실험\n",
    "num_epochs = 5\n",
    "combine_model_test = CombinedModel(res_iTransformer, res_lin_reg, res_lin_reg_24)\n",
    "# combine_model_test training\n",
    "combine_model_test.train()\n",
    "\n",
    "criterion = nn.MSELoss()\n",
    "optimizer = torch.optim.Adam([combine_model_test.a, combine_model_test.b])\n"
   ]
  },
  {
   "cell_type": "code",
   "execution_count": null,
   "id": "91e32be1-c307-4ba6-9e5f-1212ca7ce6f6",
   "metadata": {},
   "outputs": [],
   "source": []
  },
  {
   "cell_type": "code",
   "execution_count": 331,
   "id": "156f552d-131e-4abe-9c55-7b9acddb9594",
   "metadata": {},
   "outputs": [],
   "source": [
    "# 검증 데이터셋 결과 확인\n",
    "def vali(vali_data, vali_loader, criterion):\n",
    "    total_loss = []\n",
    "    combine_model_test.eval()\n",
    "    with torch.no_grad():\n",
    "        for i, (batch_x, batch_y, batch_x_mark, batch_y_mark) in enumerate(vali_loader):\n",
    "            batch_x = batch_x.float().to(device)\n",
    "            batch_y = batch_y.float().to(device)\n",
    "            targets = batch_y[:, -args.pred_len:, :].to(device)\n",
    "            outputs = combine_model_test(batch_x)\n",
    "            loss = criterion(outputs, targets)\n",
    "            total_loss.append(loss)\n",
    "\n",
    "    total_loss = [v.item() for v in total_loss]\n",
    "    total_loss = np.average(total_loss)\n",
    "    combine_model_test.train()\n",
    "    return total_loss"
   ]
  },
  {
   "cell_type": "code",
   "execution_count": 332,
   "id": "179c0d35-9577-4e28-b3e4-a56210cf4d14",
   "metadata": {},
   "outputs": [
    {
     "data": {
      "text/plain": [
       "(Parameter containing:\n",
       " tensor([0.9980], device='cuda:0', requires_grad=True),\n",
       " Parameter containing:\n",
       " tensor([0.0010], device='cuda:0', requires_grad=True))"
      ]
     },
     "execution_count": 332,
     "metadata": {},
     "output_type": "execute_result"
    }
   ],
   "source": [
    "combine_model_test.a, combine_model_test.b, # combine_model_test.c # train 되지 않은 상태"
   ]
  },
  {
   "cell_type": "code",
   "execution_count": null,
   "id": "0a9d9c9f-ebbb-4dc6-8d5d-70d521129145",
   "metadata": {},
   "outputs": [],
   "source": []
  },
  {
   "cell_type": "code",
   "execution_count": null,
   "id": "2367697d-00a8-48a6-ab1a-40ab8c1d386c",
   "metadata": {
    "scrolled": true
   },
   "outputs": [
    {
     "name": "stdout",
     "output_type": "stream",
     "text": [
      "50th batch done, loss 0.9726807475090027\n",
      "100th batch done, loss 0.4314984679222107\n",
      "150th batch done, loss 0.3725053369998932\n",
      "200th batch done, loss 0.38523828983306885\n",
      "250th batch done, loss 0.2659255266189575\n",
      "300th batch done, loss 1.131028175354004\n",
      "350th batch done, loss 0.23149622976779938\n",
      "400th batch done, loss 0.23335546255111694\n",
      "450th batch done, loss 0.602205753326416\n",
      "500th batch done, loss 0.20026922225952148\n",
      "550th batch done, loss 1.2047358751296997\n",
      "600th batch done, loss 0.5681647658348083\n",
      "650th batch done, loss 0.3408442437648773\n",
      "700th batch done, loss 0.4144907295703888\n",
      "750th batch done, loss 0.36307376623153687\n",
      "800th batch done, loss 0.33140426874160767\n",
      "850th batch done, loss 0.3821527361869812\n",
      "900th batch done, loss 0.1991911679506302\n",
      "950th batch done, loss 0.41508445143699646\n",
      "1000th batch done, loss 0.3206092119216919\n",
      "1050th batch done, loss 0.2881433665752411\n",
      "1100th batch done, loss 0.41501715779304504\n",
      "1150th batch done, loss 0.23774372041225433\n",
      "1200th batch done, loss 0.7941585183143616\n",
      "1250th batch done, loss 0.34552451968193054\n",
      "1300th batch done, loss 0.28272613883018494\n",
      "1350th batch done, loss 0.23610220849514008\n",
      "1400th batch done, loss 0.46051591634750366\n",
      "1450th batch done, loss 1.0569347143173218\n",
      "1500th batch done, loss 0.2007809281349182\n",
      "1550th batch done, loss 0.2502122223377228\n",
      "1600th batch done, loss 0.5660121440887451\n",
      "1650th batch done, loss 0.7168053984642029\n",
      "1700th batch done, loss 0.673762857913971\n",
      "1750th batch done, loss 0.26662299036979675\n",
      "1800th batch done, loss 0.6169826984405518\n",
      "1850th batch done, loss 0.5046526193618774\n",
      "1900th batch done, loss 0.38971421122550964\n",
      "1950th batch done, loss 0.16989178955554962\n",
      "2000th batch done, loss 0.21671435236930847\n",
      "2050th batch done, loss 0.5193485021591187\n",
      "2100th batch done, loss 0.49272915720939636\n",
      "2150th batch done, loss 0.2681087851524353\n",
      "2200th batch done, loss 3.368443250656128\n",
      "2250th batch done, loss 0.2771013379096985\n",
      "2300th batch done, loss 0.3548778295516968\n",
      "2350th batch done, loss 0.17557381093502045\n",
      "2400th batch done, loss 0.23737242817878723\n",
      "2450th batch done, loss 0.7395769357681274\n",
      "2500th batch done, loss 0.30072176456451416\n",
      "2550th batch done, loss 4.0068464279174805\n",
      "2600th batch done, loss 0.3039763569831848\n",
      "2650th batch done, loss 0.5015235543251038\n",
      "2700th batch done, loss 0.32942995429039\n",
      "2750th batch done, loss 0.3073403835296631\n",
      "2800th batch done, loss 0.24828921258449554\n",
      "2850th batch done, loss 0.39243659377098083\n",
      "2900th batch done, loss 0.9715059399604797\n",
      "2950th batch done, loss 0.330925315618515\n",
      "3000th batch done, loss 0.21643488109111786\n",
      "3050th batch done, loss 0.25759175419807434\n",
      "3100th batch done, loss 0.4513588845729828\n",
      "3150th batch done, loss 0.24433864653110504\n",
      "3200th batch done, loss 0.32349228858947754\n",
      "3250th batch done, loss 0.14199823141098022\n",
      "3300th batch done, loss 0.2425951063632965\n",
      "3350th batch done, loss 0.4994926452636719\n",
      "3400th batch done, loss 3.949880361557007\n",
      "3450th batch done, loss 0.22137027978897095\n",
      "3500th batch done, loss 0.2449086606502533\n",
      "3550th batch done, loss 0.5024740099906921\n",
      "3600th batch done, loss 0.18226556479930878\n",
      "3650th batch done, loss 0.47606128454208374\n",
      "3700th batch done, loss 0.2697691023349762\n",
      "3750th batch done, loss 0.3321186602115631\n",
      "3800th batch done, loss 0.15718060731887817\n",
      "3850th batch done, loss 0.3047338128089905\n",
      "3900th batch done, loss 0.49864381551742554\n",
      "3950th batch done, loss 0.2601444721221924\n",
      "4000th batch done, loss 0.46146532893180847\n",
      "4050th batch done, loss 0.3571491837501526\n",
      "4100th batch done, loss 0.39632898569107056\n",
      "4150th batch done, loss 0.3447309136390686\n",
      "4200th batch done, loss 0.7198495864868164\n",
      "4250th batch done, loss 0.3209667205810547\n",
      "4300th batch done, loss 0.2541482448577881\n",
      "4350th batch done, loss 0.8464122414588928\n"
     ]
    }
   ],
   "source": [
    "# 모델 훈련\n",
    "\n",
    "early_stopping = EarlyStopping(patience=2, verbose=True)\n",
    "for epoch in range(num_epochs):\n",
    "    cnt = 0\n",
    "    train_loss = []\n",
    "    # exp_model.train()\n",
    "    path = os.path.join(args.checkpoints, setting_path)\n",
    "    if not os.path.exists(path):\n",
    "        os.makedirs(path)\n",
    "    for i, (batch_x, batch_y, batch_x_mark, batch_y_mark) in enumerate(dataset_exchange_96_loader):\n",
    "        cnt += 1\n",
    "        batch_x = batch_x.float().to(device)\n",
    "        batch_y = batch_y.float().to(device)\n",
    "        targets = batch_y[:, -args.pred_len:, :].to(device)\n",
    "        optimizer.zero_grad()\n",
    "        outputs = combine_model_test(batch_x)\n",
    "        loss = criterion(outputs, targets)\n",
    "        loss.backward()\n",
    "        optimizer.step()\n",
    "        train_loss.append(loss)\n",
    "        if (cnt+1) % 50 == 0:\n",
    "            print(f\"{cnt+1}th batch done, loss {loss}\") \n",
    "    print(\"=\"*50)\n",
    "    print(f\"Epoch {epoch+1} DONE\")\n",
    "    print()\n",
    "    train_loss = [v.item() for v in train_loss]\n",
    "    train_loss = np.average(train_loss)\n",
    "    vali_loss = vali(dataset_exchange_96_test, dataset_exchange_96_test_loader, criterion)\n",
    "    print(\"vali_loss:\", vali_loss)\n",
    "    print()\n",
    "    print(combine_model_test.a, combine_model_test.b)\n",
    "    early_stopping(vali_loss, combine_model_test, path)\n",
    "    if early_stopping.early_stop:\n",
    "        print(\"Early stopping\")\n",
    "        break\n",
    "    model_path = path + '/' + 'checkpoint_ensenble.pth'\n",
    "    # torch.save(combine_model_test.state_dict(), model_path)\n",
    "    # combine_model_test.load_state_dict(torch.load(model_path, map_location=device))"
   ]
  },
  {
   "cell_type": "code",
   "execution_count": null,
   "id": "9e48cb99-26e5-4511-9ef7-4352b63e8d2d",
   "metadata": {},
   "outputs": [],
   "source": [
    "combine_model_test.a, combine_model_test.b, # combine_model_test.c # train 되지 않은 상태"
   ]
  },
  {
   "cell_type": "code",
   "execution_count": null,
   "id": "501098e2-91ae-4006-aa8e-f74a52aca945",
   "metadata": {},
   "outputs": [],
   "source": [
    "# 훈련 결과 도출\n",
    "combine_model_test.eval()\n",
    "combine_model_test.a, combine_model_test.b, # combine_model_test.c # train 되지 않은 상태"
   ]
  },
  {
   "cell_type": "code",
   "execution_count": null,
   "id": "c31117dc-e7c1-47d3-b2a8-16ccf2159e9c",
   "metadata": {},
   "outputs": [],
   "source": [
    "# 기존 데이터의 메트릭 결과\n",
    "MSE(preds_te_tr, trues_te_tr), MAE(preds_te_tr, trues_te_tr), SMAE(preds_te_tr, trues_te_tr)"
   ]
  },
  {
   "cell_type": "code",
   "execution_count": null,
   "id": "5e535f7c-142b-4099-a21b-0bb5c09008f3",
   "metadata": {},
   "outputs": [],
   "source": [
    "# 계수 변경\n",
    "a, b, = combine_model_test.a[0].item(), combine_model_test.b[0].item(),"
   ]
  },
  {
   "cell_type": "code",
   "execution_count": null,
   "id": "8df5c53f-07e1-41f9-8709-6c5af7fecc74",
   "metadata": {},
   "outputs": [],
   "source": [
    "# 새로운 모델 테트트\n",
    "pred_combi = a*preds_te_tr + b*preds_te_lin + (1-a-b)*preds_te_lin_24\n",
    "MSE(pred_combi, trues_te_tr), MAE(pred_combi, trues_te_tr), SMAE(pred_combi, trues_te_tr)"
   ]
  },
  {
   "cell_type": "code",
   "execution_count": null,
   "id": "676cdf4b-2509-4993-bf5e-d08bec5ab8cd",
   "metadata": {},
   "outputs": [],
   "source": [
    "# 실제 데이터 셋 호출\n",
    "result_list = ['pred.npy', 'true.npy']\n",
    "result_path = './results/'\n",
    "np_pred = np.load(f\"{result_path}{setting_path}/{result_list[0]}\")\n",
    "np_true = np.load(f\"{result_path}{setting_path}/{result_list[1]}\")"
   ]
  },
  {
   "cell_type": "code",
   "execution_count": null,
   "id": "a35bcda2-827a-46db-9c31-f380b1402367",
   "metadata": {},
   "outputs": [],
   "source": [
    "# 이제 계산도 한다\n",
    "# 각 배치와 변수에 대해 선형 회귀 해를 계산\n",
    "B, L, N = np_pred.shape  # L은 시퀀스 길이(seq_len)\n",
    "vals = [[linear_regression_direct(X, dataset_exchange_96_test[idx][0][:, var]) for var in range(N)] for idx in range(B)]\n",
    "lin_result = [[linear_predict(X_new, vals[idx][var]) for var in range(N)] for idx in range(B)]\n",
    "# 결과를 numpy 모듈로 변경\n",
    "np_pred_lin = torch.stack([torch.stack(lin_result[idx], dim=0) for idx in range(B)], dim=0).to(device).permute(0,2,1).detach().cpu().numpy()\n"
   ]
  },
  {
   "cell_type": "code",
   "execution_count": null,
   "id": "acfc40dd-bcb3-4907-b603-11795673778d",
   "metadata": {},
   "outputs": [],
   "source": [
    "vals2 = [[linear_regression_direct(X[-24:], dataset_exchange_96_test[idx][0][-24:, var], ) for var in range(N)] for idx in range(B)]\n",
    "lin_result2 = [[linear_predict(X_new, vals2[idx][var]) for var in range(N)] for idx in range(B)]\n",
    "# 결과를 numpy 모듈로 변경\n",
    "np_pred_lin_24 = torch.stack([torch.stack(lin_result2[idx], dim=0) for idx in range(B)], dim=0).to(device).permute(0,2,1).detach().cpu().numpy()\n"
   ]
  },
  {
   "cell_type": "code",
   "execution_count": null,
   "id": "8c64dd6f-deed-46a9-9398-46fd521d9a0f",
   "metadata": {},
   "outputs": [],
   "source": [
    "# 마지막으로 비교\n",
    "final_res = a*np_pred + b* np_pred_lin + (1-a-b)*np_pred_lin_24\n"
   ]
  },
  {
   "cell_type": "code",
   "execution_count": null,
   "id": "9d3cb67d-f7d9-4051-80f4-edf71d4a6915",
   "metadata": {},
   "outputs": [],
   "source": [
    "# 메트릭 비교하기 (원본 iTransformer)\n",
    "MSE(np_pred, np_true), MAE(np_pred, np_true), SMAE(np_pred, np_true), REC_CORR(np_pred, np_true), STD_RATIO(np_pred, np_true), SLOPE_RATIO(np_pred, np_true)"
   ]
  },
  {
   "cell_type": "code",
   "execution_count": null,
   "id": "c94b7005-3d75-41ad-9a0c-668d077b3776",
   "metadata": {
    "scrolled": true
   },
   "outputs": [],
   "source": [
    "# 메트릭 비교하기 (조합)\n",
    "MSE(final_res, np_true), MAE(final_res, np_true), SMAE(final_res, np_true), REC_CORR(final_res, np_true), STD_RATIO(final_res, np_true), SLOPE_RATIO(final_res, np_true)"
   ]
  },
  {
   "cell_type": "code",
   "execution_count": null,
   "id": "33c135fa-cd2f-4e34-a642-b6467456604e",
   "metadata": {},
   "outputs": [],
   "source": [
    "# 메트릭 비교하기 (lin_96)\n",
    "MSE(np_pred_lin, np_true), MAE(np_pred_lin, np_true), SMAE(np_pred_lin, np_true), REC_CORR(np_pred_lin, np_true), STD_RATIO(np_pred_lin, np_true), SLOPE_RATIO(np_pred_lin, np_true)"
   ]
  },
  {
   "cell_type": "code",
   "execution_count": null,
   "id": "08621942-fa91-4186-a4a4-1188f6e48567",
   "metadata": {},
   "outputs": [],
   "source": [
    "# 메트릭 비교하기 (lin_24)\n",
    "MSE(np_pred_lin_24, np_true), MAE(np_pred_lin_24, np_true), SMAE(np_pred_lin_24, np_true), REC_CORR(np_pred_lin_24, np_true), STD_RATIO(np_pred_lin_24, np_true), SLOPE_RATIO(np_pred_lin_24, np_true)"
   ]
  },
  {
   "cell_type": "code",
   "execution_count": null,
   "id": "9406ce26-0a76-4fca-a64f-491592b14a90",
   "metadata": {},
   "outputs": [],
   "source": [
    "# 그래프 그리기\n",
    "idx = 474\n",
    "val = 7\n",
    "xval = range(args.pred_len)\n",
    "xval2 = range(-args.seq_len, args.pred_len)\n",
    "plt.plot(xval2, np.concatenate([np_true[idx-args.pred_len, -args.seq_len:, val], np_pred[idx, :, val]]), label='pred_normal')\n",
    "plt.plot(xval2, np.concatenate([np_true[idx-args.pred_len, -args.seq_len::, val],np_pred_lin[idx, :, val]]), label='pred_linear')\n",
    "plt.plot(xval2, np.concatenate([np_true[idx-args.pred_len, -args.seq_len::, val],np_pred_lin_24[idx, :, val]]), label='pred_linear_24')\n",
    "plt.plot(xval2, np.concatenate([np_true[idx-args.pred_len, -args.seq_len::, val],np_true[idx, :, val]]), label='true_normal')\n",
    "plt.plot(xval2, np.concatenate([np_true[idx-args.pred_len, -args.seq_len::, val],final_res[idx, :, val]]),'c', label='ensemble_normal')\n",
    "plt.legend()\n",
    "plt.show()"
   ]
  },
  {
   "cell_type": "code",
   "execution_count": null,
   "id": "bf40d915-cce8-4d0f-b256-c896442fd789",
   "metadata": {},
   "outputs": [],
   "source": []
  },
  {
   "cell_type": "code",
   "execution_count": null,
   "id": "f3501bdd-190a-409f-ada8-53da64896308",
   "metadata": {},
   "outputs": [],
   "source": [
    "# 메트릭 비교하기 (원본 iTransformer)\n",
    "MSE(np_pred[:,:,-1], np_true[:,:,-1]), MAE(np_pred[:,:,-1], np_true[:,:,-1]), SMAE(np_pred[:,:,-1], np_true[:,:,-1]), "
   ]
  },
  {
   "cell_type": "code",
   "execution_count": null,
   "id": "3d599dbb-d83f-4d21-9bc9-d0accd83c9bc",
   "metadata": {
    "scrolled": true
   },
   "outputs": [],
   "source": [
    "# 메트릭 비교하기 (스케일 수정)\n",
    "MSE(final_res[:,:,-1], np_true[:,:,-1]), MAE(final_res[:,:,-1], np_true[:,:,-1]), SMAE(final_res[:,:,-1], np_true[:,:,-1]), "
   ]
  },
  {
   "cell_type": "code",
   "execution_count": null,
   "id": "a3a2c829-65be-4313-88ca-8da6d3ad3c92",
   "metadata": {},
   "outputs": [],
   "source": [
    "# 메트릭 비교하기 (Linear)\n",
    "MSE(np_pred_lin[:,:,-1], np_true[:,:,-1]), MAE(np_pred_lin[:,:,-1], np_true[:,:,-1]), SMAE(np_pred_lin[:,:,-1], np_true[:,:,-1]), "
   ]
  }
 ],
 "metadata": {
  "kernelspec": {
   "display_name": "Python 3 (ipykernel)",
   "language": "python",
   "name": "python3"
  },
  "language_info": {
   "codemirror_mode": {
    "name": "ipython",
    "version": 3
   },
   "file_extension": ".py",
   "mimetype": "text/x-python",
   "name": "python",
   "nbconvert_exporter": "python",
   "pygments_lexer": "ipython3",
   "version": "3.8.11"
  }
 },
 "nbformat": 4,
 "nbformat_minor": 5
}
