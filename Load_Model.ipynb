{
 "cells": [
  {
   "cell_type": "code",
   "execution_count": 1,
   "id": "4e03d122-49b6-4c2a-a8b5-f49020ed3826",
   "metadata": {},
   "outputs": [],
   "source": [
    "import argparse\n",
    "import torch\n",
    "import torch.nn as nn\n",
    "from exp.exp_long_term_forecasting import Exp_Long_Term_Forecast\n",
    "from exp.exp_imputation import Exp_Imputation\n",
    "from exp.exp_short_term_forecasting import Exp_Short_Term_Forecast\n",
    "from exp.exp_long_term_forecasting_partial import Exp_Long_Term_Forecast_Partial\n",
    "from exp.exp_anomaly_detection import Exp_Anomaly_Detection\n",
    "from exp.exp_classification import Exp_Classification\n",
    "from utils.print_args import print_args\n",
    "import random\n",
    "import numpy as np\n",
    "import time"
   ]
  },
  {
   "cell_type": "code",
   "execution_count": 2,
   "id": "74310cf0-42d6-4e20-9baa-cbc0fb4c2cf8",
   "metadata": {},
   "outputs": [],
   "source": [
    "# fix random seed\n",
    "fix_seed = 2021\n",
    "random.seed(fix_seed)\n",
    "torch.manual_seed(fix_seed)\n",
    "np.random.seed(fix_seed)\n",
    "parser = argparse.ArgumentParser(description='TimesNet')"
   ]
  },
  {
   "cell_type": "code",
   "execution_count": 3,
   "id": "359a3e6d-f76c-4c08-91f6-697aadfe91ab",
   "metadata": {},
   "outputs": [
    {
     "data": {
      "text/plain": [
       "_StoreAction(option_strings=['--extra_tag'], dest='extra_tag', nargs=None, const=None, default='', type=<class 'str'>, choices=None, help='Anything extra', metavar=None)"
      ]
     },
     "execution_count": 3,
     "metadata": {},
     "output_type": "execute_result"
    }
   ],
   "source": [
    "# config 지정 -> 오류 방지를 위해 \n",
    "\n",
    "# basic config\n",
    "parser.add_argument('--task_name', type=str, default='long_term_forecast',\n",
    "                    help='task name, options:[long_term_forecast, short_term_forecast, imputation, classification, anomaly_detection]')\n",
    "parser.add_argument('--is_training', type=int, default=1, help='status')\n",
    "parser.add_argument('--model_id', type=str, default='test', help='model id')\n",
    "parser.add_argument('--model', type=str, default='Autoformer',\n",
    "                    help='model name, options: [Autoformer, Transformer, TimesNet]')\n",
    "\n",
    "# data loader\n",
    "parser.add_argument('--data', type=str, default='ETTm1', help='dataset type')\n",
    "parser.add_argument('--root_path', type=str, default='./data/ETT/', help='root path of the data file')\n",
    "parser.add_argument('--data_path', type=str, default='ETTh1.csv', help='data file')\n",
    "parser.add_argument('--features', type=str, default='M',\n",
    "                    help='forecasting task, options:[M, S, MS]; M:multivariate predict multivariate, S:univariate predict univariate, MS:multivariate predict univariate')\n",
    "parser.add_argument('--target', type=str, default='OT', help='target feature in S or MS task')\n",
    "parser.add_argument('--freq', type=str, default='h',\n",
    "                    help='freq for time features encoding, options:[s:secondly, t:minutely, h:hourly, d:daily, b:business days, w:weekly, m:monthly], you can also use more detailed freq like 15min or 3h')\n",
    "parser.add_argument('--checkpoints', type=str, default='./checkpoints/', help='location of model checkpoints')\n",
    "\n",
    "# added option \n",
    "parser.add_argument('--train_ratio', type=float, default=0.7, help='train data ratio')\n",
    "parser.add_argument('--test_ratio', type=float, default=0.2, help='test data ratio')\n",
    "parser.add_argument('--train_step', type=float, default=1.0, help='train data with certain stes. for example train_step=2 means only train even number of data')\n",
    "\n",
    "# SparseTSF\n",
    "parser.add_argument('--period_len', type=int, default=24, help='period length')\n",
    "\n",
    "# PITS\n",
    "parser.add_argument('--fc_dropout', type=float, default=0.05, help='fully connected dropout')\n",
    "parser.add_argument('--head_dropout', type=float, default=0.0, help='head dropout')\n",
    "parser.add_argument('--patch_len', type=int, default=16, help='patch length')\n",
    "parser.add_argument('--stride', type=int, default=8, help='stride')\n",
    "parser.add_argument('--shared_embedding', type=int, default=1, help='stride')\n",
    "parser.add_argument('--padding_patch', default='end', help='None: None; end: padding on the end')\n",
    "parser.add_argument('--revin', type=int, default=1, help='RevIN; True 1 False 0')\n",
    "parser.add_argument('--affine', type=int, default=0, help='RevIN-affine; True 1 False 0')\n",
    "parser.add_argument('--subtract_last', type=int, default=0, help='0: subtract mean; 1: subtract last')\n",
    "parser.add_argument('--decomposition', type=int, default=0, help='decomposition; True 1 False 0')\n",
    "parser.add_argument('--kernel_size', type=int, default=25, help='decomposition-kernel')\n",
    "parser.add_argument('--individual', type=int, default=0, help='individual head; True 1 False 0')\n",
    "\n",
    "# Piformer\n",
    "parser.add_argument('--joint_var', type=int, default=0, help='use attention for each patching; True 1 False 0')\n",
    "\n",
    "# forecasting task\n",
    "parser.add_argument('--seq_len', type=int, default=96, help='input sequence length')\n",
    "parser.add_argument('--label_len', type=int, default=48, help='start token length')\n",
    "parser.add_argument('--pred_len', type=int, default=96, help='prediction sequence length')\n",
    "parser.add_argument('--seasonal_patterns', type=str, default='Monthly', help='subset for M4')\n",
    "parser.add_argument('--inverse', action='store_true', help='inverse output data', default=False)\n",
    "\n",
    "# inputation task\n",
    "parser.add_argument('--mask_rate', type=float, default=0.25, help='mask ratio')\n",
    "\n",
    "# anomaly detection task\n",
    "parser.add_argument('--anomaly_ratio', type=float, default=0.25, help='prior anomaly ratio (%)')\n",
    "\n",
    "# model define\n",
    "parser.add_argument('--expand', type=int, default=2, help='expansion factor for Mamba')\n",
    "parser.add_argument('--d_conv', type=int, default=4, help='conv kernel size for Mamba')\n",
    "parser.add_argument('--top_k', type=int, default=5, help='for TimesBlock')\n",
    "parser.add_argument('--num_kernels', type=int, default=6, help='for Inception')\n",
    "parser.add_argument('--enc_in', type=int, default=7, help='encoder input size')\n",
    "parser.add_argument('--dec_in', type=int, default=7, help='decoder input size')\n",
    "parser.add_argument('--c_out', type=int, default=7, help='output size')\n",
    "parser.add_argument('--d_model', type=int, default=512, help='dimension of model')\n",
    "parser.add_argument('--n_heads', type=int, default=8, help='num of heads')\n",
    "parser.add_argument('--e_layers', type=int, default=2, help='num of encoder layers')\n",
    "parser.add_argument('--d_layers', type=int, default=1, help='num of decoder layers')\n",
    "parser.add_argument('--d_ff', type=int, default=2048, help='dimension of fcn')\n",
    "parser.add_argument('--moving_avg', type=int, default=25, help='window size of moving average')\n",
    "parser.add_argument('--factor', type=int, default=1, help='attn factor')\n",
    "parser.add_argument('--distil', action='store_false',\n",
    "                    help='whether to use distilling in encoder, using this argument means not using distilling',\n",
    "                    default=True)\n",
    "parser.add_argument('--dropout', type=float, default=0.1, help='dropout')\n",
    "parser.add_argument('--embed', type=str, default='timeF',\n",
    "                    help='time features encoding, options:[timeF, fixed, learned]')\n",
    "parser.add_argument('--activation', type=str, default='gelu', help='activation')\n",
    "parser.add_argument('--output_attention', action='store_true', help='whether to output attention in ecoder')\n",
    "parser.add_argument('--channel_independence', type=int, default=1,\n",
    "                    help='0: channel dependence 1: channel independence for FreTS model')\n",
    "parser.add_argument('--decomp_method', type=str, default='moving_avg',\n",
    "                    help='method of series decompsition, only support moving_avg or dft_decomp')\n",
    "parser.add_argument('--use_norm', type=int, default=1, help='whether to use normalize; True 1 False 0')\n",
    "parser.add_argument('--down_sampling_layers', type=int, default=0, help='num of down sampling layers')\n",
    "parser.add_argument('--down_sampling_window', type=int, default=1, help='down sampling window size')\n",
    "parser.add_argument('--down_sampling_method', type=str, default=None,\n",
    "                    help='down sampling method, only support avg, max, conv')\n",
    "parser.add_argument('--seg_len', type=int, default=48,\n",
    "                    help='the length of segmen-wise iteration of SegRNN')\n",
    "\n",
    "# optimization\n",
    "parser.add_argument('--num_workers', type=int, default=10, help='data loader num workers')\n",
    "parser.add_argument('--itr', type=int, default=1, help='experiments times')\n",
    "parser.add_argument('--train_epochs', type=int, default=10, help='train epochs')\n",
    "parser.add_argument('--batch_size', type=int, default=32, help='batch size of train input data')\n",
    "parser.add_argument('--patience', type=int, default=3, help='early stopping patience')\n",
    "parser.add_argument('--learning_rate', type=float, default=0.0001, help='optimizer learning rate')\n",
    "parser.add_argument('--des', type=str, default='test', help='exp description')\n",
    "parser.add_argument('--loss', type=str, default='MSE', help='loss function')\n",
    "parser.add_argument('--lradj', type=str, default='type1', help='adjust learning rate')\n",
    "parser.add_argument('--use_amp', action='store_true', help='use automatic mixed precision training', default=False)\n",
    "\n",
    "# GPU\n",
    "parser.add_argument('--use_gpu', type=bool, default=True, help='use gpu')\n",
    "parser.add_argument('--gpu', type=int, default=0, help='gpu')\n",
    "parser.add_argument('--use_multi_gpu', action='store_true', help='use multiple gpus', default=False)\n",
    "parser.add_argument('--devices', type=str, default='0,1,2,3', help='device ids of multile gpus')\n",
    "\n",
    "# de-stationary projector params\n",
    "parser.add_argument('--p_hidden_dims', type=int, nargs='+', default=[128, 128],\n",
    "                    help='hidden layer dimensions of projector (List)')\n",
    "parser.add_argument('--p_hidden_layers', type=int, default=2, help='number of hidden layers in projector')\n",
    "\n",
    "# metrics (dtw)\n",
    "parser.add_argument('--use_dtw', type=bool, default=False, \n",
    "                    help='the controller of using dtw metric (dtw is time consuming, not suggested unless necessary)')\n",
    "\n",
    "# Augmentation\n",
    "parser.add_argument('--augmentation_ratio', type=int, default=0, help=\"How many times to augment\")\n",
    "parser.add_argument('--seed', type=int, default=2, help=\"Randomization seed\")\n",
    "parser.add_argument('--jitter', default=False, action=\"store_true\", help=\"Jitter preset augmentation\")\n",
    "parser.add_argument('--scaling', default=False, action=\"store_true\", help=\"Scaling preset augmentation\")\n",
    "parser.add_argument('--permutation', default=False, action=\"store_true\", help=\"Equal Length Permutation preset augmentation\")\n",
    "parser.add_argument('--randompermutation', default=False, action=\"store_true\", help=\"Random Length Permutation preset augmentation\")\n",
    "parser.add_argument('--magwarp', default=False, action=\"store_true\", help=\"Magnitude warp preset augmentation\")\n",
    "parser.add_argument('--timewarp', default=False, action=\"store_true\", help=\"Time warp preset augmentation\")\n",
    "parser.add_argument('--windowslice', default=False, action=\"store_true\", help=\"Window slice preset augmentation\")\n",
    "parser.add_argument('--windowwarp', default=False, action=\"store_true\", help=\"Window warp preset augmentation\")\n",
    "parser.add_argument('--rotation', default=False, action=\"store_true\", help=\"Rotation preset augmentation\")\n",
    "parser.add_argument('--spawner', default=False, action=\"store_true\", help=\"SPAWNER preset augmentation\")\n",
    "parser.add_argument('--dtwwarp', default=False, action=\"store_true\", help=\"DTW warp preset augmentation\")\n",
    "parser.add_argument('--shapedtwwarp', default=False, action=\"store_true\", help=\"Shape DTW warp preset augmentation\")\n",
    "parser.add_argument('--wdba', default=False, action=\"store_true\", help=\"Weighted DBA preset augmentation\")\n",
    "parser.add_argument('--discdtw', default=False, action=\"store_true\", help=\"Discrimitive DTW warp preset augmentation\")\n",
    "parser.add_argument('--discsdtw', default=False, action=\"store_true\", help=\"Discrimitive shapeDTW warp preset augmentation\")\n",
    "parser.add_argument('--extra_tag', type=str, default=\"\", help=\"Anything extra\")"
   ]
  },
  {
   "cell_type": "code",
   "execution_count": 4,
   "id": "63319567-b4b1-40d9-93dd-1381a70472c5",
   "metadata": {
    "scrolled": true
   },
   "outputs": [
    {
     "name": "stdout",
     "output_type": "stream",
     "text": [
      "Args in experiment:\n",
      "Namespace(activation='gelu', affine=0, anomaly_ratio=0.25, augmentation_ratio=0, batch_size=32, c_out=21, channel_independence=1, checkpoints='./checkpoints/', d_conv=4, d_ff=64, d_layers=1, d_model=64, data='custom', data_path='weather.csv', dec_in=21, decomp_method='moving_avg', decomposition=0, des=\"'Exp'\", devices='0,1,2,3', discdtw=False, discsdtw=False, distil=True, down_sampling_layers=0, down_sampling_method=None, down_sampling_window=1, dropout=0.1, dtwwarp=False, e_layers=2, embed='timeF', enc_in=21, expand=2, extra_tag='', factor=3, fc_dropout=0.05, features='M', freq='h', gpu=0, head_dropout=0.0, individual=0, inverse=False, is_training=1, itr=1, jitter=False, joint_var=0, kernel_size=25, label_len=12, learning_rate=0.0001, loss='MSE', lradj='type1', magwarp=False, mask_rate=0.25, model='iTransformer', model_id='weather_24_24_t', moving_avg=25, n_heads=8, num_kernels=6, num_workers=10, output_attention=False, p_hidden_dims=[128, 128], p_hidden_layers=2, padding_patch='end', patch_len=16, patience=3, period_len=24, permutation=False, pred_len=24, randompermutation=False, revin=1, root_path='./dataset/weather/', rotation=False, scaling=False, seasonal_patterns='Monthly', seed=2, seg_len=48, seq_len=24, shapedtwwarp=False, shared_embedding=1, spawner=False, stride=8, subtract_last=0, target='OT', task_name='long_term_forecast', test_ratio=0.2, timewarp=False, top_k=5, train_epochs=10, train_ratio=0.7, train_step=1.0, use_amp=False, use_dtw=False, use_gpu=True, use_multi_gpu=False, use_norm=1, wdba=False, windowslice=False, windowwarp=False)\n"
     ]
    }
   ],
   "source": [
    "# argument_text로 parser의 argument 지정 - 반드시 불러오는 모델과 동일하게 지정해야 함.\n",
    "\n",
    "parse_seq = \"\"\"--task_name long_term_forecast \\\n",
    "  --is_training 1 \\\n",
    "  --root_path ./dataset/weather/ \\\n",
    "  --data_path weather.csv \\\n",
    "  --model_id weather_24_24_t \\\n",
    "  --model iTransformer \\\n",
    "  --data custom \\\n",
    "  --features M \\\n",
    "  --seq_len 24 \\\n",
    "  --label_len 12 \\\n",
    "  --pred_len 24 \\\n",
    "  --e_layers 2 \\\n",
    "  --d_layers 1 \\\n",
    "  --factor 3 \\\n",
    "  --enc_in 21 \\\n",
    "  --dec_in 21 \\\n",
    "  --c_out 21 \\\n",
    "  --des 'Exp' \\\n",
    "  --d_model 64\\\n",
    "  --d_ff 64\\\n",
    "  --itr 1\n",
    "\"\"\"\n",
    "args = parser.parse_args(parse_seq.split())\n",
    "args.use_gpu = True if torch.cuda.is_available() and args.use_gpu else False\n",
    "\n",
    "if args.use_gpu and args.use_multi_gpu:\n",
    "    args.devices = args.devices.replace(' ', '')\n",
    "    device_ids = args.devices.split(',')\n",
    "    args.device_ids = [int(id_) for id_ in device_ids]\n",
    "    args.gpu = args.device_ids[0]\n",
    "\n",
    "print('Args in experiment:')\n",
    "print(args)"
   ]
  },
  {
   "cell_type": "code",
   "execution_count": 5,
   "id": "d2259517-9c8a-42b0-8fc7-4195c7182edb",
   "metadata": {},
   "outputs": [
    {
     "name": "stdout",
     "output_type": "stream",
     "text": [
      "Use GPU: cuda:0\n"
     ]
    }
   ],
   "source": [
    "# 모델 호출 - Exp_Long_Term_Forecast\n",
    "exp_model = Exp_Long_Term_Forecast(args)"
   ]
  },
  {
   "cell_type": "code",
   "execution_count": 6,
   "id": "1bb96923-b093-4dc5-b965-1c88c3543d86",
   "metadata": {},
   "outputs": [
    {
     "data": {
      "text/plain": [
       "Model(\n",
       "  (enc_embedding): DataEmbedding_inverted(\n",
       "    (value_embedding): Linear(in_features=24, out_features=64, bias=True)\n",
       "    (dropout): Dropout(p=0.1, inplace=False)\n",
       "  )\n",
       "  (encoder): Encoder(\n",
       "    (attn_layers): ModuleList(\n",
       "      (0-1): 2 x EncoderLayer(\n",
       "        (attention): AttentionLayer(\n",
       "          (inner_attention): FullAttention(\n",
       "            (dropout): Dropout(p=0.1, inplace=False)\n",
       "          )\n",
       "          (query_projection): Linear(in_features=64, out_features=64, bias=True)\n",
       "          (key_projection): Linear(in_features=64, out_features=64, bias=True)\n",
       "          (value_projection): Linear(in_features=64, out_features=64, bias=True)\n",
       "          (out_projection): Linear(in_features=64, out_features=64, bias=True)\n",
       "        )\n",
       "        (conv1): Conv1d(64, 64, kernel_size=(1,), stride=(1,))\n",
       "        (conv2): Conv1d(64, 64, kernel_size=(1,), stride=(1,))\n",
       "        (norm1): LayerNorm((64,), eps=1e-05, elementwise_affine=True)\n",
       "        (norm2): LayerNorm((64,), eps=1e-05, elementwise_affine=True)\n",
       "        (dropout): Dropout(p=0.1, inplace=False)\n",
       "      )\n",
       "    )\n",
       "    (norm): LayerNorm((64,), eps=1e-05, elementwise_affine=True)\n",
       "  )\n",
       "  (projection): Linear(in_features=64, out_features=24, bias=True)\n",
       ")"
      ]
     },
     "execution_count": 6,
     "metadata": {},
     "output_type": "execute_result"
    }
   ],
   "source": [
    "# arguments 바탕으로 모델 생성\n",
    "exp_model._build_model()"
   ]
  },
  {
   "cell_type": "code",
   "execution_count": 7,
   "id": "f98597eb-d2f1-4f8d-829a-40bb00b0144d",
   "metadata": {},
   "outputs": [
    {
     "data": {
      "text/plain": [
       "<All keys matched successfully>"
      ]
     },
     "execution_count": 7,
     "metadata": {},
     "output_type": "execute_result"
    }
   ],
   "source": [
    "# 위의 argument와 맞는 모델 호출\n",
    "checkpoint_path = './checkpoints/'\n",
    "setting_path = 'long_term_forecast_weather_24_24_t_iTransformer_custom_ftM_sl24_ll12_pl24_dm64_nh8_el2_dl1_df64_expand2_dc4_fc3_ebtimeF_dtTrue_Exp_0(1724912314)'\n",
    "model_path = f\"{checkpoint_path}{setting_path}/checkpoint.pth\"\n",
    "exp_model.model.load_state_dict(torch.load(model_path))"
   ]
  },
  {
   "cell_type": "code",
   "execution_count": 8,
   "id": "03712073-aa9b-4b2d-8074-034565043082",
   "metadata": {},
   "outputs": [],
   "source": [
    "# weather 데이터 불러오기 -> 96단위로 절단하기\n",
    "\n",
    "from data_provider.data_loader import Dataset_Custom\n",
    "\n",
    "args.seq_len=96 # 입력길이 재조정\n",
    "args.pred_len=96 # 출력길이 재조정\n",
    "\n",
    "dataset_weather_96 = Dataset_Custom(args, './dataset/weather/',\n",
    "                                    flag='train', size=(96, 48, 96),\n",
    "                                    features='M', data_path = 'weather.csv',\n",
    "                                    target='OT', scale=True, freq='h', timeenc=0,\n",
    "                                    seasonal_patterns=None, train_ratio=0.7, test_ratio=0.2)"
   ]
  },
  {
   "cell_type": "code",
   "execution_count": 9,
   "id": "16fbc656-19db-4d54-b836-ccfa6b7ed761",
   "metadata": {},
   "outputs": [
    {
     "data": {
      "text/plain": [
       "(96, 21)"
      ]
     },
     "execution_count": 9,
     "metadata": {},
     "output_type": "execute_result"
    }
   ],
   "source": [
    "# 데이터 결과물 추출\n",
    "dataset_weather_96[1][0].shape"
   ]
  },
  {
   "cell_type": "code",
   "execution_count": 10,
   "id": "2a24f7f0-77ba-48b6-9966-96f0225e56a0",
   "metadata": {},
   "outputs": [],
   "source": [
    "# train_set 데이터\n",
    "# 24단위로 분할, 24 출력\n",
    "dataset_weather_24 = Dataset_Custom(args, './dataset/weather/',\n",
    "                                    flag='train', size=(24, 12, 24),\n",
    "                                    features='M', data_path = 'weather.csv',\n",
    "                                    target='OT', scale=True, freq='h', timeenc=0,\n",
    "                                    seasonal_patterns=None, train_ratio=0.7, test_ratio=0.2)"
   ]
  },
  {
   "cell_type": "code",
   "execution_count": 11,
   "id": "ba78633a-2b1f-4433-918f-c22f4175442f",
   "metadata": {},
   "outputs": [],
   "source": [
    "# validation set 데이터\n",
    "# 24단위로 분할, 24 출력\n",
    "dataset_weather_24_val = Dataset_Custom(args, './dataset/weather/',\n",
    "                                    flag='val', size=(24, 12, 24),\n",
    "                                    features='M', data_path = 'weather.csv',\n",
    "                                    target='OT', scale=True, freq='h', timeenc=0,\n",
    "                                    seasonal_patterns=None, train_ratio=0.7, test_ratio=0.2)"
   ]
  },
  {
   "cell_type": "code",
   "execution_count": 12,
   "id": "93bde576-5d51-48ec-a76e-957cf3df3937",
   "metadata": {},
   "outputs": [],
   "source": [
    "# 테스트 셋 데이터\n",
    "# 24단위로 분할, 24 출력\n",
    "dataset_weather_24_test = Dataset_Custom(args, './dataset/weather/',\n",
    "                                    flag='test', size=(24, 12, 24),\n",
    "                                    features='M', data_path = 'weather.csv',\n",
    "                                    target='OT', scale=True, freq='h', timeenc=0,\n",
    "                                    seasonal_patterns=None, train_ratio=0.7, test_ratio=0.2)"
   ]
  },
  {
   "cell_type": "code",
   "execution_count": 13,
   "id": "0421d13d-0402-49dc-8f34-1f959a9b361f",
   "metadata": {
    "scrolled": true
   },
   "outputs": [
    {
     "data": {
      "text/plain": [
       "(array([[ 2.09919445, -1.45479774, -1.60288224, -1.0696124 ,  0.94214123,\n",
       "         -1.13871421, -0.99050594, -0.82833236, -1.00922797, -1.00807164,\n",
       "          1.93278769, -0.02912541, -1.1251405 ,  0.35433863, -0.09350552,\n",
       "         -0.22105042, -0.67276674, -0.67949278, -0.58829564, -1.41661176,\n",
       "          0.04413425],\n",
       "        [ 2.08760791, -1.45738895, -1.60414539, -1.07580013,  0.93680937,\n",
       "         -1.13994739, -0.99278064, -0.82663822, -1.00922797, -1.012554  ,\n",
       "          1.93173694, -0.02567048, -0.87860612,  0.24279826, -0.09350552,\n",
       "         -0.22105042, -0.67276674, -0.67949278, -0.58829564, -1.40533073,\n",
       "          0.04309247],\n",
       "        [ 2.08529061, -1.5040306 , -1.64835586, -1.10055106,  1.00079176,\n",
       "         -1.16091154, -1.00870354, -0.84357957, -1.02351429, -1.02600108,\n",
       "          1.97586831, -0.01607344, -0.87860612,  0.34973903, -0.09350552,\n",
       "         -0.22105042, -0.67276674, -0.67949278, -0.58829564, -1.39279625,\n",
       "          0.04934316],\n",
       "        [ 2.08181465, -1.50921301, -1.65340849, -1.078894  ,  1.05944229,\n",
       "         -1.16214473, -0.99505534, -0.85543852, -1.01279955, -1.01479518,\n",
       "          1.97875786, -0.02797377, -0.90942292,  0.38653585, -0.09350552,\n",
       "         -0.22105042, -0.67276674, -0.67949278, -0.58829564, -1.37900832,\n",
       "          0.05507297],\n",
       "        [ 2.06211754, -1.50791741, -1.65088218, -1.08508173,  1.04344669,\n",
       "         -1.16214473, -0.99960474, -0.85205025, -1.01637113, -1.01703636,\n",
       "          1.97245338, -0.0252866 , -0.94023971,  0.1381573 , -0.09350552,\n",
       "         -0.22105042, -0.67276674, -0.67949278, -0.58829564, -1.36647384,\n",
       "          0.05064539],\n",
       "        [ 2.06791081, -1.52735143, -1.66982952, -1.10209799,  1.05944229,\n",
       "         -1.17077702, -1.00870354, -0.85713265, -1.02708587, -1.02600108,\n",
       "          1.99320563, -0.02048808, -0.95564811,  0.22324995, -0.09350552,\n",
       "         -0.22105042, -0.67276674, -0.67949278, -0.58829564, -1.35519281,\n",
       "          0.05272896],\n",
       "        [ 2.05748293, -1.54808106, -1.69004002, -1.10983265,  1.09676535,\n",
       "         -1.17940932, -1.01325293, -0.86560333, -1.03065745, -1.03048344,\n",
       "          2.01080564, -0.01722509, -0.81697252,  0.08181217, -0.09350552,\n",
       "         -0.22105042, -0.67276674, -0.67949278, -0.58829564, -1.34641868,\n",
       "          0.05950055],\n",
       "        [ 2.04473774, -1.53771625, -1.67740846, -1.09591026,  1.09676535,\n",
       "         -1.17447658, -1.00415414, -0.86560333, -1.02351429, -1.0237599 ,\n",
       "          1.9958325 , -0.0201042 , -0.78615573,  0.27499548, -0.09350552,\n",
       "         -0.22105042, -0.67276674, -0.67949278, -0.58829564, -1.34015144,\n",
       "          0.05168718],\n",
       "        [ 2.04357909, -1.52346463, -1.6647769 , -1.09745719,  1.05944229,\n",
       "         -1.16954384, -1.00642884, -0.85713265, -1.02351429, -1.0237599 ,\n",
       "          1.98296085, -0.02547854, -1.0480985 , -0.59892904, -0.09350552,\n",
       "         -0.22105042, -0.67276674, -0.67949278, -0.58829564, -1.33764454,\n",
       "          0.05220807],\n",
       "        [ 2.03894448, -1.55715027, -1.69635581, -1.13303664,  1.06477416,\n",
       "         -1.18310888, -1.02690113, -0.86052092, -1.04494377, -1.04393051,\n",
       "          2.01395789, -0.02567048, -1.01728171,  0.00591872, -0.09350552,\n",
       "         -0.22105042, -0.67276674, -0.67949278, -0.58829564, -1.33764454,\n",
       "          0.06132367],\n",
       "        [ 2.0482137 , -1.5791755 , -1.71909262, -1.12220811,  1.15008402,\n",
       "         -1.19297436, -1.02007703, -0.87746227, -1.03780061, -1.03944815,\n",
       "          2.03759969, -0.02778183, -1.0635069 , -0.25280893, -0.09350552,\n",
       "         -0.22105042, -0.67276674, -0.67949278, -0.58829564, -1.33889799,\n",
       "          0.06392813],\n",
       "        [ 2.03894448, -1.56492388, -1.70393474, -1.11602038,  1.12342468,\n",
       "         -1.18680843, -1.01780233, -0.87237987, -1.03422903, -1.03496579,\n",
       "          2.02052505, -0.02816571, -1.0712111 , -0.81051076, -0.09350552,\n",
       "         -0.22105042, -0.67276674, -0.67949278, -0.58829564, -1.34391178,\n",
       "          0.05819832],\n",
       "        [ 2.05168966, -1.57269749, -1.71277684, -1.13767744,  1.09676535,\n",
       "         -1.1892748 , -1.02917583, -0.86729746, -1.04494377, -1.04841287,\n",
       "          2.03313402, -0.02643824, -1.03269011, -1.26955111, -0.09350552,\n",
       "         -0.22105042, -0.67276674, -0.67949278, -0.58829564, -1.34767212,\n",
       "          0.05897966],\n",
       "        [ 2.0458964 , -1.5804711 , -1.71909262, -1.12839584,  1.13942028,\n",
       "         -1.19297436, -1.02462643, -0.87576814, -1.04137219, -1.04168933,\n",
       "          2.03812506, -0.03200452, -1.20218249,  2.07114035, -0.09350552,\n",
       "         -0.22105042, -0.67276674, -0.67949278, -0.58829564, -1.35393936,\n",
       "          0.05767743],\n",
       "        [ 2.05748293, -1.55974147, -1.70014528, -1.12066118,  1.10209722,\n",
       "         -1.18434206, -1.02007703, -0.86729746, -1.03422903, -1.03720697,\n",
       "          2.0215758 , -0.02183167, -0.56273394, -0.3712487 , -0.09350552,\n",
       "         -0.22105042, -0.67276674, -0.67949278, -0.58829564, -1.36396695,\n",
       "          0.05950055],\n",
       "        [ 2.05632428, -1.57399309, -1.71404   , -1.12684891,  1.12342468,\n",
       "         -1.19050799, -1.02235173, -0.87237987, -1.04137219, -1.04168933,\n",
       "          2.03497282, -0.02931735, -0.91712711,  0.17610402, -0.09350552,\n",
       "         -0.22105042, -0.67276674, -0.67949278, -0.58829564, -1.37650143,\n",
       "          0.06054233],\n",
       "        [ 2.06443485, -1.55844587, -1.70014528, -1.11137958,  1.11809282,\n",
       "         -1.18310888, -1.01325293, -0.87068573, -1.03065745, -1.03272462,\n",
       "          2.02210117, -0.02854959, -1.00957751, -1.48883717, -0.09350552,\n",
       "         -0.22105042, -0.67276674, -0.67949278, -0.58829564, -1.38778246,\n",
       "          0.06054233],\n",
       "        [ 2.0285166 , -1.5791755 , -1.71782946, -1.13148971,  1.12875655,\n",
       "         -1.19297436, -1.02690113, -0.874074  , -1.04137219, -1.04393051,\n",
       "          2.03260864, -0.03123676, -1.1559573 ,  0.27154578, -0.09350552,\n",
       "         -0.22105042, -0.67276674, -0.67949278, -0.58829564, -1.39655659,\n",
       "          0.05950055],\n",
       "        [ 2.01924737, -1.65172919, -1.78603991, -1.20419554,  1.15541588,\n",
       "         -1.22133762, -1.06784573, -0.88423881, -1.08423115, -1.08427175,\n",
       "          2.10038182, -0.00666835, -0.52421295,  0.43943128, -0.09350552,\n",
       "         -0.22105042, -0.67276674, -0.67949278, -0.58829564, -1.40407728,\n",
       "          0.04647826],\n",
       "        [ 2.02504064, -1.67245881, -1.80625041, -1.19646088,  1.23006201,\n",
       "         -1.22996992, -1.06329633, -0.8977919 , -1.07708799, -1.07978939,\n",
       "          2.12165944, -0.01434598, -0.70911373,  0.53487304, -0.09350552,\n",
       "         -0.22105042, -0.67276674, -0.67949278, -0.58829564, -1.41285142,\n",
       "          0.04830138],\n",
       "        [ 2.01577141, -1.6633896 , -1.79740831, -1.18253848,  1.24072574,\n",
       "         -1.22750355, -1.05419753, -0.89948603, -1.06994483, -1.07082467,\n",
       "          2.1106266 , -0.01664927, -0.88631032,  0.50957522, -0.09350552,\n",
       "         -0.22105042, -0.67276674, -0.67949278, -0.58829564, -1.42413245,\n",
       "          0.04960361],\n",
       "        [ 2.02967525, -1.6646852 , -1.79993463, -1.18099155,  1.24605761,\n",
       "         -1.22750355, -1.05419753, -0.90118017, -1.06994483, -1.07082467,\n",
       "          2.11535496, -0.02221555, -0.92483131,  0.40378436, -0.09350552,\n",
       "         -0.22105042, -0.67276674, -0.67949278, -0.58829564, -1.43792037,\n",
       "          0.05611475],\n",
       "        [ 2.0111368 , -1.68411922, -1.81761882, -1.20419554,  1.24605761,\n",
       "         -1.23490266, -1.06784573, -0.90118017, -1.08065957, -1.08427175,\n",
       "          2.12980273, -0.00225371, -0.43176255,  0.48427741, -0.09350552,\n",
       "         -0.22105042, -0.67276674, -0.67949278, -0.58829564, -1.4542152 ,\n",
       "          0.05038495],\n",
       "        [ 1.98332912, -1.70096205, -1.83151354, -1.21347713,  1.27271694,\n",
       "         -1.24230177, -1.07239513, -0.90795671, -1.08780273, -1.08875411,\n",
       "          2.13847139, -0.01511374, -0.53962134,  0.70505834, -0.09350552,\n",
       "         -0.22105042, -0.67276674, -0.67949278, -0.58829564, -1.47051002,\n",
       "          0.05116629]]),\n",
       " array([[ 2.05168966e+00, -1.57269749e+00, -1.71277684e+00,\n",
       "         -1.13767744e+00,  1.09676535e+00, -1.18927480e+00,\n",
       "         -1.02917583e+00, -8.67297464e-01, -1.04494377e+00,\n",
       "         -1.04841287e+00,  2.03313402e+00, -2.64382435e-02,\n",
       "         -1.03269011e+00, -1.26955111e+00, -9.35055214e-02,\n",
       "         -2.21050419e-01, -6.72766742e-01, -6.79492781e-01,\n",
       "         -5.88295645e-01, -1.34767212e+00,  5.89796581e-02],\n",
       "        [ 2.04589640e+00, -1.58047110e+00, -1.71909262e+00,\n",
       "         -1.12839584e+00,  1.13942028e+00, -1.19297436e+00,\n",
       "         -1.02462643e+00, -8.75768139e-01, -1.04137219e+00,\n",
       "         -1.04168933e+00,  2.03812506e+00, -3.20045250e-02,\n",
       "         -1.20218249e+00,  2.07114035e+00, -9.35055214e-02,\n",
       "         -2.21050419e-01, -6.72766742e-01, -6.79492781e-01,\n",
       "         -5.88295645e-01, -1.35393936e+00,  5.76774293e-02],\n",
       "        [ 2.05748293e+00, -1.55974147e+00, -1.70014528e+00,\n",
       "         -1.12066118e+00,  1.10209722e+00, -1.18434206e+00,\n",
       "         -1.02007703e+00, -8.67297464e-01, -1.03422903e+00,\n",
       "         -1.03720697e+00,  2.02157580e+00, -2.18316657e-02,\n",
       "         -5.62733943e-01, -3.71248700e-01, -9.35055214e-02,\n",
       "         -2.21050419e-01, -6.72766742e-01, -6.79492781e-01,\n",
       "         -5.88295645e-01, -1.36396695e+00,  5.95005496e-02],\n",
       "        [ 2.05632428e+00, -1.57399309e+00, -1.71404000e+00,\n",
       "         -1.12684891e+00,  1.12342468e+00, -1.19050799e+00,\n",
       "         -1.02235173e+00, -8.72379869e-01, -1.04137219e+00,\n",
       "         -1.04168933e+00,  2.03497282e+00, -2.93173546e-02,\n",
       "         -9.17127115e-01,  1.76104024e-01, -9.35055214e-02,\n",
       "         -2.21050419e-01, -6.72766742e-01, -6.79492781e-01,\n",
       "         -5.88295645e-01, -1.37650143e+00,  6.05423327e-02],\n",
       "        [ 2.06443485e+00, -1.55844587e+00, -1.70014528e+00,\n",
       "         -1.11137958e+00,  1.11809282e+00, -1.18310888e+00,\n",
       "         -1.01325293e+00, -8.70685734e-01, -1.03065745e+00,\n",
       "         -1.03272462e+00,  2.02210117e+00, -2.85495916e-02,\n",
       "         -1.00957751e+00, -1.48883717e+00, -9.35055214e-02,\n",
       "         -2.21050419e-01, -6.72766742e-01, -6.79492781e-01,\n",
       "         -5.88295645e-01, -1.38778246e+00,  6.05423327e-02],\n",
       "        [ 2.02851660e+00, -1.57917550e+00, -1.71782946e+00,\n",
       "         -1.13148971e+00,  1.12875655e+00, -1.19297436e+00,\n",
       "         -1.02690113e+00, -8.74074004e-01, -1.04137219e+00,\n",
       "         -1.04393051e+00,  2.03260864e+00, -3.12367620e-02,\n",
       "         -1.15595730e+00,  2.71545780e-01, -9.35055214e-02,\n",
       "         -2.21050419e-01, -6.72766742e-01, -6.79492781e-01,\n",
       "         -5.88295645e-01, -1.39655659e+00,  5.95005496e-02],\n",
       "        [ 2.01924737e+00, -1.65172919e+00, -1.78603991e+00,\n",
       "         -1.20419554e+00,  1.15541588e+00, -1.22133762e+00,\n",
       "         -1.06784573e+00, -8.84238815e-01, -1.08423115e+00,\n",
       "         -1.08427175e+00,  2.10038182e+00, -6.66834718e-03,\n",
       "         -5.24212946e-01,  4.39431280e-01, -9.35055214e-02,\n",
       "         -2.21050419e-01, -6.72766742e-01, -6.79492781e-01,\n",
       "         -5.88295645e-01, -1.40407728e+00,  4.64782614e-02],\n",
       "        [ 2.02504064e+00, -1.67245881e+00, -1.80625041e+00,\n",
       "         -1.19646088e+00,  1.23006201e+00, -1.22996992e+00,\n",
       "         -1.06329633e+00, -8.97791895e-01, -1.07708799e+00,\n",
       "         -1.07978939e+00,  2.12165944e+00, -1.43459768e-02,\n",
       "         -7.09113731e-01,  5.34873036e-01, -9.35055214e-02,\n",
       "         -2.21050419e-01, -6.72766742e-01, -6.79492781e-01,\n",
       "         -5.88295645e-01, -1.41285142e+00,  4.83013817e-02],\n",
       "        [ 2.01577141e+00, -1.66338960e+00, -1.79740831e+00,\n",
       "         -1.18253848e+00,  1.24072574e+00, -1.22750355e+00,\n",
       "         -1.05419753e+00, -8.99486030e-01, -1.06994483e+00,\n",
       "         -1.07082467e+00,  2.11062660e+00, -1.66492657e-02,\n",
       "         -8.86310317e-01,  5.09575221e-01, -9.35055214e-02,\n",
       "         -2.21050419e-01, -6.72766742e-01, -6.79492781e-01,\n",
       "         -5.88295645e-01, -1.42413245e+00,  4.96036106e-02],\n",
       "        [ 2.02967525e+00, -1.66468520e+00, -1.79993463e+00,\n",
       "         -1.18099155e+00,  1.24605761e+00, -1.22750355e+00,\n",
       "         -1.05419753e+00, -9.01180166e-01, -1.06994483e+00,\n",
       "         -1.07082467e+00,  2.11535496e+00, -2.22155472e-02,\n",
       "         -9.24831314e-01,  4.03784359e-01, -9.35055214e-02,\n",
       "         -2.21050419e-01, -6.72766742e-01, -6.79492781e-01,\n",
       "         -5.88295645e-01, -1.43792037e+00,  5.61147547e-02],\n",
       "        [ 2.01113680e+00, -1.68411922e+00, -1.81761882e+00,\n",
       "         -1.20419554e+00,  1.24605761e+00, -1.23490266e+00,\n",
       "         -1.06784573e+00, -9.01180166e-01, -1.08065957e+00,\n",
       "         -1.08427175e+00,  2.12980273e+00, -2.25371014e-03,\n",
       "         -4.31762553e-01,  4.84277406e-01, -9.35055214e-02,\n",
       "         -2.21050419e-01, -6.72766742e-01, -6.79492781e-01,\n",
       "         -5.88295645e-01, -1.45421520e+00,  5.03849479e-02],\n",
       "        [ 1.98332912e+00, -1.70096205e+00, -1.83151354e+00,\n",
       "         -1.21347713e+00,  1.27271694e+00, -1.24230177e+00,\n",
       "         -1.07239513e+00, -9.07956706e-01, -1.08780273e+00,\n",
       "         -1.08875411e+00,  2.13847139e+00, -1.51137398e-02,\n",
       "         -5.39621345e-01,  7.05058337e-01, -9.35055214e-02,\n",
       "         -2.21050419e-01, -6.72766742e-01, -6.79492781e-01,\n",
       "         -5.88295645e-01, -1.47051002e+00,  5.11662852e-02],\n",
       "        [ 1.99259835e+00, -1.69189283e+00, -1.82393460e+00,\n",
       "         -1.19491394e+00,  1.28871254e+00, -1.23860222e+00,\n",
       "         -1.06329633e+00, -9.09650841e-01, -1.07708799e+00,\n",
       "         -1.07978939e+00,  2.13164153e+00, -2.83576509e-02,\n",
       "         -1.04809850e+00, -1.69248458e+00, -9.35055214e-02,\n",
       "         -2.21050419e-01, -6.72766742e-01, -6.79492781e-01,\n",
       "         -5.88295645e-01, -1.48805829e+00,  5.11662852e-02],\n",
       "        [ 1.99375700e+00, -1.75796851e+00, -1.88835557e+00,\n",
       "         -1.30010536e+00,  1.22473014e+00, -1.26449911e+00,\n",
       "         -1.12016382e+00, -9.01180166e-01, -1.13423326e+00,\n",
       "         -1.13581889e+00,  2.19888933e+00, -2.18316657e-02,\n",
       "         -9.01718716e-01, -1.18270550e-01, -9.35055214e-02,\n",
       "         -2.21050419e-01, -6.72766742e-01, -6.79492781e-01,\n",
       "         -5.88295645e-01, -1.50560656e+00,  6.13236700e-02],\n",
       "        [ 2.01345411e+00, -1.78776735e+00, -1.91867133e+00,\n",
       "         -1.29855843e+00,  1.31004000e+00, -1.27559777e+00,\n",
       "         -1.12016382e+00, -9.18121517e-01, -1.13423326e+00,\n",
       "         -1.13581889e+00,  2.23251323e+00, -2.33671916e-02,\n",
       "         -5.85846541e-01, -3.58599793e-01, -9.35055214e-02,\n",
       "         -2.21050419e-01, -6.72766742e-01, -6.79492781e-01,\n",
       "         -5.88295645e-01, -1.52315483e+00,  5.79378750e-02],\n",
       "        [ 2.00186757e+00, -1.79035855e+00, -1.91993448e+00,\n",
       "         -1.29546456e+00,  1.32603560e+00, -1.27683096e+00,\n",
       "         -1.11788912e+00, -9.19815652e-01, -1.13066168e+00,\n",
       "         -1.13357771e+00,  2.23251323e+00, -1.72250879e-02,\n",
       "         -8.01564124e-01,  3.20991510e-01, -9.35055214e-02,\n",
       "         -2.21050419e-01, -6.72766742e-01, -6.79492781e-01,\n",
       "         -5.88295645e-01, -1.54070310e+00,  6.91370429e-02],\n",
       "        [ 1.96826663e+00, -1.79035855e+00, -1.91740817e+00,\n",
       "         -1.27690137e+00,  1.36869053e+00, -1.27559777e+00,\n",
       "         -1.10879032e+00, -9.28286327e-01, -1.11994694e+00,\n",
       "         -1.12237181e+00,  2.22148039e+00, -8.01193237e-03,\n",
       "         -6.01254940e-01,  5.85468666e-01, -9.35055214e-02,\n",
       "         -2.21050419e-01, -6.72766742e-01, -6.79492781e-01,\n",
       "         -5.88295645e-01, -1.55825137e+00,  6.23654530e-02],\n",
       "        [ 1.96826663e+00, -1.82922660e+00, -1.95403970e+00,\n",
       "         -1.34341947e+00,  1.32070373e+00, -1.29039600e+00,\n",
       "         -1.14291082e+00, -9.21509787e-01, -1.15566274e+00,\n",
       "         -1.15823068e+00,  2.26062071e+00, -1.47298583e-02,\n",
       "         -6.62888535e-01,  1.22058692e-01, -9.35055214e-02,\n",
       "         -2.21050419e-01, -6.72766742e-01, -6.79492781e-01,\n",
       "         -5.88295645e-01, -1.57454619e+00,  5.81983208e-02],\n",
       "        [ 1.99955027e+00, -1.85513863e+00, -1.98309230e+00,\n",
       "         -1.35115414e+00,  1.37935426e+00, -1.30026148e+00,\n",
       "         -1.14746022e+00, -9.31674597e-01, -1.15923432e+00,\n",
       "         -1.16271304e+00,  2.29608342e+00, -2.95092953e-02,\n",
       "         -8.32380921e-01, -1.03129169e+00, -9.35055214e-02,\n",
       "         -2.21050419e-01, -6.72766742e-01, -6.79492781e-01,\n",
       "         -5.88295645e-01, -1.59084102e+00,  5.84587666e-02],\n",
       "        [ 2.00997815e+00, -1.83700021e+00, -1.96540811e+00,\n",
       "         -1.31866855e+00,  1.40068173e+00, -1.29286237e+00,\n",
       "         -1.13153732e+00, -9.35062868e-01, -1.14494800e+00,\n",
       "         -1.14478360e+00,  2.27979684e+00, -1.64573250e-02,\n",
       "         -8.01564124e-01, -2.47059427e-01, -9.35055214e-02,\n",
       "         -2.21050419e-01, -6.72766742e-01, -6.79492781e-01,\n",
       "         -5.88295645e-01, -1.60713584e+00,  7.51272955e-02],\n",
       "        [ 1.99375700e+00, -1.84995623e+00, -1.97803967e+00,\n",
       "         -1.33877867e+00,  1.39534986e+00, -1.29902829e+00,\n",
       "         -1.14063612e+00, -9.35062868e-01, -1.15209116e+00,\n",
       "         -1.15598950e+00,  2.28925357e+00, -1.60734435e-02,\n",
       "         -8.01564124e-01,  2.72695681e-01, -9.35055214e-02,\n",
       "         -2.21050419e-01, -6.72766742e-01, -6.79492781e-01,\n",
       "         -5.88295645e-01, -1.62343066e+00,  7.77317532e-02],\n",
       "        [ 1.98912239e+00, -1.86291224e+00, -1.98940808e+00,\n",
       "         -1.34341947e+00,  1.41667733e+00, -1.30272785e+00,\n",
       "         -1.14291082e+00, -9.38451138e-01, -1.15566274e+00,\n",
       "         -1.15823068e+00,  2.29949835e+00, -2.83576509e-02,\n",
       "         -1.07891530e+00,  4.70478598e-01, -9.35055214e-02,\n",
       "         -2.21050419e-01, -6.72766742e-01, -6.79492781e-01,\n",
       "         -5.88295645e-01, -1.63721859e+00,  7.25228379e-02],\n",
       "        [ 1.98912239e+00, -1.87716386e+00, -2.00330280e+00,\n",
       "         -1.36352960e+00,  1.41134546e+00, -1.30766059e+00,\n",
       "         -1.15428431e+00, -9.38451138e-01, -1.16637748e+00,\n",
       "         -1.16719540e+00,  2.31420880e+00, -2.10639027e-02,\n",
       "         -6.32071737e-01,  2.20173326e-02, -9.35055214e-02,\n",
       "         -2.21050419e-01, -6.72766742e-01, -6.79492781e-01,\n",
       "         -5.88295645e-01, -1.64975307e+00,  7.25228379e-02],\n",
       "        [ 2.00070892e+00, -1.91862311e+00, -2.04498696e+00,\n",
       "         -1.40993757e+00,  1.41667733e+00, -1.32245881e+00,\n",
       "         -1.17930601e+00, -9.40145273e-01, -1.19137854e+00,\n",
       "         -1.19184838e+00,  2.35912823e+00, -1.12749250e-02,\n",
       "         -6.32071737e-01,  2.65796277e-01, -9.35055214e-02,\n",
       "         -2.21050419e-01, -6.72766742e-01, -6.79492781e-01,\n",
       "         -5.88295645e-01, -1.66103410e+00,  6.00214412e-02],\n",
       "        [ 2.01808872e+00, -1.91344070e+00, -2.04119749e+00,\n",
       "         -1.39292132e+00,  1.44333666e+00, -1.32122563e+00,\n",
       "         -1.17020721e+00, -9.43533543e-01, -1.18066380e+00,\n",
       "         -1.18512484e+00,  2.35912823e+00, -1.81847916e-02,\n",
       "         -7.24522130e-01, -2.50509129e-01, -9.35055214e-02,\n",
       "         -2.21050419e-01, -6.72766742e-01, -6.79492781e-01,\n",
       "         -5.88295645e-01, -1.67106168e+00,  7.82526447e-02],\n",
       "        [ 2.03662717e+00, -1.90696270e+00, -2.03614487e+00,\n",
       "         -1.38054585e+00,  1.45400039e+00, -1.31875926e+00,\n",
       "         -1.16338311e+00, -9.45227678e-01, -1.17709222e+00,\n",
       "         -1.17840130e+00,  2.35781480e+00, -2.54785398e-02,\n",
       "         -9.71056511e-01, -3.79298005e-01, -9.35055214e-02,\n",
       "         -2.21050419e-01, -6.72766742e-01, -6.79492781e-01,\n",
       "         -5.88295645e-01, -1.68108926e+00,  7.64295243e-02],\n",
       "        [ 2.03315121e+00, -1.89271108e+00, -2.02225015e+00,\n",
       "         -1.35888880e+00,  1.46466412e+00, -1.31382652e+00,\n",
       "         -1.15200961e+00, -9.46921813e-01, -1.16637748e+00,\n",
       "         -1.16719540e+00,  2.34152822e+00, -2.85495916e-02,\n",
       "         -1.09432370e+00,  2.73845582e-01, -9.35055214e-02,\n",
       "         -2.21050419e-01, -6.72766742e-01, -6.79492781e-01,\n",
       "         -5.88295645e-01, -1.68986340e+00,  7.25228379e-02],\n",
       "        [ 2.03546852e+00, -1.87586826e+00, -2.00709227e+00,\n",
       "         -1.34032561e+00,  1.46466412e+00, -1.30766059e+00,\n",
       "         -1.14291082e+00, -9.46921813e-01, -1.15566274e+00,\n",
       "         -1.15598950e+00,  2.32629239e+00, -2.95092953e-02,\n",
       "         -1.10973210e+00,  4.06084160e-01, -9.35055214e-02,\n",
       "         -2.21050419e-01, -6.72766742e-01, -6.79492781e-01,\n",
       "         -5.88295645e-01, -1.69989098e+00,  6.36676819e-02],\n",
       "        [ 2.03083391e+00, -1.84477382e+00, -1.97551336e+00,\n",
       "         -1.30165229e+00,  1.46466412e+00, -1.29656192e+00,\n",
       "         -1.12243852e+00, -9.45227678e-01, -1.13423326e+00,\n",
       "         -1.13806007e+00,  2.29293118e+00, -1.91444953e-02,\n",
       "         -7.70747326e-01,  4.85427307e-01, -9.35055214e-02,\n",
       "         -2.21050419e-01, -6.72766742e-01, -6.79492781e-01,\n",
       "         -5.88295645e-01, -1.70991857e+00,  5.79378750e-02],\n",
       "        [ 2.02967525e+00, -1.85125183e+00, -1.98056599e+00,\n",
       "         -1.32485628e+00,  1.42734106e+00, -1.29902829e+00,\n",
       "         -1.13381202e+00, -9.40145273e-01, -1.14851958e+00,\n",
       "         -1.14926596e+00,  2.29923566e+00, -1.35782139e-02,\n",
       "         -6.47480136e-01,  3.88835650e-01, -9.35055214e-02,\n",
       "         -2.21050419e-01, -6.72766742e-01, -6.79492781e-01,\n",
       "         -5.88295645e-01, -1.71869270e+00,  5.74169835e-02],\n",
       "        [ 2.03083391e+00, -1.87975506e+00, -2.00961858e+00,\n",
       "         -1.37126426e+00,  1.40068173e+00, -1.30889378e+00,\n",
       "         -1.15883371e+00, -9.36757003e-01, -1.16994906e+00,\n",
       "         -1.17167776e+00,  2.32918195e+00, -1.81847916e-02,\n",
       "         -8.01564124e-01,  1.39307202e-01, -9.35055214e-02,\n",
       "         -2.21050419e-01, -6.72766742e-01, -6.79492781e-01,\n",
       "         -5.88295645e-01, -1.72495994e+00,  6.28863446e-02],\n",
       "        [ 2.02619929e+00, -1.89918909e+00, -2.02730277e+00,\n",
       "         -1.38673358e+00,  1.41667733e+00, -1.31629289e+00,\n",
       "         -1.16565781e+00, -9.38451138e-01, -1.17709222e+00,\n",
       "         -1.18064248e+00,  2.34704464e+00, -2.35591324e-02,\n",
       "         -8.16972523e-01, -3.66276021e-02, -9.35055214e-02,\n",
       "         -2.21050419e-01, -6.72766742e-01, -6.79492781e-01,\n",
       "         -5.88295645e-01, -1.72997373e+00,  6.91370429e-02],\n",
       "        [ 2.04010313e+00, -1.90566710e+00, -2.03614487e+00,\n",
       "         -1.39292132e+00,  1.42200919e+00, -1.31875926e+00,\n",
       "         -1.17020721e+00, -9.40145273e-01, -1.18066380e+00,\n",
       "         -1.18512484e+00,  2.35807749e+00, -2.83576509e-02,\n",
       "         -9.78760710e-01, -1.43568365e-01, -9.35055214e-02,\n",
       "         -2.21050419e-01, -6.72766742e-01, -6.79492781e-01,\n",
       "         -5.88295645e-01, -1.73248063e+00,  7.27832836e-02],\n",
       "        [ 2.03083391e+00, -1.91344070e+00, -2.04246065e+00,\n",
       "         -1.39910905e+00,  1.42734106e+00, -1.32122563e+00,\n",
       "         -1.17248191e+00, -9.41839408e-01, -1.18423538e+00,\n",
       "         -1.18736602e+00,  2.36280585e+00, -2.02961398e-02,\n",
       "         -8.55493520e-01, -4.70140159e-01, -9.35055214e-02,\n",
       "         -2.21050419e-01, -6.72766742e-01, -6.79492781e-01,\n",
       "         -5.88295645e-01, -1.73624097e+00,  7.14810548e-02],\n",
       "        [ 2.02967525e+00, -1.91991871e+00, -2.04877643e+00,\n",
       "         -1.40374984e+00,  1.43800479e+00, -1.32369200e+00,\n",
       "         -1.17475661e+00, -9.43533543e-01, -1.18780696e+00,\n",
       "         -1.18960720e+00,  2.36937301e+00, -1.10829842e-02,\n",
       "         -5.78142342e-01, -5.17286087e-01, -9.35055214e-02,\n",
       "         -2.21050419e-01, -6.72766742e-01, -6.76202573e-01,\n",
       "         -5.84394208e-01, -1.73874787e+00,  6.60116937e-02],\n",
       "        [ 2.02504064e+00, -1.92639672e+00, -2.05509221e+00,\n",
       "         -1.41148451e+00,  1.43800479e+00, -1.32615837e+00,\n",
       "         -1.17930601e+00, -9.43533543e-01, -1.19137854e+00,\n",
       "         -1.19408956e+00,  2.37436406e+00, -1.81847916e-02,\n",
       "         -6.78296934e-01, -8.83731328e-02, -9.35055214e-02,\n",
       "         -2.21050419e-01, -6.67699269e-01, -6.70839962e-01,\n",
       "         -5.78394389e-01, -1.74250821e+00,  6.57512480e-02]]),\n",
       " array([[1, 1, 2, 0],\n",
       "        [1, 1, 2, 0],\n",
       "        [1, 1, 2, 0],\n",
       "        [1, 1, 2, 0],\n",
       "        [1, 1, 2, 1],\n",
       "        [1, 1, 2, 1],\n",
       "        [1, 1, 2, 1],\n",
       "        [1, 1, 2, 1],\n",
       "        [1, 1, 2, 1],\n",
       "        [1, 1, 2, 1],\n",
       "        [1, 1, 2, 2],\n",
       "        [1, 1, 2, 2],\n",
       "        [1, 1, 2, 2],\n",
       "        [1, 1, 2, 2],\n",
       "        [1, 1, 2, 2],\n",
       "        [1, 1, 2, 2],\n",
       "        [1, 1, 2, 3],\n",
       "        [1, 1, 2, 3],\n",
       "        [1, 1, 2, 3],\n",
       "        [1, 1, 2, 3],\n",
       "        [1, 1, 2, 3],\n",
       "        [1, 1, 2, 3],\n",
       "        [1, 1, 2, 4],\n",
       "        [1, 1, 2, 4]]),\n",
       " array([[1, 1, 2, 2],\n",
       "        [1, 1, 2, 2],\n",
       "        [1, 1, 2, 2],\n",
       "        [1, 1, 2, 2],\n",
       "        [1, 1, 2, 3],\n",
       "        [1, 1, 2, 3],\n",
       "        [1, 1, 2, 3],\n",
       "        [1, 1, 2, 3],\n",
       "        [1, 1, 2, 3],\n",
       "        [1, 1, 2, 3],\n",
       "        [1, 1, 2, 4],\n",
       "        [1, 1, 2, 4],\n",
       "        [1, 1, 2, 4],\n",
       "        [1, 1, 2, 4],\n",
       "        [1, 1, 2, 4],\n",
       "        [1, 1, 2, 4],\n",
       "        [1, 1, 2, 5],\n",
       "        [1, 1, 2, 5],\n",
       "        [1, 1, 2, 5],\n",
       "        [1, 1, 2, 5],\n",
       "        [1, 1, 2, 5],\n",
       "        [1, 1, 2, 5],\n",
       "        [1, 1, 2, 6],\n",
       "        [1, 1, 2, 6],\n",
       "        [1, 1, 2, 6],\n",
       "        [1, 1, 2, 6],\n",
       "        [1, 1, 2, 6],\n",
       "        [1, 1, 2, 6],\n",
       "        [1, 1, 2, 7],\n",
       "        [1, 1, 2, 7],\n",
       "        [1, 1, 2, 7],\n",
       "        [1, 1, 2, 7],\n",
       "        [1, 1, 2, 7],\n",
       "        [1, 1, 2, 7],\n",
       "        [1, 1, 2, 8],\n",
       "        [1, 1, 2, 8]]))"
      ]
     },
     "execution_count": 13,
     "metadata": {},
     "output_type": "execute_result"
    }
   ],
   "source": [
    "dataset_weather_24[1] # seq_x, seq_y, seq_mark_x, seq_mark_y"
   ]
  },
  {
   "cell_type": "code",
   "execution_count": 14,
   "id": "64877288-60df-4a4f-9d9a-097d811f4557",
   "metadata": {},
   "outputs": [],
   "source": [
    "# 모델 훈련셋 결과 확인하기\n",
    "from data_provider.data_factory import data_provider\n",
    "from torch.utils.data import DataLoader\n",
    "\n",
    "args.seq_len=24 # 입력길이 재조정\n",
    "args.pred_len=24 # 출력길이 재조정\n",
    "# dataset_weather_24에서 loader 생성\n",
    "dataset_weather_24_loader = DataLoader(\n",
    "            dataset_weather_24,\n",
    "            batch_size=1, # 모든 데이터셋을 확인해야 해서 batch_size를 강제로 1로 조정.\n",
    "            shuffle=True,\n",
    "            num_workers=args.num_workers,\n",
    "            drop_last=False)"
   ]
  },
  {
   "cell_type": "code",
   "execution_count": 15,
   "id": "97024297-2ddd-47db-960f-0942bc529b9d",
   "metadata": {},
   "outputs": [
    {
     "data": {
      "text/plain": [
       "Model(\n",
       "  (enc_embedding): DataEmbedding_inverted(\n",
       "    (value_embedding): Linear(in_features=24, out_features=64, bias=True)\n",
       "    (dropout): Dropout(p=0.1, inplace=False)\n",
       "  )\n",
       "  (encoder): Encoder(\n",
       "    (attn_layers): ModuleList(\n",
       "      (0-1): 2 x EncoderLayer(\n",
       "        (attention): AttentionLayer(\n",
       "          (inner_attention): FullAttention(\n",
       "            (dropout): Dropout(p=0.1, inplace=False)\n",
       "          )\n",
       "          (query_projection): Linear(in_features=64, out_features=64, bias=True)\n",
       "          (key_projection): Linear(in_features=64, out_features=64, bias=True)\n",
       "          (value_projection): Linear(in_features=64, out_features=64, bias=True)\n",
       "          (out_projection): Linear(in_features=64, out_features=64, bias=True)\n",
       "        )\n",
       "        (conv1): Conv1d(64, 64, kernel_size=(1,), stride=(1,))\n",
       "        (conv2): Conv1d(64, 64, kernel_size=(1,), stride=(1,))\n",
       "        (norm1): LayerNorm((64,), eps=1e-05, elementwise_affine=True)\n",
       "        (norm2): LayerNorm((64,), eps=1e-05, elementwise_affine=True)\n",
       "        (dropout): Dropout(p=0.1, inplace=False)\n",
       "      )\n",
       "    )\n",
       "    (norm): LayerNorm((64,), eps=1e-05, elementwise_affine=True)\n",
       "  )\n",
       "  (projection): Linear(in_features=64, out_features=24, bias=True)\n",
       ")"
      ]
     },
     "execution_count": 15,
     "metadata": {},
     "output_type": "execute_result"
    }
   ],
   "source": [
    "# 측정 모드로 전환\n",
    "exp_model.model.eval()"
   ]
  },
  {
   "cell_type": "code",
   "execution_count": 16,
   "id": "2e47bf58-ee0a-4b05-b03b-ec0fb087deea",
   "metadata": {},
   "outputs": [],
   "source": [
    "# 트레인 데이터셋을 테스트해서 결과 받기, test 함수에서 가져옴\n",
    "preds_te_tr = []\n",
    "trues_te_tr = []\n",
    "\n",
    "for i, (batch_x, batch_y, batch_x_mark, batch_y_mark) in enumerate(dataset_weather_24_loader):\n",
    "    batch_x = batch_x.float().to(exp_model.device)\n",
    "    batch_y = batch_y.float().to(exp_model.device)\n",
    "\n",
    "    batch_x_mark = batch_x_mark.float().to(exp_model.device)\n",
    "    batch_y_mark = batch_y_mark.float().to(exp_model.device)\n",
    "\n",
    "    # decoder input\n",
    "    dec_inp = torch.zeros_like(batch_y[:, -args.pred_len:, :]).float()\n",
    "    dec_inp = torch.cat([batch_y[:, :args.label_len, :], dec_inp], dim=1).float().to(exp_model.device)\n",
    "    # encoder - decoder\n",
    "\n",
    "    # use_amp도 사용하지 않음, \n",
    "    outputs = exp_model.model(batch_x, batch_x_mark, dec_inp, batch_y_mark)\n",
    "\n",
    "    outputs = outputs[:, -args.pred_len:, :]\n",
    "    batch_y = batch_y[:, -args.pred_len:, :].to(exp_model.device)\n",
    "    outputs = outputs.detach().cpu().numpy()\n",
    "    batch_y = batch_y.detach().cpu().numpy()\n",
    "\n",
    "    pred = outputs\n",
    "    true = batch_y\n",
    "\n",
    "    preds_te_tr.append(pred)\n",
    "    trues_te_tr.append(true)\n",
    "preds_te_tr = np.concatenate(preds_te_tr, axis=0)\n",
    "trues_te_tr = np.concatenate(trues_te_tr, axis=0)"
   ]
  },
  {
   "cell_type": "code",
   "execution_count": 17,
   "id": "be007b4e-2a2f-40f2-95bb-f028fd8b7a1a",
   "metadata": {
    "scrolled": true
   },
   "outputs": [
    {
     "data": {
      "text/plain": [
       "(36840, 36840, 36840)"
      ]
     },
     "execution_count": 17,
     "metadata": {},
     "output_type": "execute_result"
    }
   ],
   "source": [
    "len(dataset_weather_24), len(dataset_weather_24_loader), len(preds_te_tr)"
   ]
  },
  {
   "cell_type": "code",
   "execution_count": 18,
   "id": "238e54c7-ddab-48c4-95cd-8681ca961ed6",
   "metadata": {},
   "outputs": [],
   "source": [
    "# metric 호출\n",
    "from utils.metrics import *"
   ]
  },
  {
   "cell_type": "code",
   "execution_count": 20,
   "id": "6fd2aa0d-3eb2-45c8-9f93-9cd82dd2539f",
   "metadata": {},
   "outputs": [
    {
     "data": {
      "text/plain": [
       "('MAE',\n",
       " 0.27212238,\n",
       " 'MSE',\n",
       " 0.4416116,\n",
       " 'ME',\n",
       " 0.010631034,\n",
       " 'REC_CORR',\n",
       " 0.017945072755957792)"
      ]
     },
     "execution_count": 20,
     "metadata": {},
     "output_type": "execute_result"
    }
   ],
   "source": [
    "# 전체 MAE, MSE, REC_CORR, SMAE\n",
    "\"MAE\", MAE(preds_te_tr, trues_te_tr),\"MSE\", MSE(preds_te_tr, trues_te_tr),\"ME\", SMAE(preds_te_tr, trues_te_tr),\"REC_CORR\", REC_CORR(preds_te_tr, trues_te_tr),"
   ]
  },
  {
   "cell_type": "code",
   "execution_count": 21,
   "id": "bcaaa596-4a75-4a9d-bde4-72bdadf0ff8b",
   "metadata": {
    "scrolled": true
   },
   "outputs": [
    {
     "name": "stdout",
     "output_type": "stream",
     "text": [
      "Variable 0\n",
      "MAE 0.09769549 MSE 0.020585058 ME 0.004206254 REC_CORR -0.027628637952270347\n",
      "Variable 1\n",
      "MAE 0.2422755 MSE 0.11484807 ME -0.002811124 REC_CORR 0.038290503207836016\n",
      "Variable 2\n",
      "MAE 0.23989442 MSE 0.112008624 ME -0.0026094979 REC_CORR 0.03820329467529263\n",
      "Variable 3\n",
      "MAE 0.13287897 MSE 0.037698302 ME 0.0051403344 REC_CORR -0.0006147970071626569\n",
      "Variable 4\n",
      "MAE 0.4462951 MSE 0.38577452 ME 0.036487006 REC_CORR -0.015380912510803918\n",
      "Variable 5\n",
      "MAE 0.2476515 MSE 0.14680587 ME -0.0027955566 REC_CORR 0.04173022303772608\n",
      "Variable 6\n",
      "MAE 0.13186407 MSE 0.041236557 ME 0.005618742 REC_CORR 0.00044470177146855455\n",
      "Variable 7\n",
      "MAE 0.35559213 MSE 0.3260421 ME -0.0033192914 REC_CORR 0.0383272484971162\n",
      "Variable 8\n",
      "MAE 0.13140143 MSE 0.041037336 ME 0.0055939136 REC_CORR 0.0001950660238722563\n",
      "Variable 9\n",
      "MAE 0.13140391 MSE 0.040963206 ME 0.005587588 REC_CORR 0.00023880720529273434\n",
      "Variable 10\n",
      "MAE 0.2290118 MSE 0.099140115 ME 0.018181654 REC_CORR -0.02802102005104107\n",
      "Variable 11\n",
      "MAE 0.030517304 MSE 1.177054 ME -0.002262777 REC_CORR 0.009192004571347537\n",
      "Variable 12\n",
      "MAE 0.52593005 MSE 0.5358339 ME 0.025992844 REC_CORR 0.00906244326167343\n",
      "Variable 13\n",
      "MAE 0.5785686 MSE 0.84086186 ME 0.053816985 REC_CORR 0.008769947621294742\n",
      "Variable 14\n",
      "MAE 0.14777747 MSE 1.1351924 ME 0.02220967 REC_CORR 0.018633456798487175\n",
      "Variable 15\n",
      "MAE 0.28316972 MSE 0.9483025 ME 0.025784671 REC_CORR 0.019840082966621354\n",
      "Variable 16\n",
      "MAE 0.4855557 MSE 0.6383532 ME 0.009114742 REC_CORR 0.0651713879257884\n",
      "Variable 17\n",
      "MAE 0.48677972 MSE 0.6335399 ME 0.008876923 REC_CORR 0.06605515287235798\n",
      "Variable 18\n",
      "MAE 0.4565076 MSE 0.8117841 ME 0.009629181 REC_CORR 0.06519334557190584\n",
      "Variable 19\n",
      "MAE 0.26343274 MSE 0.14400731 ME -0.0019594857 REC_CORR 0.0463015369447613\n",
      "Variable 20\n",
      "MAE 0.070361815 MSE 1.0427712 ME 0.0027688479 REC_CORR -0.017157307556450573\n"
     ]
    }
   ],
   "source": [
    "# 변수별 TE 분포\n",
    "for j in range(21):\n",
    "    # 전체 MAE, MSE, REC_CORR, SMAE\n",
    "    print(f\"Variable {j}\")\n",
    "    print(\"MAE\", MAE(preds_te_tr[:,:,j], trues_te_tr[:,:,j]),\"MSE\", MSE(preds_te_tr[:,:,j], trues_te_tr[:,:,j]),\"ME\", SMAE(preds_te_tr[:,:,j], trues_te_tr[:,:,j]),\"REC_CORR\", REC_CORR(preds_te_tr[:,:,j], trues_te_tr[:,:,j]),)"
   ]
  },
  {
   "cell_type": "code",
   "execution_count": 22,
   "id": "7f9737e9-1dbb-4201-bba3-bd569ac6f452",
   "metadata": {},
   "outputs": [],
   "source": [
    "# test 데이터셋 기준으로 loader\n",
    "\n",
    "dataset_weather_24_test_loader = DataLoader(\n",
    "            dataset_weather_24_test,\n",
    "            batch_size=1, # 모든 데이터셋을 확인해야 해서 batch_size를 강제로 1로 조정.\n",
    "            shuffle=False,\n",
    "            num_workers=args.num_workers,\n",
    "            drop_last=False)"
   ]
  },
  {
   "cell_type": "code",
   "execution_count": 23,
   "id": "af9cb34a-4df9-4214-8f13-3c27ba41d93d",
   "metadata": {},
   "outputs": [],
   "source": [
    "# 테스트 데이터셋을 테스트해서 결과 받기, test 함수에서 가져옴\n",
    "preds_te_te = []\n",
    "trues_te_te = []\n",
    "\n",
    "for i, (batch_x, batch_y, batch_x_mark, batch_y_mark) in enumerate(dataset_weather_24_test_loader):\n",
    "    batch_x = batch_x.float().to(exp_model.device)\n",
    "    batch_y = batch_y.float().to(exp_model.device)\n",
    "\n",
    "    batch_x_mark = batch_x_mark.float().to(exp_model.device)\n",
    "    batch_y_mark = batch_y_mark.float().to(exp_model.device)\n",
    "\n",
    "    # decoder input\n",
    "    dec_inp = torch.zeros_like(batch_y[:, -args.pred_len:, :]).float()\n",
    "    dec_inp = torch.cat([batch_y[:, :args.label_len, :], dec_inp], dim=1).float().to(exp_model.device)\n",
    "    # encoder - decoder\n",
    "\n",
    "    # use_amp도 사용하지 않음, \n",
    "    outputs = exp_model.model(batch_x, batch_x_mark, dec_inp, batch_y_mark)\n",
    "\n",
    "    outputs = outputs[:, -args.pred_len:, :]\n",
    "    batch_y = batch_y[:, -args.pred_len:, :].to(exp_model.device)\n",
    "    outputs = outputs.detach().cpu().numpy()\n",
    "    batch_y = batch_y.detach().cpu().numpy()\n",
    "\n",
    "    pred = outputs\n",
    "    true = batch_y\n",
    "\n",
    "    preds_te_te.append(pred)\n",
    "    trues_te_te.append(true)\n",
    "\n",
    "preds_te_te = np.concatenate(preds_te_te, axis=0)\n",
    "trues_te_te = np.concatenate(trues_te_te, axis=0)"
   ]
  },
  {
   "cell_type": "code",
   "execution_count": null,
   "id": "b086aecb-76b1-4552-adb6-e78b808b4651",
   "metadata": {},
   "outputs": [],
   "source": []
  },
  {
   "cell_type": "code",
   "execution_count": 24,
   "id": "97d99f64-1374-4e92-847f-c6b96ee70de8",
   "metadata": {
    "scrolled": true
   },
   "outputs": [
    {
     "data": {
      "text/plain": [
       "('MAE',\n",
       " 0.15319279,\n",
       " 'MSE',\n",
       " 0.12791905,\n",
       " 'ME',\n",
       " 0.0056374236,\n",
       " 'REC_CORR',\n",
       " 0.02457467775227358)"
      ]
     },
     "execution_count": 24,
     "metadata": {},
     "output_type": "execute_result"
    }
   ],
   "source": [
    "# 전체 MAE, MSE, REC_CORR, SMAE\n",
    "\"MAE\", MAE(preds_te_te, trues_te_te),\"MSE\", MSE(preds_te_te, trues_te_te),\"ME\", SMAE(preds_te_te, trues_te_te),\"REC_CORR\", REC_CORR(preds_te_te, trues_te_te),"
   ]
  },
  {
   "cell_type": "code",
   "execution_count": 25,
   "id": "223e5ab5-651c-4524-b300-48110fb33c59",
   "metadata": {
    "scrolled": true
   },
   "outputs": [
    {
     "name": "stdout",
     "output_type": "stream",
     "text": [
      "Variable 0\n",
      "MAE 0.09816509 MSE 0.019342855 ME 0.0005178148 REC_CORR -0.01613609731830492\n",
      "Variable 1\n",
      "MAE 0.14632021 MSE 0.049184844 ME -0.00035747074 REC_CORR 0.032786904643343454\n",
      "Variable 2\n",
      "MAE 0.14499322 MSE 0.04808555 ME 9.121403e-05 REC_CORR 0.029952624491509528\n",
      "Variable 3\n",
      "MAE 0.10819935 MSE 0.023998259 ME -0.00016292541 REC_CORR 0.02421679821608252\n",
      "Variable 4\n",
      "MAE 0.27646562 MSE 0.17095259 ME 0.016384972 REC_CORR -0.0031914376594517637\n",
      "Variable 5\n",
      "MAE 0.0962077 MSE 0.0230895 ME -2.5285308e-05 REC_CORR 0.0345322217509791\n",
      "Variable 6\n",
      "MAE 0.09005467 MSE 0.017010707 ME 0.00010340554 REC_CORR 0.02513721943130325\n",
      "Variable 7\n",
      "MAE 0.10813963 MSE 0.032294996 ME 0.0017565116 REC_CORR 0.03226649038455789\n",
      "Variable 8\n",
      "MAE 0.08946037 MSE 0.016815677 ME 0.00015988706 REC_CORR 0.025360221555503958\n",
      "Variable 9\n",
      "MAE 0.08962465 MSE 0.016868547 ME 0.00014881157 REC_CORR 0.025169636091292993\n",
      "Variable 10\n",
      "MAE 0.15159263 MSE 0.05048114 ME 0.010326216 REC_CORR -0.013557442674615613\n",
      "Variable 11\n",
      "MAE 0.014696949 MSE 0.0004181471 ME 0.00080392254 REC_CORR 0.005037859559718388\n",
      "Variable 12\n",
      "MAE 0.41424772 MSE 0.3360151 ME 0.022166664 REC_CORR 0.00499082944176074\n",
      "Variable 13\n",
      "MAE 0.36477128 MSE 0.37464106 ME 0.029768635 REC_CORR 0.00257743435844343\n",
      "Variable 14\n",
      "MAE 0.047691233 MSE 0.0588957 ME 0.004778614 REC_CORR 0.0018524239720035564\n",
      "Variable 15\n",
      "MAE 0.3239064 MSE 1.1075048 ME 0.021922428 REC_CORR 0.006838118401492378\n",
      "Variable 16\n",
      "MAE 0.1712298 MSE 0.10866267 ME 0.0030879055 REC_CORR 0.0815262761600193\n",
      "Variable 17\n",
      "MAE 0.17006236 MSE 0.10407298 ME 0.0028475493 REC_CORR 0.09292018420148453\n",
      "Variable 18\n",
      "MAE 0.14534445 MSE 0.0768663 ME 0.0028563745 REC_CORR 0.09413691506622325\n",
      "Variable 19\n",
      "MAE 0.15120438 MSE 0.050623458 ME 0.00017899851 REC_CORR 0.03562133719288053\n",
      "Variable 20\n",
      "MAE 0.014671472 MSE 0.00047398443 ME 0.0010317214 REC_CORR -0.0059702844684814075\n"
     ]
    }
   ],
   "source": [
    "# 변수별 TE 분포\n",
    "for j in range(21):\n",
    "    # 전체 MAE, MSE, REC_CORR, SMAE\n",
    "    print(f\"Variable {j}\")\n",
    "    print(\"MAE\", MAE(preds_te_te[:,:,j], trues_te_te[:,:,j]),\"MSE\", MSE(preds_te_te[:,:,j], trues_te_te[:,:,j]),\"ME\", SMAE(preds_te_te[:,:,j], trues_te_te[:,:,j]),\"REC_CORR\", REC_CORR(preds_te_te[:,:,j], trues_te_te[:,:,j]),)"
   ]
  },
  {
   "cell_type": "code",
   "execution_count": 26,
   "id": "91f0780c-998a-427d-8fed-77a60fc83cb1",
   "metadata": {},
   "outputs": [],
   "source": [
    "# last_var\n",
    "metric_path = f\"./results/{setting_path}/metrics.npy\"\n",
    "metric_obj = np.load(metric_path)"
   ]
  },
  {
   "cell_type": "code",
   "execution_count": 27,
   "id": "b3207713-fb0f-4069-94de-af1d0b560e3b",
   "metadata": {
    "scrolled": true
   },
   "outputs": [
    {
     "data": {
      "text/plain": [
       "array([1.37906685e-01, 1.18114106e-01, 3.43677342e-01, 1.19533958e+01,\n",
       "       3.01922620e+07, 8.15245416e-03, 1.30184466e-01, 3.69352839e-02])"
      ]
     },
     "execution_count": 27,
     "metadata": {},
     "output_type": "execute_result"
    }
   ],
   "source": [
    "metric_obj # np.array([mae, mse, rmse, mape, mspe, smae, mae_ratio, corr])"
   ]
  },
  {
   "cell_type": "code",
   "execution_count": 28,
   "id": "4bf5e5d3-e669-46c6-81e7-738e06b842a6",
   "metadata": {
    "scrolled": true
   },
   "outputs": [
    {
     "data": {
      "text/plain": [
       "('MAE',\n",
       " 0.13790668547153473,\n",
       " 'MSE',\n",
       " 0.11811410635709763,\n",
       " 'ME',\n",
       " 0.008152454160153866,\n",
       " 'REC_CORR',\n",
       " 0.036935283862475445)"
      ]
     },
     "execution_count": 28,
     "metadata": {},
     "output_type": "execute_result"
    }
   ],
   "source": [
    "\"MAE\", metric_obj[0], \"MSE\", metric_obj[1], \"ME\", metric_obj[5], \"REC_CORR\", metric_obj[7]"
   ]
  },
  {
   "cell_type": "code",
   "execution_count": 29,
   "id": "125f908d-c0bf-4ac0-9185-3291a667f1f1",
   "metadata": {},
   "outputs": [
    {
     "data": {
      "text/plain": [
       "((36840, 24, 21), 36840)"
      ]
     },
     "execution_count": 29,
     "metadata": {},
     "output_type": "execute_result"
    }
   ],
   "source": [
    "preds_te_tr.shape, len(dataset_weather_24_loader)"
   ]
  },
  {
   "cell_type": "code",
   "execution_count": 30,
   "id": "f7c0427e-dfe2-47b5-9e9d-4c0d5644ec00",
   "metadata": {},
   "outputs": [],
   "source": [
    "# 차이 있는지 확인\n",
    "pred_obj_path = f\"./results/{setting_path}/pred.npy\"\n",
    "pred_obj = np.load(pred_obj_path) # 테스트값은 다소 차이가 있을수 있음 preds_te_te와 다름.\n",
    "true_obj_path = f\"./results/{setting_path}/true.npy\"\n",
    "true_obj = np.load(true_obj_path) # 찹값은 동일 즉 trues_te_te와 동일"
   ]
  },
  {
   "cell_type": "code",
   "execution_count": 31,
   "id": "4cf3d4a6-45ad-478e-8af5-fcd31ecc5bcf",
   "metadata": {},
   "outputs": [
    {
     "data": {
      "text/plain": [
       "(0.012456699, 0.04027696, 1.0)"
      ]
     },
     "execution_count": 31,
     "metadata": {},
     "output_type": "execute_result"
    }
   ],
   "source": [
    "\n",
    "MSE(pred_obj, preds_te_te), MAE(pred_obj, preds_te_te), np.sum(true_obj==trues_te_te)/trues_te_te.size"
   ]
  },
  {
   "cell_type": "code",
   "execution_count": null,
   "id": "5cdfa2f3-7c16-427c-9be4-151261643e40",
   "metadata": {},
   "outputs": [],
   "source": []
  },
  {
   "cell_type": "code",
   "execution_count": 21,
   "id": "1bb2cecf-9595-4cd4-91ae-495b59d42d53",
   "metadata": {},
   "outputs": [],
   "source": [
    "# 이번엔 pred_te_tr 데이터를 이용해서 예측하는 방법\n",
    "# 입력데이터 batch_x 대신 pred_te_tr 데이터로 치환하기. dataset_weather_24_loader 데이터는 그대로 \n",
    "\n",
    "# 트레인 데이터셋을 테스트해서 결과 받기, test 함수에서 가져옴\n",
    "preds_tr_tr = []\n",
    "trues_tr_tr = []\n",
    "\n",
    "for i, (batch_x, batch_y, batch_x_mark, batch_y_mark) in enumerate(dataset_weather_24_loader):\n",
    "    if i>=24:\n",
    "        batch_x_1 = torch.Tensor(preds_te_tr[i-24:i-23,:,:]).to(exp_model.device)\n",
    "        batch_y = batch_y.float().to(exp_model.device)\n",
    "    \n",
    "        batch_x_mark = batch_x_mark.float().to(exp_model.device)\n",
    "        batch_y_mark = batch_y_mark.float().to(exp_model.device)\n",
    "    \n",
    "        # decoder input\n",
    "        dec_inp = torch.zeros_like(batch_y[:, -args.pred_len:, :]).float()\n",
    "        dec_inp = torch.cat([batch_y[:, :args.label_len, :], dec_inp], dim=1).float().to(exp_model.device)\n",
    "        # encoder - decoder\n",
    "    \n",
    "        # use_amp도 사용하지 않음, \n",
    "        outputs = exp_model.model(batch_x_1, batch_x_mark, dec_inp, batch_y_mark)\n",
    "    \n",
    "        outputs = outputs[:, -args.pred_len:, :]\n",
    "        batch_y = batch_y[:, -args.pred_len:, :].to(exp_model.device)\n",
    "        outputs = outputs.detach().cpu().numpy()\n",
    "        batch_y = batch_y.detach().cpu().numpy()\n",
    "    \n",
    "        pred = outputs\n",
    "        true = batch_y\n",
    "    \n",
    "        preds_tr_tr.append(pred)\n",
    "        trues_tr_tr.append(true)\n",
    "\n",
    "\n",
    "preds_tr_tr = np.concatenate(preds_tr_tr, axis=0)\n",
    "trues_tr_tr = np.concatenate(trues_tr_tr, axis=0)"
   ]
  },
  {
   "cell_type": "code",
   "execution_count": 23,
   "id": "8a6bbc18-01f5-47eb-91e2-b06d530dfaf8",
   "metadata": {},
   "outputs": [
    {
     "data": {
      "text/plain": [
       "((36816, 24, 21), (36816, 24, 21))"
      ]
     },
     "execution_count": 23,
     "metadata": {},
     "output_type": "execute_result"
    }
   ],
   "source": [
    "preds_tr_tr.shape, trues_tr_tr.shape"
   ]
  },
  {
   "cell_type": "code",
   "execution_count": null,
   "id": "451357db-64f9-4267-b969-450f4cec3177",
   "metadata": {},
   "outputs": [],
   "source": []
  },
  {
   "cell_type": "code",
   "execution_count": 104,
   "id": "5e23cf26-bcff-4a5d-9bd3-06eeda5c7db0",
   "metadata": {
    "scrolled": true
   },
   "outputs": [
    {
     "data": {
      "text/plain": [
       "('MAE',\n",
       " 0.90208614,\n",
       " 'MSE',\n",
       " 1.8425195,\n",
       " 'ME',\n",
       " -0.005557746,\n",
       " 'REC_CORR',\n",
       " 0.005772403139146247)"
      ]
     },
     "execution_count": 104,
     "metadata": {},
     "output_type": "execute_result"
    }
   ],
   "source": [
    "# 예측값->예측값이랑 참값 차이 검증\n",
    "# 전체 MAE, MSE, REC_CORR, SMAE\n",
    "\"MAE\", MAE(preds_tr_tr, trues_tr_tr),\"MSE\", MSE(preds_tr_tr, trues_tr_tr),\"ME\", SMAE(preds_tr_tr, trues_tr_tr),\"REC_CORR\", REC_CORR(preds_tr_tr, trues_tr_tr),"
   ]
  },
  {
   "cell_type": "code",
   "execution_count": 105,
   "id": "830ca025-062e-4215-be0d-9c3e4f882556",
   "metadata": {
    "scrolled": true
   },
   "outputs": [
    {
     "data": {
      "text/plain": [
       "('MAE',\n",
       " 0.89288324,\n",
       " 'MSE',\n",
       " 1.6996361,\n",
       " 'ME',\n",
       " -0.01625349,\n",
       " 'REC_CORR',\n",
       " 0.3837091354610462)"
      ]
     },
     "execution_count": 105,
     "metadata": {},
     "output_type": "execute_result"
    }
   ],
   "source": [
    "# 예측값->예측값이랑 참값-> 예측값 차이 검증\n",
    "# 전체 MAE, MSE, REC_CORR, SMAE\n",
    "\"MAE\", MAE(preds_tr_tr, preds_te_tr[24:]),\"MSE\", MSE(preds_tr_tr, preds_te_tr[24:]),\"ME\", SMAE(preds_tr_tr, preds_te_tr[24:]),\"REC_CORR\", REC_CORR(preds_tr_tr, preds_te_tr[24:]),"
   ]
  },
  {
   "cell_type": "code",
   "execution_count": 115,
   "id": "76fd5be7-697e-4b00-a699-6c74a14a7968",
   "metadata": {},
   "outputs": [
    {
     "name": "stdout",
     "output_type": "stream",
     "text": [
      "Variable 0\n",
      "MAE 1.1048406 MSE 1.9954665 ME -0.0006760667 REC_CORR -0.0007761323088674348\n",
      "Variable 1\n",
      "MAE 1.1385347 MSE 1.9809713 ME -0.01521777 REC_CORR 0.001066430171834305\n",
      "Variable 2\n",
      "MAE 1.1384584 MSE 1.9802475 ME -0.014915515 REC_CORR 0.0013922876377512206\n",
      "Variable 3\n",
      "MAE 1.138213 MSE 1.9817437 ME -0.0017148514 REC_CORR 0.0011485206082351516\n",
      "Variable 4\n",
      "MAE 1.1385341 MSE 1.9712534 ME 0.01428911 REC_CORR 0.001246849621050818\n",
      "Variable 5\n",
      "MAE 1.0853881 MSE 1.9956644 ME -0.015828893 REC_CORR 0.005239730754480686\n",
      "Variable 6\n",
      "MAE 1.1114813 MSE 1.991183 ME -0.0013510381 REC_CORR 0.002637409614100644\n",
      "Variable 7\n",
      "MAE 0.99629086 MSE 1.984957 ME -0.022254998 REC_CORR 0.00472788035334735\n",
      "Variable 8\n",
      "MAE 1.110923 MSE 1.9912746 ME -0.0013530905 REC_CORR 0.00249638852446984\n",
      "Variable 9\n",
      "MAE 1.1114428 MSE 1.9911846 ME -0.0013564226 REC_CORR 0.002553213046683717\n",
      "Variable 10\n",
      "MAE 1.1343277 MSE 1.9764718 ME 0.0065047396 REC_CORR -0.002212834592833501\n",
      "Variable 11\n",
      "MAE 0.044577073 MSE 1.1270517 ME -0.006750101 REC_CORR 0.0026496274381790897\n",
      "Variable 12\n",
      "MAE 1.0311885 MSE 1.8521422 ME -0.0067845313 REC_CORR 0.0013734962984877478\n",
      "Variable 13\n",
      "MAE 1.0044571 MSE 1.6168209 ME 0.010357089 REC_CORR 0.0013959782601145917\n",
      "Variable 14\n",
      "MAE 0.18348056 MSE 1.2931701 ME 0.0062169866 REC_CORR 0.0052248489544365105\n",
      "Variable 15\n",
      "MAE 0.42248473 MSE 1.6460153 ME 0.0050074463 REC_CORR 0.005232208379314809\n",
      "Variable 16\n",
      "MAE 0.95959914 MSE 1.929972 ME -0.017855274 REC_CORR 0.02140386439420201\n",
      "Variable 17\n",
      "MAE 0.96376514 MSE 1.9331019 ME -0.018041186 REC_CORR 0.023669168796116115\n",
      "Variable 18\n",
      "MAE 0.8670223 MSE 1.7444972 ME -0.01775619 REC_CORR 0.024281183099600596\n",
      "Variable 19\n",
      "MAE 1.137325 MSE 1.9855431 ME -0.015413686 REC_CORR 0.006886377094052336\n",
      "Variable 20\n",
      "MAE 0.121486254 MSE 1.7242125 ME -0.0018183526 REC_CORR 0.0095839697773146\n"
     ]
    }
   ],
   "source": [
    "# 변수별 TE 분포\n",
    "for j in range(21):\n",
    "    # 전체 MAE, MSE, REC_CORR, SMAE\n",
    "    print(f\"Variable {j}\")\n",
    "    print(\"MAE\", MAE(preds_tr_tr[:,:,j], trues_tr_tr[:,:,j]),\"MSE\", MSE(preds_tr_tr[:,:,j], trues_tr_tr[:,:,j]),\"ME\", SMAE(preds_tr_tr[:,:,j], trues_tr_tr[:,:,j]),\"REC_CORR\", REC_CORR(preds_tr_tr[:,:,j], trues_tr_tr[:,:,j]),)"
   ]
  },
  {
   "cell_type": "code",
   "execution_count": 116,
   "id": "fab566c3-cfc5-48ff-a541-97cf89702e47",
   "metadata": {},
   "outputs": [
    {
     "name": "stdout",
     "output_type": "stream",
     "text": [
      "Variable 0\n",
      "MAE 1.1037017 MSE 1.9994828 ME -0.0048151957 REC_CORR 0.3516716879885732\n",
      "Variable 1\n",
      "MAE 1.1456575 MSE 1.9991925 ME -0.012560608 REC_CORR 0.33107989178552566\n",
      "Variable 2\n",
      "MAE 1.1441624 MSE 1.9965445 ME -0.012463929 REC_CORR 0.330713390543069\n",
      "Variable 3\n",
      "MAE 1.1387917 MSE 1.9724232 ME -0.006972603 REC_CORR 0.34686773862426373\n",
      "Variable 4\n",
      "MAE 1.13783 MSE 1.9660294 ME -0.022138657 REC_CORR 0.3416549847326469\n",
      "Variable 5\n",
      "MAE 1.0924343 MSE 2.006719 ME -0.013250053 REC_CORR 0.3371190754924532\n",
      "Variable 6\n",
      "MAE 1.1090755 MSE 1.9713742 ME -0.0071007055 REC_CORR 0.3507004753565001\n",
      "Variable 7\n",
      "MAE 1.0008717 MSE 1.9850329 ME -0.01913751 REC_CORR 0.3412618199732213\n",
      "Variable 8\n",
      "MAE 1.1084388 MSE 1.9716108 ME -0.007080938 REC_CORR 0.35080100048716745\n",
      "Variable 9\n",
      "MAE 1.1089953 MSE 1.9716622 ME -0.007077986 REC_CORR 0.3507535106280168\n",
      "Variable 10\n",
      "MAE 1.1380261 MSE 1.9929799 ME -0.0115317125 REC_CORR 0.3457458789421336\n",
      "Variable 11\n",
      "MAE 0.046034124 MSE 0.30242288 ME -0.004478307 REC_CORR 0.37279339137909834\n",
      "Variable 12\n",
      "MAE 0.9875919 MSE 1.694715 ME -0.032635346 REC_CORR 0.3181803412545702\n",
      "Variable 13\n",
      "MAE 0.8812902 MSE 1.2551479 ME -0.04382269 REC_CORR 0.3120716823843376\n",
      "Variable 14\n",
      "MAE 0.17856261 MSE 0.58176976 ME -0.015994966 REC_CORR 0.6103652994344421\n",
      "Variable 15\n",
      "MAE 0.4096292 MSE 1.2788094 ME -0.020791886 REC_CORR 0.5869214624620176\n",
      "Variable 16\n",
      "MAE 0.9496794 MSE 1.8484036 ME -0.026957301 REC_CORR 0.43127006589937517\n",
      "Variable 17\n",
      "MAE 0.9541946 MSE 1.8547242 ME -0.026913352 REC_CORR 0.4301309242153529\n",
      "Variable 18\n",
      "MAE 0.8496112 MSE 1.5064607 ME -0.027388168 REC_CORR 0.4313697094275632\n",
      "Variable 19\n",
      "MAE 1.1438212 MSE 2.001299 ME -0.013625702 REC_CORR 0.3257334242770746\n",
      "Variable 20\n",
      "MAE 0.122142985 MSE 1.535527 ME -0.0045856126 REC_CORR 0.4606860893945664\n"
     ]
    }
   ],
   "source": [
    "# 변수별 TE 분포\n",
    "for j in range(21):\n",
    "    # 전체 MAE, MSE, REC_CORR, SMAE\n",
    "    print(f\"Variable {j}\")\n",
    "    print(\"MAE\", MAE(preds_tr_tr[:,:,j], preds_te_tr[24:,:,j]),\"MSE\", MSE(preds_tr_tr[:,:,j], preds_te_tr[24:,:,j]),\"ME\", SMAE(preds_tr_tr[:,:,j], preds_te_tr[24:,:,j]),\"REC_CORR\", REC_CORR(preds_tr_tr[:,:,j], preds_te_tr[24:,:,j]),)"
   ]
  },
  {
   "cell_type": "code",
   "execution_count": 108,
   "id": "78d7ebed-9772-4240-b3a3-cf77a6ab5974",
   "metadata": {
    "scrolled": true
   },
   "outputs": [
    {
     "data": {
      "text/plain": [
       "('MAE',\n",
       " 0.8458594,\n",
       " 'MSE',\n",
       " 1.4513091,\n",
       " 'ME',\n",
       " 0.060731277,\n",
       " 'REC_CORR',\n",
       " -0.00647814702045034)"
      ]
     },
     "execution_count": 108,
     "metadata": {},
     "output_type": "execute_result"
    }
   ],
   "source": [
    "# 예측값->예측값이랑 참값 차이 검증. 하나라도 검증?\n",
    "# 전체 MAE, MSE, REC_CORR, SMAE\n",
    "ix = 0\n",
    "\"MAE\", MAE(preds_tr_tr[ix:ix+24], trues_tr_tr[ix:ix+24]),\"MSE\", MSE(preds_tr_tr[ix:ix+24], trues_tr_tr[ix:ix+24]),\"ME\", SMAE(preds_tr_tr[ix:ix+24], trues_tr_tr[ix:ix+24]),\"REC_CORR\", REC_CORR(preds_tr_tr[ix:ix+24], trues_tr_tr[ix:ix+24]),"
   ]
  },
  {
   "cell_type": "code",
   "execution_count": 111,
   "id": "5c209a8b-62f9-4328-bde7-faa1ad5dea13",
   "metadata": {},
   "outputs": [
    {
     "data": {
      "text/plain": [
       "('MAE',\n",
       " 0.6793538,\n",
       " 'MSE',\n",
       " 0.81326777,\n",
       " 'ME',\n",
       " 0.3112449,\n",
       " 'REC_CORR',\n",
       " 0.28050741052883105)"
      ]
     },
     "execution_count": 111,
     "metadata": {},
     "output_type": "execute_result"
    }
   ],
   "source": [
    "# 예측값->예측값이랑 참값 차이 검증. 하나라도 검증?\n",
    "# 전체 MAE, MSE, REC_CORR, SMAE\n",
    "ix = 2\n",
    "\"MAE\", MAE(preds_tr_tr[ix:ix+1], preds_te_tr[ix+24:ix+25]),\"MSE\", MSE(preds_tr_tr[ix:ix+1], preds_te_tr[ix+24:ix+25]),\"ME\", SMAE(preds_tr_tr[ix:ix+1], preds_te_tr[ix+24:ix+25]),\"REC_CORR\", REC_CORR(preds_tr_tr[ix:ix+1], preds_te_tr[ix+24:ix+25]),"
   ]
  },
  {
   "cell_type": "code",
   "execution_count": null,
   "id": "7a3f763f-cd73-40a5-a6a6-1d63d467f71d",
   "metadata": {},
   "outputs": [],
   "source": []
  },
  {
   "cell_type": "code",
   "execution_count": 114,
   "id": "2592c17b-a351-4a81-9230-d143aeffc1c4",
   "metadata": {},
   "outputs": [
    {
     "data": {
      "text/plain": [
       "('MAE',\n",
       " 0.02782671,\n",
       " 'MSE',\n",
       " 0.00056220166,\n",
       " 'ME',\n",
       " -0.000397748,\n",
       " 'REC_CORR',\n",
       " -0.0026483453307645922)"
      ]
     },
     "execution_count": 114,
     "metadata": {},
     "output_type": "execute_result"
    }
   ],
   "source": [
    "# 예측값->예측값이랑 참값 차이 검증. 하나라도 검증?\n",
    "# 전체 MAE, MSE, REC_CORR, SMAE\n",
    "ix = 2\n",
    "var = -1\n",
    "\"MAE\", MAE(preds_tr_tr[ix:ix+1,:,var], trues_tr_tr[ix:ix+1,:,var]),\"MSE\", MSE(preds_tr_tr[ix:ix+1,:,var], trues_te_tr[ix:ix+1,:,var]),\"ME\", SMAE(preds_tr_tr[ix:ix+1,:,var], preds_te_tr[ix:ix+1,:,var]),\"REC_CORR\", REC_CORR(preds_tr_tr[ix:ix+1,:,var], preds_te_tr[ix:ix+1,:,var]),"
   ]
  },
  {
   "cell_type": "code",
   "execution_count": 113,
   "id": "9d75d5aa-d4d1-4710-bd42-62a833bea49c",
   "metadata": {},
   "outputs": [
    {
     "data": {
      "text/plain": [
       "('MAE',\n",
       " 0.006029056,\n",
       " 'MSE',\n",
       " 4.1827985e-05,\n",
       " 'ME',\n",
       " -0.006029056,\n",
       " 'REC_CORR',\n",
       " 0.31661669388130453)"
      ]
     },
     "execution_count": 113,
     "metadata": {},
     "output_type": "execute_result"
    }
   ],
   "source": [
    "# 예측값->예측값이랑 참값 차이 검증. 하나라도 검증?\n",
    "# 전체 MAE, MSE, REC_CORR, SMAE\n",
    "ix = 2\n",
    "var = -1\n",
    "\"MAE\", MAE(preds_tr_tr[ix:ix+1,:,var], preds_te_tr[ix+24:ix+25,:,var]),\"MSE\", MSE(preds_tr_tr[ix:ix+1,:,var], preds_te_tr[ix+24:ix+25,:,var]),\"ME\", SMAE(preds_tr_tr[ix:ix+1,:,var], preds_te_tr[ix+24:ix+25,:,var]),\"REC_CORR\", REC_CORR(preds_tr_tr[ix:ix+1,:,var], preds_te_tr[ix+24:ix+25,:,var]),"
   ]
  },
  {
   "cell_type": "code",
   "execution_count": 93,
   "id": "1db45323-a4b5-4381-a10c-16ba2b706702",
   "metadata": {},
   "outputs": [],
   "source": [
    "%matplotlib inline"
   ]
  },
  {
   "cell_type": "code",
   "execution_count": 140,
   "id": "232e5ed1-c64a-4884-b8b5-d0620790ceac",
   "metadata": {
    "scrolled": true
   },
   "outputs": [
    {
     "data": {
      "image/png": "[encoded data removed]",
      "text/plain": [
       "<Figure size 640x480 with 1 Axes>"
      ]
     },
     "metadata": {},
     "output_type": "display_data"
    }
   ],
   "source": [
    "# 결과 1개만 뽑아냄\n",
    "import matplotlib.pyplot as plt\n",
    "\n",
    "idx = 142\n",
    "var = -1\n",
    "plt.plot(range(48), np.concatenate([dataset_weather_24[idx][0][:,var], preds_tr_tr[idx, :, var]]), 'b', label='training -> training') # \n",
    "plt.plot(range(48), np.concatenate([dataset_weather_24[idx][0][:,var], preds_te_tr[idx+24, :,var]]), 'y', label='true -> training') # \n",
    "plt.plot(range(48), np.concatenate([dataset_weather_24[idx][0][:,var], trues_tr_tr[idx, :, var]]),'k', label='true -> true') # \n",
    "plt.plot(range(48), np.concatenate([dataset_weather_24[idx][0][:,var], dataset_weather_24[idx+24][0][:,var]]),'r-', label='alltrue') # \n",
    "plt.xlabel('steps')\n",
    "plt.ylabel('value of OT')\n",
    "plt.legend()\n",
    "plt.show()"
   ]
  },
  {
   "cell_type": "code",
   "execution_count": 124,
   "id": "a36e3174-e92c-4c66-b113-d02c9f6822ad",
   "metadata": {},
   "outputs": [
    {
     "data": {
      "text/plain": [
       "(array([0.01861056, 0.01861056, 0.01756878, 0.01704789, 0.01548522,\n",
       "        0.01522477, 0.01522477, 0.01522477, 0.01496432, 0.01444343,\n",
       "        0.01288076, 0.01340165, 0.01235987, 0.01235987, 0.02199636,\n",
       "        0.01522477, 0.01392254, 0.02121502, 0.01444343, 0.01444343,\n",
       "        0.0131412 , 0.01913146, 0.00975541, 0.00923452], dtype=float32),\n",
       " array([0.0193919 , 0.01965235, 0.02017324, 0.02069413, 0.02173591,\n",
       "        0.0222568 , 0.02251725, 0.02329859, 0.02460082, 0.02486126,\n",
       "        0.02616349, 0.02772617, 0.0285075 , 0.0285075 , 0.0290284 ,\n",
       "        0.02980973, 0.02980973, 0.03007018, 0.03111196, 0.03215374,\n",
       "        0.03293508, 0.03371642, 0.03501865, 0.03632088], dtype=float32))"
      ]
     },
     "execution_count": 124,
     "metadata": {},
     "output_type": "execute_result"
    }
   ],
   "source": [
    "trues_te_tr[idx, :,var], trues_tr_tr[idx-24, :, var]"
   ]
  },
  {
   "cell_type": "code",
   "execution_count": 91,
   "id": "f22c7b20-f693-4797-aac6-0303b347a2f8",
   "metadata": {
    "scrolled": true
   },
   "outputs": [
    {
     "data": {
      "text/plain": [
       "(array([0.04080663, 0.04014615, 0.03979062, 0.03972599, 0.03934005,\n",
       "        0.04124194, 0.04007404, 0.03931124, 0.03935461, 0.03896395,\n",
       "        0.03988687, 0.03985279, 0.04227787, 0.04062849, 0.0398509 ,\n",
       "        0.03903646, 0.03941425, 0.03979223, 0.04033612, 0.03978902,\n",
       "        0.03975243, 0.04026647, 0.04035877, 0.04066249], dtype=float32),\n",
       " array([0.12835598, 0.1309903 , 0.13050307, 0.13209336, 0.12876682,\n",
       "        0.13102601, 0.1315615 , 0.12701541, 0.12817392, 0.12456658,\n",
       "        0.12954952, 0.12657411, 0.13726932, 0.13302703, 0.13101104,\n",
       "        0.12887555, 0.12536484, 0.12599966, 0.12677805, 0.12987132,\n",
       "        0.1307195 , 0.13037847, 0.13101609, 0.13116992], dtype=float32),\n",
       " array([0.02199636, 0.02199636, 0.02173591, 0.02069413, 0.01991279,\n",
       "        0.01808967, 0.01678744, 0.01574566, 0.01470388, 0.01470388,\n",
       "        0.01444343, 0.01418299, 0.01418299, 0.0136621 , 0.01418299,\n",
       "        0.01392254, 0.01444343, 0.01470388, 0.01522477, 0.01470388,\n",
       "        0.01392254, 0.01392254, 0.01340165, 0.01340165], dtype=float32))"
      ]
     },
     "execution_count": 91,
     "metadata": {},
     "output_type": "execute_result"
    }
   ],
   "source": [
    "preds_tr_tr[idx, :, -1], preds_te_tr[idx+24, :, -1], trues_tr_tr[idx, :, -1]"
   ]
  },
  {
   "cell_type": "code",
   "execution_count": 137,
   "id": "1e9636df-d26f-4967-b59e-ae02520cb184",
   "metadata": {
    "scrolled": true
   },
   "outputs": [
    {
     "data": {
      "text/plain": [
       "array([[False, False, False, False, False, False, False, False, False,\n",
       "        False, False, False, False, False, False, False, False, False,\n",
       "        False, False, False],\n",
       "       [False, False, False, False, False, False, False, False, False,\n",
       "        False, False, False, False, False, False, False, False, False,\n",
       "        False, False, False],\n",
       "       [False, False, False, False, False, False, False, False, False,\n",
       "        False, False, False, False, False, False, False, False, False,\n",
       "        False, False, False],\n",
       "       [False, False, False, False, False, False, False, False, False,\n",
       "        False, False, False, False, False, False, False, False, False,\n",
       "        False, False, False],\n",
       "       [False, False, False, False, False, False, False, False, False,\n",
       "        False, False, False, False, False, False, False, False, False,\n",
       "        False, False, False],\n",
       "       [False, False, False, False, False, False, False, False, False,\n",
       "        False, False, False, False, False, False, False, False, False,\n",
       "        False, False, False],\n",
       "       [False, False, False, False, False, False, False, False, False,\n",
       "        False, False, False, False, False, False, False, False, False,\n",
       "        False, False, False],\n",
       "       [False, False, False, False, False, False, False, False, False,\n",
       "        False, False, False, False, False, False, False, False, False,\n",
       "        False, False, False],\n",
       "       [False, False, False, False, False, False, False, False, False,\n",
       "        False, False, False, False, False, False, False, False, False,\n",
       "        False, False, False],\n",
       "       [False, False, False, False, False, False, False, False, False,\n",
       "        False, False, False, False, False, False, False, False, False,\n",
       "        False, False, False],\n",
       "       [False, False, False, False, False, False, False, False, False,\n",
       "        False, False, False, False, False, False, False, False, False,\n",
       "        False, False, False],\n",
       "       [False, False, False, False, False, False, False, False, False,\n",
       "        False, False, False, False, False, False, False, False, False,\n",
       "        False, False, False],\n",
       "       [False, False, False, False, False, False, False, False, False,\n",
       "        False, False, False, False, False, False, False, False, False,\n",
       "        False, False, False],\n",
       "       [False, False, False, False, False, False, False, False, False,\n",
       "        False, False, False, False, False, False, False, False, False,\n",
       "        False, False, False],\n",
       "       [False, False, False, False, False, False, False, False, False,\n",
       "        False, False, False, False, False, False, False, False, False,\n",
       "        False, False, False],\n",
       "       [False, False, False, False, False, False, False, False, False,\n",
       "        False, False, False, False, False, False, False, False, False,\n",
       "        False, False, False],\n",
       "       [False, False, False, False, False, False, False, False, False,\n",
       "        False, False, False, False, False, False, False, False, False,\n",
       "        False, False, False],\n",
       "       [False, False, False, False, False, False, False, False, False,\n",
       "        False, False, False, False, False, False, False, False, False,\n",
       "        False, False, False],\n",
       "       [False, False, False, False, False, False, False, False, False,\n",
       "        False, False, False, False, False, False, False, False, False,\n",
       "        False, False, False],\n",
       "       [False, False, False, False, False, False, False, False, False,\n",
       "        False, False, False, False, False, False, False, False, False,\n",
       "        False, False, False],\n",
       "       [False, False, False, False, False, False, False, False, False,\n",
       "        False, False, False, False, False, False, False, False, False,\n",
       "        False, False, False],\n",
       "       [False, False, False, False, False, False, False, False, False,\n",
       "        False, False, False, False, False, False, False, False, False,\n",
       "        False, False, False],\n",
       "       [False, False, False, False, False, False, False, False, False,\n",
       "        False, False, False, False, False, False, False, False, False,\n",
       "        False, False, False],\n",
       "       [False, False, False, False, False, False, False, False, False,\n",
       "        False, False, False, False, False, False, False, False, False,\n",
       "        False, False, False]])"
      ]
     },
     "execution_count": 137,
     "metadata": {},
     "output_type": "execute_result"
    }
   ],
   "source": [
    "dataset_weather_24[0][0] == trues_te_tr[0,:,:]"
   ]
  },
  {
   "cell_type": "code",
   "execution_count": 154,
   "id": "d9aef40c-0e5c-4b74-a585-5de5f1756224",
   "metadata": {},
   "outputs": [
    {
     "data": {
      "text/plain": [
       "1.7381275"
      ]
     },
     "execution_count": 154,
     "metadata": {},
     "output_type": "execute_result"
    }
   ],
   "source": [
    "idxx = 5\n",
    "MAE(trues_te_tr[idxx+24], trues_tr_tr[idxx])"
   ]
  },
  {
   "cell_type": "code",
   "execution_count": null,
   "id": "a055cabd-2bc3-44b0-8e93-798dc83a39d5",
   "metadata": {},
   "outputs": [],
   "source": [
    "batch_x_1 = []\n",
    "batch_y_1 = []\n",
    "for i, (batch_x, batch_y, batch_x_mark, batch_y_mark) in enumerate(dataset_weather_24_loader):\n",
    "    batch_x_1.append(batch_x)\n",
    "    batch_y_1.append(batch_y)\n",
    "\n",
    "batch_x_1 = np.concatenate(batch_x_1, axis=0)\n",
    "batch_y_1 = np.concatenate(batch_y_1, axis=0)"
   ]
  },
  {
   "cell_type": "code",
   "execution_count": null,
   "id": "567a8650-4eff-4ea9-ac7d-e43e885e2b6b",
   "metadata": {},
   "outputs": [],
   "source": [
    "batch_x_2 = []\n",
    "batch_y_2 = []\n",
    "for i, (batch_x, batch_y, batch_x_mark, batch_y_mark) in enumerate(dataset_weather_24_loader):\n",
    "    batch_x_2.append(batch_x)\n",
    "    batch_y_2.append(batch_y)\n",
    "\n",
    "batch_x_2 = np.concatenate(batch_x_2, axis=0)\n",
    "batch_y_2 = np.concatenate(batch_y_2, axis=0)"
   ]
  },
  {
   "cell_type": "code",
   "execution_count": null,
   "id": "c2b68bb2-4a16-41d6-8fd9-7a5ecbd2d98b",
   "metadata": {},
   "outputs": [],
   "source": [
    "batch_y_2.shape, batch_y_1.shape"
   ]
  },
  {
   "cell_type": "code",
   "execution_count": null,
   "id": "e6f08739-736b-4838-a1ff-dcb6dfc78fe4",
   "metadata": {},
   "outputs": [],
   "source": [
    "np.sum(batch_y_1[:, 12:,:] == batch_y_2[:,12:,:])/batch_y_1.size, np.sum(batch_x_1[:, 12:,:] == batch_y_2[:,12:,:])/batch_y_1.size"
   ]
  }
 ],
 "metadata": {
  "kernelspec": {
   "display_name": "Python 3 (ipykernel)",
   "language": "python",
   "name": "python3"
  },
  "language_info": {
   "codemirror_mode": {
    "name": "ipython",
    "version": 3
   },
   "file_extension": ".py",
   "mimetype": "text/x-python",
   "name": "python",
   "nbconvert_exporter": "python",
   "pygments_lexer": "ipython3",
   "version": "3.8.11"
  }
 },
 "nbformat": 4,
 "nbformat_minor": 5
}
