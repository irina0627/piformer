{
 "cells": [
  {
   "cell_type": "code",
   "execution_count": 15,
   "id": "a41355a2-f8db-4063-a73e-4a1d9e064771",
   "metadata": {},
   "outputs": [
    {
     "data": {
      "text/html": [
       "<div>\n",
       "<style scoped>\n",
       "    .dataframe tbody tr th:only-of-type {\n",
       "        vertical-align: middle;\n",
       "    }\n",
       "\n",
       "    .dataframe tbody tr th {\n",
       "        vertical-align: top;\n",
       "    }\n",
       "\n",
       "    .dataframe thead th {\n",
       "        text-align: right;\n",
       "    }\n",
       "</style>\n",
       "<table border=\"1\" class=\"dataframe\">\n",
       "  <thead>\n",
       "    <tr style=\"text-align: right;\">\n",
       "      <th></th>\n",
       "      <th>0</th>\n",
       "      <th>1</th>\n",
       "      <th>2</th>\n",
       "      <th>3</th>\n",
       "      <th>4</th>\n",
       "      <th>5</th>\n",
       "      <th>6</th>\n",
       "      <th>7</th>\n",
       "      <th>8</th>\n",
       "      <th>9</th>\n",
       "      <th>...</th>\n",
       "      <th>852</th>\n",
       "      <th>853</th>\n",
       "      <th>854</th>\n",
       "      <th>855</th>\n",
       "      <th>856</th>\n",
       "      <th>857</th>\n",
       "      <th>858</th>\n",
       "      <th>859</th>\n",
       "      <th>860</th>\n",
       "      <th>OT</th>\n",
       "    </tr>\n",
       "  </thead>\n",
       "  <tbody>\n",
       "    <tr>\n",
       "      <th>0</th>\n",
       "      <td>0.0048</td>\n",
       "      <td>0.0146</td>\n",
       "      <td>0.0289</td>\n",
       "      <td>0.0142</td>\n",
       "      <td>0.0064</td>\n",
       "      <td>0.0232</td>\n",
       "      <td>0.0162</td>\n",
       "      <td>0.0242</td>\n",
       "      <td>0.0341</td>\n",
       "      <td>0.0375</td>\n",
       "      <td>...</td>\n",
       "      <td>0.0051</td>\n",
       "      <td>0.0051</td>\n",
       "      <td>0.0074</td>\n",
       "      <td>0.0079</td>\n",
       "      <td>0.0051</td>\n",
       "      <td>0.0051</td>\n",
       "      <td>0.0339</td>\n",
       "      <td>0.0051</td>\n",
       "      <td>0.0100</td>\n",
       "      <td>0.0121</td>\n",
       "    </tr>\n",
       "    <tr>\n",
       "      <th>1</th>\n",
       "      <td>0.0072</td>\n",
       "      <td>0.0148</td>\n",
       "      <td>0.0350</td>\n",
       "      <td>0.0174</td>\n",
       "      <td>0.0084</td>\n",
       "      <td>0.0240</td>\n",
       "      <td>0.0201</td>\n",
       "      <td>0.0338</td>\n",
       "      <td>0.0434</td>\n",
       "      <td>0.0381</td>\n",
       "      <td>...</td>\n",
       "      <td>0.0036</td>\n",
       "      <td>0.0036</td>\n",
       "      <td>0.0107</td>\n",
       "      <td>0.0058</td>\n",
       "      <td>0.0036</td>\n",
       "      <td>0.0036</td>\n",
       "      <td>0.0348</td>\n",
       "      <td>0.0036</td>\n",
       "      <td>0.0087</td>\n",
       "      <td>0.0136</td>\n",
       "    </tr>\n",
       "    <tr>\n",
       "      <th>2</th>\n",
       "      <td>0.0040</td>\n",
       "      <td>0.0101</td>\n",
       "      <td>0.0267</td>\n",
       "      <td>0.0124</td>\n",
       "      <td>0.0049</td>\n",
       "      <td>0.0170</td>\n",
       "      <td>0.0127</td>\n",
       "      <td>0.0255</td>\n",
       "      <td>0.0332</td>\n",
       "      <td>0.0309</td>\n",
       "      <td>...</td>\n",
       "      <td>0.0030</td>\n",
       "      <td>0.0030</td>\n",
       "      <td>0.0043</td>\n",
       "      <td>0.0050</td>\n",
       "      <td>0.0030</td>\n",
       "      <td>0.0030</td>\n",
       "      <td>0.0327</td>\n",
       "      <td>0.0030</td>\n",
       "      <td>0.0061</td>\n",
       "      <td>0.0107</td>\n",
       "    </tr>\n",
       "    <tr>\n",
       "      <th>3</th>\n",
       "      <td>0.0039</td>\n",
       "      <td>0.0060</td>\n",
       "      <td>0.0218</td>\n",
       "      <td>0.0090</td>\n",
       "      <td>0.0029</td>\n",
       "      <td>0.0118</td>\n",
       "      <td>0.0088</td>\n",
       "      <td>0.0163</td>\n",
       "      <td>0.0211</td>\n",
       "      <td>0.0199</td>\n",
       "      <td>...</td>\n",
       "      <td>0.0033</td>\n",
       "      <td>0.0033</td>\n",
       "      <td>0.0019</td>\n",
       "      <td>0.0052</td>\n",
       "      <td>0.0033</td>\n",
       "      <td>0.0033</td>\n",
       "      <td>0.0292</td>\n",
       "      <td>0.0033</td>\n",
       "      <td>0.0040</td>\n",
       "      <td>0.0071</td>\n",
       "    </tr>\n",
       "    <tr>\n",
       "      <th>4</th>\n",
       "      <td>0.0042</td>\n",
       "      <td>0.0055</td>\n",
       "      <td>0.0191</td>\n",
       "      <td>0.0082</td>\n",
       "      <td>0.0024</td>\n",
       "      <td>0.0095</td>\n",
       "      <td>0.0064</td>\n",
       "      <td>0.0087</td>\n",
       "      <td>0.0144</td>\n",
       "      <td>0.0226</td>\n",
       "      <td>...</td>\n",
       "      <td>0.0049</td>\n",
       "      <td>0.0049</td>\n",
       "      <td>0.0011</td>\n",
       "      <td>0.0071</td>\n",
       "      <td>0.0049</td>\n",
       "      <td>0.0049</td>\n",
       "      <td>0.0264</td>\n",
       "      <td>0.0049</td>\n",
       "      <td>0.0040</td>\n",
       "      <td>0.0039</td>\n",
       "    </tr>\n",
       "    <tr>\n",
       "      <th>...</th>\n",
       "      <td>...</td>\n",
       "      <td>...</td>\n",
       "      <td>...</td>\n",
       "      <td>...</td>\n",
       "      <td>...</td>\n",
       "      <td>...</td>\n",
       "      <td>...</td>\n",
       "      <td>...</td>\n",
       "      <td>...</td>\n",
       "      <td>...</td>\n",
       "      <td>...</td>\n",
       "      <td>...</td>\n",
       "      <td>...</td>\n",
       "      <td>...</td>\n",
       "      <td>...</td>\n",
       "      <td>...</td>\n",
       "      <td>...</td>\n",
       "      <td>...</td>\n",
       "      <td>...</td>\n",
       "      <td>...</td>\n",
       "      <td>...</td>\n",
       "    </tr>\n",
       "    <tr>\n",
       "      <th>17539</th>\n",
       "      <td>0.0342</td>\n",
       "      <td>0.0332</td>\n",
       "      <td>0.1378</td>\n",
       "      <td>0.0559</td>\n",
       "      <td>0.0165</td>\n",
       "      <td>0.0386</td>\n",
       "      <td>0.0457</td>\n",
       "      <td>0.0687</td>\n",
       "      <td>0.0716</td>\n",
       "      <td>0.0518</td>\n",
       "      <td>...</td>\n",
       "      <td>0.0139</td>\n",
       "      <td>0.0179</td>\n",
       "      <td>0.0278</td>\n",
       "      <td>0.0280</td>\n",
       "      <td>0.0227</td>\n",
       "      <td>0.0375</td>\n",
       "      <td>0.0142</td>\n",
       "      <td>0.0201</td>\n",
       "      <td>0.0341</td>\n",
       "      <td>0.0429</td>\n",
       "    </tr>\n",
       "    <tr>\n",
       "      <th>17540</th>\n",
       "      <td>0.0285</td>\n",
       "      <td>0.0253</td>\n",
       "      <td>0.0542</td>\n",
       "      <td>0.0485</td>\n",
       "      <td>0.0131</td>\n",
       "      <td>0.0331</td>\n",
       "      <td>0.0372</td>\n",
       "      <td>0.0569</td>\n",
       "      <td>0.0669</td>\n",
       "      <td>0.0409</td>\n",
       "      <td>...</td>\n",
       "      <td>0.0116</td>\n",
       "      <td>0.0155</td>\n",
       "      <td>0.0201</td>\n",
       "      <td>0.0267</td>\n",
       "      <td>0.0207</td>\n",
       "      <td>0.0320</td>\n",
       "      <td>0.0122</td>\n",
       "      <td>0.0163</td>\n",
       "      <td>0.0306</td>\n",
       "      <td>0.0363</td>\n",
       "    </tr>\n",
       "    <tr>\n",
       "      <th>17541</th>\n",
       "      <td>0.0276</td>\n",
       "      <td>0.0257</td>\n",
       "      <td>0.0551</td>\n",
       "      <td>0.0474</td>\n",
       "      <td>0.0121</td>\n",
       "      <td>0.0326</td>\n",
       "      <td>0.0381</td>\n",
       "      <td>0.0566</td>\n",
       "      <td>0.0675</td>\n",
       "      <td>0.0386</td>\n",
       "      <td>...</td>\n",
       "      <td>0.0109</td>\n",
       "      <td>0.0142</td>\n",
       "      <td>0.0208</td>\n",
       "      <td>0.0252</td>\n",
       "      <td>0.0189</td>\n",
       "      <td>0.0287</td>\n",
       "      <td>0.0123</td>\n",
       "      <td>0.0152</td>\n",
       "      <td>0.0292</td>\n",
       "      <td>0.0325</td>\n",
       "    </tr>\n",
       "    <tr>\n",
       "      <th>17542</th>\n",
       "      <td>0.0232</td>\n",
       "      <td>0.0229</td>\n",
       "      <td>0.0496</td>\n",
       "      <td>0.0435</td>\n",
       "      <td>0.0119</td>\n",
       "      <td>0.0297</td>\n",
       "      <td>0.0361</td>\n",
       "      <td>0.0517</td>\n",
       "      <td>0.0598</td>\n",
       "      <td>0.0360</td>\n",
       "      <td>...</td>\n",
       "      <td>0.0092</td>\n",
       "      <td>0.0124</td>\n",
       "      <td>0.0219</td>\n",
       "      <td>0.0215</td>\n",
       "      <td>0.0169</td>\n",
       "      <td>0.0258</td>\n",
       "      <td>0.0096</td>\n",
       "      <td>0.0130</td>\n",
       "      <td>0.0252</td>\n",
       "      <td>0.0279</td>\n",
       "    </tr>\n",
       "    <tr>\n",
       "      <th>17543</th>\n",
       "      <td>0.0090</td>\n",
       "      <td>0.0168</td>\n",
       "      <td>0.0365</td>\n",
       "      <td>0.0328</td>\n",
       "      <td>0.0084</td>\n",
       "      <td>0.0213</td>\n",
       "      <td>0.0257</td>\n",
       "      <td>0.0475</td>\n",
       "      <td>0.0540</td>\n",
       "      <td>0.0258</td>\n",
       "      <td>...</td>\n",
       "      <td>0.0067</td>\n",
       "      <td>0.0085</td>\n",
       "      <td>0.0143</td>\n",
       "      <td>0.0151</td>\n",
       "      <td>0.0123</td>\n",
       "      <td>0.0193</td>\n",
       "      <td>0.0061</td>\n",
       "      <td>0.0098</td>\n",
       "      <td>0.0170</td>\n",
       "      <td>0.0208</td>\n",
       "    </tr>\n",
       "  </tbody>\n",
       "</table>\n",
       "<p>17544 rows × 862 columns</p>\n",
       "</div>"
      ],
      "text/plain": [
       "            0       1       2       3       4       5       6       7       8  \\\n",
       "0      0.0048  0.0146  0.0289  0.0142  0.0064  0.0232  0.0162  0.0242  0.0341   \n",
       "1      0.0072  0.0148  0.0350  0.0174  0.0084  0.0240  0.0201  0.0338  0.0434   \n",
       "2      0.0040  0.0101  0.0267  0.0124  0.0049  0.0170  0.0127  0.0255  0.0332   \n",
       "3      0.0039  0.0060  0.0218  0.0090  0.0029  0.0118  0.0088  0.0163  0.0211   \n",
       "4      0.0042  0.0055  0.0191  0.0082  0.0024  0.0095  0.0064  0.0087  0.0144   \n",
       "...       ...     ...     ...     ...     ...     ...     ...     ...     ...   \n",
       "17539  0.0342  0.0332  0.1378  0.0559  0.0165  0.0386  0.0457  0.0687  0.0716   \n",
       "17540  0.0285  0.0253  0.0542  0.0485  0.0131  0.0331  0.0372  0.0569  0.0669   \n",
       "17541  0.0276  0.0257  0.0551  0.0474  0.0121  0.0326  0.0381  0.0566  0.0675   \n",
       "17542  0.0232  0.0229  0.0496  0.0435  0.0119  0.0297  0.0361  0.0517  0.0598   \n",
       "17543  0.0090  0.0168  0.0365  0.0328  0.0084  0.0213  0.0257  0.0475  0.0540   \n",
       "\n",
       "            9  ...     852     853     854     855     856     857     858  \\\n",
       "0      0.0375  ...  0.0051  0.0051  0.0074  0.0079  0.0051  0.0051  0.0339   \n",
       "1      0.0381  ...  0.0036  0.0036  0.0107  0.0058  0.0036  0.0036  0.0348   \n",
       "2      0.0309  ...  0.0030  0.0030  0.0043  0.0050  0.0030  0.0030  0.0327   \n",
       "3      0.0199  ...  0.0033  0.0033  0.0019  0.0052  0.0033  0.0033  0.0292   \n",
       "4      0.0226  ...  0.0049  0.0049  0.0011  0.0071  0.0049  0.0049  0.0264   \n",
       "...       ...  ...     ...     ...     ...     ...     ...     ...     ...   \n",
       "17539  0.0518  ...  0.0139  0.0179  0.0278  0.0280  0.0227  0.0375  0.0142   \n",
       "17540  0.0409  ...  0.0116  0.0155  0.0201  0.0267  0.0207  0.0320  0.0122   \n",
       "17541  0.0386  ...  0.0109  0.0142  0.0208  0.0252  0.0189  0.0287  0.0123   \n",
       "17542  0.0360  ...  0.0092  0.0124  0.0219  0.0215  0.0169  0.0258  0.0096   \n",
       "17543  0.0258  ...  0.0067  0.0085  0.0143  0.0151  0.0123  0.0193  0.0061   \n",
       "\n",
       "          859     860      OT  \n",
       "0      0.0051  0.0100  0.0121  \n",
       "1      0.0036  0.0087  0.0136  \n",
       "2      0.0030  0.0061  0.0107  \n",
       "3      0.0033  0.0040  0.0071  \n",
       "4      0.0049  0.0040  0.0039  \n",
       "...       ...     ...     ...  \n",
       "17539  0.0201  0.0341  0.0429  \n",
       "17540  0.0163  0.0306  0.0363  \n",
       "17541  0.0152  0.0292  0.0325  \n",
       "17542  0.0130  0.0252  0.0279  \n",
       "17543  0.0098  0.0170  0.0208  \n",
       "\n",
       "[17544 rows x 862 columns]"
      ]
     },
     "execution_count": 15,
     "metadata": {},
     "output_type": "execute_result"
    }
   ],
   "source": [
    "# train_data 전체에 대해서도 series_decomp 적용가능한가?\n",
    "\n",
    "import numpy as np\n",
    "import pandas as pd\n",
    "from sklearn.preprocessing import StandardScaler\n",
    "\n",
    "df_new = pd.read_csv('./dataset/traffic/traffic.csv')\n",
    "df_new = df_new.drop(columns=['date'])\n",
    "\n",
    "df_new"
   ]
  },
  {
   "cell_type": "code",
   "execution_count": 16,
   "id": "952b0446-b752-498c-a00d-b07373a2c3ab",
   "metadata": {},
   "outputs": [],
   "source": [
    "\n",
    "\n",
    "num_total = len(df_new)\n",
    "num_train = int(num_total * 0.7)\n",
    "num_test = int(num_total * 0.2)\n",
    "num_vali = num_total - num_train - num_test\n",
    "border1s = [0, num_train - 96, num_total - num_test - 96]\n",
    "border2s = [num_train, num_train + num_vali, num_total]"
   ]
  },
  {
   "cell_type": "code",
   "execution_count": 17,
   "id": "19aa9b6c-4933-496f-8f15-1b30aa89a58d",
   "metadata": {},
   "outputs": [],
   "source": [
    "# weather_df에서 train data 얻기\n",
    "scaler = StandardScaler()\n",
    "train_data = df_new[border1s[0]:border2s[0]]\n",
    "scaler.fit(train_data.values)\n",
    "df_data = scaler.transform(df_new.values)"
   ]
  },
  {
   "cell_type": "code",
   "execution_count": 18,
   "id": "a4578019-e1f3-4663-801f-31813b7127cc",
   "metadata": {},
   "outputs": [],
   "source": [
    "# decomp 정\n",
    "import torch\n",
    "import torch.nn as nn\n",
    "from layers.Autoformer_EncDec import series_decomp, moving_avg\n",
    "decomp = series_decomp(25)"
   ]
  },
  {
   "cell_type": "code",
   "execution_count": 19,
   "id": "8ccbe728-3e5e-4c22-bc84-12b018effe1a",
   "metadata": {},
   "outputs": [],
   "source": [
    "# 전체에서도 series_decomp 시전 가능?\n",
    "\n",
    "df_data_s , df_data_t = decomp(torch.Tensor(df_data).reshape(1, df_data.shape[0], df_data.shape[1]))"
   ]
  },
  {
   "cell_type": "code",
   "execution_count": 20,
   "id": "58e26e55-29a4-468c-b2fd-40c717a92134",
   "metadata": {},
   "outputs": [],
   "source": [
    "# 파일 저장\n",
    "theme = 'traffic'\n",
    "np.savez(f'./dataset/{theme}/{theme}_decomp_s.npz', data=df_data_s.reshape(df_data.shape[0], df_data.shape[1], 1))\n",
    "np.savez(f'./dataset/{theme}/{theme}_decomp_t.npz', data=df_data_t.reshape(df_data.shape[0], df_data.shape[1], 1))"
   ]
  },
  {
   "cell_type": "code",
   "execution_count": 21,
   "id": "774ed1e1-6182-47c7-99d1-7acc8107ea19",
   "metadata": {},
   "outputs": [],
   "source": [
    "# composition 분석"
   ]
  },
  {
   "cell_type": "code",
   "execution_count": 22,
   "id": "704eefa3-0d0b-4e9f-8660-30355f2e98ac",
   "metadata": {},
   "outputs": [],
   "source": [
    "import json\n",
    "\n",
    "with open('./coeff_vectors_val_Exchange_96_48_piformer_custom.json', 'r', encoding='utf8') as X:\n",
    "    coeff_vector_vals = json.load(X)"
   ]
  },
  {
   "cell_type": "code",
   "execution_count": 24,
   "id": "1ccf7ca1-48aa-411b-9ec8-ed50219e3833",
   "metadata": {},
   "outputs": [
    {
     "data": {
      "text/plain": [
       "2584"
      ]
     },
     "execution_count": 24,
     "metadata": {},
     "output_type": "execute_result"
    }
   ],
   "source": [
    "len(coeff_vector_vals)"
   ]
  },
  {
   "cell_type": "code",
   "execution_count": 34,
   "id": "7af9e332-7847-4669-b4ce-f8b9595da631",
   "metadata": {
    "scrolled": true
   },
   "outputs": [
    {
     "data": {
      "image/png": "[encoded data removed]",
      "text/plain": [
       "<Figure size 1500x1000 with 1 Axes>"
      ]
     },
     "metadata": {},
     "output_type": "display_data"
    }
   ],
   "source": [
    "import matplotlib.pyplot as plt\n",
    "\n",
    "coeff_vector_vals = np.array(coeff_vector_vals)\n",
    "idx = 4\n",
    "jdx = 0\n",
    "plt.figure(figsize=(15, 10))\n",
    "plt.plot(range(500), coeff_vector_vals[jdx*500:(jdx+1)*500, 0, idx])\n",
    "plt.plot(range(500), np.mean(coeff_vector_vals[jdx*500:(jdx+1)*500, 0, idx]) * np.ones(500))\n",
    "plt.show()"
   ]
  },
  {
   "cell_type": "code",
   "execution_count": null,
   "id": "e0fc4357-c97c-47f6-b932-0f44b582c89d",
   "metadata": {},
   "outputs": [],
   "source": [
    "# corrcoef\n"
   ]
  },
  {
   "cell_type": "code",
   "execution_count": null,
   "id": "6f41c7c9-1281-4f43-8863-fee640753b83",
   "metadata": {},
   "outputs": [],
   "source": [
    "# 그럼 진짜 LinearRegression에 맞게 된건지 검증해봅시다. \n",
    "#training 데이터 "
   ]
  },
  {
   "cell_type": "code",
   "execution_count": 35,
   "id": "c9a32924-ea5a-437f-a049-34ea3f575832",
   "metadata": {},
   "outputs": [],
   "source": [
    "import argparse\n",
    "import torch\n",
    "import torch.nn as nn\n",
    "from exp.exp_long_term_forecasting import Exp_Long_Term_Forecast\n",
    "from exp.exp_imputation import Exp_Imputation\n",
    "from exp.exp_short_term_forecasting import Exp_Short_Term_Forecast\n",
    "from exp.exp_long_term_forecasting_partial import Exp_Long_Term_Forecast_Partial\n",
    "from exp.exp_anomaly_detection import Exp_Anomaly_Detection\n",
    "from exp.exp_classification import Exp_Classification\n",
    "from utils.print_args import print_args\n",
    "import random\n",
    "import numpy as np\n",
    "import time"
   ]
  },
  {
   "cell_type": "code",
   "execution_count": 36,
   "id": "bcccd785-3746-479a-b481-b543c218722a",
   "metadata": {},
   "outputs": [],
   "source": [
    "# fix random seed\n",
    "fix_seed = 2021\n",
    "random.seed(fix_seed)\n",
    "torch.manual_seed(fix_seed)\n",
    "np.random.seed(fix_seed)\n",
    "parser = argparse.ArgumentParser(description='TimesNet')"
   ]
  },
  {
   "cell_type": "code",
   "execution_count": 37,
   "id": "0b35dcf3-3bfa-412e-9664-d5f896e16b22",
   "metadata": {},
   "outputs": [
    {
     "data": {
      "text/plain": [
       "_StoreAction(option_strings=['--extra_tag'], dest='extra_tag', nargs=None, const=None, default='', type=<class 'str'>, choices=None, help='Anything extra', metavar=None)"
      ]
     },
     "execution_count": 37,
     "metadata": {},
     "output_type": "execute_result"
    }
   ],
   "source": [
    "# config 지정 -> 오류 방지를 위해 \n",
    "\n",
    "# basic config\n",
    "parser.add_argument('--task_name', type=str, default='long_term_forecast',\n",
    "                    help='task name, options:[long_term_forecast, short_term_forecast, imputation, classification, anomaly_detection]')\n",
    "parser.add_argument('--is_training', type=int, default=1, help='status')\n",
    "parser.add_argument('--model_id', type=str, default='test', help='model id')\n",
    "parser.add_argument('--model', type=str, default='Autoformer',\n",
    "                    help='model name, options: [Autoformer, Transformer, TimesNet]')\n",
    "\n",
    "# data loader\n",
    "parser.add_argument('--data', type=str, default='ETTm1', help='dataset type')\n",
    "parser.add_argument('--root_path', type=str, default='./data/ETT/', help='root path of the data file')\n",
    "parser.add_argument('--data_path', type=str, default='ETTh1.csv', help='data file')\n",
    "parser.add_argument('--features', type=str, default='M',\n",
    "                    help='forecasting task, options:[M, S, MS]; M:multivariate predict multivariate, S:univariate predict univariate, MS:multivariate predict univariate')\n",
    "parser.add_argument('--target', type=str, default='OT', help='target feature in S or MS task')\n",
    "parser.add_argument('--freq', type=str, default='h',\n",
    "                    help='freq for time features encoding, options:[s:secondly, t:minutely, h:hourly, d:daily, b:business days, w:weekly, m:monthly], you can also use more detailed freq like 15min or 3h')\n",
    "parser.add_argument('--checkpoints', type=str, default='./checkpoints/', help='location of model checkpoints')\n",
    "\n",
    "# added option \n",
    "parser.add_argument('--train_ratio', type=float, default=0.7, help='train data ratio')\n",
    "parser.add_argument('--test_ratio', type=float, default=0.2, help='test data ratio')\n",
    "parser.add_argument('--train_step', type=float, default=1.0, help='train data with certain stes. for example train_step=2 means only train even number of data')\n",
    "\n",
    "# SparseTSF\n",
    "parser.add_argument('--period_len', type=int, default=24, help='period length')\n",
    "\n",
    "# PITS\n",
    "parser.add_argument('--fc_dropout', type=float, default=0.05, help='fully connected dropout')\n",
    "parser.add_argument('--head_dropout', type=float, default=0.0, help='head dropout')\n",
    "parser.add_argument('--patch_len', type=int, default=16, help='patch length')\n",
    "parser.add_argument('--stride', type=int, default=8, help='stride')\n",
    "parser.add_argument('--shared_embedding', type=int, default=1, help='stride')\n",
    "parser.add_argument('--padding_patch', default='end', help='None: None; end: padding on the end')\n",
    "parser.add_argument('--revin', type=int, default=1, help='RevIN; True 1 False 0')\n",
    "parser.add_argument('--affine', type=int, default=0, help='RevIN-affine; True 1 False 0')\n",
    "parser.add_argument('--subtract_last', type=int, default=0, help='0: subtract mean; 1: subtract last')\n",
    "parser.add_argument('--decomposition', type=int, default=0, help='decomposition; True 1 False 0')\n",
    "parser.add_argument('--kernel_size', type=int, default=25, help='decomposition-kernel')\n",
    "parser.add_argument('--individual', type=int, default=0, help='individual head; True 1 False 0')\n",
    "\n",
    "# Piformer\n",
    "parser.add_argument('--joint_var', type=int, default=0, help='use attention for each patching; True 1 False 0')\n",
    "\n",
    "# forecasting task\n",
    "parser.add_argument('--seq_len', type=int, default=96, help='input sequence length')\n",
    "parser.add_argument('--label_len', type=int, default=48, help='start token length')\n",
    "parser.add_argument('--pred_len', type=int, default=96, help='prediction sequence length')\n",
    "parser.add_argument('--seasonal_patterns', type=str, default='Monthly', help='subset for M4')\n",
    "parser.add_argument('--inverse', action='store_true', help='inverse output data', default=False)\n",
    "\n",
    "# inputation task\n",
    "parser.add_argument('--mask_rate', type=float, default=0.25, help='mask ratio')\n",
    "\n",
    "# anomaly detection task\n",
    "parser.add_argument('--anomaly_ratio', type=float, default=0.25, help='prior anomaly ratio (%)')\n",
    "\n",
    "# model define\n",
    "parser.add_argument('--expand', type=int, default=2, help='expansion factor for Mamba')\n",
    "parser.add_argument('--d_conv', type=int, default=4, help='conv kernel size for Mamba')\n",
    "parser.add_argument('--top_k', type=int, default=5, help='for TimesBlock')\n",
    "parser.add_argument('--num_kernels', type=int, default=6, help='for Inception')\n",
    "parser.add_argument('--enc_in', type=int, default=7, help='encoder input size')\n",
    "parser.add_argument('--dec_in', type=int, default=7, help='decoder input size')\n",
    "parser.add_argument('--c_out', type=int, default=7, help='output size')\n",
    "parser.add_argument('--d_model', type=int, default=512, help='dimension of model')\n",
    "parser.add_argument('--n_heads', type=int, default=8, help='num of heads')\n",
    "parser.add_argument('--e_layers', type=int, default=2, help='num of encoder layers')\n",
    "parser.add_argument('--d_layers', type=int, default=1, help='num of decoder layers')\n",
    "parser.add_argument('--d_ff', type=int, default=2048, help='dimension of fcn')\n",
    "parser.add_argument('--moving_avg', type=int, default=25, help='window size of moving average')\n",
    "parser.add_argument('--factor', type=int, default=1, help='attn factor')\n",
    "parser.add_argument('--distil', action='store_false',\n",
    "                    help='whether to use distilling in encoder, using this argument means not using distilling',\n",
    "                    default=True)\n",
    "parser.add_argument('--dropout', type=float, default=0.1, help='dropout')\n",
    "parser.add_argument('--embed', type=str, default='timeF',\n",
    "                    help='time features encoding, options:[timeF, fixed, learned]')\n",
    "parser.add_argument('--activation', type=str, default='gelu', help='activation')\n",
    "parser.add_argument('--output_attention', action='store_true', help='whether to output attention in ecoder')\n",
    "parser.add_argument('--channel_independence', type=int, default=1,\n",
    "                    help='0: channel dependence 1: channel independence for FreTS model')\n",
    "parser.add_argument('--decomp_method', type=str, default='moving_avg',\n",
    "                    help='method of series decompsition, only support moving_avg or dft_decomp')\n",
    "parser.add_argument('--use_norm', type=int, default=1, help='whether to use normalize; True 1 False 0')\n",
    "parser.add_argument('--down_sampling_layers', type=int, default=0, help='num of down sampling layers')\n",
    "parser.add_argument('--down_sampling_window', type=int, default=1, help='down sampling window size')\n",
    "parser.add_argument('--down_sampling_method', type=str, default=None,\n",
    "                    help='down sampling method, only support avg, max, conv')\n",
    "parser.add_argument('--seg_len', type=int, default=48,\n",
    "                    help='the length of segmen-wise iteration of SegRNN')\n",
    "\n",
    "# optimization\n",
    "parser.add_argument('--num_workers', type=int, default=10, help='data loader num workers')\n",
    "parser.add_argument('--itr', type=int, default=1, help='experiments times')\n",
    "parser.add_argument('--train_epochs', type=int, default=10, help='train epochs')\n",
    "parser.add_argument('--batch_size', type=int, default=32, help='batch size of train input data')\n",
    "parser.add_argument('--patience', type=int, default=3, help='early stopping patience')\n",
    "parser.add_argument('--learning_rate', type=float, default=0.0001, help='optimizer learning rate')\n",
    "parser.add_argument('--des', type=str, default='test', help='exp description')\n",
    "parser.add_argument('--loss', type=str, default='MSE', help='loss function')\n",
    "parser.add_argument('--lradj', type=str, default='type1', help='adjust learning rate')\n",
    "parser.add_argument('--use_amp', action='store_true', help='use automatic mixed precision training', default=False)\n",
    "\n",
    "# GPU\n",
    "parser.add_argument('--use_gpu', type=bool, default=True, help='use gpu')\n",
    "parser.add_argument('--gpu', type=int, default=0, help='gpu')\n",
    "parser.add_argument('--use_multi_gpu', action='store_true', help='use multiple gpus', default=False)\n",
    "parser.add_argument('--devices', type=str, default='0,1,2,3', help='device ids of multile gpus')\n",
    "\n",
    "# de-stationary projector params\n",
    "parser.add_argument('--p_hidden_dims', type=int, nargs='+', default=[128, 128],\n",
    "                    help='hidden layer dimensions of projector (List)')\n",
    "parser.add_argument('--p_hidden_layers', type=int, default=2, help='number of hidden layers in projector')\n",
    "\n",
    "# metrics (dtw)\n",
    "parser.add_argument('--use_dtw', type=bool, default=False, \n",
    "                    help='the controller of using dtw metric (dtw is time consuming, not suggested unless necessary)')\n",
    "\n",
    "# Augmentation\n",
    "parser.add_argument('--augmentation_ratio', type=int, default=0, help=\"How many times to augment\")\n",
    "parser.add_argument('--seed', type=int, default=2, help=\"Randomization seed\")\n",
    "parser.add_argument('--jitter', default=False, action=\"store_true\", help=\"Jitter preset augmentation\")\n",
    "parser.add_argument('--scaling', default=False, action=\"store_true\", help=\"Scaling preset augmentation\")\n",
    "parser.add_argument('--permutation', default=False, action=\"store_true\", help=\"Equal Length Permutation preset augmentation\")\n",
    "parser.add_argument('--randompermutation', default=False, action=\"store_true\", help=\"Random Length Permutation preset augmentation\")\n",
    "parser.add_argument('--magwarp', default=False, action=\"store_true\", help=\"Magnitude warp preset augmentation\")\n",
    "parser.add_argument('--timewarp', default=False, action=\"store_true\", help=\"Time warp preset augmentation\")\n",
    "parser.add_argument('--windowslice', default=False, action=\"store_true\", help=\"Window slice preset augmentation\")\n",
    "parser.add_argument('--windowwarp', default=False, action=\"store_true\", help=\"Window warp preset augmentation\")\n",
    "parser.add_argument('--rotation', default=False, action=\"store_true\", help=\"Rotation preset augmentation\")\n",
    "parser.add_argument('--spawner', default=False, action=\"store_true\", help=\"SPAWNER preset augmentation\")\n",
    "parser.add_argument('--dtwwarp', default=False, action=\"store_true\", help=\"DTW warp preset augmentation\")\n",
    "parser.add_argument('--shapedtwwarp', default=False, action=\"store_true\", help=\"Shape DTW warp preset augmentation\")\n",
    "parser.add_argument('--wdba', default=False, action=\"store_true\", help=\"Weighted DBA preset augmentation\")\n",
    "parser.add_argument('--discdtw', default=False, action=\"store_true\", help=\"Discrimitive DTW warp preset augmentation\")\n",
    "parser.add_argument('--discsdtw', default=False, action=\"store_true\", help=\"Discrimitive shapeDTW warp preset augmentation\")\n",
    "parser.add_argument('--extra_tag', type=str, default=\"\", help=\"Anything extra\")"
   ]
  },
  {
   "cell_type": "code",
   "execution_count": 51,
   "id": "fed1217f-6756-4cf9-969d-43d45c7f8a0f",
   "metadata": {},
   "outputs": [
    {
     "name": "stdout",
     "output_type": "stream",
     "text": [
      "Args in experiment:\n",
      "Namespace(activation='gelu', affine=0, anomaly_ratio=0.25, augmentation_ratio=0, batch_size=8, c_out=8, channel_independence=1, checkpoints='./checkpoints/', d_conv=4, d_ff=2048, d_layers=1, d_model=128, data='custom', data_path='exchange_rate.csv', dec_in=8, decomp_method='moving_avg', decomposition=0, des=\"'Exp'\", devices='0,1,2,3', discdtw=False, discsdtw=False, distil=True, down_sampling_layers=0, down_sampling_method=None, down_sampling_window=1, dropout=0.1, dtwwarp=False, e_layers=2, embed='timeF', enc_in=8, expand=2, extra_tag='', factor=3, fc_dropout=0.05, features='M', freq='h', gpu=0, head_dropout=0.0, individual=0, inverse=False, is_training=1, itr=1, jitter=False, joint_var=0, kernel_size=25, label_len=12, learning_rate=0.0001, loss='MSE', lradj='type1', magwarp=False, mask_rate=0.25, model='iTransformer', model_id='Exchange_24_24_iTransformer', moving_avg=25, n_heads=8, num_kernels=6, num_workers=10, output_attention=False, p_hidden_dims=[128, 128], p_hidden_layers=2, padding_patch='end', patch_len=16, patience=3, period_len=24, permutation=False, pred_len=24, randompermutation=False, revin=1, root_path='./dataset/exchange_rate/', rotation=False, scaling=False, seasonal_patterns='Monthly', seed=2, seg_len=48, seq_len=24, shapedtwwarp=False, shared_embedding=1, spawner=False, stride=8, subtract_last=0, target='OT', task_name='long_term_forecast', test_ratio=0.2, timewarp=False, top_k=5, train_epochs=10, train_ratio=0.7, train_step=1.0, use_amp=False, use_dtw=False, use_gpu=True, use_multi_gpu=False, use_norm=1, wdba=False, windowslice=False, windowwarp=False)\n"
     ]
    }
   ],
   "source": [
    "# argument_text로 parser의 argument 지정 - 반드시 불러오는 모델과 동일하게 지정해야 함.\n",
    "\n",
    "parse_seq = \"\"\"--task_name long_term_forecast \\\n",
    "  --is_training 1 \\\n",
    "  --root_path ./dataset/exchange_rate/ \\\n",
    "  --data_path exchange_rate.csv \\\n",
    "  --model_id Exchange_24_24_iTransformer\\\n",
    "  --model iTransformer \\\n",
    "  --data custom \\\n",
    "  --features M \\\n",
    "  --seq_len 24 \\\n",
    "  --label_len 12 \\\n",
    "  --pred_len 24 \\\n",
    "  --period_len 24 \\\n",
    "  --e_layers 2 \\\n",
    "  --d_layers 1 \\\n",
    "  --factor 3 \\\n",
    "  --enc_in 8 \\\n",
    "  --dec_in 8 \\\n",
    "  --d_model 128 \\\n",
    "  --c_out 8 \\\n",
    "  --batch_size 8\\\n",
    "  --des 'Exp' \\\n",
    "  --itr 1\"\"\"\n",
    "args = parser.parse_args(parse_seq.split())\n",
    "args.use_gpu = True if torch.cuda.is_available() and args.use_gpu else False\n",
    "\n",
    "if args.use_gpu and args.use_multi_gpu:\n",
    "    args.devices = args.devices.replace(' ', '')\n",
    "    device_ids = args.devices.split(',')\n",
    "    args.device_ids = [int(id_) for id_ in device_ids]\n",
    "    args.gpu = args.device_ids[0]\n",
    "\n",
    "print('Args in experiment:')\n",
    "print(args)"
   ]
  },
  {
   "cell_type": "code",
   "execution_count": 52,
   "id": "73e02e66-ed7c-4c75-ba94-7dc367b04254",
   "metadata": {},
   "outputs": [
    {
     "name": "stdout",
     "output_type": "stream",
     "text": [
      "Use GPU: cuda:0\n"
     ]
    }
   ],
   "source": [
    "exp_model = Exp_Long_Term_Forecast(args)"
   ]
  },
  {
   "cell_type": "code",
   "execution_count": 53,
   "id": "f1a58dbd-ed31-4356-a4a5-3cef20dc4636",
   "metadata": {},
   "outputs": [
    {
     "data": {
      "text/plain": [
       "Model(\n",
       "  (enc_embedding): DataEmbedding_inverted(\n",
       "    (value_embedding): Linear(in_features=24, out_features=128, bias=True)\n",
       "    (dropout): Dropout(p=0.1, inplace=False)\n",
       "  )\n",
       "  (encoder): Encoder(\n",
       "    (attn_layers): ModuleList(\n",
       "      (0-1): 2 x EncoderLayer(\n",
       "        (attention): AttentionLayer(\n",
       "          (inner_attention): FullAttention(\n",
       "            (dropout): Dropout(p=0.1, inplace=False)\n",
       "          )\n",
       "          (query_projection): Linear(in_features=128, out_features=128, bias=True)\n",
       "          (key_projection): Linear(in_features=128, out_features=128, bias=True)\n",
       "          (value_projection): Linear(in_features=128, out_features=128, bias=True)\n",
       "          (out_projection): Linear(in_features=128, out_features=128, bias=True)\n",
       "        )\n",
       "        (conv1): Conv1d(128, 2048, kernel_size=(1,), stride=(1,))\n",
       "        (conv2): Conv1d(2048, 128, kernel_size=(1,), stride=(1,))\n",
       "        (norm1): LayerNorm((128,), eps=1e-05, elementwise_affine=True)\n",
       "        (norm2): LayerNorm((128,), eps=1e-05, elementwise_affine=True)\n",
       "        (dropout): Dropout(p=0.1, inplace=False)\n",
       "      )\n",
       "    )\n",
       "    (norm): LayerNorm((128,), eps=1e-05, elementwise_affine=True)\n",
       "  )\n",
       "  (projection): Linear(in_features=128, out_features=24, bias=True)\n",
       ")"
      ]
     },
     "execution_count": 53,
     "metadata": {},
     "output_type": "execute_result"
    }
   ],
   "source": [
    "# arguments 바탕으로 모델 생성\n",
    "exp_model._build_model()"
   ]
  },
  {
   "cell_type": "code",
   "execution_count": 54,
   "id": "d7dd00af-4b44-4df2-94c8-9f0756eec444",
   "metadata": {},
   "outputs": [
    {
     "data": {
      "text/plain": [
       "<All keys matched successfully>"
      ]
     },
     "execution_count": 54,
     "metadata": {},
     "output_type": "execute_result"
    }
   ],
   "source": [
    "# 위의 argument와 맞는 모델 호출\n",
    "checkpoint_path = './checkpoints/'\n",
    "setting_path = 'long_term_forecast_Exchange_24_24_iTransformer_iTransformer_custom_ftM_sl24_ll12_pl24_dm128_nh8_el2_dl1_df2048_expand2_dc4_fc3_ebtimeF_dtTrue_Exp_0(1725429822)'\n",
    "model_path = f\"{checkpoint_path}{setting_path}/checkpoint.pth\"\n",
    "exp_model.model.load_state_dict(torch.load(model_path))"
   ]
  },
  {
   "cell_type": "code",
   "execution_count": 55,
   "id": "b7f2c3b6-7a96-4117-b052-0472080c546e",
   "metadata": {},
   "outputs": [],
   "source": [
    "# weather 데이터 불러오기 -> 96단위로 절단하기\n",
    "\n",
    "from data_provider.data_loader import Dataset_Custom\n",
    "\n",
    "dataset_exchange_24 = Dataset_Custom(args, './dataset/exchange_rate/',\n",
    "                                    flag='train', size=(24, 12, 24),\n",
    "                                    features='M', data_path = 'exchange_rate.csv',\n",
    "                                    target='OT', scale=True, freq='h', timeenc=0,\n",
    "                                    seasonal_patterns=None, train_ratio=0.7, test_ratio=0.2)"
   ]
  },
  {
   "cell_type": "code",
   "execution_count": 75,
   "id": "742e06aa-64f5-4b93-9b34-5573fad64f56",
   "metadata": {},
   "outputs": [],
   "source": [
    "# 모델 훈련셋 결과 확인하기\n",
    "from data_provider.data_factory import data_provider\n",
    "from torch.utils.data import DataLoader\n",
    "\n",
    "args.seq_len=24 # 입력길이 재조정\n",
    "args.pred_len=24 # 출력길이 재조정\n",
    "# dataset_weather_24에서 loader 생성\n",
    "dataset_exchange_24_loader = DataLoader(\n",
    "            dataset_exchange_24,\n",
    "            batch_size=1, # 모든 데이터셋을 확인해야 해서 batch_size를 강제로 1로 조정.\n",
    "            shuffle=False,\n",
    "            num_workers=args.num_workers,\n",
    "            drop_last=False)"
   ]
  },
  {
   "cell_type": "code",
   "execution_count": 76,
   "id": "eb9bed52-c42f-4e11-a5d5-ee1a0dc71792",
   "metadata": {
    "scrolled": true
   },
   "outputs": [
    {
     "data": {
      "text/plain": [
       "Model(\n",
       "  (enc_embedding): DataEmbedding_inverted(\n",
       "    (value_embedding): Linear(in_features=24, out_features=128, bias=True)\n",
       "    (dropout): Dropout(p=0.1, inplace=False)\n",
       "  )\n",
       "  (encoder): Encoder(\n",
       "    (attn_layers): ModuleList(\n",
       "      (0-1): 2 x EncoderLayer(\n",
       "        (attention): AttentionLayer(\n",
       "          (inner_attention): FullAttention(\n",
       "            (dropout): Dropout(p=0.1, inplace=False)\n",
       "          )\n",
       "          (query_projection): Linear(in_features=128, out_features=128, bias=True)\n",
       "          (key_projection): Linear(in_features=128, out_features=128, bias=True)\n",
       "          (value_projection): Linear(in_features=128, out_features=128, bias=True)\n",
       "          (out_projection): Linear(in_features=128, out_features=128, bias=True)\n",
       "        )\n",
       "        (conv1): Conv1d(128, 2048, kernel_size=(1,), stride=(1,))\n",
       "        (conv2): Conv1d(2048, 128, kernel_size=(1,), stride=(1,))\n",
       "        (norm1): LayerNorm((128,), eps=1e-05, elementwise_affine=True)\n",
       "        (norm2): LayerNorm((128,), eps=1e-05, elementwise_affine=True)\n",
       "        (dropout): Dropout(p=0.1, inplace=False)\n",
       "      )\n",
       "    )\n",
       "    (norm): LayerNorm((128,), eps=1e-05, elementwise_affine=True)\n",
       "  )\n",
       "  (projection): Linear(in_features=128, out_features=24, bias=True)\n",
       ")"
      ]
     },
     "execution_count": 76,
     "metadata": {},
     "output_type": "execute_result"
    }
   ],
   "source": [
    "# 측정 모드로 전환\n",
    "exp_model.model.eval()"
   ]
  },
  {
   "cell_type": "code",
   "execution_count": 77,
   "id": "3852da6a-259f-4910-8bf4-0e5e42a0bd32",
   "metadata": {},
   "outputs": [],
   "source": [
    "# 트레인 데이터셋을 테스트해서 결과 받기, test 함수에서 가져옴\n",
    "preds_te_tr = []\n",
    "trues_te_tr = []\n",
    "origin_te_tr = []\n",
    "origin_y_te_tr = []\n",
    "\n",
    "for i, (batch_x, batch_y, batch_x_mark, batch_y_mark) in enumerate(dataset_exchange_24_loader):\n",
    "\n",
    "    origin_te_tr.append(batch_x)\n",
    "    origin_y_te_tr.append(batch_y)\n",
    "    batch_x = batch_x.float().to(exp_model.device)\n",
    "    batch_y = batch_y.float().to(exp_model.device)\n",
    "\n",
    "    batch_x_mark = batch_x_mark.float().to(exp_model.device)\n",
    "    batch_y_mark = batch_y_mark.float().to(exp_model.device)\n",
    "\n",
    "    # decoder input\n",
    "    dec_inp = torch.zeros_like(batch_y[:, -args.pred_len:, :]).float()\n",
    "    dec_inp = torch.cat([batch_y[:, :args.label_len, :], dec_inp], dim=1).float().to(exp_model.device)\n",
    "    # encoder - decoder\n",
    "\n",
    "    # use_amp도 사용하지 않음, \n",
    "    outputs = exp_model.model(batch_x, batch_x_mark, dec_inp, batch_y_mark)\n",
    "\n",
    "    outputs = outputs[:, -args.pred_len:, :]\n",
    "    batch_y = batch_y[:, -args.pred_len:, :].to(exp_model.device)\n",
    "    outputs = outputs.detach().cpu().numpy()\n",
    "    batch_y = batch_y.detach().cpu().numpy()\n",
    "\n",
    "    pred = outputs\n",
    "    true = batch_y\n",
    "\n",
    "    preds_te_tr.append(pred)\n",
    "    trues_te_tr.append(true)\n",
    "\n",
    "origin_te_tr = np.concatenate(origin_te_tr, axis=0) #원본 24\n",
    "origin_y_te_tr = np.concatenate(origin_y_te_tr, axis=0) # 뒤 36\n",
    "preds_te_tr = np.concatenate(preds_te_tr, axis=0) # 예측 24\n",
    "trues_te_tr = np.concatenate(trues_te_tr, axis=0) # 참값 24"
   ]
  },
  {
   "cell_type": "code",
   "execution_count": 83,
   "id": "6f2859ac-80f8-4ef5-ba42-737a57239775",
   "metadata": {
    "scrolled": true
   },
   "outputs": [
    {
     "data": {
      "text/plain": [
       "(5264, 24, 8)"
      ]
     },
     "execution_count": 83,
     "metadata": {},
     "output_type": "execute_result"
    }
   ],
   "source": [
    "preds_te_tr.shape"
   ]
  },
  {
   "cell_type": "code",
   "execution_count": 74,
   "id": "35d0caf3-bb55-4d1d-9dce-dd56df370ccc",
   "metadata": {},
   "outputs": [
    {
     "data": {
      "text/plain": [
       "658"
      ]
     },
     "execution_count": 74,
     "metadata": {},
     "output_type": "execute_result"
    }
   ],
   "source": [
    "dataset_exchange_24_loader.__len__()"
   ]
  },
  {
   "cell_type": "code",
   "execution_count": 64,
   "id": "678dd61a-c4d9-4e86-9e3b-50cf6a98104b",
   "metadata": {},
   "outputs": [
    {
     "data": {
      "text/plain": [
       "(24, 8)"
      ]
     },
     "execution_count": 64,
     "metadata": {},
     "output_type": "execute_result"
    }
   ],
   "source": [
    "exp_model"
   ]
  },
  {
   "cell_type": "code",
   "execution_count": 85,
   "id": "d56ac402-b341-4853-837c-b985e7496aad",
   "metadata": {},
   "outputs": [],
   "source": [
    "# 그 다음에 함수 4번 반복하기\n",
    "\n",
    "# 24-> 24로 결과 generation 방법\n",
    "# 첫번째 합성 데이터 사용\n",
    "# preds_te_tr에서 \n",
    "preds_m1_tr = [] # 1단계 합성\n",
    "preds_m2_tr = [] # 2단계 합성\n",
    "preds_m3_tr = [] # 3단계 합성\n",
    "preds_m4_tr = [] # 4단계 합성\n",
    "\n",
    "for i, (batch_x, batch_y, batch_x_mark, batch_y_mark) in enumerate(dataset_exchange_24_loader):\n",
    "\n",
    "    if i>=24:\n",
    "        batch_x1 = torch.Tensor([preds_te_tr[i-24]]).to(exp_model.device)\n",
    "        batch_y = batch_y.float().to(exp_model.device)\n",
    "    \n",
    "        batch_x_mark = batch_x_mark.float().to(exp_model.device)\n",
    "        batch_y_mark = batch_y_mark.float().to(exp_model.device)\n",
    "    \n",
    "        # decoder input\n",
    "        dec_inp = torch.zeros_like(batch_y[:, -args.pred_len:, :]).float()\n",
    "        dec_inp = torch.cat([batch_y[:, :args.label_len, :], dec_inp], dim=1).float().to(exp_model.device)\n",
    "        # encoder - decoder\n",
    "        # print(batch_x1, batch_x1.shape)\n",
    "        # use_amp도 사용하지 않음, \n",
    "        outputs1 = exp_model.model(batch_x1, batch_x_mark, dec_inp, batch_y_mark)\n",
    "    \n",
    "        outputs1 = outputs1[:, -args.pred_len:, :]\n",
    "        outputs1 = outputs1.detach().cpu().numpy()\n",
    "    \n",
    "        preds_m1_tr.append(outputs1)\n",
    "\n",
    "    if i>=48:\n",
    "        batch_x2 = torch.Tensor(preds_m1_tr[i-48]).to(exp_model.device)\n",
    "\n",
    "        # use_amp도 사용하지 않음, \n",
    "        outputs2 = exp_model.model(batch_x2, batch_x_mark, dec_inp, batch_y_mark)\n",
    "        outputs2 = outputs2[:, -args.pred_len:, :]\n",
    "        outputs2 = outputs2.detach().cpu().numpy()\n",
    "    \n",
    "        preds_m2_tr.append(outputs2)\n",
    "    \n",
    "    if i>=72:\n",
    "        batch_x3 = torch.Tensor(preds_m2_tr[i-72]).to(exp_model.device)\n",
    "\n",
    "        # use_amp도 사용하지 않음, \n",
    "        outputs3 = exp_model.model(batch_x3, batch_x_mark, dec_inp, batch_y_mark)\n",
    "        outputs3 = outputs3[:, -args.pred_len:, :]\n",
    "        outputs3 = outputs3.detach().cpu().numpy()\n",
    "    \n",
    "        preds_m3_tr.append(outputs3)\n",
    "\n",
    "    if i>=96:\n",
    "        batch_x4 = torch.Tensor(preds_m3_tr[i-96]).to(exp_model.device)\n",
    "\n",
    "        # use_amp도 사용하지 않음, \n",
    "        outputs4 = exp_model.model(batch_x4, batch_x_mark, dec_inp, batch_y_mark)\n",
    "        outputs4 = outputs4[:, -args.pred_len:, :]\n",
    "        outputs4 = outputs4.detach().cpu().numpy()\n",
    "    \n",
    "        preds_m4_tr.append(outputs4)\n",
    "\n",
    "preds_m1_tr = np.concatenate(preds_m1_tr, axis=0)\n",
    "preds_m2_tr = np.concatenate(preds_m2_tr, axis=0)\n",
    "preds_m3_tr = np.concatenate(preds_m3_tr, axis=0)\n",
    "preds_m4_tr = np.concatenate(preds_m4_tr, axis=0)"
   ]
  },
  {
   "cell_type": "code",
   "execution_count": 71,
   "id": "4b6d5fb2-4bd7-4cfe-b275-55e434d38395",
   "metadata": {},
   "outputs": [
    {
     "data": {
      "text/plain": [
       "torch.Size([8, 24, 8])"
      ]
     },
     "execution_count": 71,
     "metadata": {},
     "output_type": "execute_result"
    }
   ],
   "source": [
    "batch_x.shape"
   ]
  },
  {
   "cell_type": "code",
   "execution_count": 88,
   "id": "4ddda84b-240d-46ac-9228-7fa4af792d63",
   "metadata": {},
   "outputs": [
    {
     "data": {
      "text/plain": [
       "(5168, 24, 8)"
      ]
     },
     "execution_count": 88,
     "metadata": {},
     "output_type": "execute_result"
    }
   ],
   "source": [
    "preds_m4_tr.shape"
   ]
  },
  {
   "cell_type": "code",
   "execution_count": 79,
   "id": "119bb8e1-4550-4a94-ae37-247b884216ce",
   "metadata": {
    "scrolled": true
   },
   "outputs": [
    {
     "data": {
      "text/plain": [
       "torch.Size([8, 24, 8])"
      ]
     },
     "execution_count": 79,
     "metadata": {},
     "output_type": "execute_result"
    }
   ],
   "source": [
    "exp_model.model(torch.Tensor(preds_te_tr[0:8]).to('cuda:0'), None, torch.zeros_like(torch.Tensor(preds_te_tr[0:1])).to('cuda:0'), None).shape"
   ]
  },
  {
   "cell_type": "code",
   "execution_count": 91,
   "id": "996c3d7d-b0c7-4059-b416-f24095790661",
   "metadata": {},
   "outputs": [],
   "source": [
    "from utils.metrics import *"
   ]
  },
  {
   "cell_type": "code",
   "execution_count": null,
   "id": "2e69d1b7-66e8-4e0a-97f1-8a46e103735c",
   "metadata": {},
   "outputs": [],
   "source": [
    "MAE(origin_te_tr[24], "
   ]
  },
  {
   "cell_type": "code",
   "execution_count": 92,
   "id": "a96797f9-dd58-4e25-bf5c-39594697537f",
   "metadata": {},
   "outputs": [],
   "source": [
    "# 계수 확인하기 Linear\n",
    "from sklearn.linear_model import LinearRegression\n",
    "\n",
    "lr = LinearRegression()\n"
   ]
  },
  {
   "cell_type": "code",
   "execution_count": 115,
   "id": "03a33037-3de5-4630-be97-1309a8d31761",
   "metadata": {},
   "outputs": [],
   "source": [
    "starting = 0\n",
    "ending = 10000\n",
    "interval = 4\n",
    "\n",
    "nX = np.array([preds_te_tr[starting+72:ending:interval, :, :].reshape(-1), preds_m1_tr[starting+48:ending:interval, :, :].reshape(-1), preds_m2_tr[starting+24:ending:interval, :, :].reshape(-1), preds_m3_tr[starting:ending:interval, :, :].reshape(-1)])"
   ]
  },
  {
   "cell_type": "code",
   "execution_count": 116,
   "id": "057cae82-2d42-466f-bc96-8f7540d61eb0",
   "metadata": {},
   "outputs": [
    {
     "data": {
      "text/plain": [
       "(4, 249216)"
      ]
     },
     "execution_count": 116,
     "metadata": {},
     "output_type": "execute_result"
    }
   ],
   "source": [
    "nX.shape"
   ]
  },
  {
   "cell_type": "code",
   "execution_count": 117,
   "id": "fd6cf56e-549e-4d39-9c8d-485d4aa85c22",
   "metadata": {},
   "outputs": [],
   "source": [
    "ny = trues_te_tr[starting + 72:ending:interval, :, :].reshape(-1)"
   ]
  },
  {
   "cell_type": "code",
   "execution_count": 118,
   "id": "52f301a5-3c98-4159-b33a-040e25d5b7b2",
   "metadata": {},
   "outputs": [
    {
     "name": "stdout",
     "output_type": "stream",
     "text": [
      "[ 1.1327069  -0.16317949  0.03343371 -0.03550958] -0.03585648\n"
     ]
    }
   ],
   "source": [
    "reg1 = lr.fit(nX.T,ny)\n",
    "print(reg1.coef_, reg1.intercept_)"
   ]
  },
  {
   "cell_type": "code",
   "execution_count": 119,
   "id": "8e85a0c1-2e11-4dbf-9250-31c9dd8e4f4b",
   "metadata": {},
   "outputs": [],
   "source": [
    "coef_ = reg1.coef_\n",
    "intercept_ = reg1.intercept_"
   ]
  },
  {
   "cell_type": "code",
   "execution_count": 120,
   "id": "9b608a29-39c0-4404-a03a-68d0ad3e1652",
   "metadata": {},
   "outputs": [],
   "source": [
    "new_preds = np.zeros(trues_te_tr[starting + 72:ending:interval, :, :].shape)\n",
    "new_preds += coef_[0] * preds_te_tr[starting + 72:ending:interval, :, :]\n",
    "new_preds += coef_[1] * preds_m1_tr[starting + 48:ending:interval, :, :]\n",
    "new_preds += coef_[2] * preds_m2_tr[starting + 24:ending:interval, :, :]\n",
    "new_preds += coef_[3] * preds_m3_tr[starting : ending:interval, :, :]\n",
    "new_preds += intercept_ * np.ones(trues_te_tr[starting + 72:ending:interval, :, :].shape)"
   ]
  },
  {
   "cell_type": "code",
   "execution_count": 114,
   "id": "a665346e-6922-4559-b326-4cc6a230dbf7",
   "metadata": {},
   "outputs": [
    {
     "name": "stdout",
     "output_type": "stream",
     "text": [
      "BASIC\n",
      "0.046775393 0.13443415 -0.038286537 0.029879492285879123\n",
      "COMBI\n",
      "0.04320911021231734 0.1350289207552437 -8.103139981754961e-10 0.028889152379892515\n"
     ]
    }
   ],
   "source": [
    "print(\"BASIC\")\n",
    "print(MSE(preds_te_tr[72+starting:ending:interval], trues_te_tr[72+starting:ending:interval]), MAE(preds_te_tr[72+starting:ending:interval], trues_te_tr[72::4]), SMAE(preds_te_tr[72::4], trues_te_tr[72::4]), REC_CORR(preds_te_tr[72::4], trues_te_tr[72::4]))\n",
    "print(\"COMBI\")\n",
    "print(MSE(new_preds, trues_te_tr[72::4]), MAE(new_preds, trues_te_tr[72::4]), SMAE(new_preds, trues_te_tr[72::4]), REC_CORR(new_preds, trues_te_tr[72::4]))"
   ]
  },
  {
   "cell_type": "code",
   "execution_count": 121,
   "id": "25f96775-81d2-48f9-b03c-97c5e0b43d4f",
   "metadata": {},
   "outputs": [],
   "source": [
    "# test set call\n",
    "\n",
    "dataset_exchange_96_test = Dataset_Custom(args, './dataset/exchange_rate/',\n",
    "                                    flag='test', size=(96, 48, 96),\n",
    "                                    features='M', data_path = 'exchange_rate.csv',\n",
    "                                    target='OT', scale=True, freq='h', timeenc=0,\n",
    "                                    seasonal_patterns=None, train_ratio=0.7, test_ratio=0.2)"
   ]
  },
  {
   "cell_type": "code",
   "execution_count": 122,
   "id": "087daa35-1a61-46c6-885f-3fe39adbf8d2",
   "metadata": {},
   "outputs": [],
   "source": [
    "dataset_exchange_96_test_loader = DataLoader(\n",
    "            dataset_exchange_96_test,\n",
    "            batch_size=1, # 모든 데이터셋을 확인해야 해서 batch_size를 강제로 1로 조정.\n",
    "            shuffle=False,\n",
    "            num_workers=args.num_workers,\n",
    "            drop_last=False)"
   ]
  },
  {
   "cell_type": "code",
   "execution_count": 126,
   "id": "4bd64260-6e6b-4c75-a15f-063b75485e82",
   "metadata": {},
   "outputs": [],
   "source": [
    "preds_te = []\n",
    "trues_te = []\n",
    "losses = []\n",
    "\n",
    "for i, (batch_x, batch_y, batch_x_mark, batch_y_mark) in enumerate(dataset_exchange_96_test_loader):\n",
    "    \n",
    "    batch_x = batch_x.float().to(exp_model.device)\n",
    "    batch_y = batch_y.float().to(exp_model.device)\n",
    "    new_batch_y = batch_y[:, -96:, :]\n",
    "\n",
    "    batch_x_mark = batch_x_mark.float().to(exp_model.device)\n",
    "    batch_y_mark = batch_y_mark.float().to(exp_model.device)\n",
    "\n",
    "    # batch_x를 4등분\n",
    "    batch_x_parts = []\n",
    "    for c in range(4):\n",
    "        batch_x_part = batch_x[:, 24*c:24*(c+1), :]\n",
    "        batch_x_parts.append(batch_x_part)\n",
    "    batch_y_parts = []\n",
    "    for c in range(4):\n",
    "        batch_y_part = new_batch_y[:, 24*c:24*(c+1), :]\n",
    "        batch_y_parts.append(batch_y_part)\n",
    "\n",
    "    # batch_x에 대해 transform 수행\n",
    "    batch_x_transforms = []\n",
    "    for j, batch_x_part in enumerate(batch_x_parts):\n",
    "        output_y = batch_x_part.clone()\n",
    "        for k in range(len(batch_x_parts)-j):\n",
    "            output_y = exp_model.model(output_y, None, None, None)\n",
    "        batch_x_transforms.append(output_y)\n",
    "\n",
    "    # 그 다음에 coef_, intercept_ 계수 이용해서 처리\n",
    "    output_y = torch.zeros_like(batch_x_parts[0])\n",
    "    for d in range(4):\n",
    "        output_y += coef_[d] * batch_x_transforms[3-d]\n",
    "    output_y += intercept_ * torch.ones_like(batch_x_transforms[0])\n",
    "\n",
    "    # 마지막 - output_y를 이용해서 나머지 3개 유도\n",
    "    output_ys = []\n",
    "    new_output_y = output_y.clone()\n",
    "    output_ys.append(new_output_y)\n",
    "    for d in range(3):\n",
    "        new_output_y = exp_model.model(new_output_y, None, None, None)\n",
    "        output_ys.append(new_output_y)\n",
    "\n",
    "    fin_output_y = torch.cat(output_ys, axis=1)\n",
    "\n",
    "    pred = fin_output_y.detach().cpu().numpy()\n",
    "    true = batch_y[:,-96:,:].detach().cpu().numpy()\n",
    "    \n",
    "    preds_te.append(pred)\n",
    "    trues_te.append(true)\n",
    "\n",
    "    losses.append(MSE(pred, true))\n",
    "\n",
    "preds_te = np.concatenate(preds_te, axis=0)\n",
    "trues_te = np.concatenate(trues_te, axis=0)\n",
    "    "
   ]
  },
  {
   "cell_type": "code",
   "execution_count": 128,
   "id": "3cddd547-c528-42e8-a74c-594c64eb26dd",
   "metadata": {
    "scrolled": true
   },
   "outputs": [
    {
     "name": "stdout",
     "output_type": "stream",
     "text": [
      "[0.09921092, 0.09764546, 0.08848504, 0.08261774, 0.09181035, 0.09714904, 0.09189302, 0.113265924, 0.09848514, 0.08932983, 0.101230145, 0.11188953, 0.10853613, 0.10477028, 0.10533001, 0.10625008, 0.1106416, 0.12324405, 0.11650743, 0.13231766, 0.1489564, 0.16359614, 0.16862142, 0.16968162, 0.1724304, 0.15315047, 0.15209353, 0.15901124, 0.14886956, 0.12624565, 0.1254676, 0.11946785, 0.1071528, 0.09227109, 0.08409438, 0.09031091, 0.09007489, 0.099359624, 0.10273677, 0.10737428, 0.11118263, 0.11274562, 0.13401926, 0.1527098, 0.14322911, 0.15058215, 0.15058269, 0.14885895, 0.14316481, 0.15117325, 0.15883656, 0.11922573, 0.11766394, 0.11660709, 0.120343976, 0.11973151, 0.11792118, 0.111489505, 0.1136696, 0.11327293, 0.11500875, 0.10157349, 0.10409603, 0.10023272, 0.095270514, 0.09257095, 0.09497717, 0.08423704, 0.082125545, 0.07839546, 0.06859075, 0.060610354, 0.060264822, 0.056571577, 0.059229497, 0.07705751, 0.0682199, 0.06893066, 0.06637999, 0.066182256, 0.06618322, 0.06052087, 0.07404672, 0.07434977, 0.06655795, 0.05769827, 0.0550372, 0.050845355, 0.051111843, 0.06881107, 0.06988043, 0.04419662, 0.036482234, 0.038696047, 0.036594838, 0.037116695, 0.03731842, 0.041039784, 0.04212302, 0.03546845, 0.033499613, 0.0344753, 0.033560704, 0.02716436, 0.028329277, 0.035366233, 0.037685364, 0.038592998, 0.04025152, 0.038371395, 0.0352963, 0.032854557, 0.032273315, 0.031752322, 0.03334177, 0.036454137, 0.035372175, 0.037807778, 0.03791377, 0.04350068, 0.04127439, 0.042821985, 0.044498403, 0.052409753, 0.07491779, 0.07908309, 0.07592202, 0.073232196, 0.073025584, 0.07820928, 0.06982545, 0.07345871, 0.065050066, 0.06579492, 0.066575, 0.06614839, 0.07076805, 0.06939945, 0.07196053, 0.06216998, 0.058934126, 0.06065509, 0.062892556, 0.06509143, 0.07296309, 0.07108911, 0.072675906, 0.077217184, 0.07782074, 0.082978465, 0.09613168, 0.10359933, 0.10606588, 0.10697893, 0.10355123, 0.10230135, 0.107684724, 0.12264416, 0.13115852, 0.1463386, 0.1072276, 0.097553425, 0.100670636, 0.09338214, 0.09352389, 0.114211135, 0.12478735, 0.14112552, 0.14845617, 0.1522343, 0.14832579, 0.10843766, 0.11807662, 0.09161284, 0.08527698, 0.084434934, 0.0843097, 0.083202355, 0.07989843, 0.083540075, 0.09186403, 0.1115062, 0.109975606, 0.10766823, 0.117467605, 0.15460987, 0.1652702, 0.14457935, 0.13758825, 0.14301544, 0.14741738, 0.13007309, 0.12614319, 0.10252752, 0.09996811, 0.105148815, 0.09925121, 0.09584134, 0.09847525, 0.09849454, 0.099735774, 0.1057548, 0.09926347, 0.10784746, 0.10761446, 0.112520956, 0.09524823, 0.10132537, 0.111155726, 0.087544106, 0.06911684, 0.07517523, 0.07889762, 0.069396, 0.09438064, 0.0808517, 0.070499055, 0.08390216, 0.05766411, 0.048624087, 0.033546034, 0.032418452, 0.02937372, 0.03194436, 0.031962667, 0.03051878, 0.027917907, 0.033024002, 0.05845963, 0.06870591, 0.07047144, 0.067361414, 0.046081003, 0.03378852, 0.040560383, 0.045457106, 0.0608407, 0.0712229, 0.077044964, 0.08889052, 0.0934348, 0.11122913, 0.12743525, 0.12647794, 0.127488, 0.17268693, 0.16460161, 0.14961706, 0.2090836, 0.20143203, 0.19444191, 0.19283831, 0.20281588, 0.19782324, 0.14772373, 0.14199989, 0.12526922, 0.1325609, 0.13488479, 0.069781475, 0.0631804, 0.07957493, 0.059441578, 0.060002774, 0.056180667, 0.038486127, 0.036443453, 0.052485358, 0.036842126, 0.03250995, 0.034445066, 0.032912474, 0.038110215, 0.05563143, 0.078285396, 0.11054484, 0.10751303, 0.12434962, 0.1280965, 0.12241963, 0.0849435, 0.05886228, 0.03776966, 0.03751558, 0.037910305, 0.03898092, 0.048239157, 0.077203445, 0.075056456, 0.05625396, 0.057889894, 0.050503794, 0.050393924, 0.06371071, 0.07588819, 0.108829744, 0.13809855, 0.14123495, 0.14021565, 0.14065029, 0.1448373, 0.16077524, 0.15953876, 0.18297382, 0.20280993, 0.21538703, 0.23411, 0.21179084, 0.20352022, 0.15735762, 0.18318899, 0.12618302, 0.12587313, 0.123314895, 0.087324135, 0.07908096, 0.058589716, 0.0578972, 0.054781258, 0.05853319, 0.059111264, 0.046018366, 0.04103345, 0.037171822, 0.028130114, 0.02587258, 0.026093654, 0.026876716, 0.03315406, 0.031248087, 0.030479884, 0.03064693, 0.030834733, 0.032001227, 0.03245381, 0.032368258, 0.033080667, 0.034723986, 0.037687782, 0.04329066, 0.043653104, 0.04430199, 0.046021413, 0.047312338, 0.051151633, 0.047806207, 0.046735134, 0.046408102, 0.04890065, 0.04805416, 0.054235373, 0.058544755, 0.063088514, 0.06699202, 0.07527984, 0.07905064, 0.07061064, 0.083445735, 0.066994235, 0.06720825, 0.063200176, 0.064852506, 0.064496435, 0.0625445, 0.053051453, 0.053125832, 0.05445538, 0.05885577, 0.05894612, 0.060228545, 0.066490434, 0.06493987, 0.065129064, 0.06911553, 0.07073145, 0.066075705, 0.07210877, 0.07046784, 0.07098856, 0.062128704, 0.056405097, 0.05270366, 0.051938266, 0.051340982, 0.0543334, 0.054255914, 0.0570381, 0.047573294, 0.03557921, 0.033650093, 0.033037234, 0.03889903, 0.03252841, 0.033361793, 0.031931475, 0.030358896, 0.036685873, 0.037393477, 0.033650223, 0.022025466, 0.02827388, 0.02252307, 0.01891142, 0.019671472, 0.020721065, 0.021349812, 0.021349354, 0.023530789, 0.027913349, 0.029622009, 0.029931827, 0.028952561, 0.02905255, 0.033020947, 0.033905964, 0.048351545, 0.046136275, 0.047098067, 0.049748007, 0.052615065, 0.051679462, 0.05323662, 0.057270166, 0.05084381, 0.05746931, 0.05899192, 0.046814788, 0.045301866, 0.048230786, 0.06290329, 0.05971709, 0.06554633, 0.0637007, 0.06310187, 0.07249942, 0.07016564, 0.07287804, 0.04608098, 0.04286939, 0.036194995, 0.037227664, 0.03462401, 0.05377434, 0.06646192, 0.083518244, 0.09104729, 0.09192944, 0.08813564, 0.07721837, 0.08229282, 0.06845698, 0.08738983, 0.08972627, 0.08831433, 0.09430548, 0.09042343, 0.08103887, 0.115317225, 0.1247469, 0.12950484, 0.1384163, 0.12752105, 0.10211566, 0.09794285, 0.0723173, 0.061445687, 0.053404737, 0.051830012, 0.05714726, 0.04158592, 0.04154059, 0.034037787, 0.027796336, 0.026669594, 0.02671752, 0.02742955, 0.029812763, 0.033109933, 0.043587517, 0.065567754, 0.07516598, 0.07160071, 0.053968746, 0.04662684, 0.0675864, 0.05598155, 0.052786674, 0.05149285, 0.05409201, 0.059628654, 0.066865094, 0.053286348, 0.032757707, 0.03918034, 0.03807993, 0.04101158, 0.054151833, 0.05664441, 0.059752192, 0.039942723, 0.042704955, 0.038915157, 0.03786641, 0.028745813, 0.027973771, 0.035383273, 0.07099032, 0.071244106, 0.0734463, 0.077697545, 0.07282627, 0.05474331, 0.043013036, 0.028724918, 0.02631855, 0.025699714, 0.029190212, 0.026009195, 0.029938765, 0.03959656, 0.05006412, 0.031451847, 0.031740557, 0.04524679, 0.045254964, 0.026493965, 0.023639053, 0.022068352, 0.02324199, 0.023159012, 0.023887, 0.024501845, 0.027130766, 0.02678766, 0.032624338, 0.042668883, 0.03879824, 0.041128878, 0.04751728, 0.043888513, 0.046931256, 0.054055363, 0.04870303, 0.048392728, 0.04781699, 0.0536357, 0.04477617, 0.036214117, 0.03343202, 0.037347894, 0.083311, 0.03561463, 0.03142532, 0.030962816, 0.024679802, 0.028102627, 0.02305595, 0.03341653, 0.026146943, 0.033486202, 0.03019396, 0.02941936, 0.027712634, 0.029411992, 0.028723905, 0.02867043, 0.032416806, 0.030529603, 0.032209396, 0.03301429, 0.03314988, 0.039064102, 0.034742158, 0.035854395, 0.05534765, 0.050851952, 0.04594645, 0.049331993, 0.048190247, 0.04698813, 0.05886078, 0.06341099, 0.06499981, 0.05235961, 0.050932456, 0.05017763, 0.048796356, 0.04715663, 0.045518175, 0.03879087, 0.036020536, 0.037051007, 0.03854848, 0.040743377, 0.042878687, 0.045846775, 0.046060905, 0.050683867, 0.051225405, 0.05564384, 0.05905861, 0.06585151, 0.065091625, 0.072470106, 0.08066444, 0.08753193, 0.093800455, 0.09591878, 0.104468584, 0.11378512, 0.11223695, 0.10057083, 0.101060085, 0.097241156, 0.09690436, 0.10594983, 0.11834038, 0.121306896, 0.12730958, 0.45680544, 0.2151665, 0.18334043, 0.1444932, 0.10471687, 0.093119346, 0.09194454, 0.0936461, 0.102349676, 0.09789032, 0.10655755, 0.10470902, 0.11899757, 0.109680526, 0.09923521, 0.08089337, 0.07755808, 0.086993575, 0.07594513, 0.110383205, 0.10580326, 0.11526693, 0.0924007, 0.09183132, 0.094130866, 0.08250977, 0.09343082, 0.09351853, 0.09780741, 0.1065078, 0.11043044, 0.11422441, 0.109322466, 0.11079695, 0.11033139, 0.12408113, 0.12833367, 0.13107708, 0.13231497, 0.11391294, 0.10781144, 0.099366136, 0.09978569, 0.09895939, 0.0936234, 0.09448975, 0.1216825, 0.12697221, 0.12495353, 0.1307296, 0.13126157, 0.1330503, 0.106248945, 0.12560788, 0.11516663, 0.12825902, 0.13732998, 0.09418856, 0.08097057, 0.07386687, 0.065514736, 0.054185886, 0.05262309, 0.048735995, 0.055023342, 0.057385996, 0.05527537, 0.049916416, 0.04478384, 0.045282364, 0.04364565, 0.04515193, 0.05007295, 0.053240135, 0.05025877, 0.050528854, 0.05231755, 0.05234469, 0.053468317, 0.057264645, 0.061942726, 0.0640512, 0.06634459, 0.06667567, 0.06873705, 0.070465356, 0.07153494, 0.08505555, 0.08689765, 0.089734696, 0.09573343, 0.10799265, 0.111118376, 0.13919538, 0.14727987, 0.14607662, 0.13686047, 0.14113814, 0.1558484, 0.1775431, 0.17253798, 0.15926565, 0.17355345, 0.17370673, 0.17887473, 0.19479434, 0.2046948, 0.2126707, 0.17529011, 0.1374235, 0.12725453, 0.11881397, 0.1060409, 0.102497995, 0.09583566, 0.09314606, 0.09224656, 0.09573159, 0.097692885, 0.099068366, 0.10119909, 0.108465426, 0.103997014, 0.10418853, 0.10669899, 0.111572504, 0.11284441, 0.11381797, 0.09801987, 0.102832615, 0.121792614, 0.1277041, 0.13256411, 0.12177956, 0.11548429, 0.11713054, 0.10769797, 0.104321204, 0.10290289, 0.10466698, 0.11268739, 0.106721364, 0.11327348, 0.112894334, 0.10838991, 0.10866764, 0.11185781, 0.107538365, 0.10522169, 0.1071201, 0.104398094, 0.10444534, 0.106001236, 0.10323113, 0.0919072, 0.10303193, 0.09281915, 0.10117483, 0.10390154, 0.11030871, 0.11618493, 0.1143389, 0.11991181, 0.12124316, 0.118941486, 0.12718481, 0.12637435, 0.13179116, 0.13952519, 0.14469345, 0.13058414, 0.12930384, 0.135208, 0.13426957, 0.14707632, 0.1498474, 0.15150778, 0.15195443, 0.15936887, 0.16012755, 0.16237654, 0.15578921, 0.07346549, 0.09834566, 0.17459385, 0.24022484, 0.16208866, 0.12564793, 0.10105294, 0.07101294, 0.04381123, 0.066861175, 0.06908611, 0.029490912, 0.026996857, 0.032702364, 0.09017768, 0.087595664, 0.08906153, 0.10466602, 0.086607575, 0.07679052, 0.05927741, 0.043734748, 0.050180797, 0.045319993, 0.04491803, 0.04241943, 0.04759499, 0.064196, 0.04105248, 0.037453663, 0.036788497, 0.039090198, 0.03753954, 0.03165627, 0.03300537, 0.03317422, 0.036733385, 0.03864715, 0.04010288, 0.037378896, 0.038989086, 0.034925383, 0.032981377, 0.036760986, 0.03821079, 0.040765278, 0.043572117, 0.03935853, 0.047122944, 0.06001094, 0.081057265, 0.088638246, 0.113349505, 0.12539957, 0.1578703, 0.19531715, 0.19587348, 0.22401972, 0.23654057, 0.25405505, 0.23319447, 0.22177504, 0.15490776, 0.12257633, 0.08688903, 0.08816999, 0.09137412, 0.08404716, 0.07730709, 0.07562322, 0.074306495, 0.07441487, 0.07793506, 0.08003306, 0.11118368, 0.10790495, 0.07557059, 0.06948578, 0.06360983, 0.06662781, 0.06665162, 0.066241175, 0.06721505, 0.06954933, 0.09196144, 0.1119794, 0.12919451, 0.1414998, 0.16202909, 0.11328592, 0.09703058, 0.09025431, 0.09143442, 0.09371323, 0.09773912, 0.10059548, 0.10322633, 0.10987554, 0.08976463, 0.096018225, 0.09977782, 0.103140555, 0.10543025, 0.13560744, 0.14594059, 0.11839699, 0.102826275, 0.102360405, 0.101222046, 0.09829987, 0.11981108, 0.12881078, 0.10036828, 0.11312616, 0.102431245, 0.09869362, 0.073748596, 0.087018155, 0.1357335, 0.15494367, 0.1657889, 0.17028707, 0.1699123, 0.10127354, 0.07427759, 0.064163156, 0.06379193, 0.060023442, 0.061845597, 0.067686655, 0.06685456, 0.061979752, 0.06284419, 0.05438307, 0.047800425, 0.04861207, 0.049251538, 0.05314517, 0.068501495, 0.06913618, 0.057690013, 0.056479037, 0.056572348, 0.058020968, 0.058380157, 0.060798973, 0.07365855, 0.06583694, 0.08378684, 0.08200262, 0.08339683, 0.08265109, 0.082747556, 0.06939396, 0.10971173, 0.121379636, 0.13211927, 0.1351562, 0.10953345, 0.090312086, 0.08821841, 0.10069113, 0.07104074, 0.07451505, 0.0814867, 0.10447576, 0.07700747, 0.056937754, 0.053894103, 0.046981405, 0.041454226, 0.042442862, 0.034973606, 0.02780764, 0.034236033, 0.033114206, 0.031823233, 0.0360895, 0.0330997, 0.028545836, 0.026150746, 0.025222292, 0.027252987, 0.028347293, 0.03027304, 0.031959403, 0.030674899, 0.027798178, 0.029227965, 0.02758336, 0.030052567, 0.028565938, 0.029200098, 0.02393801, 0.028307995, 0.031783905, 0.025562817, 0.026882447, 0.026496619, 0.026805013, 0.02461393, 0.031045878, 0.035689544, 0.03433742, 0.03454853, 0.03731392, 0.037253093, 0.041164547, 0.038718626, 0.03131069, 0.031306896, 0.034955606, 0.036440257, 0.034479644, 0.034222797, 0.03506297, 0.030956557, 0.031715993, 0.031033223, 0.032453436, 0.034461398, 0.03600649, 0.029957166, 0.027472911, 0.024352143, 0.024352824, 0.025803724, 0.025699025, 0.03355601, 0.03683096, 0.048243087, 0.05220002, 0.063372076, 0.07381012, 0.07219017, 0.06974464, 0.04839757, 0.04683437, 0.04795979, 0.050461233, 0.0497932, 0.050260246, 0.043140132, 0.042704236, 0.036435932, 0.03586239, 0.03605752, 0.033923402, 0.034735467, 0.04307516, 0.051692624, 0.07255309, 0.061640244, 0.057418928, 0.054212898, 0.05703765, 0.06409991, 0.060764622, 0.05038087, 0.051290214, 0.056031525, 0.052152473, 0.048653215, 0.03592527, 0.035498794, 0.0326445, 0.036647953, 0.043976326, 0.047096025, 0.050645158, 0.057756905, 0.04626784, 0.07246658, 0.09701935, 0.10035164, 0.1099725, 0.11172623, 0.10093841, 0.100045584, 0.077365085, 0.04802942, 0.037677597, 0.03624047, 0.03667662, 0.04380237, 0.035352327, 0.039318655, 0.035845626, 0.050220847, 0.049755413, 0.05017216, 0.047870252, 0.045336794, 0.04536061, 0.042919755, 0.048935372, 0.055274803, 0.060596723, 0.06380793, 0.07107488, 0.06774228, 0.064885624, 0.07052282, 0.06797809, 0.067633726, 0.07063059, 0.077878185, 0.08270195, 0.0680834, 0.06596854, 0.065186374, 0.06625686, 0.07008817, 0.06184714, 0.06767541, 0.07317976, 0.078796245, 0.07860545, 0.08124872, 0.07756633, 0.07525057, 0.07605896, 0.06853398, 0.071960725, 0.074548505, 0.07430798, 0.06764712, 0.05876263, 0.06528338, 0.06557172, 0.06704391, 0.067922585, 0.069308735, 0.0623119, 0.06409193, 0.06315113, 0.085448034, 0.06890521, 0.07060797, 0.0663902, 0.06420214, 0.05889987, 0.06289657, 0.06266437, 0.06064858, 0.06589701, 0.065867834, 0.06636103, 0.070582174, 0.07449149, 0.07594818, 0.08066508, 0.08824688, 0.09023825, 0.10060203, 0.109073125, 0.12147013, 0.12847738, 0.1361998, 0.15074496, 0.15559353, 0.15526673, 0.17262568, 0.1766768, 0.201198, 0.21148825, 0.21913707, 0.22155643, 0.23056561, 0.22349077, 0.20482653, 0.20566966, 0.21515764, 0.22846918, 0.23958619, 0.25504398, 0.2279247, 0.2146975, 0.20110518, 0.20989652, 0.20317687, 0.20863934, 0.21705373, 0.22767979, 0.13780974, 0.09287408, 0.09841279, 0.09403002, 0.088508196, 0.07756085, 0.0671987, 0.071034424, 0.062600315, 0.059851136, 0.06136931, 0.06495092, 0.05914609, 0.07163872, 0.061059803, 0.06432957, 0.07147808, 0.0672202, 0.06744319, 0.07785216, 0.098715484, 0.09514254, 0.08492603, 0.11970055, 0.12694319, 0.13596599, 0.11918247, 0.1097103, 0.090435535, 0.06031546, 0.049887896, 0.04481341, 0.047052335, 0.055574764, 0.05402623, 0.05885135, 0.05555135, 0.042393837, 0.0473934, 0.047634467, 0.057229202, 0.0691384, 0.08653108, 0.027087284, 0.026022712, 0.028855823, 0.032159586, 0.031869937, 0.03239502, 0.038449813, 0.044378806, 0.058711886, 0.070259556, 0.076065145, 0.060797583, 0.04678772, 0.04389915, 0.04787128, 0.04671817, 0.048640016, 0.048805922, 0.046708476, 0.04633248, 0.044169694, 0.04400448, 0.042498235, 0.04272486, 0.04249509, 0.044374134, 0.046968106, 0.04424243, 0.045904297, 0.045977984, 0.04792556, 0.0507419, 0.056451514, 0.07204313, 0.0814778, 0.076405056, 0.08952182, 0.09405646, 0.0949019, 0.09107787, 0.098884314, 0.09485798, 0.07748752, 0.07774749, 0.08023568, 0.08317404, 0.0918139, 0.06754677, 0.063851945, 0.06367305, 0.067614935, 0.07182581, 0.07813106, 0.10827479, 0.13110484, 0.10579163, 0.13176914, 0.1412006, 0.14257653, 0.14703657, 0.14111291, 0.13481814, 0.16670625, 0.1930197, 0.18688299, 0.18011284, 0.19746733, 0.19336486, 0.20638035, 0.20244609, 0.2001328, 0.20979989, 0.21837111, 0.22203429, 0.22867632, 0.21481787, 0.18560608, 0.1718853, 0.12337353, 0.11805784, 0.10784471, 0.09422913, 0.111919194, 0.106580935, 0.10169702, 0.09756122, 0.08912957, 0.085384466, 0.092313886, 0.09558038, 0.08451617, 0.0921172, 0.096555136, 0.098226614, 0.09797293, 0.12614875, 0.13721329, 0.13882034, 0.16013457, 0.04370441, 0.029760325, 0.026109288, 0.046263497, 0.046064675, 0.027699215, 0.034540955, 0.017838761, 0.016104616, 0.015283366, 0.0146656595, 0.020550437, 0.025210237, 0.021011239, 0.017411262, 0.018309372, 0.017448748, 0.019887825, 0.035442643, 0.029629141, 0.039225318, 0.046278764, 0.050281182, 0.044853907, 0.05618663, 0.06889849, 0.08450434, 0.09008557, 0.09698681, 0.09625093, 0.09089556, 0.09268745, 0.07450719, 0.075847365, 0.04689455, 0.027400082, 0.031091603, 0.03367601, 0.031198904, 0.039195295, 0.038987827, 0.029486626, 0.029458081, 0.031908933, 0.031293083, 0.031565856, 0.031950045, 0.03305149, 0.030042822, 0.030774215, 0.034011126, 0.035164915, 0.038020566, 0.06263184, 0.05612344, 0.08640804, 0.07321126, 0.08185763, 0.06916661, 0.05567849, 0.06749774, 0.054701626, 0.060459524, 0.049637597, 0.04805247, 0.048096985, 0.046496004, 0.044842165, 0.04645626, 0.054991562, 0.055977836, 0.059920806, 0.06263549, 0.07129007, 0.10395962, 0.098876975, 0.09115773, 0.065441616, 0.06859011, 0.07411171, 0.061528664, 0.06304582, 0.07175433, 0.0796802, 0.06722739, 0.06883308, 0.07381216, 0.090273105, 0.08909085, 0.11108325, 0.13753577, 0.119081534, 0.139742, 0.13756053, 0.1526341]\n",
      "0.08028249\n"
     ]
    }
   ],
   "source": [
    "print(losses)\n",
    "print(np.mean(losses))"
   ]
  },
  {
   "cell_type": "code",
   "execution_count": 129,
   "id": "ad786509-29a4-4ca7-8bef-7f948eb4c0e1",
   "metadata": {},
   "outputs": [
    {
     "data": {
      "text/plain": [
       "(0.20592433, 0.0802825, 0.028551683, 0.026962838027102067)"
      ]
     },
     "execution_count": 129,
     "metadata": {},
     "output_type": "execute_result"
    }
   ],
   "source": [
    "MAE(preds_te, trues_te), MSE(preds_te, trues_te), SMAE(preds_te, trues_te), REC_CORR(preds_te, trues_te)"
   ]
  },
  {
   "cell_type": "code",
   "execution_count": 136,
   "id": "8547ac86-4c99-4596-85d2-b55b8e65109f",
   "metadata": {},
   "outputs": [],
   "source": [
    "%matplotlib inline"
   ]
  },
  {
   "cell_type": "code",
   "execution_count": 139,
   "id": "ece961b7-11f7-4a88-b636-1a07009bc3e1",
   "metadata": {
    "scrolled": true
   },
   "outputs": [
    {
     "data": {
      "image/png": "[encoded data removed]",
      "text/plain": [
       "<Figure size 640x480 with 1 Axes>"
      ]
     },
     "metadata": {},
     "output_type": "display_data"
    }
   ],
   "source": [
    "import matplotlib.pyplot as plt\n",
    "\n",
    "idx = 70\n",
    "var = -1\n",
    "plt.plot(range(192), np.concatenate([trues_te[idx, :, var], preds_te[idx+96, :, var]]))\n",
    "plt.plot(range(192), np.concatenate([trues_te[idx, :, var], trues_te[idx+96, :, var]]))\n",
    "plt.show()"
   ]
  },
  {
   "cell_type": "code",
   "execution_count": 140,
   "id": "7f531459-5333-408c-9c5a-7e04267976dc",
   "metadata": {},
   "outputs": [
    {
     "data": {
      "text/plain": [
       "array([ 1.1327069 , -0.16317949,  0.03343371, -0.03550958], dtype=float32)"
      ]
     },
     "execution_count": 140,
     "metadata": {},
     "output_type": "execute_result"
    }
   ],
   "source": [
    "coef_"
   ]
  },
  {
   "cell_type": "code",
   "execution_count": 162,
   "id": "45e09114-f65f-416f-b7c4-6723bf5c2445",
   "metadata": {
    "scrolled": true
   },
   "outputs": [
    {
     "data": {
      "image/png": "[encoded data removed]",
      "text/plain": [
       "<Figure size 640x480 with 1 Axes>"
      ]
     },
     "metadata": {},
     "output_type": "display_data"
    }
   ],
   "source": [
    "idx = 43\n",
    "plt.plot(range(48), np.concatenate( [trues_te[idx,:24,-1], exp_model.model(torch.Tensor(trues_te[:, :24, :]).to(\"cuda:0\"), None, None, None).detach().cpu().numpy()[idx, :, -1]]), label='pred')\n",
    "plt.plot(range(48), trues_te[idx,:48,-1], label='true')\n",
    "plt.legend()\n",
    "plt.show()"
   ]
  },
  {
   "cell_type": "code",
   "execution_count": 166,
   "id": "595c3c73-66b2-456d-a7b0-c45d8caef4ba",
   "metadata": {},
   "outputs": [
    {
     "data": {
      "text/plain": [
       "(96, 8)"
      ]
     },
     "execution_count": 166,
     "metadata": {},
     "output_type": "execute_result"
    }
   ],
   "source": [
    "# decomposition test\n",
    "\n",
    "dataset_exchange_96_test[0][0].shape"
   ]
  },
  {
   "cell_type": "code",
   "execution_count": 263,
   "id": "73b26de0-9839-4c54-bb41-501b63e29215",
   "metadata": {},
   "outputs": [
    {
     "data": {
      "text/plain": [
       "array([[ 3.09977206, -0.60896908,  2.1775895 , ...,  3.34683733,\n",
       "         3.07189512,  2.12391606],\n",
       "       [ 3.09640665, -0.6069101 ,  2.17571563, ...,  3.34229661,\n",
       "         3.07121216,  2.12801891],\n",
       "       [ 3.09640665, -0.60661766,  2.17571563, ...,  3.34229661,\n",
       "         3.07006192,  2.12801891],\n",
       "       ...,\n",
       "       [ 3.09593142, -0.54457384,  2.01029353, ...,  1.92468379,\n",
       "         3.31069522,  2.43916431],\n",
       "       [ 3.07664089, -0.61308106,  2.00138783, ...,  1.93830595,\n",
       "         3.25183541,  2.37199711],\n",
       "       [ 3.13818824, -0.57621643,  2.03798623, ...,  1.94829553,\n",
       "         3.30007349,  2.44173515]])"
      ]
     },
     "execution_count": 263,
     "metadata": {},
     "output_type": "execute_result"
    }
   ],
   "source": [
    "dataset_exchange_96_test[0][1]"
   ]
  },
  {
   "cell_type": "code",
   "execution_count": 168,
   "id": "1ec5327d-c2ac-40c0-a1a0-871114feccb8",
   "metadata": {},
   "outputs": [],
   "source": [
    "# x_enc\n",
    "x_enc = torch.stack([torch.Tensor(dataset_exchange_96_test[j][0]) for j in range(4)]).to('cuda:0')"
   ]
  },
  {
   "cell_type": "code",
   "execution_count": 169,
   "id": "790ceb1e-c1f1-4652-8c1b-cedfcdaa3296",
   "metadata": {},
   "outputs": [
    {
     "data": {
      "text/plain": [
       "torch.Size([4, 96, 8])"
      ]
     },
     "execution_count": 169,
     "metadata": {},
     "output_type": "execute_result"
    }
   ],
   "source": [
    "x_enc.shape"
   ]
  },
  {
   "cell_type": "code",
   "execution_count": 172,
   "id": "ddb703ed-74fd-466e-b255-d356a1c39649",
   "metadata": {},
   "outputs": [],
   "source": [
    "x_dec = torch.stack([torch.Tensor(dataset_exchange_96_test[j][1]) for j in range(4)]).to('cuda:0')"
   ]
  },
  {
   "cell_type": "code",
   "execution_count": 174,
   "id": "3805e3e7-1f1c-47ad-9873-e69ef23b814c",
   "metadata": {},
   "outputs": [],
   "source": [
    "x_dec = x_dec[:, -96:, :]"
   ]
  },
  {
   "cell_type": "code",
   "execution_count": 252,
   "id": "db2ec291-ef12-4dfc-a9d3-13fc61041d78",
   "metadata": {},
   "outputs": [],
   "source": [
    "x_dec0 = torch.stack([torch.Tensor(dataset_exchange_96_test[j][1]) for j in range(4)]).to('cuda:0')"
   ]
  },
  {
   "cell_type": "code",
   "execution_count": 254,
   "id": "3fa7d9be-aa3e-4c72-a434-ad83d6d70861",
   "metadata": {},
   "outputs": [
    {
     "data": {
      "text/plain": [
       "1.9872955"
      ]
     },
     "execution_count": 254,
     "metadata": {},
     "output_type": "execute_result"
    }
   ],
   "source": [
    "MAE(x_enc[:, -48:, :].detach().cpu().numpy(), x_dec0[:, :48, :].detach().cpu().numpy())"
   ]
  },
  {
   "cell_type": "code",
   "execution_count": 257,
   "id": "a6802444-7ea1-431c-8e27-9bdc794e9ad7",
   "metadata": {
    "scrolled": true
   },
   "outputs": [
    {
     "data": {
      "text/plain": [
       "tensor([[[ 3.0998, -0.6090,  2.1776,  ...,  3.3468,  3.0719,  2.1239],\n",
       "         [ 3.0964, -0.6069,  2.1757,  ...,  3.3423,  3.0712,  2.1280],\n",
       "         [ 3.0964, -0.6066,  2.1757,  ...,  3.3423,  3.0701,  2.1280],\n",
       "         ...,\n",
       "         [ 2.9140, -0.3829,  2.2714,  ...,  3.5094,  3.4395,  2.2249],\n",
       "         [ 2.9156, -0.3843,  2.2714,  ...,  3.5103,  3.4395,  2.2249],\n",
       "         [ 2.9330, -0.3867,  2.2844,  ...,  3.4594,  3.4448,  2.2474]],\n",
       "\n",
       "        [[ 3.0964, -0.6069,  2.1757,  ...,  3.3423,  3.0712,  2.1280],\n",
       "         [ 3.0964, -0.6066,  2.1757,  ...,  3.3423,  3.0701,  2.1280],\n",
       "         [ 3.1226, -0.6043,  2.1798,  ...,  3.3686,  3.0746,  2.1431],\n",
       "         ...,\n",
       "         [ 2.9156, -0.3843,  2.2714,  ...,  3.5103,  3.4395,  2.2249],\n",
       "         [ 2.9330, -0.3867,  2.2844,  ...,  3.4594,  3.4448,  2.2474],\n",
       "         [ 2.9481, -0.3573,  2.2074,  ...,  3.4386,  3.4672,  2.1908]],\n",
       "\n",
       "        [[ 3.0964, -0.6066,  2.1757,  ...,  3.3423,  3.0701,  2.1280],\n",
       "         [ 3.1226, -0.6043,  2.1798,  ...,  3.3686,  3.0746,  2.1431],\n",
       "         [ 3.1589, -0.5566,  2.1876,  ...,  3.3777,  3.1159,  2.1631],\n",
       "         ...,\n",
       "         [ 2.9330, -0.3867,  2.2844,  ...,  3.4594,  3.4448,  2.2474],\n",
       "         [ 2.9481, -0.3573,  2.2074,  ...,  3.4386,  3.4672,  2.1908],\n",
       "         [ 3.0493, -0.3342,  2.2724,  ...,  3.4576,  3.5157,  2.2820]],\n",
       "\n",
       "        [[ 3.1226, -0.6043,  2.1798,  ...,  3.3686,  3.0746,  2.1431],\n",
       "         [ 3.1589, -0.5566,  2.1876,  ...,  3.3777,  3.1159,  2.1631],\n",
       "         [ 3.1105, -0.5495,  2.1400,  ...,  3.4013,  3.0969,  2.1410],\n",
       "         ...,\n",
       "         [ 2.9481, -0.3573,  2.2074,  ...,  3.4386,  3.4672,  2.1908],\n",
       "         [ 3.0493, -0.3342,  2.2724,  ...,  3.4576,  3.5157,  2.2820],\n",
       "         [ 3.0642, -0.3472,  2.2532,  ...,  3.3913,  3.4959,  2.2756]]],\n",
       "       device='cuda:0')"
      ]
     },
     "execution_count": 257,
     "metadata": {},
     "output_type": "execute_result"
    }
   ],
   "source": [
    "x_dec0[:, :48, :]"
   ]
  },
  {
   "cell_type": "code",
   "execution_count": 260,
   "id": "989f66d4-a0ee-4a1f-8c99-6e70b72967d2",
   "metadata": {
    "scrolled": true
   },
   "outputs": [
    {
     "data": {
      "text/plain": [
       "tensor([[[ 0.5738, -0.4864,  0.4241,  ..., -1.2548, -0.3990, -0.1412],\n",
       "         [ 0.5493, -0.4721,  0.4127,  ..., -1.3032, -0.4026, -0.1085],\n",
       "         [ 0.5493, -0.4700,  0.4127,  ..., -1.3032, -0.4087, -0.1085],\n",
       "         ...,\n",
       "         [-0.7824,  1.0922,  0.9986,  ...,  0.4799,  1.5382,  0.6636],\n",
       "         [-0.7713,  1.0819,  0.9986,  ...,  0.4896,  1.5382,  0.6636],\n",
       "         [-0.6442,  1.0658,  1.0782,  ..., -0.0531,  1.5661,  0.8426]],\n",
       "\n",
       "        [[ 0.5447, -0.4932,  0.3942,  ..., -1.3772, -0.4410, -0.1301],\n",
       "         [ 0.5447, -0.4911,  0.3942,  ..., -1.3772, -0.4470, -0.1301],\n",
       "         [ 0.7397, -0.4747,  0.4193,  ..., -1.0857, -0.4228, -0.0085],\n",
       "         ...,\n",
       "         [-0.8019,  1.0552,  0.9874,  ...,  0.4827,  1.5070,  0.6512],\n",
       "         [-0.6723,  1.0391,  1.0679,  ..., -0.0803,  1.5349,  0.8323],\n",
       "         [-0.5598,  1.2434,  0.5906,  ..., -0.3115,  1.6535,  0.3757]],\n",
       "\n",
       "        [[ 0.5331, -0.5129,  0.3701,  ..., -1.4633, -0.4874, -0.1591],\n",
       "         [ 0.7324, -0.4966,  0.3955,  ..., -1.1596, -0.4631, -0.0367],\n",
       "         [ 1.0091, -0.1670,  0.4443,  ..., -1.0548, -0.2445,  0.1254],\n",
       "         ...,\n",
       "         [-0.7108,  1.0093,  1.0505,  ..., -0.1123,  1.4965,  0.8099],\n",
       "         [-0.5958,  1.2125,  0.5685,  ..., -0.3531,  1.6152,  0.3501],\n",
       "         [ 0.1748,  1.3722,  0.9754,  ..., -0.1332,  1.8717,  1.0910]],\n",
       "\n",
       "        [[ 0.7290, -0.5201,  0.3723,  ..., -1.1746, -0.5086, -0.0689],\n",
       "         [ 1.0163, -0.1912,  0.4220,  ..., -1.0691, -0.2880,  0.0956],\n",
       "         [ 0.6337, -0.1419,  0.1189,  ..., -0.7947, -0.3898, -0.0858],\n",
       "         ...,\n",
       "         [-0.6505,  1.1853,  0.5484,  ..., -0.3621,  1.5885,  0.3238],\n",
       "         [ 0.1498,  1.3446,  0.9627,  ..., -0.1405,  1.8474,  1.0757],\n",
       "         [ 0.2672,  1.2550,  0.8404,  ..., -0.9108,  1.7420,  1.0232]]],\n",
       "       device='cuda:0')"
      ]
     },
     "execution_count": 260,
     "metadata": {},
     "output_type": "execute_result"
    }
   ],
   "source": [
    "x_enc[:, 48:, :]"
   ]
  },
  {
   "cell_type": "code",
   "execution_count": 175,
   "id": "a97b893f-9d97-4176-8f23-9b71129efeca",
   "metadata": {},
   "outputs": [],
   "source": [
    "means = x_enc.mean(1, keepdim=True).detach()\n",
    "x_enc = x_enc - means\n",
    "stdev = torch.sqrt(torch.var(x_enc, dim=1, keepdim=True, unbiased=False) + 1e-5)\n",
    "x_enc /= stdev\n",
    "x_dec = x_dec - means[0, 0, 0] * torch.ones_like(x_dec) # x_dec도 같이 표준화\n",
    "x_dec = x_dec / stdev[0, 0, 0] * torch.ones_like(x_dec) "
   ]
  },
  {
   "cell_type": "code",
   "execution_count": 179,
   "id": "508ef947-8d52-496c-9f68-c9f5fbed9570",
   "metadata": {},
   "outputs": [],
   "source": [
    "x_enc_list = [x_enc[:,j*24:(j+1)*24, :] for j in range(4)] # 입력값 나누기\n",
    "x_dec_list = [x_dec[:,j*24:(j+1)*24, :] for j in range(4)] # 출력값 나누기"
   ]
  },
  {
   "cell_type": "code",
   "execution_count": 251,
   "id": "ae34225e-56a7-464f-a8f0-348e03d473a5",
   "metadata": {},
   "outputs": [
    {
     "data": {
      "text/plain": [
       "torch.Size([4, 24, 8])"
      ]
     },
     "execution_count": 251,
     "metadata": {},
     "output_type": "execute_result"
    }
   ],
   "source": [
    "x_enc_list[0].shape"
   ]
  },
  {
   "cell_type": "code",
   "execution_count": 181,
   "id": "5737011e-84ba-4d53-96d6-ca8f40dcfa1a",
   "metadata": {},
   "outputs": [
    {
     "data": {
      "text/plain": [
       "torch.Size([4, 24, 8])"
      ]
     },
     "execution_count": 181,
     "metadata": {},
     "output_type": "execute_result"
    }
   ],
   "source": [
    "x_enc_list[0].shape"
   ]
  },
  {
   "cell_type": "code",
   "execution_count": 186,
   "id": "ca731a96-6e9f-4756-a81f-5d874e39678c",
   "metadata": {},
   "outputs": [],
   "source": [
    "base_model = exp_model.model"
   ]
  },
  {
   "cell_type": "code",
   "execution_count": 194,
   "id": "653b8d88-1dfb-462d-abf0-99e2c790a1fc",
   "metadata": {},
   "outputs": [],
   "source": [
    "x_res1 = [] # 1단계 encoding\n",
    "x_res = [[] for _ in range(4)] # n단계 encoding"
   ]
  },
  {
   "cell_type": "code",
   "execution_count": 195,
   "id": "c6c48d01-6f9b-4ce4-b934-cd86f180562b",
   "metadata": {},
   "outputs": [],
   "source": [
    "# 1단계 텐서 입력\n",
    "for k, x_enc_part in enumerate(x_enc_list):\n",
    "    temp_enc = x_enc_part.clone() # 일단 복제\n",
    "    # k -> x_seg_num - k번 반복\n",
    "    for _ in range(4 - k):\n",
    "        # 0텐서 사용\n",
    "        temp_y_enc = torch.zeros(x_enc_part.shape[0], x_enc_part.shape[1]*3//2, x_enc_part.shape[2])\n",
    "        temp_enc = base_model(temp_enc, None, temp_y_enc, None)\n",
    "    x_res1.append(temp_enc)\n",
    "\n",
    "# N단계 텐서 입력 -> x_res 채우기\n",
    "x_res[0] = x_res1\n",
    "for l in range(1, 4):\n",
    "    temp_y_enc = torch.zeros(x_enc_part.shape[0], x_enc_part.shape[1]*3//2, x_enc_part.shape[2])\n",
    "    x_res[l] = [base_model(enc_part, None, temp_y_enc, None) for enc_part in x_res[l-1]]"
   ]
  },
  {
   "cell_type": "code",
   "execution_count": 196,
   "id": "314848c1-6465-4813-8bee-088e6c73d733",
   "metadata": {},
   "outputs": [
    {
     "data": {
      "text/plain": [
       "(4, 4)"
      ]
     },
     "execution_count": 196,
     "metadata": {},
     "output_type": "execute_result"
    }
   ],
   "source": [
    "len(x_res), len(x_res[0])"
   ]
  },
  {
   "cell_type": "code",
   "execution_count": 197,
   "id": "9d016d2d-935d-4c18-8d7e-a102a5ce88e7",
   "metadata": {},
   "outputs": [],
   "source": [
    "class LinearRegressionModel(nn.Module):\n",
    "    def __init__(self, input_dim, output_dim):\n",
    "        super(LinearRegressionModel, self).__init__()\n",
    "        # 선형 레이어 정의 (y = Wx + b)\n",
    "        self.linear = nn.Linear(input_dim, output_dim)\n",
    "    \n",
    "    def forward(self, x):\n",
    "        return self.linear(x)\n"
   ]
  },
  {
   "cell_type": "code",
   "execution_count": 219,
   "id": "ca408ef6-1b6d-4cb8-bee4-680eb851528e",
   "metadata": {},
   "outputs": [],
   "source": [
    "lrs = nn.ModuleList().to('cuda:0')\n",
    "for i in range(4):\n",
    "    lrs.append(nn.Linear(4,1).to('cuda:0'))"
   ]
  },
  {
   "cell_type": "code",
   "execution_count": 235,
   "id": "483730e0-66b5-43b1-8b13-703b592edce5",
   "metadata": {},
   "outputs": [],
   "source": [
    "x_res_tensors = [torch.stack(encs).permute(1,2,3,0).reshape(-1,4).to('cuda:0') for encs in x_res]\n",
    "y_res_tensors = [decs.reshape(-1, 1) for decs in x_dec_list]"
   ]
  },
  {
   "cell_type": "code",
   "execution_count": 236,
   "id": "32cebf88-a5c8-44d4-a13e-96266edb7ea3",
   "metadata": {},
   "outputs": [
    {
     "data": {
      "text/plain": [
       "(torch.Size([768, 4]), torch.Size([768, 1]))"
      ]
     },
     "execution_count": 236,
     "metadata": {},
     "output_type": "execute_result"
    }
   ],
   "source": [
    "x_res_tensors[0].shape, y_res_tensors[0].shape"
   ]
  },
  {
   "cell_type": "code",
   "execution_count": 239,
   "id": "264f63aa-c620-4842-8cde-283d58efa9e1",
   "metadata": {},
   "outputs": [],
   "source": [
    "coefs = [] # (a0,a1,a2,a3,b)\n",
    "for j in range(4):\n",
    "    y_res_tensors[j] = lrs[j](x_res_tensors[j])\n",
    "    coef_ = lrs[j].weight[0]\n",
    "    bias_ = lrs[j].bias\n",
    "    coefs.append(torch.cat([coef_, bias_], axis=0))"
   ]
  },
  {
   "cell_type": "code",
   "execution_count": 240,
   "id": "5a367189-1d4f-4c98-85ba-7ee44f58237b",
   "metadata": {
    "scrolled": true
   },
   "outputs": [
    {
     "data": {
      "text/plain": [
       "[tensor([ 0.2180,  0.1328,  0.1933, -0.3433, -0.0937], device='cuda:0',\n",
       "        grad_fn=<CatBackward0>),\n",
       " tensor([ 0.3669, -0.2887,  0.0725, -0.3750,  0.2191], device='cuda:0',\n",
       "        grad_fn=<CatBackward0>),\n",
       " tensor([-0.1976, -0.4606,  0.3701, -0.0416,  0.2517], device='cuda:0',\n",
       "        grad_fn=<CatBackward0>),\n",
       " tensor([ 0.1788,  0.0043,  0.3834, -0.1701,  0.2273], device='cuda:0',\n",
       "        grad_fn=<CatBackward0>)]"
      ]
     },
     "execution_count": 240,
     "metadata": {},
     "output_type": "execute_result"
    }
   ],
   "source": [
    "coefs"
   ]
  },
  {
   "cell_type": "code",
   "execution_count": 242,
   "id": "d66da27d-f7e3-45ff-b3aa-7bd102da4505",
   "metadata": {},
   "outputs": [],
   "source": [
    "from utils.metrics import *"
   ]
  },
  {
   "cell_type": "code",
   "execution_count": 246,
   "id": "0e121d38-087c-48f0-9cc7-38b0995d2c8e",
   "metadata": {},
   "outputs": [
    {
     "data": {
      "text/plain": [
       "7.9917235"
      ]
     },
     "execution_count": 246,
     "metadata": {},
     "output_type": "execute_result"
    }
   ],
   "source": [
    "idx = 2\n",
    "MAE(x_res[0][idx].detach().cpu().numpy(), x_dec_list[idx].detach().cpu().numpy())"
   ]
  },
  {
   "cell_type": "code",
   "execution_count": 247,
   "id": "092ce5ab-e7ce-4184-a17e-cb63b58ebe21",
   "metadata": {
    "scrolled": true
   },
   "outputs": [
    {
     "data": {
      "text/plain": [
       "array([[[1.8747675 , 1.6333113 , 1.6540275 , 1.5903393 , 0.76168233,\n",
       "         1.3712597 , 1.6139808 , 1.9140346 ],\n",
       "        [1.8836474 , 1.6387215 , 1.658486  , 1.5967461 , 0.76467144,\n",
       "         1.382139  , 1.6193366 , 1.9231642 ],\n",
       "        [1.8749067 , 1.6337116 , 1.6551794 , 1.5909445 , 0.76141334,\n",
       "         1.3743035 , 1.6141868 , 1.9134641 ],\n",
       "        [1.8814708 , 1.6397079 , 1.6590457 , 1.597816  , 0.76505715,\n",
       "         1.3874388 , 1.6199589 , 1.9215783 ],\n",
       "        [1.878743  , 1.6417745 , 1.6609718 , 1.6001209 , 0.76644325,\n",
       "         1.3903688 , 1.6222444 , 1.9198091 ],\n",
       "        [1.8849088 , 1.6466995 , 1.6646807 , 1.605402  , 0.7692413 ,\n",
       "         1.3990902 , 1.62761   , 1.9286045 ],\n",
       "        [1.8861495 , 1.6467296 , 1.664042  , 1.6057007 , 0.76903445,\n",
       "         1.4018854 , 1.6270938 , 1.9286926 ],\n",
       "        [1.8895135 , 1.6495436 , 1.6665891 , 1.6082865 , 0.770458  ,\n",
       "         1.4035002 , 1.6302541 , 1.9332161 ],\n",
       "        [1.8905197 , 1.6490566 , 1.6661322 , 1.607843  , 0.7701229 ,\n",
       "         1.4033024 , 1.6299931 , 1.9343988 ],\n",
       "        [1.8909829 , 1.6515863 , 1.6692457 , 1.610229  , 0.7716083 ,\n",
       "         1.4084625 , 1.6329943 , 1.936125  ],\n",
       "        [1.8969191 , 1.6549089 , 1.6707765 , 1.6138997 , 0.7732283 ,\n",
       "         1.4134166 , 1.6360079 , 1.9419073 ],\n",
       "        [1.9010843 , 1.6592978 , 1.6738381 , 1.6196212 , 0.7758732 ,\n",
       "         1.4231747 , 1.6403878 , 1.9476756 ],\n",
       "        [1.9033704 , 1.6594633 , 1.6737139 , 1.6195314 , 0.7759809 ,\n",
       "         1.4203881 , 1.6403434 , 1.9496819 ],\n",
       "        [1.902273  , 1.6590213 , 1.6734447 , 1.6191313 , 0.7756856 ,\n",
       "         1.4221786 , 1.6401285 , 1.9488398 ],\n",
       "        [1.900754  , 1.6580286 , 1.6726098 , 1.6178077 , 0.77547884,\n",
       "         1.4168428 , 1.6392686 , 1.9473772 ],\n",
       "        [1.9041693 , 1.6603942 , 1.6735631 , 1.6210189 , 0.7768544 ,\n",
       "         1.4232563 , 1.6416821 , 1.9506484 ],\n",
       "        [1.907074  , 1.6601412 , 1.6737432 , 1.6209704 , 0.7767101 ,\n",
       "         1.4259927 , 1.6410285 , 1.9531691 ],\n",
       "        [1.9046757 , 1.6616075 , 1.6752797 , 1.6221923 , 0.7772788 ,\n",
       "         1.4281888 , 1.6427999 , 1.9522724 ],\n",
       "        [1.9021566 , 1.657513  , 1.6714759 , 1.618094  , 0.7751742 ,\n",
       "         1.4184299 , 1.6384035 , 1.9477994 ],\n",
       "        [1.9093361 , 1.6625471 , 1.6758229 , 1.6236298 , 0.77805835,\n",
       "         1.426986  , 1.6438612 , 1.9567907 ],\n",
       "        [1.9104153 , 1.6624213 , 1.6762118 , 1.6235794 , 0.7777802 ,\n",
       "         1.4310948 , 1.643505  , 1.9567735 ],\n",
       "        [1.9076186 , 1.6630781 , 1.6753079 , 1.6237822 , 0.7781348 ,\n",
       "         1.4310055 , 1.6441345 , 1.9556583 ],\n",
       "        [1.9043179 , 1.6570958 , 1.6714538 , 1.6173491 , 0.7749077 ,\n",
       "         1.4158394 , 1.6381868 , 1.9496126 ],\n",
       "        [1.9107245 , 1.663792  , 1.6758319 , 1.6253619 , 0.77872837,\n",
       "         1.4327747 , 1.6441673 , 1.9575953 ]],\n",
       "\n",
       "       [[1.6825473 , 1.7718676 , 1.5065897 , 1.598475  , 0.69351184,\n",
       "         0.48731077, 1.5468416 , 2.013326  ],\n",
       "        [1.6885241 , 1.7782891 , 1.5104122 , 1.6057395 , 0.69791853,\n",
       "         0.4949354 , 1.5523552 , 2.0184362 ],\n",
       "        [1.6828315 , 1.7738243 , 1.5077847 , 1.6007661 , 0.69498926,\n",
       "         0.48873845, 1.548495  , 2.0124667 ],\n",
       "        [1.6905171 , 1.780573  , 1.5121334 , 1.6084979 , 0.69905245,\n",
       "         0.5024253 , 1.5550864 , 2.0203607 ],\n",
       "        [1.6914604 , 1.7838644 , 1.5153058 , 1.6118417 , 0.70120656,\n",
       "         0.51113135, 1.5588824 , 2.0223708 ],\n",
       "        [1.700272  , 1.7879603 , 1.5181075 , 1.6164582 , 0.70365995,\n",
       "         0.51344174, 1.563499  , 2.0307357 ],\n",
       "        [1.7032038 , 1.7890987 , 1.5192016 , 1.6181687 , 0.70450026,\n",
       "         0.52217335, 1.5641327 , 2.0316057 ],\n",
       "        [1.703809  , 1.7912499 , 1.5197486 , 1.6199524 , 0.7059105 ,\n",
       "         0.51717603, 1.566108  , 2.0346186 ],\n",
       "        [1.7019832 , 1.7885159 , 1.517856  , 1.617306  , 0.70434415,\n",
       "         0.5213236 , 1.5635743 , 2.033291  ],\n",
       "        [1.7067693 , 1.7898132 , 1.519578  , 1.6184365 , 0.7050413 ,\n",
       "         0.51973104, 1.5657239 , 2.0362442 ],\n",
       "        [1.7114756 , 1.7938474 , 1.5228028 , 1.6225235 , 0.70827234,\n",
       "         0.52372396, 1.5697674 , 2.0412393 ],\n",
       "        [1.7125661 , 1.7966049 , 1.5227338 , 1.6263098 , 0.7095235 ,\n",
       "         0.533422  , 1.5713435 , 2.0426056 ],\n",
       "        [1.7095209 , 1.7954942 , 1.5220973 , 1.6246879 , 0.7092953 ,\n",
       "         0.5278997 , 1.56991   , 2.0412738 ],\n",
       "        [1.7095723 , 1.7954644 , 1.5224887 , 1.6250544 , 0.7091838 ,\n",
       "         0.5324414 , 1.5705848 , 2.041159  ],\n",
       "        [1.7113004 , 1.7955148 , 1.5223768 , 1.6246425 , 0.7087823 ,\n",
       "         0.5245731 , 1.57045   , 2.042414  ],\n",
       "        [1.7137389 , 1.7984728 , 1.523824  , 1.6278446 , 0.7104288 ,\n",
       "         0.5352092 , 1.5731591 , 2.0460582 ],\n",
       "        [1.7156997 , 1.7973516 , 1.5233043 , 1.627787  , 0.7097872 ,\n",
       "         0.5358549 , 1.5716723 , 2.0440845 ],\n",
       "        [1.7165285 , 1.7986869 , 1.5250574 , 1.6291175 , 0.7104097 ,\n",
       "         0.53900313, 1.5737923 , 2.046396  ],\n",
       "        [1.708428  , 1.7940116 , 1.5205443 , 1.6235279 , 0.7077165 ,\n",
       "         0.52757215, 1.5677991 , 2.0387435 ],\n",
       "        [1.7174186 , 1.7993625 , 1.5236735 , 1.6300119 , 0.71079767,\n",
       "         0.54022497, 1.572914  , 2.0475645 ],\n",
       "        [1.7206957 , 1.7987163 , 1.5246285 , 1.6292523 , 0.71091396,\n",
       "         0.5430461 , 1.5731008 , 2.048538  ],\n",
       "        [1.720444  , 1.8000256 , 1.5253187 , 1.6303144 , 0.7116584 ,\n",
       "         0.54274035, 1.5748702 , 2.0502975 ],\n",
       "        [1.7138464 , 1.7948713 , 1.5213785 , 1.62461   , 0.7081431 ,\n",
       "         0.5284304 , 1.5686512 , 2.0433633 ],\n",
       "        [1.7215365 , 1.802763  , 1.5265809 , 1.633928  , 0.7133296 ,\n",
       "         0.5446099 , 1.5757633 , 2.0501122 ]],\n",
       "\n",
       "       [[1.5473449 , 1.8248162 , 1.4270872 , 1.6117913 , 0.7262815 ,\n",
       "         0.49506295, 1.5054324 , 2.1159573 ],\n",
       "        [1.5509666 , 1.8310922 , 1.4303907 , 1.6179235 , 0.7298377 ,\n",
       "         0.50332075, 1.5109448 , 2.1206405 ],\n",
       "        [1.5501478 , 1.8282845 , 1.4289758 , 1.6154075 , 0.72814673,\n",
       "         0.50181705, 1.5087382 , 2.117582  ],\n",
       "        [1.5583739 , 1.8352876 , 1.4341083 , 1.622474  , 0.7319098 ,\n",
       "         0.5113134 , 1.5153862 , 2.1255946 ],\n",
       "        [1.5628257 , 1.8389615 , 1.4364473 , 1.6259294 , 0.73348874,\n",
       "         0.5208355 , 1.51951   , 2.1309996 ],\n",
       "        [1.5684249 , 1.844015  , 1.4386977 , 1.6306487 , 0.73603904,\n",
       "         0.52189887, 1.5240784 , 2.1394744 ],\n",
       "        [1.5715739 , 1.8441367 , 1.4398836 , 1.6313386 , 0.7361696 ,\n",
       "         0.53049743, 1.5243475 , 2.1386342 ],\n",
       "        [1.5729388 , 1.8462574 , 1.4407933 , 1.6329932 , 0.7375864 ,\n",
       "         0.52282894, 1.526058  , 2.1418586 ],\n",
       "        [1.5731325 , 1.8448703 , 1.4395607 , 1.6319493 , 0.7365143 ,\n",
       "         0.52516556, 1.5245035 , 2.1411867 ],\n",
       "        [1.5759029 , 1.8455578 , 1.4398538 , 1.6321769 , 0.7371797 ,\n",
       "         0.5228784 , 1.5255482 , 2.1444538 ],\n",
       "        [1.5842205 , 1.8508209 , 1.4433154 , 1.6376454 , 0.73966813,\n",
       "         0.5318534 , 1.5310147 , 2.1522918 ],\n",
       "        [1.5821743 , 1.8519034 , 1.4431711 , 1.6385707 , 0.7400683 ,\n",
       "         0.53372085, 1.5308883 , 2.1516483 ],\n",
       "        [1.5781639 , 1.8510386 , 1.4428303 , 1.637772  , 0.7398471 ,\n",
       "         0.5294589 , 1.5298918 , 2.1481357 ],\n",
       "        [1.5806127 , 1.8513405 , 1.4428532 , 1.6381973 , 0.73953384,\n",
       "         0.5308342 , 1.5304859 , 2.1497424 ],\n",
       "        [1.5779539 , 1.850247  , 1.4417802 , 1.6364045 , 0.7391262 ,\n",
       "         0.5246398 , 1.5293534 , 2.1497624 ],\n",
       "        [1.5880722 , 1.8551749 , 1.4448706 , 1.6417481 , 0.7412814 ,\n",
       "         0.5357646 , 1.5343454 , 2.1593726 ],\n",
       "        [1.5827477 , 1.852773  , 1.4432379 , 1.6393548 , 0.74024636,\n",
       "         0.53333855, 1.5309271 , 2.1520724 ],\n",
       "        [1.5862324 , 1.8544728 , 1.4451028 , 1.6412107 , 0.7413531 ,\n",
       "         0.53474224, 1.5334247 , 2.1554046 ],\n",
       "        [1.5766716 , 1.8457843 , 1.4385245 , 1.6323997 , 0.7366001 ,\n",
       "         0.5235686 , 1.5242329 , 2.1452835 ],\n",
       "        [1.5839024 , 1.8524685 , 1.4421079 , 1.6392163 , 0.7405481 ,\n",
       "         0.5308817 , 1.529949  , 2.1535454 ],\n",
       "        [1.5868468 , 1.8521359 , 1.4427375 , 1.6392682 , 0.7403859 ,\n",
       "         0.5349858 , 1.5303638 , 2.1533368 ],\n",
       "        [1.59041   , 1.8550069 , 1.4444498 , 1.641887  , 0.74130756,\n",
       "         0.53809476, 1.5332793 , 2.1584063 ],\n",
       "        [1.5829995 , 1.8517294 , 1.4423152 , 1.638564  , 0.74024147,\n",
       "         0.5321592 , 1.5296673 , 2.1523044 ],\n",
       "        [1.586042  , 1.8570272 , 1.4447668 , 1.6438742 , 0.7431162 ,\n",
       "         0.54078174, 1.5336725 , 2.1548069 ]],\n",
       "\n",
       "       [[1.716188  , 1.7744461 , 1.3873699 , 1.6427921 , 0.8479667 ,\n",
       "         0.78763115, 1.4738994 , 2.1916938 ],\n",
       "        [1.7181704 , 1.7779874 , 1.3889309 , 1.6463244 , 0.85022634,\n",
       "         0.79120374, 1.4772067 , 2.1938572 ],\n",
       "        [1.7197976 , 1.7781495 , 1.3890502 , 1.6464764 , 0.84998417,\n",
       "         0.7927805 , 1.4774036 , 2.194579  ],\n",
       "        [1.7229769 , 1.7834758 , 1.3918703 , 1.6516222 , 0.8526624 ,\n",
       "         0.8022195 , 1.4818699 , 2.1995022 ],\n",
       "        [1.7325032 , 1.7861848 , 1.396336  , 1.6535087 , 0.8537957 ,\n",
       "         0.8076299 , 1.4859248 , 2.207462  ],\n",
       "        [1.735877  , 1.7894408 , 1.397597  , 1.6569592 , 0.8553379 ,\n",
       "         0.8077277 , 1.4890445 , 2.2146666 ],\n",
       "        [1.7347851 , 1.7883723 , 1.3984166 , 1.6561537 , 0.8548708 ,\n",
       "         0.8110222 , 1.4879718 , 2.210369  ],\n",
       "        [1.7338701 , 1.7920008 , 1.3969465 , 1.6598569 , 0.8572524 ,\n",
       "         0.8129122 , 1.4901172 , 2.2139149 ],\n",
       "        [1.7376827 , 1.7927482 , 1.3983154 , 1.6603339 , 0.85791945,\n",
       "         0.8110804 , 1.4905305 , 2.2156527 ],\n",
       "        [1.741282  , 1.7929133 , 1.398141  , 1.6604509 , 0.8571279 ,\n",
       "         0.81103885, 1.4913597 , 2.2191465 ],\n",
       "        [1.7436807 , 1.7974907 , 1.4004449 , 1.6644295 , 0.86058146,\n",
       "         0.8098507 , 1.4952596 , 2.2229788 ],\n",
       "        [1.7406125 , 1.7973884 , 1.3990926 , 1.6648808 , 0.8601547 ,\n",
       "         0.8161545 , 1.4943773 , 2.222571  ],\n",
       "        [1.7381718 , 1.7987458 , 1.4002354 , 1.6660112 , 0.86168486,\n",
       "         0.8135776 , 1.4959122 , 2.2200818 ],\n",
       "        [1.7414635 , 1.7978752 , 1.3992362 , 1.6648077 , 0.86059415,\n",
       "         0.81294954, 1.4946373 , 2.222206  ],\n",
       "        [1.7409986 , 1.7964365 , 1.3990916 , 1.6639279 , 0.8600514 ,\n",
       "         0.81119   , 1.4946437 , 2.2230866 ],\n",
       "        [1.749597  , 1.8015888 , 1.4024774 , 1.6688176 , 0.8631074 ,\n",
       "         0.81734335, 1.4990033 , 2.2329879 ],\n",
       "        [1.7421054 , 1.7966765 , 1.398975  , 1.6643554 , 0.8603717 ,\n",
       "         0.8172213 , 1.4936931 , 2.2231114 ],\n",
       "        [1.7468014 , 1.7974598 , 1.4006039 , 1.6650985 , 0.8602709 ,\n",
       "         0.8178026 , 1.4953533 , 2.2270021 ],\n",
       "        [1.7382151 , 1.7904915 , 1.3942655 , 1.6584245 , 0.85753775,\n",
       "         0.80754364, 1.4871689 , 2.2166445 ],\n",
       "        [1.7432137 , 1.7952253 , 1.3963068 , 1.6633186 , 0.8598702 ,\n",
       "         0.8163793 , 1.4912271 , 2.2228367 ],\n",
       "        [1.7437195 , 1.795202  , 1.39735   , 1.6626875 , 0.85927254,\n",
       "         0.81445915, 1.4913205 , 2.2209764 ],\n",
       "        [1.7445905 , 1.7974079 , 1.3988179 , 1.6647751 , 0.86048084,\n",
       "         0.8150183 , 1.4934673 , 2.2245843 ],\n",
       "        [1.7449393 , 1.7983489 , 1.3998338 , 1.6664672 , 0.86255664,\n",
       "         0.8184452 , 1.4948853 , 2.2239785 ],\n",
       "        [1.7443702 , 1.8002188 , 1.4008379 , 1.6681001 , 0.8634287 ,\n",
       "         0.8253966 , 1.4956096 , 2.2228944 ]]], dtype=float32)"
      ]
     },
     "execution_count": 247,
     "metadata": {},
     "output_type": "execute_result"
    }
   ],
   "source": [
    "x_res[0][idx].detach().cpu().numpy()"
   ]
  },
  {
   "cell_type": "code",
   "execution_count": 249,
   "id": "0a022e94-b900-4198-a8c1-13a24f019d45",
   "metadata": {
    "scrolled": true
   },
   "outputs": [
    {
     "data": {
      "text/plain": [
       "array([[[ 1.04719746e+00, -2.48921585e+01, -6.02800989e+00,\n",
       "         -1.59797873e-02, -1.54382706e+01, -5.00035584e-01,\n",
       "          3.11595249e+00, -4.48797560e+00],\n",
       "        [ 1.24534762e+00, -2.47309208e+01, -6.00015211e+00,\n",
       "         -1.19286971e-02, -1.55209427e+01, -5.33191144e-01,\n",
       "          3.13353729e+00, -4.20417261e+00],\n",
       "        [ 1.31828988e+00, -2.46256790e+01, -5.84773540e+00,\n",
       "          7.16935217e-01, -1.56173019e+01, -1.62733400e+00,\n",
       "          3.14232898e+00, -3.74644303e+00],\n",
       "        [ 1.44498265e+00, -2.45899448e+01, -5.94217634e+00,\n",
       "          1.09495413e+00, -1.55279255e+01, -1.61407173e+00,\n",
       "          3.29206610e+00, -3.72728777e+00],\n",
       "        [ 1.54795384e+00, -2.44461365e+01, -5.92764664e+00,\n",
       "          1.22319460e+00, -1.55209427e+01, -1.60080957e+00,\n",
       "          3.33615994e+00, -3.55489087e+00],\n",
       "        [ 1.50886178e+00, -2.44461365e+01, -5.93857765e+00,\n",
       "          1.22319460e+00, -1.55209427e+01, -1.59417844e+00,\n",
       "          3.33615994e+00, -3.55489087e+00],\n",
       "        [ 1.43705106e+00, -2.43045959e+01, -5.80922651e+00,\n",
       "          1.26342690e+00, -1.54835167e+01, -1.80637586e+00,\n",
       "          3.28760409e+00, -3.71640706e+00],\n",
       "        [ 1.31595182e+00, -2.40698853e+01, -5.88159084e+00,\n",
       "          1.62726605e+00, -1.54363155e+01, -2.07162213e+00,\n",
       "          3.48248482e+00, -3.87164021e+00],\n",
       "        [ 1.07134736e+00, -2.39776726e+01, -5.99655342e+00,\n",
       "          1.76193225e+00, -1.54332428e+01, -2.35676360e+00,\n",
       "          3.40991330e+00, -4.29014206e+00],\n",
       "        [ 9.36225116e-01, -2.40192032e+01, -6.10714436e+00,\n",
       "          1.62391305e+00, -1.54377117e+01, -2.37665701e+00,\n",
       "          3.37146187e+00, -4.55992174e+00],\n",
       "        [ 5.23851216e-01, -2.44649200e+01, -6.54450035e+00,\n",
       "          1.28542852e+00, -1.54195576e+01, -2.16445971e+00,\n",
       "          3.14232898e+00, -5.23885679e+00],\n",
       "        [ 4.18333054e-01, -2.44392948e+01, -6.46776485e+00,\n",
       "          1.41429913e+00, -1.54419003e+01, -2.27055740e+00,\n",
       "          3.19075394e+00, -5.30383062e+00],\n",
       "        [ 1.70467898e-01, -2.46947517e+01, -6.33890629e+00,\n",
       "          1.39348483e+00, -1.54678764e+01, -2.82094526e+00,\n",
       "          3.11595249e+00, -5.37654305e+00],\n",
       "        [ 1.52905628e-01, -2.45786152e+01, -6.43560314e+00,\n",
       "          1.40179598e+00, -1.54432983e+01, -2.82757640e+00,\n",
       "          3.14666033e+00, -5.45415974e+00],\n",
       "        [ 2.11137235e-02, -2.46862526e+01, -6.54739237e+00,\n",
       "          1.62726605e+00, -1.54865894e+01, -3.57689953e+00,\n",
       "          2.96660876e+00, -5.88813829e+00],\n",
       "        [ 1.13388777e-01, -2.46693001e+01, -6.55486917e+00,\n",
       "          1.55741739e+00, -1.54720650e+01, -3.92171931e+00,\n",
       "          3.01096535e+00, -5.77573681e+00],\n",
       "        [ 2.62673318e-01, -2.45104580e+01, -6.60938740e+00,\n",
       "          1.60344696e+00, -1.54326839e+01, -3.98803210e+00,\n",
       "          2.96660876e+00, -5.50587893e+00],\n",
       "        [ 1.66998267e-01, -2.44375954e+01, -6.69931412e+00,\n",
       "          1.61888361e+00, -1.54455318e+01, -3.87530136e+00,\n",
       "          2.93156958e+00, -5.58579350e+00],\n",
       "        [ 3.19186658e-01, -2.40986900e+01, -6.69642258e+00,\n",
       "          1.42302978e+00, -1.54145298e+01, -4.39916468e+00,\n",
       "          3.12474418e+00, -5.04822540e+00],\n",
       "        [ 3.58207345e-01, -2.41618786e+01, -6.52136755e+00,\n",
       "          1.43930376e+00, -1.54664803e+01, -4.53841829e+00,\n",
       "          3.15112233e+00, -5.00891781e+00],\n",
       "        [ 1.05187190e+00, -2.40583801e+01, -5.90225554e+00,\n",
       "          1.36645210e+00, -1.54340801e+01, -4.86997747e+00,\n",
       "          3.19547892e+00, -4.51203489e+00],\n",
       "        [ 1.20306790e+00, -2.45331631e+01, -5.88335419e+00,\n",
       "          8.71788919e-01, -1.54296122e+01, -4.73072243e+00,\n",
       "          3.07198930e+00, -4.63432121e+00],\n",
       "        [ 7.85737634e-01, -2.49960499e+01, -5.89788246e+00,\n",
       "          5.98962665e-01, -1.54167643e+01, -5.76518536e+00,\n",
       "          2.47815895e+00, -4.89590311e+00],\n",
       "        [ 9.73971486e-01, -2.48690624e+01, -6.02913952e+00,\n",
       "          6.76074386e-01, -1.54162064e+01, -5.76518536e+00,\n",
       "          2.60821176e+00, -4.66611910e+00]],\n",
       "\n",
       "       [[ 1.24534762e+00, -2.47309208e+01, -6.00015211e+00,\n",
       "         -1.19286971e-02, -1.55209427e+01, -5.33191144e-01,\n",
       "          3.13353729e+00, -4.20417261e+00],\n",
       "        [ 1.31828988e+00, -2.46256790e+01, -5.84773540e+00,\n",
       "          7.16935217e-01, -1.56173019e+01, -1.62733400e+00,\n",
       "          3.14232898e+00, -3.74644303e+00],\n",
       "        [ 1.44498265e+00, -2.45899448e+01, -5.94217634e+00,\n",
       "          1.09495413e+00, -1.55279255e+01, -1.61407173e+00,\n",
       "          3.29206610e+00, -3.72728777e+00],\n",
       "        [ 1.54795384e+00, -2.44461365e+01, -5.92764664e+00,\n",
       "          1.22319460e+00, -1.55209427e+01, -1.60080957e+00,\n",
       "          3.33615994e+00, -3.55489087e+00],\n",
       "        [ 1.50886178e+00, -2.44461365e+01, -5.93857765e+00,\n",
       "          1.22319460e+00, -1.55209427e+01, -1.59417844e+00,\n",
       "          3.33615994e+00, -3.55489087e+00],\n",
       "        [ 1.43705106e+00, -2.43045959e+01, -5.80922651e+00,\n",
       "          1.26342690e+00, -1.54835167e+01, -1.80637586e+00,\n",
       "          3.28760409e+00, -3.71640706e+00],\n",
       "        [ 1.31595182e+00, -2.40698853e+01, -5.88159084e+00,\n",
       "          1.62726605e+00, -1.54363155e+01, -2.07162213e+00,\n",
       "          3.48248482e+00, -3.87164021e+00],\n",
       "        [ 1.07134736e+00, -2.39776726e+01, -5.99655342e+00,\n",
       "          1.76193225e+00, -1.54332428e+01, -2.35676360e+00,\n",
       "          3.40991330e+00, -4.29014206e+00],\n",
       "        [ 9.36225116e-01, -2.40192032e+01, -6.10714436e+00,\n",
       "          1.62391305e+00, -1.54377117e+01, -2.37665701e+00,\n",
       "          3.37146187e+00, -4.55992174e+00],\n",
       "        [ 5.23851216e-01, -2.44649200e+01, -6.54450035e+00,\n",
       "          1.28542852e+00, -1.54195576e+01, -2.16445971e+00,\n",
       "          3.14232898e+00, -5.23885679e+00],\n",
       "        [ 4.18333054e-01, -2.44392948e+01, -6.46776485e+00,\n",
       "          1.41429913e+00, -1.54419003e+01, -2.27055740e+00,\n",
       "          3.19075394e+00, -5.30383062e+00],\n",
       "        [ 1.70467898e-01, -2.46947517e+01, -6.33890629e+00,\n",
       "          1.39348483e+00, -1.54678764e+01, -2.82094526e+00,\n",
       "          3.11595249e+00, -5.37654305e+00],\n",
       "        [ 1.52905628e-01, -2.45786152e+01, -6.43560314e+00,\n",
       "          1.40179598e+00, -1.54432983e+01, -2.82757640e+00,\n",
       "          3.14666033e+00, -5.45415974e+00],\n",
       "        [ 2.11137235e-02, -2.46862526e+01, -6.54739237e+00,\n",
       "          1.62726605e+00, -1.54865894e+01, -3.57689953e+00,\n",
       "          2.96660876e+00, -5.88813829e+00],\n",
       "        [ 1.13388777e-01, -2.46693001e+01, -6.55486917e+00,\n",
       "          1.55741739e+00, -1.54720650e+01, -3.92171931e+00,\n",
       "          3.01096535e+00, -5.77573681e+00],\n",
       "        [ 2.62673318e-01, -2.45104580e+01, -6.60938740e+00,\n",
       "          1.60344696e+00, -1.54326839e+01, -3.98803210e+00,\n",
       "          2.96660876e+00, -5.50587893e+00],\n",
       "        [ 1.66998267e-01, -2.44375954e+01, -6.69931412e+00,\n",
       "          1.61888361e+00, -1.54455318e+01, -3.87530136e+00,\n",
       "          2.93156958e+00, -5.58579350e+00],\n",
       "        [ 3.19186658e-01, -2.40986900e+01, -6.69642258e+00,\n",
       "          1.42302978e+00, -1.54145298e+01, -4.39916468e+00,\n",
       "          3.12474418e+00, -5.04822540e+00],\n",
       "        [ 3.58207345e-01, -2.41618786e+01, -6.52136755e+00,\n",
       "          1.43930376e+00, -1.54664803e+01, -4.53841829e+00,\n",
       "          3.15112233e+00, -5.00891781e+00],\n",
       "        [ 1.05187190e+00, -2.40583801e+01, -5.90225554e+00,\n",
       "          1.36645210e+00, -1.54340801e+01, -4.86997747e+00,\n",
       "          3.19547892e+00, -4.51203489e+00],\n",
       "        [ 1.20306790e+00, -2.45331631e+01, -5.88335419e+00,\n",
       "          8.71788919e-01, -1.54296122e+01, -4.73072243e+00,\n",
       "          3.07198930e+00, -4.63432121e+00],\n",
       "        [ 7.85737634e-01, -2.49960499e+01, -5.89788246e+00,\n",
       "          5.98962665e-01, -1.54167643e+01, -5.76518536e+00,\n",
       "          2.47815895e+00, -4.89590311e+00],\n",
       "        [ 9.73971486e-01, -2.48690624e+01, -6.02913952e+00,\n",
       "          6.76074386e-01, -1.54162064e+01, -5.76518536e+00,\n",
       "          2.60821176e+00, -4.66611910e+00],\n",
       "        [ 9.81337249e-01, -2.48690624e+01, -6.01827669e+00,\n",
       "          6.76074386e-01, -1.54150887e+01, -5.76518536e+00,\n",
       "          2.59088778e+00, -4.66611910e+00]],\n",
       "\n",
       "       [[ 1.31828988e+00, -2.46256790e+01, -5.84773540e+00,\n",
       "          7.16935217e-01, -1.56173019e+01, -1.62733400e+00,\n",
       "          3.14232898e+00, -3.74644303e+00],\n",
       "        [ 1.44498265e+00, -2.45899448e+01, -5.94217634e+00,\n",
       "          1.09495413e+00, -1.55279255e+01, -1.61407173e+00,\n",
       "          3.29206610e+00, -3.72728777e+00],\n",
       "        [ 1.54795384e+00, -2.44461365e+01, -5.92764664e+00,\n",
       "          1.22319460e+00, -1.55209427e+01, -1.60080957e+00,\n",
       "          3.33615994e+00, -3.55489087e+00],\n",
       "        [ 1.50886178e+00, -2.44461365e+01, -5.93857765e+00,\n",
       "          1.22319460e+00, -1.55209427e+01, -1.59417844e+00,\n",
       "          3.33615994e+00, -3.55489087e+00],\n",
       "        [ 1.43705106e+00, -2.43045959e+01, -5.80922651e+00,\n",
       "          1.26342690e+00, -1.54835167e+01, -1.80637586e+00,\n",
       "          3.28760409e+00, -3.71640706e+00],\n",
       "        [ 1.31595182e+00, -2.40698853e+01, -5.88159084e+00,\n",
       "          1.62726605e+00, -1.54363155e+01, -2.07162213e+00,\n",
       "          3.48248482e+00, -3.87164021e+00],\n",
       "        [ 1.07134736e+00, -2.39776726e+01, -5.99655342e+00,\n",
       "          1.76193225e+00, -1.54332428e+01, -2.35676360e+00,\n",
       "          3.40991330e+00, -4.29014206e+00],\n",
       "        [ 9.36225116e-01, -2.40192032e+01, -6.10714436e+00,\n",
       "          1.62391305e+00, -1.54377117e+01, -2.37665701e+00,\n",
       "          3.37146187e+00, -4.55992174e+00],\n",
       "        [ 5.23851216e-01, -2.44649200e+01, -6.54450035e+00,\n",
       "          1.28542852e+00, -1.54195576e+01, -2.16445971e+00,\n",
       "          3.14232898e+00, -5.23885679e+00],\n",
       "        [ 4.18333054e-01, -2.44392948e+01, -6.46776485e+00,\n",
       "          1.41429913e+00, -1.54419003e+01, -2.27055740e+00,\n",
       "          3.19075394e+00, -5.30383062e+00],\n",
       "        [ 1.70467898e-01, -2.46947517e+01, -6.33890629e+00,\n",
       "          1.39348483e+00, -1.54678764e+01, -2.82094526e+00,\n",
       "          3.11595249e+00, -5.37654305e+00],\n",
       "        [ 1.52905628e-01, -2.45786152e+01, -6.43560314e+00,\n",
       "          1.40179598e+00, -1.54432983e+01, -2.82757640e+00,\n",
       "          3.14666033e+00, -5.45415974e+00],\n",
       "        [ 2.11137235e-02, -2.46862526e+01, -6.54739237e+00,\n",
       "          1.62726605e+00, -1.54865894e+01, -3.57689953e+00,\n",
       "          2.96660876e+00, -5.88813829e+00],\n",
       "        [ 1.13388777e-01, -2.46693001e+01, -6.55486917e+00,\n",
       "          1.55741739e+00, -1.54720650e+01, -3.92171931e+00,\n",
       "          3.01096535e+00, -5.77573681e+00],\n",
       "        [ 2.62673318e-01, -2.45104580e+01, -6.60938740e+00,\n",
       "          1.60344696e+00, -1.54326839e+01, -3.98803210e+00,\n",
       "          2.96660876e+00, -5.50587893e+00],\n",
       "        [ 1.66998267e-01, -2.44375954e+01, -6.69931412e+00,\n",
       "          1.61888361e+00, -1.54455318e+01, -3.87530136e+00,\n",
       "          2.93156958e+00, -5.58579350e+00],\n",
       "        [ 3.19186658e-01, -2.40986900e+01, -6.69642258e+00,\n",
       "          1.42302978e+00, -1.54145298e+01, -4.39916468e+00,\n",
       "          3.12474418e+00, -5.04822540e+00],\n",
       "        [ 3.58207345e-01, -2.41618786e+01, -6.52136755e+00,\n",
       "          1.43930376e+00, -1.54664803e+01, -4.53841829e+00,\n",
       "          3.15112233e+00, -5.00891781e+00],\n",
       "        [ 1.05187190e+00, -2.40583801e+01, -5.90225554e+00,\n",
       "          1.36645210e+00, -1.54340801e+01, -4.86997747e+00,\n",
       "          3.19547892e+00, -4.51203489e+00],\n",
       "        [ 1.20306790e+00, -2.45331631e+01, -5.88335419e+00,\n",
       "          8.71788919e-01, -1.54296122e+01, -4.73072243e+00,\n",
       "          3.07198930e+00, -4.63432121e+00],\n",
       "        [ 7.85737634e-01, -2.49960499e+01, -5.89788246e+00,\n",
       "          5.98962665e-01, -1.54167643e+01, -5.76518536e+00,\n",
       "          2.47815895e+00, -4.89590311e+00],\n",
       "        [ 9.73971486e-01, -2.48690624e+01, -6.02913952e+00,\n",
       "          6.76074386e-01, -1.54162064e+01, -5.76518536e+00,\n",
       "          2.60821176e+00, -4.66611910e+00],\n",
       "        [ 9.81337249e-01, -2.48690624e+01, -6.01827669e+00,\n",
       "          6.76074386e-01, -1.54150887e+01, -5.76518536e+00,\n",
       "          2.59088778e+00, -4.66611910e+00],\n",
       "        [ 9.70077097e-01, -2.48104935e+01, -5.95635223e+00,\n",
       "          8.44268680e-01, -1.54103403e+01, -5.38720798e+00,\n",
       "          2.32159734e+00, -4.41327143e+00]],\n",
       "\n",
       "       [[ 1.44498265e+00, -2.45899448e+01, -5.94217634e+00,\n",
       "          1.09495413e+00, -1.55279255e+01, -1.61407173e+00,\n",
       "          3.29206610e+00, -3.72728777e+00],\n",
       "        [ 1.54795384e+00, -2.44461365e+01, -5.92764664e+00,\n",
       "          1.22319460e+00, -1.55209427e+01, -1.60080957e+00,\n",
       "          3.33615994e+00, -3.55489087e+00],\n",
       "        [ 1.50886178e+00, -2.44461365e+01, -5.93857765e+00,\n",
       "          1.22319460e+00, -1.55209427e+01, -1.59417844e+00,\n",
       "          3.33615994e+00, -3.55489087e+00],\n",
       "        [ 1.43705106e+00, -2.43045959e+01, -5.80922651e+00,\n",
       "          1.26342690e+00, -1.54835167e+01, -1.80637586e+00,\n",
       "          3.28760409e+00, -3.71640706e+00],\n",
       "        [ 1.31595182e+00, -2.40698853e+01, -5.88159084e+00,\n",
       "          1.62726605e+00, -1.54363155e+01, -2.07162213e+00,\n",
       "          3.48248482e+00, -3.87164021e+00],\n",
       "        [ 1.07134736e+00, -2.39776726e+01, -5.99655342e+00,\n",
       "          1.76193225e+00, -1.54332428e+01, -2.35676360e+00,\n",
       "          3.40991330e+00, -4.29014206e+00],\n",
       "        [ 9.36225116e-01, -2.40192032e+01, -6.10714436e+00,\n",
       "          1.62391305e+00, -1.54377117e+01, -2.37665701e+00,\n",
       "          3.37146187e+00, -4.55992174e+00],\n",
       "        [ 5.23851216e-01, -2.44649200e+01, -6.54450035e+00,\n",
       "          1.28542852e+00, -1.54195576e+01, -2.16445971e+00,\n",
       "          3.14232898e+00, -5.23885679e+00],\n",
       "        [ 4.18333054e-01, -2.44392948e+01, -6.46776485e+00,\n",
       "          1.41429913e+00, -1.54419003e+01, -2.27055740e+00,\n",
       "          3.19075394e+00, -5.30383062e+00],\n",
       "        [ 1.70467898e-01, -2.46947517e+01, -6.33890629e+00,\n",
       "          1.39348483e+00, -1.54678764e+01, -2.82094526e+00,\n",
       "          3.11595249e+00, -5.37654305e+00],\n",
       "        [ 1.52905628e-01, -2.45786152e+01, -6.43560314e+00,\n",
       "          1.40179598e+00, -1.54432983e+01, -2.82757640e+00,\n",
       "          3.14666033e+00, -5.45415974e+00],\n",
       "        [ 2.11137235e-02, -2.46862526e+01, -6.54739237e+00,\n",
       "          1.62726605e+00, -1.54865894e+01, -3.57689953e+00,\n",
       "          2.96660876e+00, -5.88813829e+00],\n",
       "        [ 1.13388777e-01, -2.46693001e+01, -6.55486917e+00,\n",
       "          1.55741739e+00, -1.54720650e+01, -3.92171931e+00,\n",
       "          3.01096535e+00, -5.77573681e+00],\n",
       "        [ 2.62673318e-01, -2.45104580e+01, -6.60938740e+00,\n",
       "          1.60344696e+00, -1.54326839e+01, -3.98803210e+00,\n",
       "          2.96660876e+00, -5.50587893e+00],\n",
       "        [ 1.66998267e-01, -2.44375954e+01, -6.69931412e+00,\n",
       "          1.61888361e+00, -1.54455318e+01, -3.87530136e+00,\n",
       "          2.93156958e+00, -5.58579350e+00],\n",
       "        [ 3.19186658e-01, -2.40986900e+01, -6.69642258e+00,\n",
       "          1.42302978e+00, -1.54145298e+01, -4.39916468e+00,\n",
       "          3.12474418e+00, -5.04822540e+00],\n",
       "        [ 3.58207345e-01, -2.41618786e+01, -6.52136755e+00,\n",
       "          1.43930376e+00, -1.54664803e+01, -4.53841829e+00,\n",
       "          3.15112233e+00, -5.00891781e+00],\n",
       "        [ 1.05187190e+00, -2.40583801e+01, -5.90225554e+00,\n",
       "          1.36645210e+00, -1.54340801e+01, -4.86997747e+00,\n",
       "          3.19547892e+00, -4.51203489e+00],\n",
       "        [ 1.20306790e+00, -2.45331631e+01, -5.88335419e+00,\n",
       "          8.71788919e-01, -1.54296122e+01, -4.73072243e+00,\n",
       "          3.07198930e+00, -4.63432121e+00],\n",
       "        [ 7.85737634e-01, -2.49960499e+01, -5.89788246e+00,\n",
       "          5.98962665e-01, -1.54167643e+01, -5.76518536e+00,\n",
       "          2.47815895e+00, -4.89590311e+00],\n",
       "        [ 9.73971486e-01, -2.48690624e+01, -6.02913952e+00,\n",
       "          6.76074386e-01, -1.54162064e+01, -5.76518536e+00,\n",
       "          2.60821176e+00, -4.66611910e+00],\n",
       "        [ 9.81337249e-01, -2.48690624e+01, -6.01827669e+00,\n",
       "          6.76074386e-01, -1.54150887e+01, -5.76518536e+00,\n",
       "          2.59088778e+00, -4.66611910e+00],\n",
       "        [ 9.70077097e-01, -2.48104935e+01, -5.95635223e+00,\n",
       "          8.44268680e-01, -1.54103403e+01, -5.38720798e+00,\n",
       "          2.32159734e+00, -4.41327143e+00],\n",
       "        [ 1.00591016e+00, -2.50128708e+01, -6.02547169e+00,\n",
       "          6.43385351e-01, -1.53692837e+01, -4.90313292e+00,\n",
       "          2.39954996e+00, -4.47203922e+00]]], dtype=float32)"
      ]
     },
     "execution_count": 249,
     "metadata": {},
     "output_type": "execute_result"
    }
   ],
   "source": [
    "x_dec_list[idx].detach().cpu().numpy()"
   ]
  },
  {
   "cell_type": "code",
   "execution_count": 233,
   "id": "db281076-7c89-4bcf-b6f4-b8969a4eae43",
   "metadata": {
    "collapsed": true,
    "jupyter": {
     "outputs_hidden": true
    }
   },
   "outputs": [
    {
     "data": {
      "text/plain": [
       "torch.Size([4, 24, 8])"
      ]
     },
     "execution_count": 233,
     "metadata": {},
     "output_type": "execute_result"
    }
   ],
   "source": [
    "x_res[0][0].shape"
   ]
  },
  {
   "cell_type": "code",
   "execution_count": 264,
   "id": "196da383-79f4-404b-bbfa-892ba6f4925a",
   "metadata": {},
   "outputs": [
    {
     "data": {
      "text/plain": [
       "torch.Size([4, 24, 8])"
      ]
     },
     "execution_count": 264,
     "metadata": {},
     "output_type": "execute_result"
    }
   ],
   "source": [
    "x_res[1][0].shape"
   ]
  },
  {
   "cell_type": "code",
   "execution_count": 267,
   "id": "cb66aea4-ffd3-4665-b067-083ae91be707",
   "metadata": {},
   "outputs": [
    {
     "data": {
      "text/plain": [
       "torch.Size([4, 20, 8])"
      ]
     },
     "execution_count": 267,
     "metadata": {},
     "output_type": "execute_result"
    }
   ],
   "source": [
    "x_res[1][0][:, :-4, :].shape"
   ]
  },
  {
   "cell_type": "code",
   "execution_count": 277,
   "id": "ab026c06-063a-4752-ac6f-47b6d3b3daa7",
   "metadata": {},
   "outputs": [],
   "source": [
    "df_exchange = pd.read_csv('./dataset/exchange_rate/exchange_rate.csv')"
   ]
  },
  {
   "cell_type": "code",
   "execution_count": 278,
   "id": "72c22ac6-0fbe-4a5a-b1d8-52201d4f594e",
   "metadata": {},
   "outputs": [],
   "source": [
    "df_exchange = df_exchange.drop(columns=['date'])"
   ]
  },
  {
   "cell_type": "code",
   "execution_count": 280,
   "id": "e591317d-a2fd-41f2-82a8-c16b36fbbc54",
   "metadata": {},
   "outputs": [],
   "source": [
    "num_total = len(df_exchange)\n",
    "num_train = int(num_total * 0.7)\n",
    "num_test = int(num_total * 0.2)\n",
    "num_vali = num_total - num_train - num_test\n",
    "border1s = [0, num_train - 96, num_total - num_test - 96]\n",
    "border2s = [num_train, num_train + num_vali, num_total]\n",
    "border1 = border1s[2]\n",
    "border2 = border2s[2]"
   ]
  },
  {
   "cell_type": "code",
   "execution_count": 282,
   "id": "76a1e72e-4495-4851-9162-ea62d96814dd",
   "metadata": {},
   "outputs": [
    {
     "data": {
      "text/plain": [
       "1613"
      ]
     },
     "execution_count": 282,
     "metadata": {},
     "output_type": "execute_result"
    }
   ],
   "source": [
    "border2 - border1"
   ]
  },
  {
   "cell_type": "code",
   "execution_count": 284,
   "id": "ec818845-59e3-44dd-a75f-ad97c40526b8",
   "metadata": {
    "scrolled": true
   },
   "outputs": [
    {
     "data": {
      "text/html": [
       "<div>\n",
       "<style scoped>\n",
       "    .dataframe tbody tr th:only-of-type {\n",
       "        vertical-align: middle;\n",
       "    }\n",
       "\n",
       "    .dataframe tbody tr th {\n",
       "        vertical-align: top;\n",
       "    }\n",
       "\n",
       "    .dataframe thead th {\n",
       "        text-align: right;\n",
       "    }\n",
       "</style>\n",
       "<table border=\"1\" class=\"dataframe\">\n",
       "  <thead>\n",
       "    <tr style=\"text-align: right;\">\n",
       "      <th></th>\n",
       "      <th>0</th>\n",
       "      <th>1</th>\n",
       "      <th>2</th>\n",
       "      <th>3</th>\n",
       "      <th>4</th>\n",
       "      <th>5</th>\n",
       "      <th>6</th>\n",
       "      <th>OT</th>\n",
       "    </tr>\n",
       "  </thead>\n",
       "  <tbody>\n",
       "    <tr>\n",
       "      <th>5975</th>\n",
       "      <td>1.006401</td>\n",
       "      <td>1.558944</td>\n",
       "      <td>0.976372</td>\n",
       "      <td>1.046835</td>\n",
       "      <td>0.157104</td>\n",
       "      <td>0.012433</td>\n",
       "      <td>0.782411</td>\n",
       "      <td>0.790576</td>\n",
       "    </tr>\n",
       "    <tr>\n",
       "      <th>5976</th>\n",
       "      <td>1.006644</td>\n",
       "      <td>1.558944</td>\n",
       "      <td>0.976372</td>\n",
       "      <td>1.046835</td>\n",
       "      <td>0.157104</td>\n",
       "      <td>0.012433</td>\n",
       "      <td>0.782105</td>\n",
       "      <td>0.790576</td>\n",
       "    </tr>\n",
       "    <tr>\n",
       "      <th>5977</th>\n",
       "      <td>0.999151</td>\n",
       "      <td>1.556178</td>\n",
       "      <td>0.971506</td>\n",
       "      <td>1.040691</td>\n",
       "      <td>0.157089</td>\n",
       "      <td>0.012565</td>\n",
       "      <td>0.779970</td>\n",
       "      <td>0.786596</td>\n",
       "    </tr>\n",
       "    <tr>\n",
       "      <th>5978</th>\n",
       "      <td>1.005753</td>\n",
       "      <td>1.563233</td>\n",
       "      <td>0.975610</td>\n",
       "      <td>1.039825</td>\n",
       "      <td>0.157141</td>\n",
       "      <td>0.012582</td>\n",
       "      <td>0.782819</td>\n",
       "      <td>0.791327</td>\n",
       "    </tr>\n",
       "    <tr>\n",
       "      <th>5979</th>\n",
       "      <td>1.006857</td>\n",
       "      <td>1.556711</td>\n",
       "      <td>0.974944</td>\n",
       "      <td>1.037990</td>\n",
       "      <td>0.157270</td>\n",
       "      <td>0.012545</td>\n",
       "      <td>0.783208</td>\n",
       "      <td>0.791202</td>\n",
       "    </tr>\n",
       "    <tr>\n",
       "      <th>5980</th>\n",
       "      <td>1.000650</td>\n",
       "      <td>1.548947</td>\n",
       "      <td>0.965978</td>\n",
       "      <td>1.033699</td>\n",
       "      <td>0.157270</td>\n",
       "      <td>0.012593</td>\n",
       "      <td>0.779989</td>\n",
       "      <td>0.784929</td>\n",
       "    </tr>\n",
       "    <tr>\n",
       "      <th>5981</th>\n",
       "      <td>1.024233</td>\n",
       "      <td>1.568874</td>\n",
       "      <td>0.982130</td>\n",
       "      <td>1.053674</td>\n",
       "      <td>0.157354</td>\n",
       "      <td>0.012522</td>\n",
       "      <td>0.789204</td>\n",
       "      <td>0.802504</td>\n",
       "    </tr>\n",
       "    <tr>\n",
       "      <th>5982</th>\n",
       "      <td>1.023898</td>\n",
       "      <td>1.570549</td>\n",
       "      <td>0.983671</td>\n",
       "      <td>1.055264</td>\n",
       "      <td>0.157356</td>\n",
       "      <td>0.012528</td>\n",
       "      <td>0.790264</td>\n",
       "      <td>0.801475</td>\n",
       "    </tr>\n",
       "    <tr>\n",
       "      <th>5983</th>\n",
       "      <td>1.024149</td>\n",
       "      <td>1.570549</td>\n",
       "      <td>0.983671</td>\n",
       "      <td>1.055264</td>\n",
       "      <td>0.157356</td>\n",
       "      <td>0.012528</td>\n",
       "      <td>0.790264</td>\n",
       "      <td>0.801475</td>\n",
       "    </tr>\n",
       "    <tr>\n",
       "      <th>5984</th>\n",
       "      <td>1.024296</td>\n",
       "      <td>1.568874</td>\n",
       "      <td>0.982318</td>\n",
       "      <td>1.047186</td>\n",
       "      <td>0.157488</td>\n",
       "      <td>0.012588</td>\n",
       "      <td>0.789141</td>\n",
       "      <td>0.803600</td>\n",
       "    </tr>\n",
       "    <tr>\n",
       "      <th>5985</th>\n",
       "      <td>1.028352</td>\n",
       "      <td>1.568874</td>\n",
       "      <td>0.987167</td>\n",
       "      <td>1.049571</td>\n",
       "      <td>0.157391</td>\n",
       "      <td>0.012522</td>\n",
       "      <td>0.792205</td>\n",
       "      <td>0.804376</td>\n",
       "    </tr>\n",
       "    <tr>\n",
       "      <th>5986</th>\n",
       "      <td>1.027897</td>\n",
       "      <td>1.560087</td>\n",
       "      <td>0.987737</td>\n",
       "      <td>1.043667</td>\n",
       "      <td>0.157515</td>\n",
       "      <td>0.012527</td>\n",
       "      <td>0.789827</td>\n",
       "      <td>0.804441</td>\n",
       "    </tr>\n",
       "    <tr>\n",
       "      <th>5987</th>\n",
       "      <td>1.029431</td>\n",
       "      <td>1.552506</td>\n",
       "      <td>0.986738</td>\n",
       "      <td>1.031247</td>\n",
       "      <td>0.157297</td>\n",
       "      <td>0.012516</td>\n",
       "      <td>0.790980</td>\n",
       "      <td>0.803988</td>\n",
       "    </tr>\n",
       "    <tr>\n",
       "      <th>5988</th>\n",
       "      <td>1.019160</td>\n",
       "      <td>1.547988</td>\n",
       "      <td>0.980594</td>\n",
       "      <td>1.022495</td>\n",
       "      <td>0.157089</td>\n",
       "      <td>0.012544</td>\n",
       "      <td>0.785669</td>\n",
       "      <td>0.796749</td>\n",
       "    </tr>\n",
       "    <tr>\n",
       "      <th>5989</th>\n",
       "      <td>1.021096</td>\n",
       "      <td>1.549043</td>\n",
       "      <td>0.982125</td>\n",
       "      <td>1.024160</td>\n",
       "      <td>0.157089</td>\n",
       "      <td>0.012550</td>\n",
       "      <td>0.786287</td>\n",
       "      <td>0.797957</td>\n",
       "    </tr>\n",
       "    <tr>\n",
       "      <th>5990</th>\n",
       "      <td>1.019742</td>\n",
       "      <td>1.552072</td>\n",
       "      <td>0.980777</td>\n",
       "      <td>1.025431</td>\n",
       "      <td>0.156929</td>\n",
       "      <td>0.012557</td>\n",
       "      <td>0.787315</td>\n",
       "      <td>0.796622</td>\n",
       "    </tr>\n",
       "    <tr>\n",
       "      <th>5991</th>\n",
       "      <td>1.021221</td>\n",
       "      <td>1.551470</td>\n",
       "      <td>0.979643</td>\n",
       "      <td>1.020721</td>\n",
       "      <td>0.157065</td>\n",
       "      <td>0.012588</td>\n",
       "      <td>0.789297</td>\n",
       "      <td>0.795545</td>\n",
       "    </tr>\n",
       "    <tr>\n",
       "      <th>5992</th>\n",
       "      <td>1.025946</td>\n",
       "      <td>1.552795</td>\n",
       "      <td>0.980969</td>\n",
       "      <td>1.020669</td>\n",
       "      <td>0.156993</td>\n",
       "      <td>0.012558</td>\n",
       "      <td>0.792211</td>\n",
       "      <td>0.798531</td>\n",
       "    </tr>\n",
       "    <tr>\n",
       "      <th>5993</th>\n",
       "      <td>1.013541</td>\n",
       "      <td>1.542710</td>\n",
       "      <td>0.980498</td>\n",
       "      <td>1.015981</td>\n",
       "      <td>0.156870</td>\n",
       "      <td>0.012606</td>\n",
       "      <td>0.787960</td>\n",
       "      <td>0.790202</td>\n",
       "    </tr>\n",
       "    <tr>\n",
       "      <th>5994</th>\n",
       "      <td>1.022537</td>\n",
       "      <td>1.557147</td>\n",
       "      <td>0.985319</td>\n",
       "      <td>1.019119</td>\n",
       "      <td>0.156443</td>\n",
       "      <td>0.012632</td>\n",
       "      <td>0.790883</td>\n",
       "      <td>0.794786</td>\n",
       "    </tr>\n",
       "    <tr>\n",
       "      <th>5995</th>\n",
       "      <td>1.023604</td>\n",
       "      <td>1.563233</td>\n",
       "      <td>0.985028</td>\n",
       "      <td>1.021513</td>\n",
       "      <td>0.156745</td>\n",
       "      <td>0.012686</td>\n",
       "      <td>0.790720</td>\n",
       "      <td>0.797067</td>\n",
       "    </tr>\n",
       "    <tr>\n",
       "      <th>5996</th>\n",
       "      <td>1.030142</td>\n",
       "      <td>1.563502</td>\n",
       "      <td>0.986777</td>\n",
       "      <td>1.021409</td>\n",
       "      <td>0.156880</td>\n",
       "      <td>0.012650</td>\n",
       "      <td>0.792669</td>\n",
       "      <td>0.797703</td>\n",
       "    </tr>\n",
       "    <tr>\n",
       "      <th>5997</th>\n",
       "      <td>1.035626</td>\n",
       "      <td>1.564945</td>\n",
       "      <td>0.989120</td>\n",
       "      <td>1.021138</td>\n",
       "      <td>0.156974</td>\n",
       "      <td>0.012689</td>\n",
       "      <td>0.794597</td>\n",
       "      <td>0.800064</td>\n",
       "    </tr>\n",
       "    <tr>\n",
       "      <th>5998</th>\n",
       "      <td>1.041764</td>\n",
       "      <td>1.570969</td>\n",
       "      <td>0.991867</td>\n",
       "      <td>1.021398</td>\n",
       "      <td>0.156885</td>\n",
       "      <td>0.012724</td>\n",
       "      <td>0.797906</td>\n",
       "      <td>0.802439</td>\n",
       "    </tr>\n",
       "  </tbody>\n",
       "</table>\n",
       "</div>"
      ],
      "text/plain": [
       "             0         1         2         3         4         5         6  \\\n",
       "5975  1.006401  1.558944  0.976372  1.046835  0.157104  0.012433  0.782411   \n",
       "5976  1.006644  1.558944  0.976372  1.046835  0.157104  0.012433  0.782105   \n",
       "5977  0.999151  1.556178  0.971506  1.040691  0.157089  0.012565  0.779970   \n",
       "5978  1.005753  1.563233  0.975610  1.039825  0.157141  0.012582  0.782819   \n",
       "5979  1.006857  1.556711  0.974944  1.037990  0.157270  0.012545  0.783208   \n",
       "5980  1.000650  1.548947  0.965978  1.033699  0.157270  0.012593  0.779989   \n",
       "5981  1.024233  1.568874  0.982130  1.053674  0.157354  0.012522  0.789204   \n",
       "5982  1.023898  1.570549  0.983671  1.055264  0.157356  0.012528  0.790264   \n",
       "5983  1.024149  1.570549  0.983671  1.055264  0.157356  0.012528  0.790264   \n",
       "5984  1.024296  1.568874  0.982318  1.047186  0.157488  0.012588  0.789141   \n",
       "5985  1.028352  1.568874  0.987167  1.049571  0.157391  0.012522  0.792205   \n",
       "5986  1.027897  1.560087  0.987737  1.043667  0.157515  0.012527  0.789827   \n",
       "5987  1.029431  1.552506  0.986738  1.031247  0.157297  0.012516  0.790980   \n",
       "5988  1.019160  1.547988  0.980594  1.022495  0.157089  0.012544  0.785669   \n",
       "5989  1.021096  1.549043  0.982125  1.024160  0.157089  0.012550  0.786287   \n",
       "5990  1.019742  1.552072  0.980777  1.025431  0.156929  0.012557  0.787315   \n",
       "5991  1.021221  1.551470  0.979643  1.020721  0.157065  0.012588  0.789297   \n",
       "5992  1.025946  1.552795  0.980969  1.020669  0.156993  0.012558  0.792211   \n",
       "5993  1.013541  1.542710  0.980498  1.015981  0.156870  0.012606  0.787960   \n",
       "5994  1.022537  1.557147  0.985319  1.019119  0.156443  0.012632  0.790883   \n",
       "5995  1.023604  1.563233  0.985028  1.021513  0.156745  0.012686  0.790720   \n",
       "5996  1.030142  1.563502  0.986777  1.021409  0.156880  0.012650  0.792669   \n",
       "5997  1.035626  1.564945  0.989120  1.021138  0.156974  0.012689  0.794597   \n",
       "5998  1.041764  1.570969  0.991867  1.021398  0.156885  0.012724  0.797906   \n",
       "\n",
       "            OT  \n",
       "5975  0.790576  \n",
       "5976  0.790576  \n",
       "5977  0.786596  \n",
       "5978  0.791327  \n",
       "5979  0.791202  \n",
       "5980  0.784929  \n",
       "5981  0.802504  \n",
       "5982  0.801475  \n",
       "5983  0.801475  \n",
       "5984  0.803600  \n",
       "5985  0.804376  \n",
       "5986  0.804441  \n",
       "5987  0.803988  \n",
       "5988  0.796749  \n",
       "5989  0.797957  \n",
       "5990  0.796622  \n",
       "5991  0.795545  \n",
       "5992  0.798531  \n",
       "5993  0.790202  \n",
       "5994  0.794786  \n",
       "5995  0.797067  \n",
       "5996  0.797703  \n",
       "5997  0.800064  \n",
       "5998  0.802439  "
      ]
     },
     "execution_count": 284,
     "metadata": {},
     "output_type": "execute_result"
    }
   ],
   "source": [
    "idx = 0\n",
    "df_exchange.iloc[border1:border1+24]"
   ]
  },
  {
   "cell_type": "code",
   "execution_count": 286,
   "id": "bcc2e41e-c6d6-46e8-85af-c8f03fec08b0",
   "metadata": {},
   "outputs": [],
   "source": [
    "# 우선 standardscaler 사용\n",
    "from sklearn.preprocessing import StandardScaler\n",
    "\n",
    "# weather_df에서 train data 얻기\n",
    "scaler = StandardScaler()\n",
    "train_data = df_exchange[border1s[0]:border2s[0]]\n",
    "scaler.fit(train_data.values)\n",
    "df_data = scaler.transform(df_exchange.values)"
   ]
  },
  {
   "cell_type": "code",
   "execution_count": 289,
   "id": "6836c1a3-e8c9-4102-a9fd-7e8dff300858",
   "metadata": {
    "scrolled": true
   },
   "outputs": [
    {
     "data": {
      "text/plain": [
       "array([[ 2.74921602, -0.67234377,  1.84301689,  2.78282589,  0.78109494,\n",
       "         3.21969717,  2.79752751,  1.94913024],\n",
       "       [ 2.75157278, -0.67234377,  1.84301689,  2.78282589,  0.78109494,\n",
       "         3.21969717,  2.79202794,  1.94913024],\n",
       "       [ 2.67890114, -0.68885139,  1.79601561,  2.72405395,  0.78052119,\n",
       "         3.33957218,  2.75365673,  1.90736717],\n",
       "       [ 2.74293132, -0.64674682,  1.83565664,  2.71577002,  0.7825102 ,\n",
       "         3.35501063,  2.80486028,  1.95701066],\n",
       "       [ 2.75363858, -0.68567042,  1.82922366,  2.69821688,  0.78744449,\n",
       "         3.3214093 ,  2.81185156,  1.95569901],\n",
       "       [ 2.69343935, -0.73200635,  1.74261999,  2.65717027,  0.78744449,\n",
       "         3.36500021,  2.75399821,  1.88987495],\n",
       "       [ 2.92216153, -0.61308106,  1.8986341 ,  2.84824602,  0.79065752,\n",
       "         3.30052198,  2.91961445,  2.07429355],\n",
       "       [ 2.9189125 , -0.60308458,  1.91351881,  2.86345555,  0.79073402,\n",
       "         3.30597085,  2.93866526,  2.06349601],\n",
       "       [ 2.92134685, -0.60308458,  1.91351881,  2.86345555,  0.79073402,\n",
       "         3.30597085,  2.93866526,  2.06349601],\n",
       "       [ 2.92277254, -0.61308106,  1.90045002,  2.78618347,  0.79578306,\n",
       "         3.36045949,  2.91848218,  2.08579413],\n",
       "       [ 2.96211008, -0.61308106,  1.94728709,  2.80899777,  0.79207278,\n",
       "         3.30052198,  2.9735498 ,  2.09393688],\n",
       "       [ 2.95769721, -0.6655223 ,  1.95279279,  2.75252161,  0.79681582,\n",
       "         3.3050627 ,  2.93081129,  2.09461894],\n",
       "       [ 2.97257487, -0.71076606,  1.94314333,  2.63371506,  0.78847725,\n",
       "         3.29507312,  2.95153354,  2.08986551],\n",
       "       [ 2.87296051, -0.7377297 ,  1.88379769,  2.54999567,  0.78052119,\n",
       "         3.32050115,  2.85608179,  2.01390498],\n",
       "       [ 2.89173701, -0.73143341,  1.89858581,  2.56592263,  0.78052119,\n",
       "         3.32595002,  2.86718877,  2.02658081],\n",
       "       [ 2.8786051 , -0.7133562 ,  1.88556531,  2.57808069,  0.77440114,\n",
       "         3.33230703,  2.88566447,  2.01257234],\n",
       "       [ 2.89294933, -0.71694896,  1.87461187,  2.53302604,  0.77960318,\n",
       "         3.36045949,  2.92128588,  2.00127113],\n",
       "       [ 2.93877524, -0.7090413 ,  1.88741986,  2.53252862,  0.77684916,\n",
       "         3.33321517,  2.97365764,  2.03260393],\n",
       "       [ 2.81846405, -0.76922906,  1.88287042,  2.48768441,  0.77214437,\n",
       "         3.37680608,  2.8972567 ,  1.94520577],\n",
       "       [ 2.9057127 , -0.68306836,  1.92943704,  2.51770171,  0.75581149,\n",
       "         3.40041783,  2.94979021,  1.99330676],\n",
       "       [ 2.91606111, -0.64674682,  1.92662623,  2.54060211,  0.76736308,\n",
       "         3.4494576 ,  2.9468607 ,  2.01724183],\n",
       "       [ 2.97947058, -0.64514141,  1.94352003,  2.53960727,  0.77252687,\n",
       "         3.41676442,  2.98188903,  2.02391553],\n",
       "       [ 3.03265772, -0.63652952,  1.96615135,  2.53701495,  0.7761224 ,\n",
       "         3.45218204,  3.01653993,  2.04869005],\n",
       "       [ 3.09218776, -0.600578  ,  1.99268496,  2.53950205,  0.77271813,\n",
       "         3.48396708,  3.07601081,  2.07361149]])"
      ]
     },
     "execution_count": 289,
     "metadata": {},
     "output_type": "execute_result"
    }
   ],
   "source": [
    "df_data[border1:border1+24]"
   ]
  },
  {
   "cell_type": "code",
   "execution_count": 295,
   "id": "2c57d412-4a8a-4703-bfe0-52efa666ebac",
   "metadata": {},
   "outputs": [
    {
     "name": "stdout",
     "output_type": "stream",
     "text": [
      "Variable                          Type                      Data/Info\n",
      "---------------------------------------------------------------------\n",
      "CORR                              function                  <function CORR at 0x7f3a084bb8b0>\n",
      "DataLoader                        type                      <class 'torch.utils.data.dataloader.DataLoader'>\n",
      "Dataset_Custom                    type                      <class 'data_provider.dat<...>a_loader.Dataset_Custom'>\n",
      "Exp_Anomaly_Detection             type                      <class 'exp.exp_anomaly_d<...>n.Exp_Anomaly_Detection'>\n",
      "Exp_Classification                type                      <class 'exp.exp_classific<...>tion.Exp_Classification'>\n",
      "Exp_Imputation                    type                      <class 'exp.exp_imputation.Exp_Imputation'>\n",
      "Exp_Long_Term_Forecast            type                      <class 'exp.exp_long_term<...>.Exp_Long_Term_Forecast'>\n",
      "Exp_Long_Term_Forecast_Partial    type                      <class 'exp.exp_long_term<...>g_Term_Forecast_Partial'>\n",
      "Exp_Short_Term_Forecast           type                      <class 'exp.exp_short_ter<...>Exp_Short_Term_Forecast'>\n",
      "LinearRegression                  ABCMeta                   <class 'sklearn.linear_mo<...>._base.LinearRegression'>\n",
      "LinearRegressionModel             type                      <class '__main__.LinearRegressionModel'>\n",
      "MAE                               function                  <function MAE at 0x7f3a084bb940>\n",
      "MAPE                              function                  <function MAPE at 0x7f3a084bbaf0>\n",
      "MSE                               function                  <function MSE at 0x7f3a084bb9d0>\n",
      "MSPE                              function                  <function MSPE at 0x7f3a084bbb80>\n",
      "RATIO_IRR                         function                  <function RATIO_IRR at 0x7f3a084bbdc0>\n",
      "REC_CORR                          function                  <function REC_CORR at 0x7f3a084bbd30>\n",
      "RMSE                              function                  <function RMSE at 0x7f3a084bba60>\n",
      "RSE                               function                  <function RSE at 0x7f3a084bb820>\n",
      "SMAE                              function                  <function SMAE at 0x7f3a084bbca0>\n",
      "StandardScaler                    type                      <class 'sklearn.preproces<...>ng._data.StandardScaler'>\n",
      "X                                 TextIOWrapper             <_io.TextIOWrapper name='<...>mode='r' encoding='utf8'>\n",
      "argparse                          module                    <module 'argparse' from '<...>b/python3.8/argparse.py'>\n",
      "args                              Namespace                 Namespace(activation='gel<...>=False, windowwarp=False)\n",
      "base_model                        Model                     Model(\\n  (enc_embedding)<...>eatures=24, bias=True)\\n)\n",
      "batch_x                           Tensor                    tensor([[[ 0.3561, -1.127<...>2949]]], device='cuda:0')\n",
      "batch_x1                          Tensor                    tensor([[[ 1.9956, -0.800<...>1702]]], device='cuda:0')\n",
      "batch_x2                          Tensor                    tensor([[[ 1.9504, -0.830<...>1382]]], device='cuda:0')\n",
      "batch_x3                          Tensor                    tensor([[[ 1.7837, -0.773<...>0179]]], device='cuda:0')\n",
      "batch_x4                          Tensor                    tensor([[[ 1.6178, -0.562<...>9915]]], device='cuda:0')\n",
      "batch_x_mark                      Tensor                    tensor([[[ 4.,  2.,  4., <...>  0.]]], device='cuda:0')\n",
      "batch_x_part                      Tensor                    tensor([[[ 0.3301, -2.042<...>2949]]], device='cuda:0')\n",
      "batch_x_parts                     list                      n=4\n",
      "batch_x_transforms                list                      n=4\n",
      "batch_y                           Tensor                    tensor([[[ 4.7896e-01, -2<...>e-01]]], device='cuda:0')\n",
      "batch_y_mark                      Tensor                    tensor([[[ 5., 20.,  3., <...>  0.]]], device='cuda:0')\n",
      "batch_y_part                      Tensor                    tensor([[[ 2.0582e-01, -2<...>e-01]]], device='cuda:0')\n",
      "batch_y_parts                     list                      n=4\n",
      "bias_                             Parameter                 Parameter containing:\\nte<...>a:0', requires_grad=True)\n",
      "border1                           int                       5975\n",
      "border1s                          list                      n=3\n",
      "border2                           int                       7588\n",
      "border2s                          list                      n=3\n",
      "c                                 int                       3\n",
      "checkpoint_path                   str                       ./checkpoints/\n",
      "coef_                             Tensor                    tensor([ 0.1788,  0.0043,<...>rad_fn=<SelectBackward0>)\n",
      "coeff_vector_vals                 ndarray                   2584x2x5: 25840 elems, type `float64`, 206720 bytes (201.875 kb)\n",
      "coefs                             list                      n=4\n",
      "d                                 int                       2\n",
      "data_provider                     function                  <function data_provider at 0x7f3a200d5550>\n",
      "dataset_exchange_24               Dataset_Custom            <data_provider.data_loade<...>object at 0x7f3a084a7d60>\n",
      "dataset_exchange_24_loader        DataLoader                <torch.utils.data.dataloa<...>object at 0x7f3a203aec40>\n",
      "dataset_exchange_9648             Dataset_Custom            <data_provider.data_loade<...>object at 0x7f3a084a7d00>\n",
      "dataset_exchange_9648_loader      DataLoader                <torch.utils.data.dataloa<...>object at 0x7f3a084a7310>\n",
      "dataset_exchange_96_test          Dataset_Custom            <data_provider.data_loade<...>object at 0x7f3b3189eb50>\n",
      "dataset_exchange_96_test_loader   DataLoader                <torch.utils.data.dataloa<...>object at 0x7f3b3189a2b0>\n",
      "dataset_weather_24                Dataset_Custom            <data_provider.data_loade<...>object at 0x7f3a203aee80>\n",
      "dec_inp                           Tensor                    tensor([[[ 1.6164, -1.147<...>0000]]], device='cuda:0')\n",
      "decomp                            series_decomp             series_decomp(\\n  (moving<...>,), padding=(0,))\\n  )\\n)\n",
      "df_data                           ndarray                   7588x8: 60704 elems, type `float64`, 485632 bytes (474.25 kb)\n",
      "df_data_s                         Tensor                    tensor([[[-0.0810, -0.002<...>009, -0.9043, -0.8769]]])\n",
      "df_data_t                         Tensor                    tensor([[[-0.6303, -0.640<...>815,  0.3485,  0.3815]]])\n",
      "df_exchange                       DataFrame                              0         1 <...>\\n[7588 rows x 8 columns]\n",
      "df_new                            DataFrame                             0       1    <...>17544 rows x 862 columns]\n",
      "ending                            int                       10000\n",
      "exp_model                         Exp_Long_Term_Forecast    <exp.exp_long_term_foreca<...>object at 0x7f3a202a9d00>\n",
      "fin_output_y                      Tensor                    tensor([[[ 0.3949, -2.209<...>, grad_fn=<CatBackward0>)\n",
      "fix_seed                          int                       2021\n",
      "i                                 int                       3\n",
      "idx                               int                       0\n",
      "intercept_                        float32                   -0.03585648\n",
      "interval                          int                       4\n",
      "j                                 int                       3\n",
      "jdx                               int                       0\n",
      "json                              module                    <module 'json' from '/hom<...>hon3.8/json/__init__.py'>\n",
      "k                                 int                       3\n",
      "l                                 int                       3\n",
      "losses                            list                      n=1422\n",
      "lr                                Linear                    Linear(in_features=4, out_features=4, bias=True)\n",
      "lrs                               ModuleList                ModuleList(\\n  (0-3): 4 x<...>features=1, bias=True)\\n)\n",
      "means                             Tensor                    tensor([[[ 3.0212, -0.539<...>1515]]], device='cuda:0')\n",
      "metric                            function                  <function metric at 0x7f3a084bbc10>\n",
      "model_path                        str                       ./checkpoints/long_term_f<...>725429822)/checkpoint.pth\n",
      "moving_avg                        type                      <class 'layers.Autoformer_EncDec.moving_avg'>\n",
      "nX                                ndarray                   4x249216: 996864 elems, type `float32`, 3987456 bytes (3.802734375 Mb)\n",
      "new_batch_y                       Tensor                    tensor([[[ 4.2326e-01, -2<...>e-01]]], device='cuda:0')\n",
      "new_output_y                      Tensor                    tensor([[[ 0.4008, -2.199<...>grad_fn=<SliceBackward0>)\n",
      "new_preds                         ndarray                   1298x24x8: 249216 elems, type `float64`, 1993728 bytes (1.9013671875 Mb)\n",
      "nn                                module                    <module 'torch.nn' from '<...>es/torch/nn/__init__.py'>\n",
      "np                                module                    <module 'numpy' from '/ho<...>kages/numpy/__init__.py'>\n",
      "num_test                          int                       1517\n",
      "num_total                         int                       7588\n",
      "num_train                         int                       5311\n",
      "num_vali                          int                       760\n",
      "ny                                ndarray                   249216: 249216 elems, type `float32`, 996864 bytes (973.5 kb)\n",
      "origin_te_tr                      ndarray                   5264x24x8: 1010688 elems, type `float64`, 8085504 bytes (7.7109375 Mb)\n",
      "origin_y_te_tr                    ndarray                   5264x36x8: 1516032 elems, type `float64`, 12128256 bytes (11.56640625 Mb)\n",
      "output_y                          Tensor                    tensor([[[ 0.3949, -2.209<...>, grad_fn=<AddBackward0>)\n",
      "output_ys                         list                      n=4\n",
      "outputs                           ndarray                   1x24x8: 192 elems, type `float32`, 768 bytes\n",
      "outputs1                          ndarray                   1x24x8: 192 elems, type `float32`, 768 bytes\n",
      "outputs2                          ndarray                   1x24x8: 192 elems, type `float32`, 768 bytes\n",
      "outputs3                          ndarray                   1x24x8: 192 elems, type `float32`, 768 bytes\n",
      "outputs4                          ndarray                   1x24x8: 192 elems, type `float32`, 768 bytes\n",
      "parse_seq                         str                       --task_name long_term_for<...> 8  --des 'Exp'   --itr 1\n",
      "parser                            ArgumentParser            ArgumentParser(prog='ipyk<...>r='error', add_help=True)\n",
      "pd                                module                    <module 'pandas' from '/h<...>ages/pandas/__init__.py'>\n",
      "plt                               module                    <module 'matplotlib.pyplo<...>es/matplotlib/pyplot.py'>\n",
      "pred                              ndarray                   1x96x8: 768 elems, type `float32`, 3072 bytes\n",
      "preds_m1_tr                       ndarray                   5240x24x8: 1006080 elems, type `float32`, 4024320 bytes (3.837890625 Mb)\n",
      "preds_m2_tr                       ndarray                   5216x24x8: 1001472 elems, type `float32`, 4005888 bytes (3.8203125 Mb)\n",
      "preds_m3_tr                       ndarray                   5192x24x8: 996864 elems, type `float32`, 3987456 bytes (3.802734375 Mb)\n",
      "preds_m4_tr                       ndarray                   5168x24x8: 992256 elems, type `float32`, 3969024 bytes (3.78515625 Mb)\n",
      "preds_te                          ndarray                   1422x96x8: 1092096 elems, type `float32`, 4368384 bytes (4.166015625 Mb)\n",
      "preds_te_tr                       ndarray                   5264x24x8: 1010688 elems, type `float32`, 4042752 bytes (3.85546875 Mb)\n",
      "print_args                        function                  <function print_args at 0x7f3a084d28b0>\n",
      "random                            module                    <module 'random' from '/h<...>lib/python3.8/random.py'>\n",
      "reg1                              LinearRegression          LinearRegression()\n",
      "scaler                            StandardScaler            StandardScaler()\n",
      "series_decomp                     type                      <class 'layers.Autoformer_EncDec.series_decomp'>\n",
      "setting_path                      str                       long_term_forecast_Exchan<...>_dtTrue_Exp_0(1725429822)\n",
      "starting                          int                       0\n",
      "stdev                             Tensor                    tensor([[[0.1370, 0.1432,<...>\\n       device='cuda:0')\n",
      "temp_enc                          Tensor                    tensor([[[-0.6263,  1.119<...>grad_fn=<SliceBackward0>)\n",
      "temp_y_enc                        Tensor                    tensor([[[0., 0., 0.,  ..<...> 0.,  ..., 0., 0., 0.]]])\n",
      "theme                             str                       traffic\n",
      "time                              module                    <module 'time' (built-in)>\n",
      "torch                             module                    <module 'torch' from '/ho<...>kages/torch/__init__.py'>\n",
      "train_data                        DataFrame                              0         1 <...>\\n[5311 rows x 8 columns]\n",
      "true                              ndarray                   1x96x8: 768 elems, type `float32`, 3072 bytes\n",
      "trues_te                          ndarray                   1422x96x8: 1092096 elems, type `float32`, 4368384 bytes (4.166015625 Mb)\n",
      "trues_te_tr                       ndarray                   5264x24x8: 1010688 elems, type `float32`, 4042752 bytes (3.85546875 Mb)\n",
      "var                               int                       -1\n",
      "x_dec                             Tensor                    tensor([[[ -0.5338, -24.6<...>\\n       device='cuda:0')\n",
      "x_dec0                            Tensor                    tensor([[[ 3.0998, -0.609<...>\\n       device='cuda:0')\n",
      "x_dec_list                        list                      n=4\n",
      "x_enc                             Tensor                    tensor([[[-1.9859, -0.928<...>\\n       device='cuda:0')\n",
      "x_enc_list                        list                      n=4\n",
      "x_enc_part                        Tensor                    tensor([[[ 0.8357,  1.855<...>0232]]], device='cuda:0')\n",
      "x_res                             list                      n=4\n",
      "x_res1                            list                      n=4\n",
      "x_res_tensors                     list                      n=4\n",
      "y_res_tensors                     list                      n=4\n"
     ]
    }
   ],
   "source": [
    "%whos"
   ]
  },
  {
   "cell_type": "code",
   "execution_count": 297,
   "id": "da97b03a-e2f4-4878-b53a-1ef8f315d105",
   "metadata": {},
   "outputs": [
    {
     "data": {
      "text/plain": [
       "(1422, 1517)"
      ]
     },
     "execution_count": 297,
     "metadata": {},
     "output_type": "execute_result"
    }
   ],
   "source": [
    "len(dataset_exchange_96_test), int(len(df_data)*0.2)"
   ]
  },
  {
   "cell_type": "code",
   "execution_count": 309,
   "id": "3c29c075-9ca1-42ce-a29e-c86f8029fd89",
   "metadata": {},
   "outputs": [
    {
     "data": {
      "text/plain": [
       "(96, 8)"
      ]
     },
     "execution_count": 309,
     "metadata": {},
     "output_type": "execute_result"
    }
   ],
   "source": [
    "dataset_exchange_96_test[-97][0].shape"
   ]
  },
  {
   "cell_type": "code",
   "execution_count": 313,
   "id": "528a7d96-5806-4385-806b-3e36d47624c5",
   "metadata": {},
   "outputs": [
    {
     "data": {
      "text/plain": [
       "0.024077684808793326"
      ]
     },
     "execution_count": 313,
     "metadata": {},
     "output_type": "execute_result"
    }
   ],
   "source": [
    "MAE(df_data[-96:], dataset_exchange_96_test[-97][0])"
   ]
  }
 ],
 "metadata": {
  "kernelspec": {
   "display_name": "Python 3 (ipykernel)",
   "language": "python",
   "name": "python3"
  },
  "language_info": {
   "codemirror_mode": {
    "name": "ipython",
    "version": 3
   },
   "file_extension": ".py",
   "mimetype": "text/x-python",
   "name": "python",
   "nbconvert_exporter": "python",
   "pygments_lexer": "ipython3",
   "version": "3.8.11"
  }
 },
 "nbformat": 4,
 "nbformat_minor": 5
}
