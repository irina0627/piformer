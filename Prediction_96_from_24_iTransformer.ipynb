{
 "cells": [
  {
   "cell_type": "markdown",
   "id": "d5014d04-db75-4514-b8bf-70e89ac87ccc",
   "metadata": {},
   "source": [
    "# E"
   ]
  },
  {
   "cell_type": "code",
   "execution_count": 91,
   "id": "da2a4bbd-9262-4f11-ab0f-f490984b92b0",
   "metadata": {},
   "outputs": [],
   "source": [
    "import argparse\n",
    "import torch\n",
    "import torch.nn as nn\n",
    "from exp.exp_long_term_forecasting import Exp_Long_Term_Forecast\n",
    "from exp.exp_imputation import Exp_Imputation\n",
    "from exp.exp_short_term_forecasting import Exp_Short_Term_Forecast\n",
    "from exp.exp_long_term_forecasting_partial import Exp_Long_Term_Forecast_Partial\n",
    "from exp.exp_anomaly_detection import Exp_Anomaly_Detection\n",
    "from exp.exp_classification import Exp_Classification\n",
    "from utils.print_args import print_args\n",
    "import random\n",
    "import numpy as np\n",
    "import time"
   ]
  },
  {
   "cell_type": "code",
   "execution_count": 15,
   "id": "d709b017-56dd-44a0-b338-e185561054a4",
   "metadata": {},
   "outputs": [],
   "source": [
    "# fix random seed\n",
    "fix_seed = 2021\n",
    "random.seed(fix_seed)\n",
    "torch.manual_seed(fix_seed)\n",
    "np.random.seed(fix_seed)\n",
    "parser = argparse.ArgumentParser(description='TimesNet')"
   ]
  },
  {
   "cell_type": "code",
   "execution_count": 16,
   "id": "7dd13b65-fcac-4e28-a9b9-1f399a076ea7",
   "metadata": {},
   "outputs": [
    {
     "data": {
      "text/plain": [
       "_StoreAction(option_strings=['--extra_tag'], dest='extra_tag', nargs=None, const=None, default='', type=<class 'str'>, choices=None, help='Anything extra', metavar=None)"
      ]
     },
     "execution_count": 16,
     "metadata": {},
     "output_type": "execute_result"
    }
   ],
   "source": [
    "# config 지정 -> 오류 방지를 위해 \n",
    "\n",
    "# basic config\n",
    "parser.add_argument('--task_name', type=str, default='long_term_forecast',\n",
    "                    help='task name, options:[long_term_forecast, short_term_forecast, imputation, classification, anomaly_detection]')\n",
    "parser.add_argument('--is_training', type=int, default=1, help='status')\n",
    "parser.add_argument('--model_id', type=str, default='test', help='model id')\n",
    "parser.add_argument('--model', type=str, default='Autoformer',\n",
    "                    help='model name, options: [Autoformer, Transformer, TimesNet]')\n",
    "\n",
    "# data loader\n",
    "parser.add_argument('--data', type=str, default='ETTm1', help='dataset type')\n",
    "parser.add_argument('--root_path', type=str, default='./data/ETT/', help='root path of the data file')\n",
    "parser.add_argument('--data_path', type=str, default='ETTh1.csv', help='data file')\n",
    "parser.add_argument('--features', type=str, default='M',\n",
    "                    help='forecasting task, options:[M, S, MS]; M:multivariate predict multivariate, S:univariate predict univariate, MS:multivariate predict univariate')\n",
    "parser.add_argument('--target', type=str, default='OT', help='target feature in S or MS task')\n",
    "parser.add_argument('--freq', type=str, default='h',\n",
    "                    help='freq for time features encoding, options:[s:secondly, t:minutely, h:hourly, d:daily, b:business days, w:weekly, m:monthly], you can also use more detailed freq like 15min or 3h')\n",
    "parser.add_argument('--checkpoints', type=str, default='./checkpoints/', help='location of model checkpoints')\n",
    "\n",
    "# added option \n",
    "parser.add_argument('--train_ratio', type=float, default=0.7, help='train data ratio')\n",
    "parser.add_argument('--test_ratio', type=float, default=0.2, help='test data ratio')\n",
    "parser.add_argument('--train_step', type=float, default=1.0, help='train data with certain stes. for example train_step=2 means only train even number of data')\n",
    "\n",
    "# SparseTSF\n",
    "parser.add_argument('--period_len', type=int, default=24, help='period length')\n",
    "\n",
    "# PITS\n",
    "parser.add_argument('--fc_dropout', type=float, default=0.05, help='fully connected dropout')\n",
    "parser.add_argument('--head_dropout', type=float, default=0.0, help='head dropout')\n",
    "parser.add_argument('--patch_len', type=int, default=16, help='patch length')\n",
    "parser.add_argument('--stride', type=int, default=8, help='stride')\n",
    "parser.add_argument('--shared_embedding', type=int, default=1, help='stride')\n",
    "parser.add_argument('--padding_patch', default='end', help='None: None; end: padding on the end')\n",
    "parser.add_argument('--revin', type=int, default=1, help='RevIN; True 1 False 0')\n",
    "parser.add_argument('--affine', type=int, default=0, help='RevIN-affine; True 1 False 0')\n",
    "parser.add_argument('--subtract_last', type=int, default=0, help='0: subtract mean; 1: subtract last')\n",
    "parser.add_argument('--decomposition', type=int, default=0, help='decomposition; True 1 False 0')\n",
    "parser.add_argument('--kernel_size', type=int, default=25, help='decomposition-kernel')\n",
    "parser.add_argument('--individual', type=int, default=0, help='individual head; True 1 False 0')\n",
    "\n",
    "# Piformer\n",
    "parser.add_argument('--joint_var', type=int, default=0, help='use attention for each patching; True 1 False 0')\n",
    "\n",
    "# forecasting task\n",
    "parser.add_argument('--seq_len', type=int, default=96, help='input sequence length')\n",
    "parser.add_argument('--label_len', type=int, default=48, help='start token length')\n",
    "parser.add_argument('--pred_len', type=int, default=96, help='prediction sequence length')\n",
    "parser.add_argument('--seasonal_patterns', type=str, default='Monthly', help='subset for M4')\n",
    "parser.add_argument('--inverse', action='store_true', help='inverse output data', default=False)\n",
    "\n",
    "# inputation task\n",
    "parser.add_argument('--mask_rate', type=float, default=0.25, help='mask ratio')\n",
    "\n",
    "# anomaly detection task\n",
    "parser.add_argument('--anomaly_ratio', type=float, default=0.25, help='prior anomaly ratio (%)')\n",
    "\n",
    "# model define\n",
    "parser.add_argument('--expand', type=int, default=2, help='expansion factor for Mamba')\n",
    "parser.add_argument('--d_conv', type=int, default=4, help='conv kernel size for Mamba')\n",
    "parser.add_argument('--top_k', type=int, default=5, help='for TimesBlock')\n",
    "parser.add_argument('--num_kernels', type=int, default=6, help='for Inception')\n",
    "parser.add_argument('--enc_in', type=int, default=7, help='encoder input size')\n",
    "parser.add_argument('--dec_in', type=int, default=7, help='decoder input size')\n",
    "parser.add_argument('--c_out', type=int, default=7, help='output size')\n",
    "parser.add_argument('--d_model', type=int, default=512, help='dimension of model')\n",
    "parser.add_argument('--n_heads', type=int, default=8, help='num of heads')\n",
    "parser.add_argument('--e_layers', type=int, default=2, help='num of encoder layers')\n",
    "parser.add_argument('--d_layers', type=int, default=1, help='num of decoder layers')\n",
    "parser.add_argument('--d_ff', type=int, default=2048, help='dimension of fcn')\n",
    "parser.add_argument('--moving_avg', type=int, default=25, help='window size of moving average')\n",
    "parser.add_argument('--factor', type=int, default=1, help='attn factor')\n",
    "parser.add_argument('--distil', action='store_false',\n",
    "                    help='whether to use distilling in encoder, using this argument means not using distilling',\n",
    "                    default=True)\n",
    "parser.add_argument('--dropout', type=float, default=0.1, help='dropout')\n",
    "parser.add_argument('--embed', type=str, default='timeF',\n",
    "                    help='time features encoding, options:[timeF, fixed, learned]')\n",
    "parser.add_argument('--activation', type=str, default='gelu', help='activation')\n",
    "parser.add_argument('--output_attention', action='store_true', help='whether to output attention in ecoder')\n",
    "parser.add_argument('--channel_independence', type=int, default=1,\n",
    "                    help='0: channel dependence 1: channel independence for FreTS model')\n",
    "parser.add_argument('--decomp_method', type=str, default='moving_avg',\n",
    "                    help='method of series decompsition, only support moving_avg or dft_decomp')\n",
    "parser.add_argument('--use_norm', type=int, default=1, help='whether to use normalize; True 1 False 0')\n",
    "parser.add_argument('--down_sampling_layers', type=int, default=0, help='num of down sampling layers')\n",
    "parser.add_argument('--down_sampling_window', type=int, default=1, help='down sampling window size')\n",
    "parser.add_argument('--down_sampling_method', type=str, default=None,\n",
    "                    help='down sampling method, only support avg, max, conv')\n",
    "parser.add_argument('--seg_len', type=int, default=48,\n",
    "                    help='the length of segmen-wise iteration of SegRNN')\n",
    "\n",
    "# optimization\n",
    "parser.add_argument('--num_workers', type=int, default=10, help='data loader num workers')\n",
    "parser.add_argument('--itr', type=int, default=1, help='experiments times')\n",
    "parser.add_argument('--train_epochs', type=int, default=10, help='train epochs')\n",
    "parser.add_argument('--batch_size', type=int, default=32, help='batch size of train input data')\n",
    "parser.add_argument('--patience', type=int, default=3, help='early stopping patience')\n",
    "parser.add_argument('--learning_rate', type=float, default=0.0001, help='optimizer learning rate')\n",
    "parser.add_argument('--des', type=str, default='test', help='exp description')\n",
    "parser.add_argument('--loss', type=str, default='MSE', help='loss function')\n",
    "parser.add_argument('--lradj', type=str, default='type1', help='adjust learning rate')\n",
    "parser.add_argument('--use_amp', action='store_true', help='use automatic mixed precision training', default=False)\n",
    "\n",
    "# GPU\n",
    "parser.add_argument('--use_gpu', type=bool, default=True, help='use gpu')\n",
    "parser.add_argument('--gpu', type=int, default=0, help='gpu')\n",
    "parser.add_argument('--use_multi_gpu', action='store_true', help='use multiple gpus', default=False)\n",
    "parser.add_argument('--devices', type=str, default='0,1,2,3', help='device ids of multile gpus')\n",
    "\n",
    "# de-stationary projector params\n",
    "parser.add_argument('--p_hidden_dims', type=int, nargs='+', default=[128, 128],\n",
    "                    help='hidden layer dimensions of projector (List)')\n",
    "parser.add_argument('--p_hidden_layers', type=int, default=2, help='number of hidden layers in projector')\n",
    "\n",
    "# metrics (dtw)\n",
    "parser.add_argument('--use_dtw', type=bool, default=False, \n",
    "                    help='the controller of using dtw metric (dtw is time consuming, not suggested unless necessary)')\n",
    "\n",
    "# Augmentation\n",
    "parser.add_argument('--augmentation_ratio', type=int, default=0, help=\"How many times to augment\")\n",
    "parser.add_argument('--seed', type=int, default=2, help=\"Randomization seed\")\n",
    "parser.add_argument('--jitter', default=False, action=\"store_true\", help=\"Jitter preset augmentation\")\n",
    "parser.add_argument('--scaling', default=False, action=\"store_true\", help=\"Scaling preset augmentation\")\n",
    "parser.add_argument('--permutation', default=False, action=\"store_true\", help=\"Equal Length Permutation preset augmentation\")\n",
    "parser.add_argument('--randompermutation', default=False, action=\"store_true\", help=\"Random Length Permutation preset augmentation\")\n",
    "parser.add_argument('--magwarp', default=False, action=\"store_true\", help=\"Magnitude warp preset augmentation\")\n",
    "parser.add_argument('--timewarp', default=False, action=\"store_true\", help=\"Time warp preset augmentation\")\n",
    "parser.add_argument('--windowslice', default=False, action=\"store_true\", help=\"Window slice preset augmentation\")\n",
    "parser.add_argument('--windowwarp', default=False, action=\"store_true\", help=\"Window warp preset augmentation\")\n",
    "parser.add_argument('--rotation', default=False, action=\"store_true\", help=\"Rotation preset augmentation\")\n",
    "parser.add_argument('--spawner', default=False, action=\"store_true\", help=\"SPAWNER preset augmentation\")\n",
    "parser.add_argument('--dtwwarp', default=False, action=\"store_true\", help=\"DTW warp preset augmentation\")\n",
    "parser.add_argument('--shapedtwwarp', default=False, action=\"store_true\", help=\"Shape DTW warp preset augmentation\")\n",
    "parser.add_argument('--wdba', default=False, action=\"store_true\", help=\"Weighted DBA preset augmentation\")\n",
    "parser.add_argument('--discdtw', default=False, action=\"store_true\", help=\"Discrimitive DTW warp preset augmentation\")\n",
    "parser.add_argument('--discsdtw', default=False, action=\"store_true\", help=\"Discrimitive shapeDTW warp preset augmentation\")\n",
    "parser.add_argument('--extra_tag', type=str, default=\"\", help=\"Anything extra\")"
   ]
  },
  {
   "cell_type": "code",
   "execution_count": 17,
   "id": "564f5f09-51d8-460c-a650-d84693a16b56",
   "metadata": {},
   "outputs": [
    {
     "name": "stdout",
     "output_type": "stream",
     "text": [
      "Args in experiment:\n",
      "Namespace(activation='gelu', affine=0, anomaly_ratio=0.25, augmentation_ratio=0, batch_size=32, c_out=21, channel_independence=1, checkpoints='./checkpoints/', d_conv=4, d_ff=64, d_layers=1, d_model=64, data='custom', data_path='weather.csv', dec_in=21, decomp_method='moving_avg', decomposition=0, des=\"'Exp'\", devices='0,1,2,3', discdtw=False, discsdtw=False, distil=True, down_sampling_layers=0, down_sampling_method=None, down_sampling_window=1, dropout=0.1, dtwwarp=False, e_layers=2, embed='timeF', enc_in=21, expand=2, extra_tag='', factor=3, fc_dropout=0.05, features='MS', freq='h', gpu=0, head_dropout=0.0, individual=0, inverse=False, is_training=1, itr=1, jitter=False, joint_var=0, kernel_size=25, label_len=12, learning_rate=0.0001, loss='MSE', lradj='type1', magwarp=False, mask_rate=0.25, model='iTransformer', model_id='weather_24_24_ts', moving_avg=25, n_heads=8, num_kernels=6, num_workers=10, output_attention=False, p_hidden_dims=[128, 128], p_hidden_layers=2, padding_patch='end', patch_len=16, patience=3, period_len=24, permutation=False, pred_len=24, randompermutation=False, revin=1, root_path='./dataset/weather/', rotation=False, scaling=False, seasonal_patterns='Monthly', seed=2, seg_len=48, seq_len=24, shapedtwwarp=False, shared_embedding=1, spawner=False, stride=8, subtract_last=0, target='OT', task_name='long_term_forecast', test_ratio=0.2, timewarp=False, top_k=5, train_epochs=10, train_ratio=0.7, train_step=1.0, use_amp=False, use_dtw=False, use_gpu=True, use_multi_gpu=False, use_norm=1, wdba=False, windowslice=False, windowwarp=False)\n"
     ]
    }
   ],
   "source": [
    "# argument_text로 parser의 argument 지정 - 반드시 불러오는 모델과 동일하게 지정해야 함.\n",
    "\n",
    "parse_seq = \"\"\"--task_name long_term_forecast \\\n",
    "  --is_training 1 \\\n",
    "  --root_path ./dataset/weather/ \\\n",
    "  --data_path weather.csv \\\n",
    "  --model_id weather_24_24 \\\n",
    "  --model iTransformer \\\n",
    "  --data custom \\\n",
    "  --features MS \\\n",
    "  --seq_len 24 \\\n",
    "  --label_len 12 \\\n",
    "  --pred_len 24 \\\n",
    "  --e_layers 2 \\\n",
    "  --d_layers 1 \\\n",
    "  --factor 3 \\\n",
    "  --enc_in 21 \\\n",
    "  --dec_in 21 \\\n",
    "  --c_out 21 \\\n",
    "  --des 'Exp' \\\n",
    "  --d_model 64\\\n",
    "  --d_ff 64\\\n",
    "  --itr 1\"\"\"\n",
    "args = parser.parse_args(parse_seq.split())\n",
    "args.use_gpu = True if torch.cuda.is_available() and args.use_gpu else False\n",
    "\n",
    "if args.use_gpu and args.use_multi_gpu:\n",
    "    args.devices = args.devices.replace(' ', '')\n",
    "    device_ids = args.devices.split(',')\n",
    "    args.device_ids = [int(id_) for id_ in device_ids]\n",
    "    args.gpu = args.device_ids[0]\n",
    "\n",
    "print('Args in experiment:')\n",
    "print(args)"
   ]
  },
  {
   "cell_type": "code",
   "execution_count": 18,
   "id": "27b0757f-b56d-4cf1-a85b-f413ce10da4a",
   "metadata": {},
   "outputs": [
    {
     "name": "stdout",
     "output_type": "stream",
     "text": [
      "Use GPU: cuda:0\n"
     ]
    }
   ],
   "source": [
    "exp_model = Exp_Long_Term_Forecast(args)"
   ]
  },
  {
   "cell_type": "code",
   "execution_count": 19,
   "id": "cbb3b296-ad02-415e-b481-0ef6d8ea43b1",
   "metadata": {
    "scrolled": true
   },
   "outputs": [
    {
     "data": {
      "text/plain": [
       "Model(\n",
       "  (enc_embedding): DataEmbedding_inverted(\n",
       "    (value_embedding): Linear(in_features=24, out_features=64, bias=True)\n",
       "    (dropout): Dropout(p=0.1, inplace=False)\n",
       "  )\n",
       "  (encoder): Encoder(\n",
       "    (attn_layers): ModuleList(\n",
       "      (0): EncoderLayer(\n",
       "        (attention): AttentionLayer(\n",
       "          (inner_attention): FullAttention(\n",
       "            (dropout): Dropout(p=0.1, inplace=False)\n",
       "          )\n",
       "          (query_projection): Linear(in_features=64, out_features=64, bias=True)\n",
       "          (key_projection): Linear(in_features=64, out_features=64, bias=True)\n",
       "          (value_projection): Linear(in_features=64, out_features=64, bias=True)\n",
       "          (out_projection): Linear(in_features=64, out_features=64, bias=True)\n",
       "        )\n",
       "        (conv1): Conv1d(64, 64, kernel_size=(1,), stride=(1,))\n",
       "        (conv2): Conv1d(64, 64, kernel_size=(1,), stride=(1,))\n",
       "        (norm1): LayerNorm((64,), eps=1e-05, elementwise_affine=True)\n",
       "        (norm2): LayerNorm((64,), eps=1e-05, elementwise_affine=True)\n",
       "        (dropout): Dropout(p=0.1, inplace=False)\n",
       "      )\n",
       "      (1): EncoderLayer(\n",
       "        (attention): AttentionLayer(\n",
       "          (inner_attention): FullAttention(\n",
       "            (dropout): Dropout(p=0.1, inplace=False)\n",
       "          )\n",
       "          (query_projection): Linear(in_features=64, out_features=64, bias=True)\n",
       "          (key_projection): Linear(in_features=64, out_features=64, bias=True)\n",
       "          (value_projection): Linear(in_features=64, out_features=64, bias=True)\n",
       "          (out_projection): Linear(in_features=64, out_features=64, bias=True)\n",
       "        )\n",
       "        (conv1): Conv1d(64, 64, kernel_size=(1,), stride=(1,))\n",
       "        (conv2): Conv1d(64, 64, kernel_size=(1,), stride=(1,))\n",
       "        (norm1): LayerNorm((64,), eps=1e-05, elementwise_affine=True)\n",
       "        (norm2): LayerNorm((64,), eps=1e-05, elementwise_affine=True)\n",
       "        (dropout): Dropout(p=0.1, inplace=False)\n",
       "      )\n",
       "    )\n",
       "    (norm): LayerNorm((64,), eps=1e-05, elementwise_affine=True)\n",
       "  )\n",
       "  (projection): Linear(in_features=64, out_features=24, bias=True)\n",
       ")"
      ]
     },
     "execution_count": 19,
     "metadata": {},
     "output_type": "execute_result"
    }
   ],
   "source": [
    "# arguments 바탕으로 모델 생성\n",
    "exp_model._build_model()"
   ]
  },
  {
   "cell_type": "code",
   "execution_count": 20,
   "id": "57451881-8212-4ba1-85b2-f6a9db575bf2",
   "metadata": {},
   "outputs": [
    {
     "data": {
      "text/plain": [
       "<All keys matched successfully>"
      ]
     },
     "execution_count": 20,
     "metadata": {},
     "output_type": "execute_result"
    }
   ],
   "source": [
    "# 위의 argument와 맞는 모델 호출\n",
    "checkpoint_path = './checkpoints/'\n",
    "setting_path = 'long_term_forecast_weather_24_24_ts_iTransformer_custom_ftMS_sl24_ll12_pl24_dm64_nh8_el2_dl1_df64_expand2_dc4_fc3_ebtimeF_dtTrue_Exp_0(1725085922)'\n",
    "model_path = f\"{checkpoint_path}{setting_path}/checkpoint.pth\"\n",
    "exp_model.model.load_state_dict(torch.load(model_path))"
   ]
  },
  {
   "cell_type": "code",
   "execution_count": 21,
   "id": "47eb3cd1-a930-4022-bd41-5614be55e5ac",
   "metadata": {},
   "outputs": [],
   "source": [
    "# weather 데이터 불러오기 -> 96단위로 절단하기\n",
    "\n",
    "from data_provider.data_loader import Dataset_Custom\n",
    "\n",
    "dataset_weather_24 = Dataset_Custom(args, './dataset/weather/',\n",
    "                                    flag='train', size=(24, 12, 24),\n",
    "                                    features='MS', data_path = 'weather.csv',\n",
    "                                    target='OT', scale=True, freq='h', timeenc=0,\n",
    "                                    seasonal_patterns=None, train_ratio=0.7, test_ratio=0.2)"
   ]
  },
  {
   "cell_type": "code",
   "execution_count": 22,
   "id": "9b2264f6-dd6d-428e-9b0b-05e037311f78",
   "metadata": {},
   "outputs": [],
   "source": [
    "# 모델 훈련셋 결과 확인하기\n",
    "from data_provider.data_factory import data_provider\n",
    "from torch.utils.data import DataLoader\n",
    "\n",
    "args.seq_len=24 # 입력길이 재조정\n",
    "args.pred_len=24 # 출력길이 재조정\n",
    "# dataset_weather_24에서 loader 생성\n",
    "dataset_weather_24_loader = DataLoader(\n",
    "            dataset_weather_24,\n",
    "            batch_size=1, # 모든 데이터셋을 확인해야 해서 batch_size를 강제로 1로 조정.\n",
    "            shuffle=False,\n",
    "            num_workers=args.num_workers,\n",
    "            drop_last=False)"
   ]
  },
  {
   "cell_type": "code",
   "execution_count": 23,
   "id": "6e0659f7-4bc9-4507-8ae0-b1a9c11731d1",
   "metadata": {
    "scrolled": true
   },
   "outputs": [
    {
     "data": {
      "text/plain": [
       "Model(\n",
       "  (enc_embedding): DataEmbedding_inverted(\n",
       "    (value_embedding): Linear(in_features=24, out_features=64, bias=True)\n",
       "    (dropout): Dropout(p=0.1, inplace=False)\n",
       "  )\n",
       "  (encoder): Encoder(\n",
       "    (attn_layers): ModuleList(\n",
       "      (0): EncoderLayer(\n",
       "        (attention): AttentionLayer(\n",
       "          (inner_attention): FullAttention(\n",
       "            (dropout): Dropout(p=0.1, inplace=False)\n",
       "          )\n",
       "          (query_projection): Linear(in_features=64, out_features=64, bias=True)\n",
       "          (key_projection): Linear(in_features=64, out_features=64, bias=True)\n",
       "          (value_projection): Linear(in_features=64, out_features=64, bias=True)\n",
       "          (out_projection): Linear(in_features=64, out_features=64, bias=True)\n",
       "        )\n",
       "        (conv1): Conv1d(64, 64, kernel_size=(1,), stride=(1,))\n",
       "        (conv2): Conv1d(64, 64, kernel_size=(1,), stride=(1,))\n",
       "        (norm1): LayerNorm((64,), eps=1e-05, elementwise_affine=True)\n",
       "        (norm2): LayerNorm((64,), eps=1e-05, elementwise_affine=True)\n",
       "        (dropout): Dropout(p=0.1, inplace=False)\n",
       "      )\n",
       "      (1): EncoderLayer(\n",
       "        (attention): AttentionLayer(\n",
       "          (inner_attention): FullAttention(\n",
       "            (dropout): Dropout(p=0.1, inplace=False)\n",
       "          )\n",
       "          (query_projection): Linear(in_features=64, out_features=64, bias=True)\n",
       "          (key_projection): Linear(in_features=64, out_features=64, bias=True)\n",
       "          (value_projection): Linear(in_features=64, out_features=64, bias=True)\n",
       "          (out_projection): Linear(in_features=64, out_features=64, bias=True)\n",
       "        )\n",
       "        (conv1): Conv1d(64, 64, kernel_size=(1,), stride=(1,))\n",
       "        (conv2): Conv1d(64, 64, kernel_size=(1,), stride=(1,))\n",
       "        (norm1): LayerNorm((64,), eps=1e-05, elementwise_affine=True)\n",
       "        (norm2): LayerNorm((64,), eps=1e-05, elementwise_affine=True)\n",
       "        (dropout): Dropout(p=0.1, inplace=False)\n",
       "      )\n",
       "    )\n",
       "    (norm): LayerNorm((64,), eps=1e-05, elementwise_affine=True)\n",
       "  )\n",
       "  (projection): Linear(in_features=64, out_features=24, bias=True)\n",
       ")"
      ]
     },
     "execution_count": 23,
     "metadata": {},
     "output_type": "execute_result"
    }
   ],
   "source": [
    "# 측정 모드로 전환\n",
    "exp_model.model.eval()"
   ]
  },
  {
   "cell_type": "code",
   "execution_count": 24,
   "id": "97b78ab6-3978-4acc-9a5c-f4b1bd92fb90",
   "metadata": {},
   "outputs": [
    {
     "data": {
      "text/plain": [
       "(24, 21)"
      ]
     },
     "execution_count": 24,
     "metadata": {},
     "output_type": "execute_result"
    }
   ],
   "source": [
    "dataset_weather_24[0][0].shape"
   ]
  },
  {
   "cell_type": "code",
   "execution_count": 25,
   "id": "4317ffb4-01e8-49c5-9618-2213cb96af95",
   "metadata": {},
   "outputs": [
    {
     "data": {
      "text/plain": [
       "(1, 24, 21)"
      ]
     },
     "execution_count": 25,
     "metadata": {},
     "output_type": "execute_result"
    }
   ],
   "source": [
    "trues_te_tr[0].shape"
   ]
  },
  {
   "cell_type": "code",
   "execution_count": 26,
   "id": "8e4e7cea-bd8f-41d0-bdda-57dea67b560e",
   "metadata": {},
   "outputs": [],
   "source": [
    "from utils.metrics import *"
   ]
  },
  {
   "cell_type": "code",
   "execution_count": 28,
   "id": "6f4c9d39-55ab-4bc4-8c7a-eaf017df7c87",
   "metadata": {},
   "outputs": [],
   "source": [
    "# 트레인 데이터셋을 테스트해서 결과 받기, test 함수에서 가져옴\n",
    "preds_te_tr = []\n",
    "trues_te_tr = []\n",
    "origin_te_tr = []\n",
    "origin_y_te_tr = []\n",
    "\n",
    "for i, (batch_x, batch_y, batch_x_mark, batch_y_mark) in enumerate(dataset_weather_24_loader):\n",
    "    if i<1000:\n",
    "        origin_te_tr.append(batch_x)\n",
    "        origin_y_te_tr.append(batch_y)\n",
    "        batch_x = batch_x.float().to(exp_model.device)\n",
    "        batch_y = batch_y.float().to(exp_model.device)\n",
    "    \n",
    "        batch_x_mark = batch_x_mark.float().to(exp_model.device)\n",
    "        batch_y_mark = batch_y_mark.float().to(exp_model.device)\n",
    "    \n",
    "        # decoder input\n",
    "        dec_inp = torch.zeros_like(batch_y[:, -args.pred_len:, :]).float()\n",
    "        dec_inp = torch.cat([batch_y[:, :args.label_len, :], dec_inp], dim=1).float().to(exp_model.device)\n",
    "        # encoder - decoder\n",
    "    \n",
    "        # use_amp도 사용하지 않음, \n",
    "        outputs = exp_model.model(batch_x, batch_x_mark, dec_inp, batch_y_mark)\n",
    "    \n",
    "        outputs = outputs[:, -args.pred_len:, :]\n",
    "        batch_y = batch_y[:, -args.pred_len:, :].to(exp_model.device)\n",
    "        outputs = outputs.detach().cpu().numpy()\n",
    "        batch_y = batch_y.detach().cpu().numpy()\n",
    "    \n",
    "        pred = outputs\n",
    "        true = batch_y\n",
    "    \n",
    "        preds_te_tr.append(pred)\n",
    "        trues_te_tr.append(true)\n",
    "\n",
    "origin_te_tr = np.concatenate(origin_te_tr, axis=0)\n",
    "origin_y_te_tr = np.concatenate(origin_y_te_tr, axis=0)\n",
    "preds_te_tr = np.concatenate(preds_te_tr, axis=0)\n",
    "trues_te_tr = np.concatenate(trues_te_tr, axis=0)"
   ]
  },
  {
   "cell_type": "code",
   "execution_count": 29,
   "id": "40561e4a-d62a-41e1-a72e-c77f79582d10",
   "metadata": {},
   "outputs": [
    {
     "data": {
      "text/plain": [
       "0.0"
      ]
     },
     "execution_count": 29,
     "metadata": {},
     "output_type": "execute_result"
    }
   ],
   "source": [
    "MAE(origin_te_tr[24], origin_y_te_tr[:,12:,:][0])"
   ]
  },
  {
   "cell_type": "code",
   "execution_count": 30,
   "id": "6d39b8c3-8a95-45f9-8184-1df774c4cec0",
   "metadata": {
    "scrolled": true
   },
   "outputs": [
    {
     "data": {
      "text/plain": [
       "9.68093686684049e-16"
      ]
     },
     "execution_count": 30,
     "metadata": {},
     "output_type": "execute_result"
    }
   ],
   "source": [
    "MSE(origin_y_te_tr[:,12:,:][0], trues_te_tr[0]) # 역시 동일"
   ]
  },
  {
   "cell_type": "code",
   "execution_count": 31,
   "id": "502c6423-c090-4b47-9b15-ef9d898afacb",
   "metadata": {},
   "outputs": [
    {
     "data": {
      "text/plain": [
       "0.13481076"
      ]
     },
     "execution_count": 31,
     "metadata": {},
     "output_type": "execute_result"
    }
   ],
   "source": [
    "MSE(preds_te_tr, trues_te_tr)"
   ]
  },
  {
   "cell_type": "code",
   "execution_count": 32,
   "id": "2f8b7ae2-ad39-47db-9f8b-3dfb014d7f26",
   "metadata": {
    "scrolled": true
   },
   "outputs": [],
   "source": [
    "# 24-> 24로 결과 generation 방법\n",
    "# 첫번째 합성 데이터 사용\n",
    "# preds_te_tr에서 \n",
    "preds_m1_tr = [] # 1단계 합성\n",
    "preds_m2_tr = [] # 2단계 합성\n",
    "preds_m3_tr = [] # 3단계 합성\n",
    "preds_m4_tr = [] # 4단계 합성\n",
    "\n",
    "for i, (batch_x, batch_y, batch_x_mark, batch_y_mark) in enumerate(dataset_weather_24_loader):\n",
    "\n",
    "    if i>=24 and i<1000:\n",
    "        batch_x1 = torch.Tensor([preds_te_tr[i-24]]).to(exp_model.device)\n",
    "        batch_y = batch_y.float().to(exp_model.device)\n",
    "    \n",
    "        batch_x_mark = batch_x_mark.float().to(exp_model.device)\n",
    "        batch_y_mark = batch_y_mark.float().to(exp_model.device)\n",
    "    \n",
    "        # decoder input\n",
    "        dec_inp = torch.zeros_like(batch_y[:, -args.pred_len:, :]).float()\n",
    "        dec_inp = torch.cat([batch_y[:, :args.label_len, :], dec_inp], dim=1).float().to(exp_model.device)\n",
    "        # encoder - decoder\n",
    "    \n",
    "        # use_amp도 사용하지 않음, \n",
    "        outputs1 = exp_model.model(batch_x1, batch_x_mark, dec_inp, batch_y_mark)\n",
    "    \n",
    "        outputs1 = outputs1[:, -args.pred_len:, :]\n",
    "        outputs1 = outputs1.detach().cpu().numpy()\n",
    "    \n",
    "        preds_m1_tr.append(outputs1)\n",
    "\n",
    "    if i>=48 and i<1000:\n",
    "        batch_x2 = torch.Tensor(preds_m1_tr[i-48]).to(exp_model.device)\n",
    "\n",
    "        # use_amp도 사용하지 않음, \n",
    "        outputs2 = exp_model.model(batch_x2, batch_x_mark, dec_inp, batch_y_mark)\n",
    "        outputs2 = outputs2[:, -args.pred_len:, :]\n",
    "        outputs2 = outputs2.detach().cpu().numpy()\n",
    "    \n",
    "        preds_m2_tr.append(outputs2)\n",
    "    \n",
    "    if i>=72 and i<1000:\n",
    "        batch_x3 = torch.Tensor(preds_m2_tr[i-72]).to(exp_model.device)\n",
    "\n",
    "        # use_amp도 사용하지 않음, \n",
    "        outputs3 = exp_model.model(batch_x3, batch_x_mark, dec_inp, batch_y_mark)\n",
    "        outputs3 = outputs3[:, -args.pred_len:, :]\n",
    "        outputs3 = outputs3.detach().cpu().numpy()\n",
    "    \n",
    "        preds_m3_tr.append(outputs3)\n",
    "\n",
    "    if i>=96 and i<1000:\n",
    "        batch_x4 = torch.Tensor(preds_m3_tr[i-96]).to(exp_model.device)\n",
    "\n",
    "        # use_amp도 사용하지 않음, \n",
    "        outputs4 = exp_model.model(batch_x4, batch_x_mark, dec_inp, batch_y_mark)\n",
    "        outputs4 = outputs4[:, -args.pred_len:, :]\n",
    "        outputs4 = outputs4.detach().cpu().numpy()\n",
    "    \n",
    "        preds_m4_tr.append(outputs4)\n",
    "\n",
    "preds_m1_tr = np.concatenate(preds_m1_tr, axis=0)\n",
    "preds_m2_tr = np.concatenate(preds_m2_tr, axis=0)\n",
    "preds_m3_tr = np.concatenate(preds_m3_tr, axis=0)\n",
    "preds_m4_tr = np.concatenate(preds_m4_tr, axis=0)"
   ]
  },
  {
   "cell_type": "code",
   "execution_count": 33,
   "id": "84ac3da4-bb92-437e-ac86-075b07b2dce4",
   "metadata": {},
   "outputs": [
    {
     "data": {
      "text/plain": [
       "(1000, 24, 21)"
      ]
     },
     "execution_count": 33,
     "metadata": {},
     "output_type": "execute_result"
    }
   ],
   "source": [
    "preds_te_tr.shape"
   ]
  },
  {
   "cell_type": "code",
   "execution_count": 34,
   "id": "1758c461-3656-4ef9-b77b-ed7cab062d55",
   "metadata": {},
   "outputs": [],
   "source": [
    "# LinearRegression 사용해서 오차 비교\n",
    "from sklearn.linear_model import LinearRegression"
   ]
  },
  {
   "cell_type": "code",
   "execution_count": 35,
   "id": "66299944-5aa4-4c1b-bcbd-5b2bc24b633c",
   "metadata": {},
   "outputs": [
    {
     "data": {
      "text/plain": [
       "(0.13600048,\n",
       " 0.16279037,\n",
       " -0.031951766,\n",
       " 0.018171838173407485,\n",
       " 0.07316248770894788)"
      ]
     },
     "execution_count": 35,
     "metadata": {},
     "output_type": "execute_result"
    }
   ],
   "source": [
    "# 24-24 MSE/MAE/ME/CORR/RATIO_IRR 정리 (96~999 스텝 부분)\n",
    "\n",
    "MSE(preds_te_tr[96:1000, :, :], trues_te_tr[96:1000, :, :]), MAE(preds_te_tr[96:1000, :, :], trues_te_tr[96:1000, :, :]), SMAE(preds_te_tr[96:1000, :, :], trues_te_tr[96:1000, :, :]), REC_CORR(preds_te_tr[96:1000, :, :], trues_te_tr[96:1000, :, :]), RATIO_IRR(preds_te_tr[96:1000, :, :], trues_te_tr[96:1000, :, :], 3)"
   ]
  },
  {
   "cell_type": "code",
   "execution_count": 36,
   "id": "6c441fc8-a5b1-49e1-ad1d-f7e38c8d4259",
   "metadata": {},
   "outputs": [
    {
     "name": "stdout",
     "output_type": "stream",
     "text": [
      "[0.67272794 0.02474096 0.06188482 0.16868775]\n"
     ]
    }
   ],
   "source": [
    "# Linear Regression 이용해서 정리\n",
    "# preds_te_tr, preds_m1_tr, preds_m2_tr, preds_m3_tr -> trues_te_tr 유도\n",
    "lr = LinearRegression()\n",
    "nX = np.array([preds_te_tr[96:1000, :, :].reshape(-1), preds_m1_tr[72:976, :, :].reshape(-1), preds_m2_tr[48:952, :, :].reshape(-1), preds_m3_tr[24:928, :, :].reshape(-1)])\n",
    "ny = trues_te_tr[96:1000, :, :].reshape(-1)\n",
    "reg1 = lr.fit(nX.T,ny)\n",
    "print(reg1.coef_)\n"
   ]
  },
  {
   "cell_type": "code",
   "execution_count": 121,
   "id": "bdceb838-7f8f-45ad-999b-e2778762df0f",
   "metadata": {},
   "outputs": [
    {
     "data": {
      "text/plain": [
       "((4, 455616), (455616,))"
      ]
     },
     "execution_count": 121,
     "metadata": {},
     "output_type": "execute_result"
    }
   ],
   "source": [
    "nX.shape, ny.shape"
   ]
  },
  {
   "cell_type": "code",
   "execution_count": 137,
   "id": "b551b0b6-4201-494d-96df-9ca38d89f9cd",
   "metadata": {},
   "outputs": [
    {
     "name": "stdout",
     "output_type": "stream",
     "text": [
      "0.12872025\n",
      "0.19829576\n"
     ]
    }
   ],
   "source": [
    "# test_result\n",
    "rcf = reg1.coef_\n",
    "rcf = [0.96,reg1.coef_[1],reg1.coef_[2]/4,0]\n",
    "print(MSE(rcf[0]*preds_te_tr[96:192, :, :] + rcf[1]*preds_m1_tr[72:168, :, :] + rcf[2]*preds_m2_tr[48:144, :, :] + rcf[3]*preds_te_tr[24:120, :, :], trues_te_tr[96:192, :, :]))\n",
    "print(MAE(rcf[0]*preds_te_tr[96:192, :, :] + rcf[1]*preds_m1_tr[72:168, :, :] + rcf[2]*preds_m2_tr[48:144, :, :] + rcf[3]*preds_te_tr[24:120, :, :], trues_te_tr[96:192, :, :]))"
   ]
  },
  {
   "cell_type": "code",
   "execution_count": null,
   "id": "4291e7aa-5e62-4ade-b990-b3e70f3056c3",
   "metadata": {},
   "outputs": [],
   "source": []
  },
  {
   "cell_type": "code",
   "execution_count": 37,
   "id": "9970bd11-1e98-41f4-8208-d921da16389c",
   "metadata": {},
   "outputs": [],
   "source": [
    "# LinearRegression 이용해서 최적화된 계수 비교하기\n",
    "# 96-> 24 데이터와 정확도 비교"
   ]
  },
  {
   "cell_type": "code",
   "execution_count": 38,
   "id": "cabfc755-5113-48cb-80a1-5535161931f6",
   "metadata": {},
   "outputs": [
    {
     "name": "stdout",
     "output_type": "stream",
     "text": [
      "Use GPU: cuda:0\n"
     ]
    }
   ],
   "source": [
    "args.seq_len = 96 \n",
    "exp_model2 = Exp_Long_Term_Forecast(args)"
   ]
  },
  {
   "cell_type": "code",
   "execution_count": 39,
   "id": "ec86bb00-79ae-47ac-8845-5c0fedc55866",
   "metadata": {},
   "outputs": [
    {
     "data": {
      "text/plain": [
       "<All keys matched successfully>"
      ]
     },
     "execution_count": 39,
     "metadata": {},
     "output_type": "execute_result"
    }
   ],
   "source": [
    "setting_path2 = 'long_term_forecast_weather_24_24_ts_iTransformer_custom_ftMS_sl96_ll12_pl24_dm64_nh8_el2_dl1_df64_expand2_dc4_fc3_ebtimeF_dtTrue_Exp_0(1725123684)'\n",
    "model_path2 = f\"{checkpoint_path}{setting_path2}/checkpoint.pth\"\n",
    "exp_model2.model.load_state_dict(torch.load(model_path2))"
   ]
  },
  {
   "cell_type": "code",
   "execution_count": 40,
   "id": "e98ef775-83c1-47d2-a964-ab9b6170779c",
   "metadata": {
    "scrolled": true
   },
   "outputs": [
    {
     "data": {
      "text/plain": [
       "Model(\n",
       "  (enc_embedding): DataEmbedding_inverted(\n",
       "    (value_embedding): Linear(in_features=96, out_features=64, bias=True)\n",
       "    (dropout): Dropout(p=0.1, inplace=False)\n",
       "  )\n",
       "  (encoder): Encoder(\n",
       "    (attn_layers): ModuleList(\n",
       "      (0): EncoderLayer(\n",
       "        (attention): AttentionLayer(\n",
       "          (inner_attention): FullAttention(\n",
       "            (dropout): Dropout(p=0.1, inplace=False)\n",
       "          )\n",
       "          (query_projection): Linear(in_features=64, out_features=64, bias=True)\n",
       "          (key_projection): Linear(in_features=64, out_features=64, bias=True)\n",
       "          (value_projection): Linear(in_features=64, out_features=64, bias=True)\n",
       "          (out_projection): Linear(in_features=64, out_features=64, bias=True)\n",
       "        )\n",
       "        (conv1): Conv1d(64, 64, kernel_size=(1,), stride=(1,))\n",
       "        (conv2): Conv1d(64, 64, kernel_size=(1,), stride=(1,))\n",
       "        (norm1): LayerNorm((64,), eps=1e-05, elementwise_affine=True)\n",
       "        (norm2): LayerNorm((64,), eps=1e-05, elementwise_affine=True)\n",
       "        (dropout): Dropout(p=0.1, inplace=False)\n",
       "      )\n",
       "      (1): EncoderLayer(\n",
       "        (attention): AttentionLayer(\n",
       "          (inner_attention): FullAttention(\n",
       "            (dropout): Dropout(p=0.1, inplace=False)\n",
       "          )\n",
       "          (query_projection): Linear(in_features=64, out_features=64, bias=True)\n",
       "          (key_projection): Linear(in_features=64, out_features=64, bias=True)\n",
       "          (value_projection): Linear(in_features=64, out_features=64, bias=True)\n",
       "          (out_projection): Linear(in_features=64, out_features=64, bias=True)\n",
       "        )\n",
       "        (conv1): Conv1d(64, 64, kernel_size=(1,), stride=(1,))\n",
       "        (conv2): Conv1d(64, 64, kernel_size=(1,), stride=(1,))\n",
       "        (norm1): LayerNorm((64,), eps=1e-05, elementwise_affine=True)\n",
       "        (norm2): LayerNorm((64,), eps=1e-05, elementwise_affine=True)\n",
       "        (dropout): Dropout(p=0.1, inplace=False)\n",
       "      )\n",
       "    )\n",
       "    (norm): LayerNorm((64,), eps=1e-05, elementwise_affine=True)\n",
       "  )\n",
       "  (projection): Linear(in_features=64, out_features=24, bias=True)\n",
       ")"
      ]
     },
     "execution_count": 40,
     "metadata": {},
     "output_type": "execute_result"
    }
   ],
   "source": [
    "# 측정 모드로 전환\n",
    "exp_model2.model.eval()"
   ]
  },
  {
   "cell_type": "code",
   "execution_count": 41,
   "id": "dd31bda8-9800-492e-bc44-53ca88f07a28",
   "metadata": {},
   "outputs": [],
   "source": [
    "dataset_weather_96_24 = Dataset_Custom(args, './dataset/weather/',\n",
    "                                    flag='train', size=(96, 12, 24),\n",
    "                                    features='MS', data_path = 'weather.csv',\n",
    "                                    target='OT', scale=True, freq='h', timeenc=0,\n",
    "                                    seasonal_patterns=None, train_ratio=0.7, test_ratio=0.2)\n",
    "dataset_weather_96_24_loader = DataLoader(\n",
    "            dataset_weather_96_24,\n",
    "            batch_size=1, # 모든 데이터셋을 확인해야 해서 batch_size를 강제로 1로 조정.\n",
    "            shuffle=False,\n",
    "            num_workers=args.num_workers,\n",
    "            drop_last=False)"
   ]
  },
  {
   "cell_type": "code",
   "execution_count": 42,
   "id": "47cc88a1-f57e-4d4b-b75f-aa54137d72b0",
   "metadata": {},
   "outputs": [],
   "source": [
    "# 트레인 데이터셋을 테스트해서 결과 받기, test 함수에서 가져옴\n",
    "preds_te_tr96 = []\n",
    "trues_te_tr96 = []\n",
    "\n",
    "for i, (batch_x, batch_y, batch_x_mark, batch_y_mark) in enumerate(dataset_weather_96_24_loader):\n",
    "\n",
    "    if i<928:\n",
    "        batch_x = batch_x.float().to(exp_model.device)\n",
    "        batch_y = batch_y.float().to(exp_model.device)\n",
    "    \n",
    "        batch_x_mark = batch_x_mark.float().to(exp_model.device)\n",
    "        batch_y_mark = batch_y_mark.float().to(exp_model.device)\n",
    "    \n",
    "        # decoder input\n",
    "        dec_inp = torch.zeros_like(batch_y[:, -args.pred_len:, :]).float()\n",
    "        dec_inp = torch.cat([batch_y[:, :args.label_len, :], dec_inp], dim=1).float().to(exp_model.device)\n",
    "        # encoder - decoder\n",
    "    \n",
    "        # use_amp도 사용하지 않음, \n",
    "        outputs = exp_model2.model(batch_x, batch_x_mark, dec_inp, batch_y_mark)\n",
    "    \n",
    "        outputs = outputs[:, -args.pred_len:, :]\n",
    "        batch_y = batch_y[:, -args.pred_len:, :].to(exp_model.device)\n",
    "        outputs = outputs.detach().cpu().numpy()\n",
    "        batch_y = batch_y.detach().cpu().numpy()\n",
    "    \n",
    "        pred = outputs\n",
    "        true = batch_y\n",
    "    \n",
    "        preds_te_tr96.append(pred)\n",
    "        trues_te_tr96.append(true)\n",
    "\n",
    "preds_te_tr96 = np.concatenate(preds_te_tr96, axis=0)\n",
    "trues_te_tr96 = np.concatenate(trues_te_tr96, axis=0)"
   ]
  },
  {
   "cell_type": "code",
   "execution_count": 43,
   "id": "7040973d-132c-4e5e-b370-5de1418437bb",
   "metadata": {},
   "outputs": [
    {
     "data": {
      "text/plain": [
       "(928, 24, 21)"
      ]
     },
     "execution_count": 43,
     "metadata": {},
     "output_type": "execute_result"
    }
   ],
   "source": [
    "preds_te_tr96.shape"
   ]
  },
  {
   "cell_type": "code",
   "execution_count": 44,
   "id": "0027ab27-fa52-457a-a0bb-00f34797d3de",
   "metadata": {},
   "outputs": [
    {
     "data": {
      "text/plain": [
       "(0.14120887, 0.2197242)"
      ]
     },
     "execution_count": 44,
     "metadata": {},
     "output_type": "execute_result"
    }
   ],
   "source": [
    "# 96 to 24\n",
    "MSE(preds_te_tr96, trues_te_tr96), MAE(preds_te_tr96, trues_te_tr96)"
   ]
  },
  {
   "cell_type": "code",
   "execution_count": 45,
   "id": "4a368e3c-e659-4ec2-af3a-688968c8f840",
   "metadata": {},
   "outputs": [
    {
     "data": {
      "text/plain": [
       "(0.076825835, 0.15383437, 0.18518099518682804)"
      ]
     },
     "execution_count": 45,
     "metadata": {},
     "output_type": "execute_result"
    }
   ],
   "source": [
    "MSE(preds_te_tr96, preds_te_tr[72:]), MAE(preds_te_tr96, preds_te_tr[72:]), REC_CORR(preds_te_tr96, preds_te_tr[72:])"
   ]
  },
  {
   "cell_type": "code",
   "execution_count": 46,
   "id": "0be484b1-68d5-4e4e-b92b-1f50b3131976",
   "metadata": {},
   "outputs": [
    {
     "data": {
      "text/plain": [
       "(0.1371825, 0.16598748)"
      ]
     },
     "execution_count": 46,
     "metadata": {},
     "output_type": "execute_result"
    }
   ],
   "source": [
    "# 24 to 24\n",
    "MSE(preds_te_tr[72:], trues_te_tr[72:]), MAE(preds_te_tr[72:], trues_te_tr[72:])"
   ]
  },
  {
   "cell_type": "code",
   "execution_count": 47,
   "id": "340f23d4-9292-4dc1-ae98-8a41755c94b6",
   "metadata": {},
   "outputs": [
    {
     "name": "stdout",
     "output_type": "stream",
     "text": [
      "0.21753576 0.25849262\n",
      "0.25563183 0.29859507\n",
      "0.265332 0.3086457\n"
     ]
    }
   ],
   "source": [
    "# 24 to 24 반복 확인\n",
    "print(MSE(preds_m1_tr[48:], trues_te_tr[72:]), MAE(preds_m1_tr[48:], trues_te_tr[72:]))\n",
    "print(MSE(preds_m2_tr[24:], trues_te_tr[72:]), MAE(preds_m2_tr[24:], trues_te_tr[72:]))\n",
    "print(MSE(preds_m3_tr[0:], trues_te_tr[72:]), MAE(preds_m3_tr[0:], trues_te_tr[72:]))"
   ]
  },
  {
   "cell_type": "code",
   "execution_count": 48,
   "id": "c1820df2-5f1e-40e9-a005-17a83fc65baf",
   "metadata": {
    "scrolled": true
   },
   "outputs": [
    {
     "data": {
      "text/plain": [
       "0.0"
      ]
     },
     "execution_count": 48,
     "metadata": {},
     "output_type": "execute_result"
    }
   ],
   "source": [
    "# 같은 거 확인\n",
    "MSE(trues_te_tr[72:], trues_te_tr96)"
   ]
  },
  {
   "cell_type": "code",
   "execution_count": 49,
   "id": "a6f1a96e-cff3-4a0c-89eb-807c59c34800",
   "metadata": {},
   "outputs": [],
   "source": [
    "%matplotlib inline"
   ]
  },
  {
   "cell_type": "code",
   "execution_count": 50,
   "id": "81606c4a-2a73-43c0-910a-597005525770",
   "metadata": {
    "scrolled": true
   },
   "outputs": [
    {
     "data": {
      "image/png": "[encoded data removed]",
      "text/plain": [
       "<Figure size 640x480 with 1 Axes>"
      ]
     },
     "metadata": {},
     "output_type": "display_data"
    }
   ],
   "source": [
    "# 그래프 출력\n",
    "import matplotlib.pyplot as plt\n",
    "\n",
    "idx = 2\n",
    "plt.plot(range(48), np.concatenate([trues_te_tr[idx+48, :, -1], preds_te_tr96[idx, :,-1]]), label='96to24' )\n",
    "plt.plot(range(48), np.concatenate([trues_te_tr[idx+48, :, -1], preds_te_tr[idx+72, :,-1]]), label='24to24' )\n",
    "plt.plot(range(48), np.concatenate([trues_te_tr[idx+48, :, -1], trues_te_tr[idx+72, :,-1]]), label='real' )\n",
    "plt.legend()\n",
    "plt.show()"
   ]
  },
  {
   "cell_type": "code",
   "execution_count": 169,
   "id": "ba147493-69be-4725-97ce-8ec49c6cb6d4",
   "metadata": {},
   "outputs": [],
   "source": [
    "# coefficient 확인하기\n",
    "\n",
    "# np.save('preds_te_tr.npy', preds_te_tr[72:])\n",
    "# np.save('preds_m1_tr.npy', preds_m1_tr[48:])\n",
    "# np.save('preds_m2_tr.npy', preds_m2_tr[24:])\n",
    "# np.save('preds_m3_tr.npy', preds_m3_tr[0:])\n",
    "# np.save('preds_te_tr96.npy', preds_te_tr96[0:])"
   ]
  },
  {
   "cell_type": "code",
   "execution_count": 57,
   "id": "39220e1a-d4e0-4d4e-bb6d-6f7046202770",
   "metadata": {},
   "outputs": [
    {
     "name": "stdout",
     "output_type": "stream",
     "text": [
      "선형 회귀 계수: [[0.6694057  0.01228346 0.08229496 0.16961703]]\n",
      "MAE: 0.18461628258228302\n",
      "MSE: 0.1155468001961708\n",
      "ME: -2.0423285604920238e-05\n",
      "IRR(3): 0.05272475369458128\n",
      "CORR: nan\n"
     ]
    }
   ],
   "source": [
    "# pred_te_tr96을 preds_te_tr, preds_m1_tr, preds_m2_tr, preds_m3_tr 관계식으로 유도\n",
    "\n",
    "# 입력 데이터 준비\n",
    "X = np.hstack([\n",
    "    preds_te_tr[72:].reshape(-1, 1),   # 각 예측값을 2차원 배열로 변환\n",
    "    preds_m1_tr[48:].reshape(-1, 1),\n",
    "    preds_m2_tr[24:].reshape(-1, 1),\n",
    "    preds_m3_tr.reshape(-1, 1)\n",
    "])\n",
    "\n",
    "# 목표 변수 trues_te_tr96 준비\n",
    "y = trues_te_tr96.reshape(-1, 1)\n",
    "\n",
    "# 선형 회귀 모델 학습\n",
    "model = LinearRegression()\n",
    "model.fit(X, y)\n",
    "\n",
    "# 예측값 생성\n",
    "y_pred = model.predict(X)\n",
    "\n",
    "# 학습된 계수 확인\n",
    "coefficients = model.coef_\n",
    "\n",
    "mae = MAE(y, y_pred)\n",
    "mse = MSE(y, y_pred)\n",
    "me = SMAE(y_pred, y)\n",
    "corr = REC_CORR(y, y_pred)\n",
    "irr = RATIO_IRR(y, y_pred, 3)\n",
    "\n",
    "\n",
    "print(f\"선형 회귀 계수: {coefficients}\")\n",
    "print(f\"MAE: {mae}\")\n",
    "print(f\"MSE: {mse}\")\n",
    "print(f\"ME: {me}\")\n",
    "print(f\"IRR(3): {irr}\")\n",
    "print(f\"CORR: {corr}\")"
   ]
  },
  {
   "cell_type": "code",
   "execution_count": 109,
   "id": "1a46ad4b-3c6c-415e-ab87-01d0059779a8",
   "metadata": {},
   "outputs": [
    {
     "name": "stdout",
     "output_type": "stream",
     "text": [
      "96/24 model test result (MSE, MAE, SMAE, corr)\n",
      "0.14120887 0.2197242 -0.052614972 0.05851074624644418\n",
      "linear combination of 24/24 model test result (MSE, MAE, SMAE, corr)\n",
      "0.1155468 0.18461628 -2.0423286e-05 0.009536485189151329\n"
     ]
    }
   ],
   "source": [
    "# 이제 coef를 찾았으니 실제 데이터와 비교하기\n",
    "# 우선 실제 예측값\n",
    "print('96/24 model test result (MSE, MAE, SMAE, corr)')\n",
    "print(MSE(preds_te_tr96, trues_te_tr96), MAE(preds_te_tr96, trues_te_tr96), SMAE(preds_te_tr96, trues_te_tr96), REC_CORR(preds_te_tr96, trues_te_tr96))\n",
    "# 그리고 변형된 예측값\n",
    "preds_combi_tr = y_pred.reshape(928, 24, 21)\n",
    "print('linear combination of 24/24 model test result (MSE, MAE, SMAE, corr)')\n",
    "print(MSE(preds_combi_tr, trues_te_tr96), MAE(preds_combi_tr, trues_te_tr96), SMAE(preds_combi_tr, trues_te_tr96), REC_CORR(preds_combi_tr, trues_te_tr96))"
   ]
  },
  {
   "cell_type": "code",
   "execution_count": 108,
   "id": "74d9aa6a-7311-4c03-820f-bde15a35cae9",
   "metadata": {},
   "outputs": [
    {
     "name": "stdout",
     "output_type": "stream",
     "text": [
      "0.047254257 0.12507825 0.052594554 0.1744879791222337\n"
     ]
    }
   ],
   "source": [
    "print(MSE(preds_combi_tr, preds_te_tr96), MAE(preds_combi_tr, preds_te_tr96), SMAE(preds_combi_tr, preds_te_tr96), REC_CORR(preds_combi_tr, preds_te_tr96))"
   ]
  },
  {
   "cell_type": "code",
   "execution_count": 79,
   "id": "f7a26b18-ccad-42ba-bdad-230b67a08a7b",
   "metadata": {},
   "outputs": [],
   "source": [
    "from layers.Autoformer_EncDec import series_decomp, moving_avg"
   ]
  },
  {
   "cell_type": "code",
   "execution_count": 71,
   "id": "7aee1ab9-7afb-448c-a1bf-30a8a5c73b5f",
   "metadata": {},
   "outputs": [],
   "source": [
    "args.seq_len = 24\n",
    "decomp = series_decomp(args.moving_avg)"
   ]
  },
  {
   "cell_type": "code",
   "execution_count": 72,
   "id": "c5c008b1-d339-42dd-aeb7-107b20b78ea1",
   "metadata": {},
   "outputs": [
    {
     "data": {
      "text/plain": [
       "(1, 24, 21)"
      ]
     },
     "execution_count": 72,
     "metadata": {},
     "output_type": "execute_result"
    }
   ],
   "source": [
    "preds_combi_tr[j:j+1].shape"
   ]
  },
  {
   "cell_type": "code",
   "execution_count": 83,
   "id": "9ed13b48-6dcc-4925-bf21-1ed049b34bd7",
   "metadata": {},
   "outputs": [],
   "source": [
    "# batch_8로 처리\n",
    "preds_combi_s_tr = []\n",
    "preds_combi_t_tr = []\n",
    "for j in range(0, 928):\n",
    "    s_enc, t_enc = decomp(torch.Tensor(preds_combi_tr[j:j+1]))\n",
    "    preds_combi_s_tr.append(s_enc)\n",
    "    preds_combi_t_tr.append(t_enc)\n",
    "\n",
    "preds_combi_s_tr = np.concatenate(preds_combi_s_tr, axis=0)\n",
    "preds_combi_t_tr = np.concatenate(preds_combi_t_tr, axis=0)"
   ]
  },
  {
   "cell_type": "code",
   "execution_count": 93,
   "id": "ab6a62ed-f1cb-46c0-86a7-6ae89370699e",
   "metadata": {
    "scrolled": true
   },
   "outputs": [
    {
     "data": {
      "text/plain": [
       "((928, 24, 21), (928, 24, 21))"
      ]
     },
     "execution_count": 93,
     "metadata": {},
     "output_type": "execute_result"
    }
   ],
   "source": [
    "preds_combi_s_tr.shape, preds_combi_t_tr.shape"
   ]
  },
  {
   "cell_type": "code",
   "execution_count": 87,
   "id": "47ecffa1-11f0-4520-9a5d-7f809d7ad571",
   "metadata": {},
   "outputs": [],
   "source": [
    "preds_te_s_tr = []\n",
    "preds_te_t_tr = []\n",
    "for j in range(0, 928):\n",
    "    s_enc, t_enc = decomp(torch.Tensor(preds_te_tr[j:j+1]))\n",
    "    preds_te_s_tr.append(s_enc)\n",
    "    preds_te_t_tr.append(t_enc)\n",
    "\n",
    "preds_te_s_tr = np.concatenate(preds_te_s_tr, axis=0)\n",
    "preds_te_t_tr = np.concatenate(preds_te_t_tr, axis=0)"
   ]
  },
  {
   "cell_type": "code",
   "execution_count": 99,
   "id": "89897bd7-c948-4ba9-a55a-a3190a4c675e",
   "metadata": {},
   "outputs": [
    {
     "data": {
      "text/plain": [
       "[<matplotlib.lines.Line2D at 0x7f7e71e80880>]"
      ]
     },
     "execution_count": 99,
     "metadata": {},
     "output_type": "execute_result"
    },
    {
     "data": {
      "image/png": "[encoded data removed]",
      "text/plain": [
       "<Figure size 640x480 with 1 Axes>"
      ]
     },
     "metadata": {},
     "output_type": "display_data"
    }
   ],
   "source": [
    "idx0 = 432\n",
    "plt.plot(range(24), preds_combi_t_tr[idx0, :, -1])"
   ]
  },
  {
   "cell_type": "code",
   "execution_count": 100,
   "id": "bc236c2c-9591-48e1-a28e-557ca3bcb8ff",
   "metadata": {},
   "outputs": [],
   "source": [
    "# 트레인 데이터셋을 테스트해서 결과 받기, test 함수에서 가져옴\n",
    "preds_combi_s_tr_res = []\n",
    "preds_combi_t_tr_res = []\n",
    "preds_te_s_tr_res = []\n",
    "preds_te_t_tr_res = []\n",
    "\n",
    "for i, (batch_x, batch_y, batch_x_mark, batch_y_mark) in enumerate(dataset_weather_24_loader):\n",
    "\n",
    "    if i<928:\n",
    "        # batch_x = batch_x.float().to(exp_model.device)\n",
    "        preds_combi_s = torch.Tensor(preds_combi_s_tr[i:i+1]).float().to(exp_model.device)\n",
    "        preds_combi_t = torch.Tensor(preds_combi_t_tr[i:i+1]).float().to(exp_model.device)\n",
    "        preds_te_s = torch.Tensor(preds_te_s_tr[i:i+1]).float().to(exp_model.device)\n",
    "        preds_te_t = torch.Tensor(preds_te_t_tr[i:i+1]).float().to(exp_model.device)\n",
    "        batch_y = batch_y.float().to(exp_model.device)\n",
    "    \n",
    "        batch_x_mark = batch_x_mark.float().to(exp_model.device)\n",
    "        batch_y_mark = batch_y_mark.float().to(exp_model.device)\n",
    "    \n",
    "        # decoder input\n",
    "        dec_inp = torch.zeros_like(batch_y[:, -args.pred_len:, :]).float()\n",
    "        dec_inp = torch.cat([batch_y[:, :args.label_len, :], dec_inp], dim=1).float().to(exp_model.device)\n",
    "        # encoder - decoder\n",
    "    \n",
    "        # use_amp도 사용하지 않음, \n",
    "        outputs_cs = exp_model.model(preds_combi_s, batch_x_mark, dec_inp, batch_y_mark)\n",
    "        outputs_cs = outputs_cs[:, -args.pred_len:, :]\n",
    "        outputs_cs = outputs_cs.detach().cpu().numpy()\n",
    "\n",
    "        outputs_ct = exp_model.model(preds_combi_t, batch_x_mark, dec_inp, batch_y_mark)\n",
    "        outputs_ct = outputs_ct[:, -args.pred_len:, :]\n",
    "        outputs_ct = outputs_ct.detach().cpu().numpy()\n",
    "\n",
    "        outputs_ts = exp_model.model(preds_te_s, batch_x_mark, dec_inp, batch_y_mark)\n",
    "        outputs_ts = outputs_ts[:, -args.pred_len:, :]\n",
    "        outputs_ts = outputs_ts.detach().cpu().numpy()\n",
    "\n",
    "        outputs_tt = exp_model.model(preds_te_t, batch_x_mark, dec_inp, batch_y_mark)\n",
    "        outputs_tt = outputs_tt[:, -args.pred_len:, :]\n",
    "        outputs_tt = outputs_tt.detach().cpu().numpy()\n",
    "    \n",
    "        preds_combi_s_tr_res.append(outputs_cs)\n",
    "        preds_combi_t_tr_res.append(outputs_ct)\n",
    "        preds_te_s_tr_res.append(outputs_ts)\n",
    "        preds_te_t_tr_res.append(outputs_tt)\n",
    "\n",
    "preds_combi_s_tr_res = np.concatenate(preds_combi_s_tr_res, axis=0)\n",
    "preds_combi_t_tr_res = np.concatenate(preds_combi_t_tr_res, axis=0)\n",
    "preds_te_s_tr_res = np.concatenate(preds_te_s_tr_res, axis=0)\n",
    "preds_te_t_tr_res = np.concatenate(preds_te_t_tr_res, axis=0)"
   ]
  },
  {
   "cell_type": "code",
   "execution_count": 103,
   "id": "18dcd90f-d616-407d-b5e9-e04553ddf8be",
   "metadata": {},
   "outputs": [
    {
     "data": {
      "text/plain": [
       "(928, 24, 21)"
      ]
     },
     "execution_count": 103,
     "metadata": {},
     "output_type": "execute_result"
    }
   ],
   "source": [
    "preds_combi_s_tr_res.shape"
   ]
  },
  {
   "cell_type": "code",
   "execution_count": 110,
   "id": "55bf104c-7789-4505-8040-8586278a3966",
   "metadata": {},
   "outputs": [
    {
     "data": {
      "text/plain": [
       "(0.021759063, 0.0014769618)"
      ]
     },
     "execution_count": 110,
     "metadata": {},
     "output_type": "execute_result"
    }
   ],
   "source": [
    "MAE(preds_combi_s_tr[0,2:,:], preds_combi_s_tr[2,:22, :]), MSE(preds_combi_s_tr[0,2:,:], preds_combi_s_tr[2,:22, :])"
   ]
  },
  {
   "cell_type": "code",
   "execution_count": 112,
   "id": "99051160-47df-4f9d-bd23-91b02818b6f9",
   "metadata": {
    "scrolled": true
   },
   "outputs": [
    {
     "data": {
      "text/html": [
       "<div>\n",
       "<style scoped>\n",
       "    .dataframe tbody tr th:only-of-type {\n",
       "        vertical-align: middle;\n",
       "    }\n",
       "\n",
       "    .dataframe tbody tr th {\n",
       "        vertical-align: top;\n",
       "    }\n",
       "\n",
       "    .dataframe thead th {\n",
       "        text-align: right;\n",
       "    }\n",
       "</style>\n",
       "<table border=\"1\" class=\"dataframe\">\n",
       "  <thead>\n",
       "    <tr style=\"text-align: right;\">\n",
       "      <th></th>\n",
       "      <th>p (mbar)</th>\n",
       "      <th>T (degC)</th>\n",
       "      <th>Tpot (K)</th>\n",
       "      <th>Tdew (degC)</th>\n",
       "      <th>rh (%)</th>\n",
       "      <th>VPmax (mbar)</th>\n",
       "      <th>VPact (mbar)</th>\n",
       "      <th>VPdef (mbar)</th>\n",
       "      <th>sh (g/kg)</th>\n",
       "      <th>H2OC (mmol/mol)</th>\n",
       "      <th>...</th>\n",
       "      <th>wv (m/s)</th>\n",
       "      <th>max. wv (m/s)</th>\n",
       "      <th>wd (deg)</th>\n",
       "      <th>rain (mm)</th>\n",
       "      <th>raining (s)</th>\n",
       "      <th>SWDR (W/m�)</th>\n",
       "      <th>PAR (�mol/m�/s)</th>\n",
       "      <th>max. PAR (�mol/m�/s)</th>\n",
       "      <th>Tlog (degC)</th>\n",
       "      <th>OT</th>\n",
       "    </tr>\n",
       "  </thead>\n",
       "  <tbody>\n",
       "    <tr>\n",
       "      <th>0</th>\n",
       "      <td>1008.89</td>\n",
       "      <td>0.71</td>\n",
       "      <td>273.18</td>\n",
       "      <td>-1.33</td>\n",
       "      <td>86.1</td>\n",
       "      <td>6.43</td>\n",
       "      <td>5.54</td>\n",
       "      <td>0.89</td>\n",
       "      <td>3.42</td>\n",
       "      <td>5.49</td>\n",
       "      <td>...</td>\n",
       "      <td>1.02</td>\n",
       "      <td>1.60</td>\n",
       "      <td>224.3</td>\n",
       "      <td>0.0</td>\n",
       "      <td>0.0</td>\n",
       "      <td>0.0</td>\n",
       "      <td>0.0</td>\n",
       "      <td>0.0</td>\n",
       "      <td>11.45</td>\n",
       "      <td>428.1</td>\n",
       "    </tr>\n",
       "    <tr>\n",
       "      <th>1</th>\n",
       "      <td>1008.76</td>\n",
       "      <td>0.75</td>\n",
       "      <td>273.22</td>\n",
       "      <td>-1.44</td>\n",
       "      <td>85.2</td>\n",
       "      <td>6.45</td>\n",
       "      <td>5.49</td>\n",
       "      <td>0.95</td>\n",
       "      <td>3.39</td>\n",
       "      <td>5.45</td>\n",
       "      <td>...</td>\n",
       "      <td>0.43</td>\n",
       "      <td>0.84</td>\n",
       "      <td>206.8</td>\n",
       "      <td>0.0</td>\n",
       "      <td>0.0</td>\n",
       "      <td>0.0</td>\n",
       "      <td>0.0</td>\n",
       "      <td>0.0</td>\n",
       "      <td>11.51</td>\n",
       "      <td>428.0</td>\n",
       "    </tr>\n",
       "    <tr>\n",
       "      <th>2</th>\n",
       "      <td>1008.66</td>\n",
       "      <td>0.73</td>\n",
       "      <td>273.21</td>\n",
       "      <td>-1.48</td>\n",
       "      <td>85.1</td>\n",
       "      <td>6.44</td>\n",
       "      <td>5.48</td>\n",
       "      <td>0.96</td>\n",
       "      <td>3.39</td>\n",
       "      <td>5.43</td>\n",
       "      <td>...</td>\n",
       "      <td>0.61</td>\n",
       "      <td>1.48</td>\n",
       "      <td>197.1</td>\n",
       "      <td>0.0</td>\n",
       "      <td>0.0</td>\n",
       "      <td>0.0</td>\n",
       "      <td>0.0</td>\n",
       "      <td>0.0</td>\n",
       "      <td>11.60</td>\n",
       "      <td>427.6</td>\n",
       "    </tr>\n",
       "    <tr>\n",
       "      <th>3</th>\n",
       "      <td>1008.64</td>\n",
       "      <td>0.37</td>\n",
       "      <td>272.86</td>\n",
       "      <td>-1.64</td>\n",
       "      <td>86.3</td>\n",
       "      <td>6.27</td>\n",
       "      <td>5.41</td>\n",
       "      <td>0.86</td>\n",
       "      <td>3.35</td>\n",
       "      <td>5.37</td>\n",
       "      <td>...</td>\n",
       "      <td>1.11</td>\n",
       "      <td>1.48</td>\n",
       "      <td>206.4</td>\n",
       "      <td>0.0</td>\n",
       "      <td>0.0</td>\n",
       "      <td>0.0</td>\n",
       "      <td>0.0</td>\n",
       "      <td>0.0</td>\n",
       "      <td>11.70</td>\n",
       "      <td>430.0</td>\n",
       "    </tr>\n",
       "    <tr>\n",
       "      <th>4</th>\n",
       "      <td>1008.61</td>\n",
       "      <td>0.33</td>\n",
       "      <td>272.82</td>\n",
       "      <td>-1.50</td>\n",
       "      <td>87.4</td>\n",
       "      <td>6.26</td>\n",
       "      <td>5.47</td>\n",
       "      <td>0.79</td>\n",
       "      <td>3.38</td>\n",
       "      <td>5.42</td>\n",
       "      <td>...</td>\n",
       "      <td>0.49</td>\n",
       "      <td>1.40</td>\n",
       "      <td>209.6</td>\n",
       "      <td>0.0</td>\n",
       "      <td>0.0</td>\n",
       "      <td>0.0</td>\n",
       "      <td>0.0</td>\n",
       "      <td>0.0</td>\n",
       "      <td>11.81</td>\n",
       "      <td>432.2</td>\n",
       "    </tr>\n",
       "    <tr>\n",
       "      <th>...</th>\n",
       "      <td>...</td>\n",
       "      <td>...</td>\n",
       "      <td>...</td>\n",
       "      <td>...</td>\n",
       "      <td>...</td>\n",
       "      <td>...</td>\n",
       "      <td>...</td>\n",
       "      <td>...</td>\n",
       "      <td>...</td>\n",
       "      <td>...</td>\n",
       "      <td>...</td>\n",
       "      <td>...</td>\n",
       "      <td>...</td>\n",
       "      <td>...</td>\n",
       "      <td>...</td>\n",
       "      <td>...</td>\n",
       "      <td>...</td>\n",
       "      <td>...</td>\n",
       "      <td>...</td>\n",
       "      <td>...</td>\n",
       "      <td>...</td>\n",
       "    </tr>\n",
       "    <tr>\n",
       "      <th>52691</th>\n",
       "      <td>978.32</td>\n",
       "      <td>2.28</td>\n",
       "      <td>277.16</td>\n",
       "      <td>-0.80</td>\n",
       "      <td>80.0</td>\n",
       "      <td>7.20</td>\n",
       "      <td>5.76</td>\n",
       "      <td>1.44</td>\n",
       "      <td>3.67</td>\n",
       "      <td>5.89</td>\n",
       "      <td>...</td>\n",
       "      <td>0.73</td>\n",
       "      <td>1.40</td>\n",
       "      <td>180.6</td>\n",
       "      <td>0.0</td>\n",
       "      <td>0.0</td>\n",
       "      <td>0.0</td>\n",
       "      <td>0.0</td>\n",
       "      <td>0.0</td>\n",
       "      <td>13.40</td>\n",
       "      <td>433.0</td>\n",
       "    </tr>\n",
       "    <tr>\n",
       "      <th>52692</th>\n",
       "      <td>978.30</td>\n",
       "      <td>2.13</td>\n",
       "      <td>277.01</td>\n",
       "      <td>-0.43</td>\n",
       "      <td>83.1</td>\n",
       "      <td>7.12</td>\n",
       "      <td>5.92</td>\n",
       "      <td>1.20</td>\n",
       "      <td>3.77</td>\n",
       "      <td>6.05</td>\n",
       "      <td>...</td>\n",
       "      <td>0.43</td>\n",
       "      <td>0.82</td>\n",
       "      <td>174.0</td>\n",
       "      <td>0.0</td>\n",
       "      <td>0.0</td>\n",
       "      <td>0.0</td>\n",
       "      <td>0.0</td>\n",
       "      <td>0.0</td>\n",
       "      <td>13.42</td>\n",
       "      <td>439.6</td>\n",
       "    </tr>\n",
       "    <tr>\n",
       "      <th>52693</th>\n",
       "      <td>978.26</td>\n",
       "      <td>1.99</td>\n",
       "      <td>276.88</td>\n",
       "      <td>-0.71</td>\n",
       "      <td>82.2</td>\n",
       "      <td>7.05</td>\n",
       "      <td>5.80</td>\n",
       "      <td>1.26</td>\n",
       "      <td>3.69</td>\n",
       "      <td>5.93</td>\n",
       "      <td>...</td>\n",
       "      <td>0.38</td>\n",
       "      <td>0.76</td>\n",
       "      <td>248.9</td>\n",
       "      <td>0.0</td>\n",
       "      <td>0.0</td>\n",
       "      <td>0.0</td>\n",
       "      <td>0.0</td>\n",
       "      <td>0.0</td>\n",
       "      <td>13.45</td>\n",
       "      <td>435.2</td>\n",
       "    </tr>\n",
       "    <tr>\n",
       "      <th>52694</th>\n",
       "      <td>978.26</td>\n",
       "      <td>2.07</td>\n",
       "      <td>276.95</td>\n",
       "      <td>-0.77</td>\n",
       "      <td>81.4</td>\n",
       "      <td>7.09</td>\n",
       "      <td>5.77</td>\n",
       "      <td>1.32</td>\n",
       "      <td>3.68</td>\n",
       "      <td>5.90</td>\n",
       "      <td>...</td>\n",
       "      <td>0.57</td>\n",
       "      <td>1.07</td>\n",
       "      <td>196.6</td>\n",
       "      <td>0.0</td>\n",
       "      <td>0.0</td>\n",
       "      <td>0.0</td>\n",
       "      <td>0.0</td>\n",
       "      <td>0.0</td>\n",
       "      <td>13.47</td>\n",
       "      <td>433.9</td>\n",
       "    </tr>\n",
       "    <tr>\n",
       "      <th>52695</th>\n",
       "      <td>978.24</td>\n",
       "      <td>2.01</td>\n",
       "      <td>276.89</td>\n",
       "      <td>-0.66</td>\n",
       "      <td>82.4</td>\n",
       "      <td>7.06</td>\n",
       "      <td>5.82</td>\n",
       "      <td>1.24</td>\n",
       "      <td>3.71</td>\n",
       "      <td>5.95</td>\n",
       "      <td>...</td>\n",
       "      <td>0.57</td>\n",
       "      <td>1.08</td>\n",
       "      <td>221.3</td>\n",
       "      <td>0.0</td>\n",
       "      <td>0.0</td>\n",
       "      <td>0.0</td>\n",
       "      <td>0.0</td>\n",
       "      <td>0.0</td>\n",
       "      <td>13.48</td>\n",
       "      <td>436.5</td>\n",
       "    </tr>\n",
       "  </tbody>\n",
       "</table>\n",
       "<p>52696 rows × 21 columns</p>\n",
       "</div>"
      ],
      "text/plain": [
       "       p (mbar)  T (degC)  Tpot (K)  Tdew (degC)  rh (%)  VPmax (mbar)  \\\n",
       "0       1008.89      0.71    273.18        -1.33    86.1          6.43   \n",
       "1       1008.76      0.75    273.22        -1.44    85.2          6.45   \n",
       "2       1008.66      0.73    273.21        -1.48    85.1          6.44   \n",
       "3       1008.64      0.37    272.86        -1.64    86.3          6.27   \n",
       "4       1008.61      0.33    272.82        -1.50    87.4          6.26   \n",
       "...         ...       ...       ...          ...     ...           ...   \n",
       "52691    978.32      2.28    277.16        -0.80    80.0          7.20   \n",
       "52692    978.30      2.13    277.01        -0.43    83.1          7.12   \n",
       "52693    978.26      1.99    276.88        -0.71    82.2          7.05   \n",
       "52694    978.26      2.07    276.95        -0.77    81.4          7.09   \n",
       "52695    978.24      2.01    276.89        -0.66    82.4          7.06   \n",
       "\n",
       "       VPact (mbar)  VPdef (mbar)  sh (g/kg)  H2OC (mmol/mol)  ...  wv (m/s)  \\\n",
       "0              5.54          0.89       3.42             5.49  ...      1.02   \n",
       "1              5.49          0.95       3.39             5.45  ...      0.43   \n",
       "2              5.48          0.96       3.39             5.43  ...      0.61   \n",
       "3              5.41          0.86       3.35             5.37  ...      1.11   \n",
       "4              5.47          0.79       3.38             5.42  ...      0.49   \n",
       "...             ...           ...        ...              ...  ...       ...   \n",
       "52691          5.76          1.44       3.67             5.89  ...      0.73   \n",
       "52692          5.92          1.20       3.77             6.05  ...      0.43   \n",
       "52693          5.80          1.26       3.69             5.93  ...      0.38   \n",
       "52694          5.77          1.32       3.68             5.90  ...      0.57   \n",
       "52695          5.82          1.24       3.71             5.95  ...      0.57   \n",
       "\n",
       "       max. wv (m/s)  wd (deg)  rain (mm)  raining (s)  SWDR (W/m�)  \\\n",
       "0               1.60     224.3        0.0          0.0          0.0   \n",
       "1               0.84     206.8        0.0          0.0          0.0   \n",
       "2               1.48     197.1        0.0          0.0          0.0   \n",
       "3               1.48     206.4        0.0          0.0          0.0   \n",
       "4               1.40     209.6        0.0          0.0          0.0   \n",
       "...              ...       ...        ...          ...          ...   \n",
       "52691           1.40     180.6        0.0          0.0          0.0   \n",
       "52692           0.82     174.0        0.0          0.0          0.0   \n",
       "52693           0.76     248.9        0.0          0.0          0.0   \n",
       "52694           1.07     196.6        0.0          0.0          0.0   \n",
       "52695           1.08     221.3        0.0          0.0          0.0   \n",
       "\n",
       "       PAR (�mol/m�/s)  max. PAR (�mol/m�/s)  Tlog (degC)     OT  \n",
       "0                  0.0                   0.0        11.45  428.1  \n",
       "1                  0.0                   0.0        11.51  428.0  \n",
       "2                  0.0                   0.0        11.60  427.6  \n",
       "3                  0.0                   0.0        11.70  430.0  \n",
       "4                  0.0                   0.0        11.81  432.2  \n",
       "...                ...                   ...          ...    ...  \n",
       "52691              0.0                   0.0        13.40  433.0  \n",
       "52692              0.0                   0.0        13.42  439.6  \n",
       "52693              0.0                   0.0        13.45  435.2  \n",
       "52694              0.0                   0.0        13.47  433.9  \n",
       "52695              0.0                   0.0        13.48  436.5  \n",
       "\n",
       "[52696 rows x 21 columns]"
      ]
     },
     "execution_count": 112,
     "metadata": {},
     "output_type": "execute_result"
    }
   ],
   "source": [
    "# train_data 전체에 대해서도 series_decomp 적용가능한가?\n",
    "\n",
    "import pandas as pd\n",
    "from sklearn.preprocessing import StandardScaler\n",
    "\n",
    "df_weather = pd.read_csv('./dataset/weather/weather.csv')\n",
    "df_weather = df_weather.drop(columns=['date'])\n",
    "\n",
    "df_weather"
   ]
  },
  {
   "cell_type": "code",
   "execution_count": 114,
   "id": "ad51a60e-5b65-4444-a97b-952f272ed759",
   "metadata": {},
   "outputs": [],
   "source": [
    "num_total = len(df_weather)\n",
    "num_train = int(num_total * 0.7)\n",
    "num_test = int(num_total * 0.2)\n",
    "num_vali = num_total - num_train - num_test\n",
    "border1s = [0, num_train - 24, num_total - num_test - 24]\n",
    "border2s = [num_train, num_train + num_vali, num_total]"
   ]
  },
  {
   "cell_type": "code",
   "execution_count": 115,
   "id": "d6ee8f2f-21d6-4b07-9ee7-51e82702df1d",
   "metadata": {},
   "outputs": [],
   "source": [
    "# weather_df에서 train data 얻기\n",
    "scaler = StandardScaler()\n",
    "train_data = df_weather[border1s[0]:border2s[0]]\n",
    "scaler.fit(train_data.values)\n",
    "df_data = scaler.transform(df_weather.values)"
   ]
  },
  {
   "cell_type": "code",
   "execution_count": 117,
   "id": "e304d516-5c5b-412b-b998-5aa173d251fb",
   "metadata": {
    "scrolled": true
   },
   "outputs": [
    {
     "data": {
      "text/plain": [
       "(52696, 21)"
      ]
     },
     "execution_count": 117,
     "metadata": {},
     "output_type": "execute_result"
    }
   ],
   "source": [
    "df_data.shape"
   ]
  },
  {
   "cell_type": "code",
   "execution_count": 120,
   "id": "e49b16f9-3815-4412-a9be-083b59595d85",
   "metadata": {},
   "outputs": [
    {
     "data": {
      "text/plain": [
       "tensor([[[ 2.1143, -1.4600, -1.6079,  ..., -0.5883, -1.4241,  0.0444],\n",
       "         [ 2.0992, -1.4548, -1.6029,  ..., -0.5883, -1.4166,  0.0441],\n",
       "         [ 2.0876, -1.4574, -1.6041,  ..., -0.5883, -1.4053,  0.0431],\n",
       "         ...,\n",
       "         [-1.4347, -1.2941, -1.1406,  ..., -0.5883, -1.1734,  0.0629],\n",
       "         [-1.4347, -1.2838, -1.1317,  ..., -0.5883, -1.1709,  0.0595],\n",
       "         [-1.4370, -1.2916, -1.1393,  ..., -0.5883, -1.1697,  0.0663]]])"
      ]
     },
     "execution_count": 120,
     "metadata": {},
     "output_type": "execute_result"
    }
   ],
   "source": [
    "torch.Tensor(df_data).reshape(1, df_data.shape[0], df_data.shape[1])"
   ]
  },
  {
   "cell_type": "code",
   "execution_count": 123,
   "id": "e590ff20-9601-45b8-8283-39e8361c863f",
   "metadata": {},
   "outputs": [],
   "source": [
    "# 전체에서도 series_decomp 시전 가능?\n",
    "\n",
    "df_data_s , df_data_t = decomp(torch.Tensor(df_data).reshape(1, df_data.shape[0], df_data.shape[1]))"
   ]
  },
  {
   "cell_type": "code",
   "execution_count": 126,
   "id": "4b9252ac-6e29-40d3-9114-b4f73e21537a",
   "metadata": {},
   "outputs": [
    {
     "data": {
      "text/plain": [
       "(torch.Size([1, 52696, 21]), torch.Size([1, 52696, 21]))"
      ]
     },
     "execution_count": 126,
     "metadata": {},
     "output_type": "execute_result"
    }
   ],
   "source": [
    "df_data_s.shape, df_data_t.shape"
   ]
  },
  {
   "cell_type": "code",
   "execution_count": 127,
   "id": "473a989c-f29c-4d41-a0f8-0965d8188054",
   "metadata": {
    "collapsed": true,
    "jupyter": {
     "outputs_hidden": true
    },
    "scrolled": true
   },
   "outputs": [
    {
     "data": {
      "text/plain": [
       "tensor([[[ 2.4610e-02,  3.0058e-02,  2.7436e-02,  ...,  1.1921e-07,\n",
       "          -2.9180e-02, -4.3651e-03],\n",
       "         [ 1.2050e-02,  3.9749e-02,  3.6682e-02,  ...,  1.1921e-07,\n",
       "          -2.4718e-02, -5.2089e-03],\n",
       "         [ 3.1977e-03,  4.1977e-02,  3.9865e-02,  ...,  1.1921e-07,\n",
       "          -1.6245e-02, -6.7820e-03],\n",
       "         ...,\n",
       "         [-1.1123e-03, -1.9331e-02, -1.7836e-02,  ...,  1.1921e-07,\n",
       "           5.0116e-04,  1.7710e-03],\n",
       "         [-1.5293e-03, -7.0482e-03, -7.0739e-03,  ...,  1.1921e-07,\n",
       "           2.6568e-03, -2.1252e-03],\n",
       "         [-3.9856e-03, -1.3112e-02, -1.2935e-02,  ...,  1.1921e-07,\n",
       "           3.7098e-03,  4.1775e-03]]])"
      ]
     },
     "execution_count": 127,
     "metadata": {},
     "output_type": "execute_result"
    }
   ],
   "source": [
    "df_data_s"
   ]
  },
  {
   "cell_type": "code",
   "execution_count": 133,
   "id": "a3feea34-062e-40b7-8031-a9cb7c511cf3",
   "metadata": {},
   "outputs": [],
   "source": [
    "# series_decomp 이용해서 데이터 저장\n",
    "np.savez('./dataset/weather/weather_decomp_s.npz', data=df_data_s.reshape(df_data.shape[0], df_data.shape[1], 1))\n",
    "np.savez('./dataset/weather/weather_decomp_t.npz', data=df_data_t.reshape(df_data.shape[0], df_data.shape[1], 1))"
   ]
  },
  {
   "cell_type": "code",
   "execution_count": 134,
   "id": "ea668080-ce27-4e9b-afa0-6ec0bcc06191",
   "metadata": {},
   "outputs": [],
   "source": [
    "from data_provider.data_loader import Dataset_PEMS\n",
    "\n",
    "# 데이터 불러오기 - seasonal, trend 부분 분리\n",
    "dataset_weather_24_s = Dataset_PEMS('./dataset/weather/', flag='train', size=(24,12,24),\n",
    "                                    features='M', data_path='weather_decomp_s.npz',\n",
    "                                    target='OT', scale=False, timeenc=0, freq='h',\n",
    "                                    seasonal_patterns=None, train_ratio=0.7, test_ratio=0.2)\n",
    "dataset_weather_24_t = Dataset_PEMS('./dataset/weather/', flag='train', size=(24,12,24),\n",
    "                                    features='M', data_path='weather_decomp_t.npz',\n",
    "                                    target='OT', scale=False, timeenc=0, freq='h',\n",
    "                                    seasonal_patterns=None, train_ratio=0.7, test_ratio=0.2)"
   ]
  },
  {
   "cell_type": "code",
   "execution_count": 140,
   "id": "2c280dc2-ace6-4e39-8a3d-8c4d038091d1",
   "metadata": {},
   "outputs": [],
   "source": [
    "dataset_weather_24_s_loader = DataLoader(\n",
    "            dataset_weather_24_s,\n",
    "            batch_size=1, # 모든 데이터셋을 확인해야 해서 batch_size를 강제로 1로 조정.\n",
    "            shuffle=False,\n",
    "            num_workers=args.num_workers,\n",
    "            drop_last=False)\n",
    "dataset_weather_24_t_loader = DataLoader(\n",
    "            dataset_weather_24_t,\n",
    "            batch_size=1, # 모든 데이터셋을 확인해야 해서 batch_size를 강제로 1로 조정.\n",
    "            shuffle=False,\n",
    "            num_workers=args.num_workers,\n",
    "            drop_last=False)"
   ]
  },
  {
   "cell_type": "code",
   "execution_count": null,
   "id": "8dafdd59-4a97-4550-a37c-f4abb54d317b",
   "metadata": {},
   "outputs": [],
   "source": [
    "# 실험"
   ]
  },
  {
   "cell_type": "code",
   "execution_count": 141,
   "id": "9d0705d0-c3ef-44d0-b501-c2372043b4a8",
   "metadata": {},
   "outputs": [],
   "source": [
    "# 트레인 데이터셋을 테스트해서 결과 받기, test 함수에서 가져옴\n",
    "preds_te_tr_s = []\n",
    "trues_te_tr_s = []\n",
    "\n",
    "for i, (batch_x, batch_y, batch_x_mark, batch_y_mark) in enumerate(dataset_weather_24_s_loader):\n",
    "    if i<1000:\n",
    "        batch_x = batch_x.float().to(exp_model.device)\n",
    "        batch_y = batch_y.float().to(exp_model.device)\n",
    "    \n",
    "        batch_x_mark = batch_x_mark.float().to(exp_model.device)\n",
    "        batch_y_mark = batch_y_mark.float().to(exp_model.device)\n",
    "    \n",
    "        # decoder input\n",
    "        dec_inp = torch.zeros_like(batch_y[:, -args.pred_len:, :]).float()\n",
    "        dec_inp = torch.cat([batch_y[:, :args.label_len, :], dec_inp], dim=1).float().to(exp_model.device)\n",
    "        # encoder - decoder\n",
    "    \n",
    "        # use_amp도 사용하지 않음, \n",
    "        outputs = exp_model.model(batch_x, batch_x_mark, dec_inp, batch_y_mark)\n",
    "    \n",
    "        outputs = outputs[:, -args.pred_len:, :]\n",
    "        batch_y = batch_y[:, -args.pred_len:, :].to(exp_model.device)\n",
    "        outputs = outputs.detach().cpu().numpy()\n",
    "        batch_y = batch_y.detach().cpu().numpy()\n",
    "    \n",
    "        pred = outputs\n",
    "        true = batch_y\n",
    "    \n",
    "        preds_te_tr_s.append(pred)\n",
    "        trues_te_tr_s.append(true)\n",
    "\n",
    "preds_te_tr_s = np.concatenate(preds_te_tr_s, axis=0)\n",
    "trues_te_tr_s = np.concatenate(trues_te_tr_s, axis=0)"
   ]
  },
  {
   "cell_type": "code",
   "execution_count": 142,
   "id": "caeb14ad-a2b1-4d80-af6a-e2fe792dab2b",
   "metadata": {},
   "outputs": [],
   "source": [
    "# 트레인 데이터셋을 테스트해서 결과 받기, test 함수에서 가져옴\n",
    "preds_te_tr_t = []\n",
    "trues_te_tr_t = []\n",
    "\n",
    "for i, (batch_x, batch_y, batch_x_mark, batch_y_mark) in enumerate(dataset_weather_24_t_loader):\n",
    "    if i<1000:\n",
    "        batch_x = batch_x.float().to(exp_model.device)\n",
    "        batch_y = batch_y.float().to(exp_model.device)\n",
    "    \n",
    "        batch_x_mark = batch_x_mark.float().to(exp_model.device)\n",
    "        batch_y_mark = batch_y_mark.float().to(exp_model.device)\n",
    "    \n",
    "        # decoder input\n",
    "        dec_inp = torch.zeros_like(batch_y[:, -args.pred_len:, :]).float()\n",
    "        dec_inp = torch.cat([batch_y[:, :args.label_len, :], dec_inp], dim=1).float().to(exp_model.device)\n",
    "        # encoder - decoder\n",
    "    \n",
    "        # use_amp도 사용하지 않음, \n",
    "        outputs = exp_model.model(batch_x, batch_x_mark, dec_inp, batch_y_mark)\n",
    "    \n",
    "        outputs = outputs[:, -args.pred_len:, :]\n",
    "        batch_y = batch_y[:, -args.pred_len:, :].to(exp_model.device)\n",
    "        outputs = outputs.detach().cpu().numpy()\n",
    "        batch_y = batch_y.detach().cpu().numpy()\n",
    "    \n",
    "        pred = outputs\n",
    "        true = batch_y\n",
    "    \n",
    "        preds_te_tr_t.append(pred)\n",
    "        trues_te_tr_t.append(true)\n",
    "\n",
    "preds_te_tr_t = np.concatenate(preds_te_tr_t, axis=0)\n",
    "trues_te_tr_t = np.concatenate(trues_te_tr_t, axis=0)"
   ]
  },
  {
   "cell_type": "code",
   "execution_count": 152,
   "id": "66541684-e843-47a1-aa4d-1f4dac5c4fbd",
   "metadata": {},
   "outputs": [
    {
     "name": "stdout",
     "output_type": "stream",
     "text": [
      "series_decomp_s 오차 확인 (MSE, MAE, SMAE, corr)\n",
      "0.07066208 0.086639486 -0.036809407 0.01073519387526788\n",
      "series_decomp_t 오차 확인 (MSE, MAE, SMAE, corr)\n",
      "0.050169557 0.12502716 -0.026788756 -0.06609249888945866\n",
      "전체 오차 확인 (MSE, MAE, SMAE, corr)\n",
      "0.13481076 0.1680959 -0.0348973 0.019515970143010583\n",
      "합산 오차 확인 (MSE, MAE, SMAE, corr)\n",
      "0.15021664 0.17654504 -0.06359816 0.03997723752568284\n"
     ]
    }
   ],
   "source": [
    "# 최종확인 - series_decomp를 s와 t에 대해 적용했을 때 오차 비교해보자\n",
    "# 이제 coef를 찾았으니 실제 데이터와 비교하기\n",
    "# 우선 실제 예측값\n",
    "print('series_decomp_s 오차 확인 (MSE, MAE, SMAE, corr)')\n",
    "print(MSE(preds_te_tr_s, trues_te_tr_s), MAE(preds_te_tr_s, trues_te_tr_s), SMAE(preds_te_tr_s, trues_te_tr_s), REC_CORR(preds_te_tr_s, trues_te_tr_s))\n",
    "print('series_decomp_t 오차 확인 (MSE, MAE, SMAE, corr)')\n",
    "print(MSE(preds_te_tr_t, trues_te_tr_t), MAE(preds_te_tr_t, trues_te_tr_t), SMAE(preds_te_tr_t, trues_te_tr_t), REC_CORR(preds_te_tr_t, trues_te_tr_t))\n",
    "print('전체 오차 확인 (MSE, MAE, SMAE, corr)')\n",
    "print(MSE(preds_te_tr, trues_te_tr), MAE(preds_te_tr, trues_te_tr), SMAE(preds_te_tr, trues_te_tr), REC_CORR(preds_te_tr, trues_te_tr))\n",
    "print('합산 오차 확인 (MSE, MAE, SMAE, corr)')\n",
    "print(MSE(preds_te_tr_s+preds_te_tr_t, trues_te_tr), MAE(preds_te_tr_s+preds_te_tr_t, trues_te_tr), SMAE(preds_te_tr_s+preds_te_tr_t, trues_te_tr), REC_CORR(preds_te_tr_s+preds_te_tr_t, trues_te_tr))\n",
    "                                                                                                             "
   ]
  },
  {
   "cell_type": "code",
   "execution_count": 149,
   "id": "3d03f31c-f170-4de8-bb4e-e35c8b41a8ed",
   "metadata": {
    "scrolled": true
   },
   "outputs": [
    {
     "data": {
      "image/png": "[encoded data removed]",
      "text/plain": [
       "<Figure size 640x480 with 1 Axes>"
      ]
     },
     "metadata": {},
     "output_type": "display_data"
    }
   ],
   "source": [
    "# 그래프로 그려보기\n",
    "\n",
    "idx0 = 433\n",
    "val = -1\n",
    "plt.plot(range(24), preds_te_tr_s[idx0, :, val], label='pred_s')\n",
    "plt.plot(range(24), trues_te_tr_s[idx0, :, val], label='true_s')\n",
    "plt.plot(range(24), preds_te_tr_t[idx0, :, val], '--', label='pred_t')\n",
    "plt.plot(range(24), trues_te_tr_t[idx0, :, val], '--', label='true_t')\n",
    "plt.plot(range(24), preds_te_tr_s[idx0, :, val] + preds_te_tr_t[idx0, :, val], '.', label='pred_s+t')\n",
    "plt.plot(range(24), trues_te_tr_s[idx0, :, val] + trues_te_tr_t[idx0, :, val], '.', label='true_s+t')\n",
    "plt.plot(range(24), preds_te_tr[idx0, :, val], label='pred')\n",
    "plt.plot(range(24), trues_te_tr[idx0, :, val], label='true')\n",
    "plt.legend()\n",
    "plt.show()"
   ]
  },
  {
   "cell_type": "code",
   "execution_count": 155,
   "id": "b7eac00d-f2ec-400e-9504-a8fec0703674",
   "metadata": {
    "scrolled": true
   },
   "outputs": [
    {
     "data": {
      "image/png": "[encoded data removed]",
      "text/plain": [
       "<Figure size 640x480 with 1 Axes>"
      ]
     },
     "metadata": {},
     "output_type": "display_data"
    }
   ],
   "source": [
    "# 참고 - 20 간격으로 전체 분포 그리기\n",
    "var_0 = -1\n",
    "plt.plot(range(0, 2000, 10), df_data_s[0,:2000:10, var_0], label='s')\n",
    "plt.plot(range(0, 2000, 10), df_data_t[0,:2000:10, var_0], label='t')\n",
    "plt.plot(range(0, 2000, 10), df_data_s[0,:2000:10, var_0]+df_data_t[0,:2000:10, var_0], label='total')\n",
    "plt.legend()\n",
    "plt.show()"
   ]
  },
  {
   "cell_type": "code",
   "execution_count": 159,
   "id": "e74fa53c-2987-4968-8343-3a5565fc60a5",
   "metadata": {},
   "outputs": [
    {
     "data": {
      "image/png": "[encoded data removed]",
      "text/plain": [
       "<Figure size 640x480 with 1 Axes>"
      ]
     },
     "metadata": {},
     "output_type": "display_data"
    },
    {
     "name": "stdout",
     "output_type": "stream",
     "text": [
      "[[1.         0.23412284]\n",
      " [0.23412284 1.        ]]\n"
     ]
    }
   ],
   "source": [
    "# 마지막 확인 - seasonal 오차와 trend 오차는 방향이 거의 비슷해보임\n",
    "plt.scatter((trues_te_tr_t - preds_te_tr_t), (trues_te_tr_s - preds_te_tr_s))\n",
    "plt.show()\n",
    "print(np.corrcoef((trues_te_tr_t - preds_te_tr_t).reshape(-1), (trues_te_tr_s - preds_te_tr_s).reshape(-1)))"
   ]
  },
  {
   "cell_type": "code",
   "execution_count": null,
   "id": "c9c7ade6-c6bc-4365-ad8d-904503df8e48",
   "metadata": {
    "scrolled": true
   },
   "outputs": [],
   "source": [
    "# 이제 전체 테스트로 다시 시도\n",
    "\n",
    "# 트레인 데이터셋을 테스트해서 결과 받기, test 함수에서 가져옴\n",
    "preds_te_tr = []\n",
    "trues_te_tr = []\n",
    "origin_te_tr = []\n",
    "origin_y_te_tr = []\n",
    "\n",
    "for i, (batch_x, batch_y, batch_x_mark, batch_y_mark) in enumerate(dataset_weather_24_loader):\n",
    "\n",
    "    origin_te_tr.append(batch_x)\n",
    "    origin_y_te_tr.append(batch_y)\n",
    "    batch_x = batch_x.float().to(exp_model.device)\n",
    "    batch_y = batch_y.float().to(exp_model.device)\n",
    "\n",
    "    batch_x_mark = batch_x_mark.float().to(exp_model.device)\n",
    "    batch_y_mark = batch_y_mark.float().to(exp_model.device)\n",
    "\n",
    "    # decoder input\n",
    "    dec_inp = torch.zeros_like(batch_y[:, -args.pred_len:, :]).float()\n",
    "    dec_inp = torch.cat([batch_y[:, :args.label_len, :], dec_inp], dim=1).float().to(exp_model.device)\n",
    "    # encoder - decoder\n",
    "\n",
    "    # use_amp도 사용하지 않음, \n",
    "    outputs = exp_model.model(batch_x, batch_x_mark, dec_inp, batch_y_mark)\n",
    "\n",
    "    outputs = outputs[:, -args.pred_len:, :]\n",
    "    batch_y = batch_y[:, -args.pred_len:, :].to(exp_model.device)\n",
    "    outputs = outputs.detach().cpu().numpy()\n",
    "    batch_y = batch_y.detach().cpu().numpy()\n",
    "\n",
    "    pred = outputs\n",
    "    true = batch_y\n",
    "\n",
    "    preds_te_tr.append(pred)\n",
    "    trues_te_tr.append(true)\n",
    "\n",
    "origin_te_tr = np.concatenate(origin_te_tr, axis=0)\n",
    "origin_y_te_tr = np.concatenate(origin_y_te_tr, axis=0)\n",
    "preds_te_tr = np.concatenate(preds_te_tr, axis=0)\n",
    "trues_te_tr = np.concatenate(trues_te_tr, axis=0)"
   ]
  },
  {
   "cell_type": "code",
   "execution_count": 13,
   "id": "3bf2c99e-c33d-4158-867a-f684ec50e6be",
   "metadata": {},
   "outputs": [
    {
     "data": {
      "text/plain": [
       "1"
      ]
     },
     "execution_count": 13,
     "metadata": {},
     "output_type": "execute_result"
    }
   ],
   "source": []
  },
  {
   "cell_type": "code",
   "execution_count": null,
   "id": "612e2cfc-fb68-4b67-a32c-0bbabb47e1c1",
   "metadata": {},
   "outputs": [],
   "source": [
    "# 24-> 24로 결과 generation 방법\n",
    "# 첫번째 합성 데이터 사용\n",
    "# preds_te_tr에서 \n",
    "preds_m1_tr = [] # 1단계 합성\n",
    "preds_m2_tr = [] # 2단계 합성\n",
    "preds_m3_tr = [] # 3단계 합성\n",
    "preds_m4_tr = [] # 4단계 합성\n",
    "\n",
    "for i, (batch_x, batch_y, batch_x_mark, batch_y_mark) in enumerate(dataset_weather_24_loader):\n",
    "\n",
    "    if i>=24:\n",
    "        batch_x1 = torch.Tensor([preds_te_tr[i-24]]).to(exp_model.device)\n",
    "        batch_y = batch_y.float().to(exp_model.device)\n",
    "    \n",
    "        batch_x_mark = batch_x_mark.float().to(exp_model.device)\n",
    "        batch_y_mark = batch_y_mark.float().to(exp_model.device)\n",
    "    \n",
    "        # decoder input\n",
    "        dec_inp = torch.zeros_like(batch_y[:, -args.pred_len:, :]).float()\n",
    "        dec_inp = torch.cat([batch_y[:, :args.label_len, :], dec_inp], dim=1).float().to(exp_model.device)\n",
    "        # encoder - decoder\n",
    "    \n",
    "        # use_amp도 사용하지 않음, \n",
    "        outputs1 = exp_model.model(batch_x1, batch_x_mark, dec_inp, batch_y_mark)\n",
    "    \n",
    "        outputs1 = outputs1[:, -args.pred_len:, :]\n",
    "        outputs1 = outputs1.detach().cpu().numpy()\n",
    "    \n",
    "        preds_m1_tr.append(outputs1)\n",
    "\n",
    "    if i>=48:\n",
    "        batch_x2 = torch.Tensor(preds_m1_tr[i-48]).to(exp_model.device)\n",
    "\n",
    "        # use_amp도 사용하지 않음, \n",
    "        outputs2 = exp_model.model(batch_x2, batch_x_mark, dec_inp, batch_y_mark)\n",
    "        outputs2 = outputs2[:, -args.pred_len:, :]\n",
    "        outputs2 = outputs2.detach().cpu().numpy()\n",
    "    \n",
    "        preds_m2_tr.append(outputs2)\n",
    "    \n",
    "    if i>=72:\n",
    "        batch_x3 = torch.Tensor(preds_m2_tr[i-72]).to(exp_model.device)\n",
    "\n",
    "        # use_amp도 사용하지 않음, \n",
    "        outputs3 = exp_model.model(batch_x3, batch_x_mark, dec_inp, batch_y_mark)\n",
    "        outputs3 = outputs3[:, -args.pred_len:, :]\n",
    "        outputs3 = outputs3.detach().cpu().numpy()\n",
    "    \n",
    "        preds_m3_tr.append(outputs3)\n",
    "\n",
    "    if i>=96:\n",
    "        batch_x4 = torch.Tensor(preds_m3_tr[i-96]).to(exp_model.device)\n",
    "\n",
    "        # use_amp도 사용하지 않음, \n",
    "        outputs4 = exp_model.model(batch_x4, batch_x_mark, dec_inp, batch_y_mark)\n",
    "        outputs4 = outputs4[:, -args.pred_len:, :]\n",
    "        outputs4 = outputs4.detach().cpu().numpy()\n",
    "    \n",
    "        preds_m4_tr.append(outputs4)\n",
    "\n",
    "preds_m1_tr = np.concatenate(preds_m1_tr, axis=0)\n",
    "preds_m2_tr = np.concatenate(preds_m2_tr, axis=0)\n",
    "preds_m3_tr = np.concatenate(preds_m3_tr, axis=0)\n",
    "preds_m4_tr = np.concatenate(preds_m4_tr, axis=0)"
   ]
  },
  {
   "cell_type": "code",
   "execution_count": null,
   "id": "74cc983e-3413-4bce-938a-f60d1e20f413",
   "metadata": {},
   "outputs": [],
   "source": [
    "# 트레인 데이터셋을 테스트해서 결과 받기, test 함수에서 가져옴\n",
    "preds_te_tr96 = []\n",
    "trues_te_tr96 = []\n",
    "\n",
    "for i, (batch_x, batch_y, batch_x_mark, batch_y_mark) in enumerate(dataset_weather_96_24_loader):\n",
    "\n",
    "\n",
    "    batch_x = batch_x.float().to(exp_model.device)\n",
    "    batch_y = batch_y.float().to(exp_model.device)\n",
    "\n",
    "    batch_x_mark = batch_x_mark.float().to(exp_model.device)\n",
    "    batch_y_mark = batch_y_mark.float().to(exp_model.device)\n",
    "\n",
    "    # decoder input\n",
    "    dec_inp = torch.zeros_like(batch_y[:, -args.pred_len:, :]).float()\n",
    "    dec_inp = torch.cat([batch_y[:, :args.label_len, :], dec_inp], dim=1).float().to(exp_model.device)\n",
    "    # encoder - decoder\n",
    "\n",
    "    # use_amp도 사용하지 않음, \n",
    "    outputs = exp_model2.model(batch_x, batch_x_mark, dec_inp, batch_y_mark)\n",
    "\n",
    "    outputs = outputs[:, -args.pred_len:, :]\n",
    "    batch_y = batch_y[:, -args.pred_len:, :].to(exp_model.device)\n",
    "    outputs = outputs.detach().cpu().numpy()\n",
    "    batch_y = batch_y.detach().cpu().numpy()\n",
    "\n",
    "    pred = outputs\n",
    "    true = batch_y\n",
    "\n",
    "    preds_te_tr96.append(pred)\n",
    "    trues_te_tr96.append(true)\n",
    "\n",
    "preds_te_tr96 = np.concatenate(preds_te_tr96, axis=0)\n",
    "trues_te_tr96 = np.concatenate(trues_te_tr96, axis=0)"
   ]
  }
 ],
 "metadata": {
  "kernelspec": {
   "display_name": "Python 3 (ipykernel)",
   "language": "python",
   "name": "python3"
  },
  "language_info": {
   "codemirror_mode": {
    "name": "ipython",
    "version": 3
   },
   "file_extension": ".py",
   "mimetype": "text/x-python",
   "name": "python",
   "nbconvert_exporter": "python",
   "pygments_lexer": "ipython3",
   "version": "3.8.11"
  }
 },
 "nbformat": 4,
 "nbformat_minor": 5
}
