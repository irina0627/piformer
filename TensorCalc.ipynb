{
 "cells": [
  {
   "cell_type": "code",
   "execution_count": 1,
   "id": "d73ff09e-c811-44a5-8d00-f91875ce8e6e",
   "metadata": {},
   "outputs": [],
   "source": [
    "import torch\n",
    "\n",
    "def transform_tensor(X, weights):\n",
    "    # X is a 4D tensor of shape (a, b, c, d)\n",
    "    # weights is a 1D tensor of shape (2,)\n",
    "    \n",
    "    a, b, c, d = X.shape\n",
    "    # 스택하고 리쉐이프하는 과정\n",
    "    X_stacked = X.permute(1, 2, 0, 3).reshape(b, c, a * d)\n",
    "    \n",
    "    # 새로운 텐서를 생성하는데, 마지막 차원을 계산에 이용\n",
    "    new_last_dim = []\n",
    "    for i in range(0, a * d, 2):  # 2개씩 짝을 지어 처리\n",
    "        # 인접한 값들을 가중 평균\n",
    "        weighted_avg = (weights[0] * X_stacked[:, :, i] + weights[1] * X_stacked[:, :, i+1]) / weights.sum()\n",
    "        new_last_dim.append(weighted_avg)\n",
    "    \n",
    "    # 새로운 마지막 차원을 스택\n",
    "    new_tensor = torch.stack(new_last_dim, dim=-1)\n",
    "    return new_tensor\n",
    "\n",
    "# 예시 텐서\n",
    "X = torch.tensor([[[[1, 2], [3, 4]], [[1, 2], [3, 4]]], [[[5, 6], [7, 8]], [[5, 6], [7, 8]]]])\n",
    "weights = torch.tensor([1, 2])"
   ]
  },
  {
   "cell_type": "code",
   "execution_count": 12,
   "id": "4b360e70-7e28-4519-9422-fcaec5b285ef",
   "metadata": {
    "scrolled": true
   },
   "outputs": [
    {
     "data": {
      "text/plain": [
       "tensor([[[[1, 2],\n",
       "          [3, 4]],\n",
       "\n",
       "         [[1, 2],\n",
       "          [3, 4]]],\n",
       "\n",
       "\n",
       "        [[[5, 6],\n",
       "          [7, 8]],\n",
       "\n",
       "         [[5, 6],\n",
       "          [7, 8]]]])"
      ]
     },
     "execution_count": 12,
     "metadata": {},
     "output_type": "execute_result"
    }
   ],
   "source": [
    "X"
   ]
  },
  {
   "cell_type": "code",
   "execution_count": 18,
   "id": "e1ae1cd7-00da-407e-a618-ac3afbd7457f",
   "metadata": {},
   "outputs": [
    {
     "data": {
      "text/plain": [
       "tensor([[[1, 2, 5, 6],\n",
       "         [3, 4, 7, 8]],\n",
       "\n",
       "        [[1, 2, 5, 6],\n",
       "         [3, 4, 7, 8]]])"
      ]
     },
     "execution_count": 18,
     "metadata": {},
     "output_type": "execute_result"
    }
   ],
   "source": [
    "X_stacked = X.permute(1, 2, 0, 3).reshape(2, 2, 4)\n",
    "X_stacked"
   ]
  },
  {
   "cell_type": "code",
   "execution_count": 25,
   "id": "53ec1c0c-3005-4826-94d2-9d5f504a5bbf",
   "metadata": {},
   "outputs": [],
   "source": [
    "# 부드럽게 Tensor 연결하는 함수 정의\n",
    "def smoothing(X):\n",
    "    # X is a 4D tensor of shape (a, b, c, d)\n",
    "    # weights is a 1D tensor of shape (2,)\n",
    "    \n",
    "    a, b, c, d = X.shape\n",
    "    # 스택하고 리쉐이프하는 과정\n",
    "    X_stacked = X.permute(1, 2, 0, 3).reshape(b, c, a * d)\n",
    "    \n",
    "    # 2개씩 짝을 지어 처리\n",
    "    for j in range(a-1):  \n",
    "        ct_point = d*(j+1)\n",
    "\n",
    "        ct_before = X_stacked[:, :, ct_point-1]\n",
    "        ct_after = X_stacked[:, :, ct_point]\n",
    "        for k in range(d//2):\n",
    "            X_stacked[:, :, k + ct_point - d//2] = (d-k)/(d+1) * X_stacked[:, :, k + ct_point - d//2] + (k+1)/(d+1) * ct_after\n",
    "        for k in range(d//2):\n",
    "            X_stacked[:, :, k + ct_point ] = (d//2 + k +1)/(d+1) * X_stacked[:, :, k + ct_point ] + (d//2 - k)/(d+1) * ct_before\n",
    "    \n",
    "    return X_stacked"
   ]
  },
  {
   "cell_type": "code",
   "execution_count": 21,
   "id": "06b9fb59-05ec-4ef8-99e4-3135876768e5",
   "metadata": {},
   "outputs": [
    {
     "data": {
      "text/plain": [
       "(tensor([[2, 4],\n",
       "         [2, 4]]),\n",
       " tensor([[5, 7],\n",
       "         [5, 7]]))"
      ]
     },
     "execution_count": 21,
     "metadata": {},
     "output_type": "execute_result"
    }
   ],
   "source": [
    "ct_point = 2\n",
    "ct_before = X_stacked[:, :, ct_point-1]\n",
    "ct_after = X_stacked[:, :, ct_point]\n",
    "ct_before, ct_after"
   ]
  },
  {
   "cell_type": "code",
   "execution_count": 22,
   "id": "b52c3e6d-40f4-4d1a-ae00-973f1cc79f7d",
   "metadata": {},
   "outputs": [],
   "source": [
    "X_stacked[:, :,1] = 2/3 * X_stacked[:, :, 1] + 1/3 * ct_after"
   ]
  },
  {
   "cell_type": "code",
   "execution_count": 23,
   "id": "2560fb49-3fb4-4299-b0e1-2dd1be8db575",
   "metadata": {},
   "outputs": [],
   "source": [
    "X_stacked[:, :,2] = 2/3 * X_stacked[:, :, 2] + 1/3 * ct_before"
   ]
  },
  {
   "cell_type": "code",
   "execution_count": 24,
   "id": "d4741fb6-2f02-445b-bc19-56e4aa6a8c73",
   "metadata": {
    "scrolled": true
   },
   "outputs": [
    {
     "data": {
      "text/plain": [
       "tensor([[[1, 3, 4, 6],\n",
       "         [3, 5, 6, 8]],\n",
       "\n",
       "        [[1, 3, 4, 6],\n",
       "         [3, 5, 6, 8]]])"
      ]
     },
     "execution_count": 24,
     "metadata": {},
     "output_type": "execute_result"
    }
   ],
   "source": [
    "X_stacked"
   ]
  },
  {
   "cell_type": "code",
   "execution_count": 3,
   "id": "fb8cca73-e913-4fc6-a6b8-d53a25311391",
   "metadata": {},
   "outputs": [],
   "source": [
    "import numpy as np\n",
    "\n",
    "vx = [np.array([1,2,3]), np.array([4,5,6])]\n",
    "vx_mean = np.array([np.mean([vx[j][k] for j in range(len(vx))]) for k in range(len(vx[0]))])"
   ]
  },
  {
   "cell_type": "code",
   "execution_count": 4,
   "id": "afdfb948-04b0-4f52-9b76-2c6158a61191",
   "metadata": {
    "scrolled": true
   },
   "outputs": [
    {
     "data": {
      "text/plain": [
       "array([2.5, 3.5, 4.5])"
      ]
     },
     "execution_count": 4,
     "metadata": {},
     "output_type": "execute_result"
    }
   ],
   "source": [
    "vx_mean"
   ]
  },
  {
   "cell_type": "code",
   "execution_count": 5,
   "id": "fc56a640-302a-4a9a-b634-565c7e76936b",
   "metadata": {},
   "outputs": [],
   "source": [
    "import torch\n",
    "import torch.nn as nn"
   ]
  },
  {
   "cell_type": "code",
   "execution_count": 8,
   "id": "b46eb23e-b825-4322-ac76-e76304cb1773",
   "metadata": {},
   "outputs": [],
   "source": [
    "x_enc = torch.rand(8, 96, 21)\n",
    "x_dec = torch.rand(8, 48, 21)"
   ]
  },
  {
   "cell_type": "code",
   "execution_count": 9,
   "id": "591c8a6a-82ee-49ea-87ed-597da1707030",
   "metadata": {},
   "outputs": [],
   "source": [
    "period_len=24\n",
    "seg_num_x = 4\n",
    "seg_num_y= 2\n",
    "x_enc_list = [x_enc[:,j*period_len:(j+1)*period_len, :] for j in range(seg_num_x)] \n",
    "x_dec_list = [x_dec[:,j*period_len:(j+1)*period_len, :] for j in range(seg_num_y)]"
   ]
  },
  {
   "cell_type": "code",
   "execution_count": 11,
   "id": "76fc69d4-2de3-42e1-9afc-fea8f2a13c9a",
   "metadata": {},
   "outputs": [],
   "source": [
    "lin_layer = nn.Linear(period_len, period_len)"
   ]
  },
  {
   "cell_type": "code",
   "execution_count": 13,
   "id": "a00f562a-5375-432c-996d-b992917b2700",
   "metadata": {},
   "outputs": [],
   "source": [
    "_, _, N = x_enc.shape \n",
    "\n",
    "x_res1 = [] # 1단계 encoding\n",
    "x_res = [[] for _ in range(seg_num_x)] # n단계 encoding\n",
    "# 각 조각에 대해 조작\n",
    "for k, x_enc_part in enumerate(x_enc_list + x_dec_list):\n",
    "    if k< len(x_enc_list + x_dec_list)-1:\n",
    "        x_enc_part = x_enc_part.permute(0,2,1)\n",
    "        dec_part_out = lin_layer(x_enc_part).permute(0, 2, 1)[:, :, :N]\n",
    "        x_res1.append(dec_part_out)\n",
    "\n",
    "x_res[0] = x_res1"
   ]
  },
  {
   "cell_type": "code",
   "execution_count": 15,
   "id": "c83a5e4a-49f8-4652-99f2-9756e937f5ff",
   "metadata": {},
   "outputs": [],
   "source": [
    "# x_res 채우기\n",
    "for j in range(seg_num_x - 1):\n",
    "    x_res_li = x_res[j]\n",
    "    for k, x_enc_part in enumerate(x_res_li):\n",
    "        if k< len(x_res_li)-1:\n",
    "            x_enc_part = x_enc_part.permute(0,2,1)\n",
    "            # Embedding\n",
    "            #dec_out -> projection -> composition\n",
    "            dec_part_out = lin_layer(x_enc_part).permute(0, 2, 1)[:, :, :N]\n",
    "            x_res[j+1].append(dec_part_out)"
   ]
  },
  {
   "cell_type": "code",
   "execution_count": 17,
   "id": "834d6399-8f9a-42d9-9e13-cd431ada88f5",
   "metadata": {
    "scrolled": true
   },
   "outputs": [
    {
     "name": "stdout",
     "output_type": "stream",
     "text": [
      "[5, 4, 3, 2]\n"
     ]
    }
   ],
   "source": [
    "print([len(x_res[k]) for k in range(len(x_res))])"
   ]
  },
  {
   "cell_type": "code",
   "execution_count": 25,
   "id": "65da6877-b9de-4803-adb3-88c78aea8779",
   "metadata": {
    "scrolled": true
   },
   "outputs": [
    {
     "data": {
      "text/plain": [
       "[tensor([[[-0.1462, -0.1530, -0.1350,  ..., -0.2409, -0.0986, -0.0246],\n",
       "          [ 0.3505,  0.5000,  0.1781,  ...,  0.1778,  0.5994,  0.3355],\n",
       "          [ 0.5785,  0.5226,  0.4699,  ...,  0.5501,  0.5545,  0.4159],\n",
       "          ...,\n",
       "          [ 0.5235,  0.5994,  0.4568,  ...,  0.3220,  0.6158,  0.5555],\n",
       "          [ 0.1779,  0.1689,  0.2323,  ...,  0.3444,  0.2225,  0.1650],\n",
       "          [ 0.1068,  0.1562,  0.0980,  ..., -0.0362,  0.2959,  0.0929]],\n",
       " \n",
       "         [[-0.0434, -0.1560, -0.1081,  ..., -0.2131, -0.2414, -0.2385],\n",
       "          [ 0.4179,  0.2789,  0.3114,  ...,  0.4442,  0.5558,  0.2037],\n",
       "          [ 0.5274,  0.4720,  0.4704,  ...,  0.4507,  0.5257,  0.4348],\n",
       "          ...,\n",
       "          [ 0.4334,  0.2842,  0.4016,  ...,  0.4790,  0.5210,  0.1819],\n",
       "          [ 0.1896,  0.1997,  0.2520,  ...,  0.2103,  0.1489,  0.1618],\n",
       "          [ 0.1386, -0.0969, -0.0132,  ...,  0.0819,  0.1185, -0.1572]],\n",
       " \n",
       "         [[-0.2175, -0.0909, -0.3244,  ..., -0.2561, -0.2166, -0.1772],\n",
       "          [ 0.4206,  0.5224,  0.2956,  ...,  0.4798,  0.1573,  0.5023],\n",
       "          [ 0.4382,  0.5330,  0.4719,  ...,  0.5552,  0.6788,  0.7091],\n",
       "          ...,\n",
       "          [ 0.3847,  0.6474,  0.3263,  ...,  0.4894,  0.2270,  0.4783],\n",
       "          [ 0.2157,  0.1116,  0.2594,  ...,  0.1929,  0.3541,  0.2988],\n",
       "          [ 0.0623,  0.1620, -0.0379,  ...,  0.1802, -0.0435,  0.2751]],\n",
       " \n",
       "         ...,\n",
       " \n",
       "         [[-0.0274, -0.2594, -0.1643,  ...,  0.1244, -0.0035, -0.0799],\n",
       "          [ 0.4197,  0.3367,  0.3787,  ...,  0.3093,  0.1934,  0.5284],\n",
       "          [ 0.4553,  0.5946,  0.6100,  ...,  0.4921,  0.5552,  0.6006],\n",
       "          ...,\n",
       "          [ 0.4763,  0.4668,  0.4377,  ...,  0.5015,  0.2897,  0.6357],\n",
       "          [ 0.2272,  0.2553,  0.4905,  ...,  0.2465,  0.3262,  0.2852],\n",
       "          [ 0.1179,  0.1030,  0.1698,  ...,  0.1326, -0.1090,  0.2255]],\n",
       " \n",
       "         [[-0.0852, -0.2739, -0.0819,  ..., -0.1865, -0.1987, -0.2439],\n",
       "          [ 0.3662,  0.3870,  0.5346,  ...,  0.4551,  0.3547,  0.2920],\n",
       "          [ 0.4870,  0.5436,  0.4762,  ...,  0.3857,  0.4004,  0.4968],\n",
       "          ...,\n",
       "          [ 0.4525,  0.4701,  0.5152,  ...,  0.5637,  0.4732,  0.4012],\n",
       "          [ 0.2583,  0.2515,  0.0796,  ...,  0.0734,  0.0999,  0.3213],\n",
       "          [ 0.0991,  0.1037,  0.1182,  ...,  0.0833,  0.0491,  0.1154]],\n",
       " \n",
       "         [[-0.1859, -0.2133, -0.2340,  ..., -0.1578, -0.2633, -0.2333],\n",
       "          [ 0.5915,  0.3196,  0.4927,  ...,  0.3768,  0.2258,  0.4395],\n",
       "          [ 0.5135,  0.6235,  0.5586,  ...,  0.4078,  0.5582,  0.4392],\n",
       "          ...,\n",
       "          [ 0.5597,  0.3340,  0.3733,  ...,  0.4677,  0.3593,  0.4403],\n",
       "          [ 0.2132,  0.3247,  0.2813,  ...,  0.2336,  0.3464,  0.3350],\n",
       "          [ 0.2499,  0.0112,  0.1383,  ...,  0.1362,  0.0526,  0.1101]]],\n",
       "        grad_fn=<SliceBackward0>),\n",
       " tensor([[[-0.0635, -0.1822, -0.2356,  ..., -0.0688, -0.2503, -0.1743],\n",
       "          [ 0.5287,  0.6413,  0.4856,  ...,  0.2701,  0.3274,  0.3414],\n",
       "          [ 0.4563,  0.5386,  0.4684,  ...,  0.4874,  0.4790,  0.5191],\n",
       "          ...,\n",
       "          [ 0.5223,  0.5479,  0.4730,  ...,  0.3650,  0.5069,  0.4216],\n",
       "          [ 0.1690,  0.1979,  0.0760,  ...,  0.1605,  0.1679,  0.1900],\n",
       "          [ 0.0729,  0.2252,  0.0586,  ..., -0.0057,  0.0464,  0.1037]],\n",
       " \n",
       "         [[-0.1629, -0.2329, -0.1231,  ..., -0.2823, -0.0967, -0.1557],\n",
       "          [ 0.2241,  0.5961,  0.4671,  ...,  0.3943,  0.4702,  0.3867],\n",
       "          [ 0.4221,  0.5041,  0.5643,  ...,  0.5237,  0.5151,  0.6438],\n",
       "          ...,\n",
       "          [ 0.3710,  0.5571,  0.4198,  ...,  0.3731,  0.4437,  0.5773],\n",
       "          [ 0.2349,  0.1293,  0.2163,  ...,  0.2315,  0.1974,  0.3518],\n",
       "          [ 0.0124,  0.3377,  0.1168,  ...,  0.0171,  0.1820,  0.2406]],\n",
       " \n",
       "         [[-0.1082, -0.0054, -0.2238,  ..., -0.1443, -0.1519, -0.1154],\n",
       "          [ 0.2947,  0.2204,  0.5739,  ...,  0.3200,  0.4020,  0.4662],\n",
       "          [ 0.5506,  0.4838,  0.6121,  ...,  0.5320,  0.4941,  0.4516],\n",
       "          ...,\n",
       "          [ 0.5247,  0.4010,  0.5545,  ...,  0.4316,  0.5657,  0.4520],\n",
       "          [ 0.2096,  0.1679,  0.2748,  ...,  0.2649,  0.3239,  0.1728],\n",
       "          [ 0.0692, -0.0693,  0.2558,  ...,  0.0542,  0.1968,  0.1586]],\n",
       " \n",
       "         ...,\n",
       " \n",
       "         [[-0.0943, -0.1202, -0.0824,  ..., -0.2906, -0.2885, -0.1811],\n",
       "          [ 0.4338,  0.6152,  0.5455,  ...,  0.4418,  0.3687,  0.4702],\n",
       "          [ 0.4812,  0.4231,  0.5818,  ...,  0.5077,  0.4772,  0.5703],\n",
       "          ...,\n",
       "          [ 0.4194,  0.5487,  0.5017,  ...,  0.4687,  0.3648,  0.4663],\n",
       "          [ 0.1277,  0.1173,  0.2041,  ...,  0.1370,  0.2307,  0.1525],\n",
       "          [ 0.0368,  0.1943,  0.1334,  ...,  0.0566,  0.0540,  0.2103]],\n",
       " \n",
       "         [[-0.2704, -0.3093, -0.2027,  ..., -0.1917, -0.1291, -0.1747],\n",
       "          [ 0.2713,  0.3959,  0.4058,  ...,  0.2834,  0.4433,  0.3576],\n",
       "          [ 0.4246,  0.4531,  0.4392,  ...,  0.5557,  0.4339,  0.5590],\n",
       "          ...,\n",
       "          [ 0.4487,  0.3236,  0.5134,  ...,  0.3390,  0.3797,  0.4713],\n",
       "          [ 0.1633,  0.1937,  0.2206,  ...,  0.3039,  0.0652,  0.3159],\n",
       "          [ 0.0404,  0.0258,  0.1344,  ...,  0.0817,  0.0784,  0.1326]],\n",
       " \n",
       "         [[-0.0491,  0.0031, -0.1896,  ..., -0.3080, -0.2077, -0.2873],\n",
       "          [ 0.4065,  0.3029,  0.6161,  ...,  0.4310,  0.3942,  0.4909],\n",
       "          [ 0.3923,  0.4912,  0.4134,  ...,  0.5430,  0.4915,  0.5959],\n",
       "          ...,\n",
       "          [ 0.4506,  0.4995,  0.4908,  ...,  0.4076,  0.4039,  0.4641],\n",
       "          [ 0.0276,  0.2017,  0.0984,  ...,  0.3571,  0.2083,  0.3344],\n",
       "          [ 0.0765,  0.0908,  0.1451,  ...,  0.1099,  0.1036,  0.2539]]],\n",
       "        grad_fn=<SliceBackward0>),\n",
       " tensor([[[-0.0854, -0.2546, -0.1068,  ..., -0.3170, -0.2239, -0.1190],\n",
       "          [ 0.2018,  0.3416,  0.4146,  ...,  0.5457,  0.2510,  0.5732],\n",
       "          [ 0.5504,  0.3749,  0.3471,  ...,  0.4692,  0.5631,  0.5964],\n",
       "          ...,\n",
       "          [ 0.3779,  0.4839,  0.5319,  ...,  0.5006,  0.4873,  0.6055],\n",
       "          [ 0.3416,  0.0238,  0.1478,  ...,  0.1586,  0.2327,  0.1249],\n",
       "          [ 0.0542,  0.0245,  0.1140,  ...,  0.2298,  0.0333,  0.2571]],\n",
       " \n",
       "         [[-0.0408, -0.1570, -0.0959,  ..., -0.1940, -0.1834, -0.2547],\n",
       "          [ 0.1909,  0.5207,  0.2933,  ...,  0.3992,  0.3494,  0.6108],\n",
       "          [ 0.5519,  0.5479,  0.5034,  ...,  0.5797,  0.4372,  0.4972],\n",
       "          ...,\n",
       "          [ 0.3734,  0.4752,  0.5699,  ...,  0.5756,  0.3711,  0.4488],\n",
       "          [ 0.3146,  0.1734,  0.2457,  ...,  0.0970,  0.2229,  0.0378],\n",
       "          [ 0.0311,  0.1282,  0.1131,  ...,  0.2137,  0.0771,  0.0965]],\n",
       " \n",
       "         [[-0.1614, -0.2395, -0.2918,  ..., -0.1981, -0.1116, -0.3138],\n",
       "          [ 0.3428,  0.4456,  0.3796,  ...,  0.5946,  0.3689,  0.3570],\n",
       "          [ 0.5021,  0.4213,  0.4570,  ...,  0.4990,  0.5686,  0.5266],\n",
       "          ...,\n",
       "          [ 0.3744,  0.3897,  0.4791,  ...,  0.5433,  0.5398,  0.3736],\n",
       "          [ 0.1881,  0.0707,  0.0252,  ...,  0.2226,  0.2067,  0.3075],\n",
       "          [-0.0183,  0.0814,  0.1172,  ...,  0.2388,  0.1888,  0.1432]],\n",
       " \n",
       "         ...,\n",
       " \n",
       "         [[-0.1785, -0.1181, -0.0569,  ..., -0.2762, -0.0071, -0.1226],\n",
       "          [ 0.4594,  0.4023,  0.3249,  ...,  0.5275,  0.4692,  0.1515],\n",
       "          [ 0.6138,  0.4034,  0.4985,  ...,  0.4981,  0.4334,  0.3916],\n",
       "          ...,\n",
       "          [ 0.4539,  0.4351,  0.5165,  ...,  0.5441,  0.4726,  0.3862],\n",
       "          [ 0.3478,  0.0764,  0.1267,  ...,  0.2633,  0.1723,  0.1470],\n",
       "          [ 0.1369,  0.0706,  0.0499,  ...,  0.1042,  0.0952, -0.0076]],\n",
       " \n",
       "         [[-0.1586, -0.3149, -0.1969,  ..., -0.1575, -0.2204, -0.1571],\n",
       "          [ 0.2865,  0.6105,  0.3521,  ...,  0.5061,  0.4123,  0.2982],\n",
       "          [ 0.5228,  0.4714,  0.5905,  ...,  0.5254,  0.5951,  0.3881],\n",
       "          ...,\n",
       "          [ 0.3900,  0.4884,  0.4955,  ...,  0.4475,  0.4334,  0.3941],\n",
       "          [ 0.2304,  0.1766,  0.2583,  ...,  0.2368,  0.3455,  0.0912],\n",
       "          [ 0.0256,  0.2172,  0.1380,  ...,  0.1801,  0.1464, -0.1088]],\n",
       " \n",
       "         [[-0.1782, -0.2455, -0.1726,  ..., -0.0680, -0.0150, -0.1232],\n",
       "          [ 0.4800,  0.3729,  0.5113,  ...,  0.4349,  0.4376,  0.3845],\n",
       "          [ 0.6402,  0.5581,  0.4610,  ...,  0.4408,  0.4694,  0.5773],\n",
       "          ...,\n",
       "          [ 0.4598,  0.4483,  0.5149,  ...,  0.4560,  0.6340,  0.4577],\n",
       "          [ 0.2688,  0.2656,  0.1594,  ...,  0.0969,  0.1247,  0.2730],\n",
       "          [ 0.2359,  0.0756,  0.1480,  ...,  0.0332,  0.1209,  0.0935]]],\n",
       "        grad_fn=<SliceBackward0>),\n",
       " tensor([[[-2.8900e-01, -8.5130e-02, -7.8354e-02,  ..., -9.7714e-02,\n",
       "           -1.1713e-01, -2.6123e-02],\n",
       "          [ 3.7447e-01,  3.8313e-01,  2.8758e-01,  ...,  4.4517e-01,\n",
       "            3.1516e-01,  2.6513e-01],\n",
       "          [ 5.7865e-01,  4.9903e-01,  5.5627e-01,  ...,  5.4652e-01,\n",
       "            4.8833e-01,  4.0838e-01],\n",
       "          ...,\n",
       "          [ 4.9849e-01,  5.0395e-01,  5.3671e-01,  ...,  5.2264e-01,\n",
       "            3.8803e-01,  4.9414e-01],\n",
       "          [ 1.7986e-01,  2.8398e-01,  2.8455e-01,  ...,  1.5499e-01,\n",
       "            3.1993e-01,  1.5360e-01],\n",
       "          [ 2.2790e-01,  1.7687e-01,  1.1630e-01,  ...,  8.7291e-02,\n",
       "            5.2789e-02,  3.7354e-02]],\n",
       " \n",
       "         [[-2.9130e-01, -2.0930e-02, -2.0910e-01,  ..., -2.6235e-01,\n",
       "           -2.7313e-01, -1.1501e-01],\n",
       "          [ 3.0925e-01,  5.7731e-01,  5.1643e-01,  ...,  3.9786e-01,\n",
       "            3.9398e-01,  4.4939e-01],\n",
       "          [ 3.9363e-01,  4.3765e-01,  4.3141e-01,  ...,  4.6179e-01,\n",
       "            5.4078e-01,  5.9499e-01],\n",
       "          ...,\n",
       "          [ 3.5471e-01,  6.1401e-01,  5.4074e-01,  ...,  4.3905e-01,\n",
       "            4.3091e-01,  5.0771e-01],\n",
       "          [ 1.3193e-01,  9.6902e-02,  1.1668e-01,  ...,  1.6437e-01,\n",
       "            2.9948e-01,  2.9941e-01],\n",
       "          [ 1.0934e-02,  2.9216e-01,  1.5516e-01,  ...,  1.1308e-01,\n",
       "            1.0832e-01,  1.2860e-01]],\n",
       " \n",
       "         [[-1.8009e-01, -3.0167e-01, -2.3616e-01,  ..., -1.3904e-01,\n",
       "           -1.1504e-01, -2.8721e-01],\n",
       "          [ 1.4892e-01,  3.1924e-01,  5.2203e-01,  ...,  5.2198e-01,\n",
       "            4.6736e-01,  3.1758e-01],\n",
       "          [ 4.3499e-01,  4.5722e-01,  4.6422e-01,  ...,  5.3405e-01,\n",
       "            4.7430e-01,  5.2891e-01],\n",
       "          ...,\n",
       "          [ 3.5953e-01,  2.9637e-01,  4.8133e-01,  ...,  5.6596e-01,\n",
       "            6.0377e-01,  4.3325e-01],\n",
       "          [ 2.6533e-01,  2.3168e-01,  2.5707e-01,  ...,  3.3917e-01,\n",
       "            1.9797e-01,  3.0250e-01],\n",
       "          [-7.5110e-03, -1.4606e-01,  1.3939e-01,  ...,  1.6032e-01,\n",
       "            1.0374e-01,  1.0932e-01]],\n",
       " \n",
       "         ...,\n",
       " \n",
       "         [[-1.5647e-01, -1.7967e-01, -1.2274e-01,  ..., -1.9537e-01,\n",
       "           -2.5045e-01, -2.5733e-01],\n",
       "          [ 4.6702e-01,  5.2519e-01,  4.8854e-01,  ...,  3.8692e-01,\n",
       "            1.9182e-01,  3.7623e-01],\n",
       "          [ 4.9734e-01,  4.3967e-01,  5.9692e-01,  ...,  5.1220e-01,\n",
       "            5.1300e-01,  4.0305e-01],\n",
       "          ...,\n",
       "          [ 5.1185e-01,  4.6477e-01,  5.3145e-01,  ...,  3.3382e-01,\n",
       "            4.0854e-01,  4.4265e-01],\n",
       "          [ 2.1406e-01,  1.9080e-01,  3.0920e-01,  ...,  1.6121e-01,\n",
       "            2.6307e-01,  2.6656e-01],\n",
       "          [ 1.6060e-01,  1.5483e-01,  2.5267e-01,  ...,  5.6622e-02,\n",
       "           -3.2200e-02,  9.7557e-02]],\n",
       " \n",
       "         [[-7.7051e-02,  9.1472e-03, -1.7504e-01,  ..., -8.1818e-02,\n",
       "           -1.3214e-01, -1.7870e-01],\n",
       "          [ 2.9124e-01,  4.0658e-01,  5.1818e-01,  ...,  3.2304e-01,\n",
       "            2.3476e-01,  3.3356e-01],\n",
       "          [ 5.0218e-01,  4.4876e-01,  4.5609e-01,  ...,  4.7090e-01,\n",
       "            4.4222e-01,  5.2307e-01],\n",
       "          ...,\n",
       "          [ 4.1754e-01,  5.7875e-01,  6.1838e-01,  ...,  4.1955e-01,\n",
       "            4.6195e-01,  4.0448e-01],\n",
       "          [ 3.2076e-01,  2.1220e-01,  8.7143e-02,  ...,  2.6550e-01,\n",
       "            2.5859e-01,  3.1248e-01],\n",
       "          [ 1.5212e-01,  1.1620e-01,  1.2273e-01,  ...,  4.4623e-02,\n",
       "            8.2200e-02,  4.6733e-02]],\n",
       " \n",
       "         [[-2.0569e-01, -1.3318e-01, -2.5697e-01,  ..., -1.2910e-01,\n",
       "           -4.8649e-02, -2.3703e-01],\n",
       "          [ 4.3209e-01,  3.8781e-01,  3.6233e-01,  ...,  6.0354e-01,\n",
       "            3.1900e-01,  2.8129e-01],\n",
       "          [ 4.4841e-01,  4.7378e-01,  5.4096e-01,  ...,  5.8929e-01,\n",
       "            4.7088e-01,  5.0522e-01],\n",
       "          ...,\n",
       "          [ 5.2709e-01,  4.1051e-01,  4.3596e-01,  ...,  4.8790e-01,\n",
       "            3.8735e-01,  4.0475e-01],\n",
       "          [ 1.5159e-01,  2.1491e-01,  3.2037e-01,  ...,  1.3488e-01,\n",
       "            2.7334e-01,  2.6892e-01],\n",
       "          [ 1.3840e-01,  7.7960e-02, -1.3635e-02,  ...,  1.6324e-01,\n",
       "            4.0652e-02, -4.4835e-04]]], grad_fn=<SliceBackward0>)]"
      ]
     },
     "execution_count": 25,
     "metadata": {},
     "output_type": "execute_result"
    }
   ],
   "source": [
    "x_res[1]"
   ]
  },
  {
   "cell_type": "code",
   "execution_count": 28,
   "id": "9325a815-08e1-4b42-98a4-8b88a3ccd577",
   "metadata": {},
   "outputs": [
    {
     "data": {
      "text/plain": [
       "tensor([[[0.6288, 0.5371, 0.5106,  ..., 0.2486, 0.5431, 0.7095],\n",
       "         [0.0421, 0.5912, 0.5273,  ..., 0.9102, 0.8127, 0.6676],\n",
       "         [0.1651, 0.6245, 0.8574,  ..., 0.6037, 0.6154, 0.6132],\n",
       "         ...,\n",
       "         [0.8225, 0.7479, 0.4148,  ..., 0.8168, 0.6929, 0.7590],\n",
       "         [0.2444, 0.2481, 0.0571,  ..., 0.7084, 0.2329, 0.0626],\n",
       "         [0.1952, 0.1329, 0.1572,  ..., 0.9014, 0.8685, 0.9232]],\n",
       "\n",
       "        [[0.7423, 0.5223, 0.0066,  ..., 0.6509, 0.5387, 0.7467],\n",
       "         [0.7524, 0.4213, 0.8008,  ..., 0.7234, 0.7156, 0.5028],\n",
       "         [0.9406, 0.1087, 0.9521,  ..., 0.6577, 0.4510, 0.9789],\n",
       "         ...,\n",
       "         [0.8152, 0.2884, 0.8993,  ..., 0.4513, 0.7290, 0.2344],\n",
       "         [0.6316, 0.4651, 0.3610,  ..., 0.6595, 0.6958, 0.3050],\n",
       "         [0.1182, 0.7756, 0.6635,  ..., 0.2268, 0.6335, 0.7008]],\n",
       "\n",
       "        [[0.2455, 0.9571, 0.5773,  ..., 0.8360, 0.3928, 0.6427],\n",
       "         [0.4688, 0.7281, 0.8939,  ..., 0.3226, 0.9704, 0.4943],\n",
       "         [0.1723, 0.2097, 0.7478,  ..., 0.4412, 0.6734, 0.9552],\n",
       "         ...,\n",
       "         [0.6038, 0.5620, 0.9218,  ..., 0.1505, 0.4463, 0.6918],\n",
       "         [0.9343, 0.6323, 0.4902,  ..., 0.4520, 0.7472, 0.3465],\n",
       "         [0.3813, 0.5795, 0.6465,  ..., 0.7007, 0.5570, 0.8397]],\n",
       "\n",
       "        ...,\n",
       "\n",
       "        [[0.4536, 0.2261, 0.5213,  ..., 0.2150, 0.4104, 0.3560],\n",
       "         [0.3897, 0.5298, 0.7111,  ..., 0.2701, 0.1704, 0.4188],\n",
       "         [0.4461, 0.5539, 0.6194,  ..., 0.5394, 0.0440, 0.6572],\n",
       "         ...,\n",
       "         [0.7056, 0.3205, 0.9432,  ..., 0.6694, 0.4205, 0.6671],\n",
       "         [0.4897, 0.1529, 0.1755,  ..., 0.0973, 0.6435, 0.9089],\n",
       "         [0.8200, 0.6658, 0.7332,  ..., 0.9206, 0.8502, 0.9958]],\n",
       "\n",
       "        [[0.2178, 0.3284, 0.4874,  ..., 0.2666, 0.4644, 0.4620],\n",
       "         [0.2622, 0.9229, 0.3240,  ..., 0.3126, 0.7482, 0.1925],\n",
       "         [0.7309, 0.9651, 0.6272,  ..., 0.6921, 0.5511, 0.3887],\n",
       "         ...,\n",
       "         [0.3392, 0.7425, 0.5604,  ..., 0.5580, 0.9761, 0.9820],\n",
       "         [0.9030, 0.8406, 0.8056,  ..., 0.8249, 0.5248, 0.9155],\n",
       "         [0.3317, 0.1726, 0.8045,  ..., 0.6287, 0.3262, 0.1918]],\n",
       "\n",
       "        [[0.8845, 0.8790, 0.6686,  ..., 0.9007, 0.0372, 0.3379],\n",
       "         [0.7779, 0.8954, 0.4504,  ..., 0.0584, 0.4398, 0.3370],\n",
       "         [0.2722, 0.2624, 0.6283,  ..., 0.4385, 0.9991, 0.6386],\n",
       "         ...,\n",
       "         [0.7553, 0.1423, 0.1484,  ..., 0.5064, 0.0867, 0.7736],\n",
       "         [0.1479, 0.6619, 0.6508,  ..., 0.2413, 0.9716, 0.8691],\n",
       "         [0.6526, 0.6964, 0.9418,  ..., 0.7645, 0.5675, 0.5259]]])"
      ]
     },
     "execution_count": 28,
     "metadata": {},
     "output_type": "execute_result"
    }
   ],
   "source": [
    "x_dec_list[0]"
   ]
  },
  {
   "cell_type": "code",
   "execution_count": 37,
   "id": "ea8df10f-047f-4b3d-829c-62f693812f5c",
   "metadata": {},
   "outputs": [
    {
     "name": "stdout",
     "output_type": "stream",
     "text": [
      "[ 0.01982198 -0.01166565  0.00781004  0.00367337]\n",
      "[ 0.02516554 -0.0238343  -0.05208096  0.0305237 ]\n"
     ]
    }
   ],
   "source": [
    "from sklearn.linear_model import LinearRegression\n",
    "\n",
    "coef_col = []\n",
    "lr = LinearRegression()\n",
    "# Linear Regression 활용해서 보정.\n",
    "for k in range(seg_num_y):\n",
    "    X_stack = np.hstack([\n",
    "        x_res[l][k + seg_num_x -1 - l].detach().numpy().reshape(-1, 1) for l in range(seg_num_x) \n",
    "    ])\n",
    "    y = x_dec_list[k].detach().numpy().reshape(-1, 1)\n",
    "    \n",
    "    lr.fit(X_stack, y)\n",
    "\n",
    "    coeff_vector = np.array(lr.coef_)[0]\n",
    "    print(coeff_vector)\n",
    "    coef_col.append(coeff_vector)\n",
    "\n",
    "coeff_vector = np.array([np.mean([coef_col[j][k] for j in range(len(coef_col))]) for k in range(len(coef_col[0]))])"
   ]
  },
  {
   "cell_type": "code",
   "execution_count": 38,
   "id": "32ee087e-e562-4e75-9e97-f5e1e7fdcd5f",
   "metadata": {
    "scrolled": true
   },
   "outputs": [
    {
     "data": {
      "text/plain": [
       "array([ 0.02249376, -0.01774998, -0.02213546,  0.01709853], dtype=float32)"
      ]
     },
     "execution_count": 38,
     "metadata": {},
     "output_type": "execute_result"
    }
   ],
   "source": [
    "coeff_vector"
   ]
  },
  {
   "cell_type": "code",
   "execution_count": 50,
   "id": "254a0c78-8cd2-4326-b62f-225989b146bf",
   "metadata": {},
   "outputs": [],
   "source": [
    "dec_out_stack = []\n",
    "for j in range(seg_num_y):\n",
    "    dec_out_part = np.zeros(x_res[t][seg_num_x-1-t+j].detach().numpy().shape)\n",
    "    for t in range(len(coeff_vector)):\n",
    "        dec_out_part += coeff_vector[-t-1]*x_res[t][seg_num_x-1-t+j].detach().numpy()\n",
    "    dec_out_stack.append(dec_out_part)\n",
    "    \n",
    "dec_out = np.concatenate(dec_out_stack, axis=1)"
   ]
  },
  {
   "cell_type": "code",
   "execution_count": 51,
   "id": "e61038da-43e2-4188-b3d2-c5432374781a",
   "metadata": {},
   "outputs": [
    {
     "data": {
      "text/plain": [
       "(8, 48, 21)"
      ]
     },
     "execution_count": 51,
     "metadata": {},
     "output_type": "execute_result"
    }
   ],
   "source": [
    "dec_out.shape"
   ]
  },
  {
   "cell_type": "code",
   "execution_count": 46,
   "id": "777b31c3-67f7-4cac-ac6e-67fbe9f38c84",
   "metadata": {
    "scrolled": true
   },
   "outputs": [
    {
     "data": {
      "text/plain": [
       "(8, 24, 21)"
      ]
     },
     "execution_count": 46,
     "metadata": {},
     "output_type": "execute_result"
    }
   ],
   "source": [
    "t = 0\n",
    "j=0\n",
    "np.zeros(x_res[t][seg_num_x-1-t+j].detach().numpy().shape).shape"
   ]
  },
  {
   "cell_type": "code",
   "execution_count": null,
   "id": "81f014d5-5f73-40b3-a21a-9e03d36cce37",
   "metadata": {},
   "outputs": [],
   "source": []
  },
  {
   "cell_type": "code",
   "execution_count": 1,
   "id": "32b18321-d64d-4c1c-b312-12cedde6a7d7",
   "metadata": {},
   "outputs": [],
   "source": [
    "# localhost - linear tensor test\n",
    "\n",
    "import torch\n",
    "import torch.nn as nn\n",
    "import numpy as np\n",
    "import matplotlib.pyplot as plt\n",
    "import pandas as pd"
   ]
  },
  {
   "cell_type": "code",
   "execution_count": 2,
   "id": "3e3d6892-4a77-4e87-b1f7-b6b7c98e5822",
   "metadata": {},
   "outputs": [],
   "source": [
    "%matplotlib inline"
   ]
  },
  {
   "cell_type": "code",
   "execution_count": 3,
   "id": "bea551b9-2ac2-4350-8f5a-4c83ee9ad677",
   "metadata": {},
   "outputs": [],
   "source": [
    "class LinearApproximation(nn.Module):\n",
    "    def __init__(self, num_var):\n",
    "        super(LinearApproximation, self).__init__()\n",
    "        self.linear = nn.Linear(1, num_var, bias=True)\n",
    "    \n",
    "    def forward(self, t):\n",
    "        return self.linear(t)\n",
    "    "
   ]
  },
  {
   "cell_type": "code",
   "execution_count": 4,
   "id": "daa447ae-2d42-4a3f-b796-b14bc3a75a67",
   "metadata": {},
   "outputs": [],
   "source": [
    "linear_approximation = LinearApproximation(8)\n",
    "\n",
    "\n",
    "def train_linear_approximation(x_enc, num_epochs=1000, lr=0.001):\n",
    "    B, T, N = x_enc.shape\n",
    "\n",
    "    # time_step\n",
    "    t = torch.arange(T) - (T) * torch.ones(T) # (-95,..., 0)\n",
    "    t = t.float().unsqueeze(0).unsqueeze(-1) # (1, time, 1)\n",
    "    t = t.repeat(B, 1, 1) # BATCH_SIZE, TIME_STEPs, 1\n",
    "\n",
    "    optimizer = torch.optim.SGD(linear_approximation.parameters(), lr=lr)\n",
    "    criterion = nn.MSELoss()\n",
    "\n",
    "    for epochs in range(num_epochs):\n",
    "        linear_approx_output = linear_approximation(t)\n",
    "        loss = criterion(linear_approx_output, x_enc)\n",
    "        optimizer.zero_grad()\n",
    "        loss.backward()\n",
    "        optimizer.step()\n",
    "    \n",
    "    a1 = linear_approximation.linear.weight.data\n",
    "    a0 = linear_approximation.linear.bias.data\n",
    "\n",
    "    return a0, a1"
   ]
  },
  {
   "cell_type": "code",
   "execution_count": null,
   "id": "585fefe6-685d-4f4b-8b81-389f02233801",
   "metadata": {},
   "outputs": [],
   "source": []
  },
  {
   "cell_type": "code",
   "execution_count": 5,
   "id": "c67fdf27-7337-416c-8a94-a991a3f87ed7",
   "metadata": {},
   "outputs": [],
   "source": [
    "# data load\n",
    "batch_path = './results/'\n",
    "source = 'long_term_forecast_DiTransformer_Exchange_96_96_d01_noadj_DiTransformer_decomp_custom_ftM_sl96_ll48_pl96_dm512_nh8_el2_dl1_df2048_expand2_dc4_fc3_ebtimeF_dtTrue_Exp_0(1726646261)/'\n",
    "pred_data = np.load(batch_path + source + 'pred.npy')\n",
    "true_data = np.load(batch_path + source + 'true.npy')"
   ]
  },
  {
   "cell_type": "code",
   "execution_count": 6,
   "id": "f703710a-f001-44e9-af8b-6017c7743e63",
   "metadata": {},
   "outputs": [
    {
     "data": {
      "text/plain": [
       "(1422, 96, 8)"
      ]
     },
     "execution_count": 6,
     "metadata": {},
     "output_type": "execute_result"
    }
   ],
   "source": [
    "pred_data.shape"
   ]
  },
  {
   "cell_type": "code",
   "execution_count": 18,
   "id": "97445dc0-49b0-4217-b7fb-78d9e3aa4954",
   "metadata": {},
   "outputs": [
    {
     "data": {
      "text/plain": [
       "(tensor([ 0.2842,  0.1848,  0.6255,  1.1205,  0.3437, -0.4616,  0.3223,  0.3541]),\n",
       " tensor([[-0.0439],\n",
       "         [ 0.0093],\n",
       "         [-0.0235],\n",
       "         [-0.0303],\n",
       "         [-0.0088],\n",
       "         [-0.0505],\n",
       "         [-0.0482],\n",
       "         [-0.0307]]))"
      ]
     },
     "execution_count": 18,
     "metadata": {},
     "output_type": "execute_result"
    }
   ],
   "source": [
    "train_linear_approximation(torch.Tensor(true_data[:32, :, :]))"
   ]
  },
  {
   "cell_type": "code",
   "execution_count": 19,
   "id": "9dc7691f-ddc6-46c8-8770-0ebd50f43654",
   "metadata": {},
   "outputs": [
    {
     "data": {
      "text/plain": [
       "(torch.Size([8]), torch.Size([8, 1]))"
      ]
     },
     "execution_count": 19,
     "metadata": {},
     "output_type": "execute_result"
    }
   ],
   "source": [
    "train_linear_approximation(torch.Tensor(true_data[:32, :, :]))[0].shape, train_linear_approximation(torch.Tensor(true_data[:32, :, :]))[1].shape"
   ]
  },
  {
   "cell_type": "code",
   "execution_count": 23,
   "id": "b82ceb97-7b13-4250-b145-c4b527a0e8e8",
   "metadata": {},
   "outputs": [],
   "source": [
    "# 오류 부정\n",
    "a0, a1 = train_linear_approximation(torch.Tensor(true_data[:32, :, :]))[0], train_linear_approximation(torch.Tensor(true_data[:32, :, :]))[1]"
   ]
  },
  {
   "cell_type": "code",
   "execution_count": 31,
   "id": "1a39c7e8-b34e-47be-805a-f4a3e59aa2cb",
   "metadata": {},
   "outputs": [],
   "source": [
    "a00 = a0.unsqueeze(0).unsqueeze(1)\n",
    "a00 = a00.repeat(32, 96, 1)"
   ]
  },
  {
   "cell_type": "code",
   "execution_count": 32,
   "id": "0c072aae-cbdc-4d9d-813f-d7212188144e",
   "metadata": {},
   "outputs": [
    {
     "data": {
      "text/plain": [
       "torch.Size([32, 96, 8])"
      ]
     },
     "execution_count": 32,
     "metadata": {},
     "output_type": "execute_result"
    }
   ],
   "source": [
    "a00.shape"
   ]
  },
  {
   "cell_type": "code",
   "execution_count": 33,
   "id": "82763df7-c793-4058-965b-4427b0c5936d",
   "metadata": {},
   "outputs": [],
   "source": [
    "a10 = a1.unsqueeze(0).permute(0,2,1)\n",
    "a10 = a10.repeat(32, 96, 1)"
   ]
  },
  {
   "cell_type": "code",
   "execution_count": 34,
   "id": "db5f23a9-0679-483f-ab14-ce5639382027",
   "metadata": {},
   "outputs": [
    {
     "data": {
      "text/plain": [
       "torch.Size([32, 96, 8])"
      ]
     },
     "execution_count": 34,
     "metadata": {},
     "output_type": "execute_result"
    }
   ],
   "source": []
  },
  {
   "cell_type": "code",
   "execution_count": 40,
   "id": "0c3d79a4-ead2-4020-a66c-1823345714c2",
   "metadata": {},
   "outputs": [],
   "source": [
    "res0 = a00 + tp*a10\n",
    "resa = res0.detach().cpu().numpy()"
   ]
  },
  {
   "cell_type": "code",
   "execution_count": 39,
   "id": "3ccafc5d-c85d-4501-91d3-e2ddae2a48f3",
   "metadata": {},
   "outputs": [],
   "source": [
    "from utils.metrics import *"
   ]
  },
  {
   "cell_type": "code",
   "execution_count": 15,
   "id": "1b221167-faa1-4842-9c2e-590e326fcdde",
   "metadata": {
    "scrolled": true
   },
   "outputs": [
    {
     "data": {
      "text/plain": [
       "torch.Size([8, 96, 8])"
      ]
     },
     "execution_count": 15,
     "metadata": {},
     "output_type": "execute_result"
    }
   ],
   "source": [
    "linear_approximation(torch.Tensor(true_data[:8, :, 0:1])).shape"
   ]
  },
  {
   "cell_type": "code",
   "execution_count": 21,
   "id": "e1712bbc-31c4-49f6-a488-e273ec43d5ba",
   "metadata": {},
   "outputs": [],
   "source": [
    "tp = t.repeat(1, 1, 8)"
   ]
  },
  {
   "cell_type": "code",
   "execution_count": 30,
   "id": "19e237cc-cb49-4415-b2e1-affb1c4a43b7",
   "metadata": {},
   "outputs": [
    {
     "data": {
      "text/plain": [
       "torch.Size([32, 96, 8])"
      ]
     },
     "execution_count": 30,
     "metadata": {},
     "output_type": "execute_result"
    }
   ],
   "source": [
    "tp.shape"
   ]
  },
  {
   "cell_type": "code",
   "execution_count": 8,
   "id": "221f3fef-4557-42f2-b3de-dd15c93d74c8",
   "metadata": {},
   "outputs": [],
   "source": [
    "B, T= 32, 96\n",
    "t = torch.arange(T) - (T) * torch.ones(T) # (-95,..., 0)\n",
    "t = t.float().unsqueeze(0).unsqueeze(-1) # (1, time, 1)\n",
    "t = t.repeat(B, 1, 1) # BATCH_SIZE, TIME_STEPs, 1"
   ]
  },
  {
   "cell_type": "code",
   "execution_count": 20,
   "id": "bd3534c0-c4af-4f58-8b5e-9c2f56c4fc3c",
   "metadata": {},
   "outputs": [
    {
     "data": {
      "text/plain": [
       "torch.Size([32, 96, 1])"
      ]
     },
     "execution_count": 20,
     "metadata": {},
     "output_type": "execute_result"
    }
   ],
   "source": [
    "t.shape"
   ]
  },
  {
   "cell_type": "code",
   "execution_count": 9,
   "id": "15a4e174-ca80-420f-847c-13a4f9656ec0",
   "metadata": {},
   "outputs": [],
   "source": [
    "optimizer = torch.optim.SGD(linear_approximation.parameters(), lr=0.001)\n",
    "criterion = nn.MSELoss()"
   ]
  },
  {
   "cell_type": "code",
   "execution_count": 10,
   "id": "399e3684-8a5d-4f19-8c11-9af551f83548",
   "metadata": {},
   "outputs": [],
   "source": [
    "linear_approx_output = linear_approximation(t)"
   ]
  },
  {
   "cell_type": "code",
   "execution_count": 11,
   "id": "86f55a85-7958-4820-8022-9e791f80061f",
   "metadata": {
    "scrolled": true
   },
   "outputs": [
    {
     "data": {
      "text/plain": [
       "(32, 96, 1)"
      ]
     },
     "execution_count": 11,
     "metadata": {},
     "output_type": "execute_result"
    }
   ],
   "source": [
    "true_data[:32, :, 0:1].shape"
   ]
  },
  {
   "cell_type": "code",
   "execution_count": 14,
   "id": "f0a1cfd9-3d06-41a5-a5de-75016f13cc28",
   "metadata": {},
   "outputs": [
    {
     "data": {
      "text/plain": [
       "torch.Tensor"
      ]
     },
     "execution_count": 14,
     "metadata": {},
     "output_type": "execute_result"
    }
   ],
   "source": [
    "type(linear_approx_output)"
   ]
  },
  {
   "cell_type": "code",
   "execution_count": 41,
   "id": "69b1dab6-7c0a-4ceb-89b4-60dedfbf4f1a",
   "metadata": {},
   "outputs": [
    {
     "data": {
      "text/plain": [
       "0.6335158"
      ]
     },
     "execution_count": 41,
     "metadata": {},
     "output_type": "execute_result"
    }
   ],
   "source": [
    "MSE(resa, true_data[:32, :, :])"
   ]
  },
  {
   "cell_type": "code",
   "execution_count": 15,
   "id": "3b38fca8-08dd-47d9-94a9-93bf61a1e9fa",
   "metadata": {
    "scrolled": true
   },
   "outputs": [
    {
     "data": {
      "text/plain": [
       "torch.Size([32, 96, 8])"
      ]
     },
     "execution_count": 15,
     "metadata": {},
     "output_type": "execute_result"
    }
   ],
   "source": [
    "linear_approx_output.shape"
   ]
  },
  {
   "cell_type": "code",
   "execution_count": 42,
   "id": "752ef751-1a92-4639-a84f-11138656234f",
   "metadata": {},
   "outputs": [
    {
     "data": {
      "text/plain": [
       "0.15286344"
      ]
     },
     "execution_count": 42,
     "metadata": {},
     "output_type": "execute_result"
    }
   ],
   "source": [
    "MSE(pred_data[:32, :, :], true_data[:32, :, :])"
   ]
  },
  {
   "cell_type": "code",
   "execution_count": 43,
   "id": "d3afebb0-1d45-44c5-9abe-2bcaf7eb4736",
   "metadata": {
    "scrolled": true
   },
   "outputs": [
    {
     "data": {
      "image/png": "[encoded data removed]",
      "text/plain": [
       "<Figure size 640x480 with 1 Axes>"
      ]
     },
     "metadata": {},
     "output_type": "display_data"
    }
   ],
   "source": [
    "x0 = range(96)\n",
    "\n",
    "idx = 0\n",
    "plt.plot(x0, pred_data[idx, :, -1], 'k', label='pred')\n",
    "plt.plot(x0, true_data[idx, :, -1], 'b', label='true')\n",
    "plt.plot(x0, resa[idx, :, -1], 'y.', label='lin-approx')\n",
    "plt.legend()\n",
    "plt.show()"
   ]
  },
  {
   "cell_type": "code",
   "execution_count": 44,
   "id": "bc68f0cf-c93d-44a3-aa3b-c44d416b2818",
   "metadata": {},
   "outputs": [],
   "source": [
    "from sklearn.linear_model import LinearRegression"
   ]
  },
  {
   "cell_type": "code",
   "execution_count": 45,
   "id": "3cd21352-cac4-41af-a74c-a439fbb850e6",
   "metadata": {},
   "outputs": [],
   "source": [
    "lr = LinearRegression()\n",
    "X = np.array([[t] for t in range(96)])"
   ]
  },
  {
   "cell_type": "code",
   "execution_count": 46,
   "id": "71f3f300-d664-4d2f-b360-f66724b770a7",
   "metadata": {},
   "outputs": [],
   "source": [
    "idx = 0\n",
    "val = -1\n",
    "y = true_data[idx, :, -1]\n",
    "reg = lr.fit(X, y)\n"
   ]
  },
  {
   "cell_type": "code",
   "execution_count": 47,
   "id": "d997860c-26cd-42ab-b089-5b67d5084313",
   "metadata": {},
   "outputs": [],
   "source": [
    "rest = [reg.predict([[t]]) for t in range(96)]"
   ]
  },
  {
   "cell_type": "code",
   "execution_count": 49,
   "id": "2bc6b4f9-f3b9-42f2-8102-c4dbb9c70bed",
   "metadata": {},
   "outputs": [],
   "source": [
    "rest0 = [val[0] for val in rest]"
   ]
  },
  {
   "cell_type": "code",
   "execution_count": 51,
   "id": "bb7565ef-883d-412f-9164-f84b1b321184",
   "metadata": {
    "scrolled": true
   },
   "outputs": [
    {
     "data": {
      "image/png": "[encoded data removed]",
      "text/plain": [
       "<Figure size 640x480 with 1 Axes>"
      ]
     },
     "metadata": {},
     "output_type": "display_data"
    }
   ],
   "source": [
    "idx = 0\n",
    "plt.plot(x0, pred_data[idx, :, -1], 'k', label='pred')\n",
    "plt.plot(x0, true_data[idx, :, -1], 'b', label='true')\n",
    "plt.plot(x0, resa[idx, :, -1], 'y.', label='lin-approx')\n",
    "plt.plot(x0, rest0, 'r.', label='lin-approx')\n",
    "plt.legend()\n",
    "plt.show()"
   ]
  },
  {
   "cell_type": "code",
   "execution_count": 64,
   "id": "63824f14-2e19-409f-a997-23f918c3b103",
   "metadata": {},
   "outputs": [
    {
     "data": {
      "text/plain": [
       "(0.05657014846388511, 0.07720589)"
      ]
     },
     "execution_count": 64,
     "metadata": {},
     "output_type": "execute_result"
    }
   ],
   "source": [
    "MAE(true_data[idx, :, -1], rest0), MAE(true_data[idx, :, -1], pred_data[idx, :, -1])"
   ]
  },
  {
   "cell_type": "code",
   "execution_count": 77,
   "id": "aed2bed3-df54-42b0-93cd-f1d4d7b263e3",
   "metadata": {},
   "outputs": [],
   "source": [
    "regs = [LinearRegression().fit(X, true_data[idx, :, k]) for k in range(8)]\n",
    "rest = [[regs[k].predict([[t]])[0] for t in range(96)] for k in range(8)]"
   ]
  },
  {
   "cell_type": "code",
   "execution_count": 78,
   "id": "4b05d6bd-4967-44ce-b4aa-99b9913441a5",
   "metadata": {},
   "outputs": [
    {
     "data": {
      "text/plain": [
       "array([0.81551175])"
      ]
     },
     "execution_count": 78,
     "metadata": {},
     "output_type": "execute_result"
    }
   ],
   "source": [
    "regs[0].predict([[4]]) - regs[-1].predict([[4]])"
   ]
  },
  {
   "cell_type": "code",
   "execution_count": 79,
   "id": "a3b9f623-5c63-42a0-9fe0-c26ad70a062c",
   "metadata": {},
   "outputs": [
    {
     "data": {
      "text/plain": [
       "array([3.06424043])"
      ]
     },
     "execution_count": 79,
     "metadata": {},
     "output_type": "execute_result"
    }
   ],
   "source": [
    "regs[0].predict([[20]])"
   ]
  },
  {
   "cell_type": "code",
   "execution_count": 80,
   "id": "478baae4-4db1-4ecf-a31e-bf9f85b3f391",
   "metadata": {},
   "outputs": [],
   "source": [
    "rest = np.array(rest).T"
   ]
  },
  {
   "cell_type": "code",
   "execution_count": 59,
   "id": "62238de0-063e-4b3b-a992-8f8542a47e66",
   "metadata": {
    "scrolled": true
   },
   "outputs": [
    {
     "data": {
      "text/plain": [
       "array([[2.21032748, 2.21032748, 2.21032748, 2.21032748, 2.21032748,\n",
       "        2.21032748, 2.21032748, 2.21032748],\n",
       "       [2.21297666, 2.21297666, 2.21297666, 2.21297666, 2.21297666,\n",
       "        2.21297666, 2.21297666, 2.21297666],\n",
       "       [2.21562584, 2.21562584, 2.21562584, 2.21562584, 2.21562584,\n",
       "        2.21562584, 2.21562584, 2.21562584],\n",
       "       [2.21827502, 2.21827502, 2.21827502, 2.21827502, 2.21827502,\n",
       "        2.21827502, 2.21827502, 2.21827502],\n",
       "       [2.2209242 , 2.2209242 , 2.2209242 , 2.2209242 , 2.2209242 ,\n",
       "        2.2209242 , 2.2209242 , 2.2209242 ],\n",
       "       [2.22357337, 2.22357337, 2.22357337, 2.22357337, 2.22357337,\n",
       "        2.22357337, 2.22357337, 2.22357337],\n",
       "       [2.22622255, 2.22622255, 2.22622255, 2.22622255, 2.22622255,\n",
       "        2.22622255, 2.22622255, 2.22622255],\n",
       "       [2.22887173, 2.22887173, 2.22887173, 2.22887173, 2.22887173,\n",
       "        2.22887173, 2.22887173, 2.22887173],\n",
       "       [2.23152091, 2.23152091, 2.23152091, 2.23152091, 2.23152091,\n",
       "        2.23152091, 2.23152091, 2.23152091],\n",
       "       [2.23417009, 2.23417009, 2.23417009, 2.23417009, 2.23417009,\n",
       "        2.23417009, 2.23417009, 2.23417009],\n",
       "       [2.23681927, 2.23681927, 2.23681927, 2.23681927, 2.23681927,\n",
       "        2.23681927, 2.23681927, 2.23681927],\n",
       "       [2.23946845, 2.23946845, 2.23946845, 2.23946845, 2.23946845,\n",
       "        2.23946845, 2.23946845, 2.23946845],\n",
       "       [2.24211763, 2.24211763, 2.24211763, 2.24211763, 2.24211763,\n",
       "        2.24211763, 2.24211763, 2.24211763],\n",
       "       [2.24476681, 2.24476681, 2.24476681, 2.24476681, 2.24476681,\n",
       "        2.24476681, 2.24476681, 2.24476681],\n",
       "       [2.24741599, 2.24741599, 2.24741599, 2.24741599, 2.24741599,\n",
       "        2.24741599, 2.24741599, 2.24741599],\n",
       "       [2.25006516, 2.25006516, 2.25006516, 2.25006516, 2.25006516,\n",
       "        2.25006516, 2.25006516, 2.25006516],\n",
       "       [2.25271434, 2.25271434, 2.25271434, 2.25271434, 2.25271434,\n",
       "        2.25271434, 2.25271434, 2.25271434],\n",
       "       [2.25536352, 2.25536352, 2.25536352, 2.25536352, 2.25536352,\n",
       "        2.25536352, 2.25536352, 2.25536352],\n",
       "       [2.2580127 , 2.2580127 , 2.2580127 , 2.2580127 , 2.2580127 ,\n",
       "        2.2580127 , 2.2580127 , 2.2580127 ],\n",
       "       [2.26066188, 2.26066188, 2.26066188, 2.26066188, 2.26066188,\n",
       "        2.26066188, 2.26066188, 2.26066188],\n",
       "       [2.26331106, 2.26331106, 2.26331106, 2.26331106, 2.26331106,\n",
       "        2.26331106, 2.26331106, 2.26331106],\n",
       "       [2.26596024, 2.26596024, 2.26596024, 2.26596024, 2.26596024,\n",
       "        2.26596024, 2.26596024, 2.26596024],\n",
       "       [2.26860942, 2.26860942, 2.26860942, 2.26860942, 2.26860942,\n",
       "        2.26860942, 2.26860942, 2.26860942],\n",
       "       [2.2712586 , 2.2712586 , 2.2712586 , 2.2712586 , 2.2712586 ,\n",
       "        2.2712586 , 2.2712586 , 2.2712586 ],\n",
       "       [2.27390778, 2.27390778, 2.27390778, 2.27390778, 2.27390778,\n",
       "        2.27390778, 2.27390778, 2.27390778],\n",
       "       [2.27655695, 2.27655695, 2.27655695, 2.27655695, 2.27655695,\n",
       "        2.27655695, 2.27655695, 2.27655695],\n",
       "       [2.27920613, 2.27920613, 2.27920613, 2.27920613, 2.27920613,\n",
       "        2.27920613, 2.27920613, 2.27920613],\n",
       "       [2.28185531, 2.28185531, 2.28185531, 2.28185531, 2.28185531,\n",
       "        2.28185531, 2.28185531, 2.28185531],\n",
       "       [2.28450449, 2.28450449, 2.28450449, 2.28450449, 2.28450449,\n",
       "        2.28450449, 2.28450449, 2.28450449],\n",
       "       [2.28715367, 2.28715367, 2.28715367, 2.28715367, 2.28715367,\n",
       "        2.28715367, 2.28715367, 2.28715367],\n",
       "       [2.28980285, 2.28980285, 2.28980285, 2.28980285, 2.28980285,\n",
       "        2.28980285, 2.28980285, 2.28980285],\n",
       "       [2.29245203, 2.29245203, 2.29245203, 2.29245203, 2.29245203,\n",
       "        2.29245203, 2.29245203, 2.29245203],\n",
       "       [2.29510121, 2.29510121, 2.29510121, 2.29510121, 2.29510121,\n",
       "        2.29510121, 2.29510121, 2.29510121],\n",
       "       [2.29775039, 2.29775039, 2.29775039, 2.29775039, 2.29775039,\n",
       "        2.29775039, 2.29775039, 2.29775039],\n",
       "       [2.30039956, 2.30039956, 2.30039956, 2.30039956, 2.30039956,\n",
       "        2.30039956, 2.30039956, 2.30039956],\n",
       "       [2.30304874, 2.30304874, 2.30304874, 2.30304874, 2.30304874,\n",
       "        2.30304874, 2.30304874, 2.30304874],\n",
       "       [2.30569792, 2.30569792, 2.30569792, 2.30569792, 2.30569792,\n",
       "        2.30569792, 2.30569792, 2.30569792],\n",
       "       [2.3083471 , 2.3083471 , 2.3083471 , 2.3083471 , 2.3083471 ,\n",
       "        2.3083471 , 2.3083471 , 2.3083471 ],\n",
       "       [2.31099628, 2.31099628, 2.31099628, 2.31099628, 2.31099628,\n",
       "        2.31099628, 2.31099628, 2.31099628],\n",
       "       [2.31364546, 2.31364546, 2.31364546, 2.31364546, 2.31364546,\n",
       "        2.31364546, 2.31364546, 2.31364546],\n",
       "       [2.31629464, 2.31629464, 2.31629464, 2.31629464, 2.31629464,\n",
       "        2.31629464, 2.31629464, 2.31629464],\n",
       "       [2.31894382, 2.31894382, 2.31894382, 2.31894382, 2.31894382,\n",
       "        2.31894382, 2.31894382, 2.31894382],\n",
       "       [2.321593  , 2.321593  , 2.321593  , 2.321593  , 2.321593  ,\n",
       "        2.321593  , 2.321593  , 2.321593  ],\n",
       "       [2.32424218, 2.32424218, 2.32424218, 2.32424218, 2.32424218,\n",
       "        2.32424218, 2.32424218, 2.32424218],\n",
       "       [2.32689135, 2.32689135, 2.32689135, 2.32689135, 2.32689135,\n",
       "        2.32689135, 2.32689135, 2.32689135],\n",
       "       [2.32954053, 2.32954053, 2.32954053, 2.32954053, 2.32954053,\n",
       "        2.32954053, 2.32954053, 2.32954053],\n",
       "       [2.33218971, 2.33218971, 2.33218971, 2.33218971, 2.33218971,\n",
       "        2.33218971, 2.33218971, 2.33218971],\n",
       "       [2.33483889, 2.33483889, 2.33483889, 2.33483889, 2.33483889,\n",
       "        2.33483889, 2.33483889, 2.33483889],\n",
       "       [2.33748807, 2.33748807, 2.33748807, 2.33748807, 2.33748807,\n",
       "        2.33748807, 2.33748807, 2.33748807],\n",
       "       [2.34013725, 2.34013725, 2.34013725, 2.34013725, 2.34013725,\n",
       "        2.34013725, 2.34013725, 2.34013725],\n",
       "       [2.34278643, 2.34278643, 2.34278643, 2.34278643, 2.34278643,\n",
       "        2.34278643, 2.34278643, 2.34278643],\n",
       "       [2.34543561, 2.34543561, 2.34543561, 2.34543561, 2.34543561,\n",
       "        2.34543561, 2.34543561, 2.34543561],\n",
       "       [2.34808479, 2.34808479, 2.34808479, 2.34808479, 2.34808479,\n",
       "        2.34808479, 2.34808479, 2.34808479],\n",
       "       [2.35073397, 2.35073397, 2.35073397, 2.35073397, 2.35073397,\n",
       "        2.35073397, 2.35073397, 2.35073397],\n",
       "       [2.35338314, 2.35338314, 2.35338314, 2.35338314, 2.35338314,\n",
       "        2.35338314, 2.35338314, 2.35338314],\n",
       "       [2.35603232, 2.35603232, 2.35603232, 2.35603232, 2.35603232,\n",
       "        2.35603232, 2.35603232, 2.35603232],\n",
       "       [2.3586815 , 2.3586815 , 2.3586815 , 2.3586815 , 2.3586815 ,\n",
       "        2.3586815 , 2.3586815 , 2.3586815 ],\n",
       "       [2.36133068, 2.36133068, 2.36133068, 2.36133068, 2.36133068,\n",
       "        2.36133068, 2.36133068, 2.36133068],\n",
       "       [2.36397986, 2.36397986, 2.36397986, 2.36397986, 2.36397986,\n",
       "        2.36397986, 2.36397986, 2.36397986],\n",
       "       [2.36662904, 2.36662904, 2.36662904, 2.36662904, 2.36662904,\n",
       "        2.36662904, 2.36662904, 2.36662904],\n",
       "       [2.36927822, 2.36927822, 2.36927822, 2.36927822, 2.36927822,\n",
       "        2.36927822, 2.36927822, 2.36927822],\n",
       "       [2.3719274 , 2.3719274 , 2.3719274 , 2.3719274 , 2.3719274 ,\n",
       "        2.3719274 , 2.3719274 , 2.3719274 ],\n",
       "       [2.37457658, 2.37457658, 2.37457658, 2.37457658, 2.37457658,\n",
       "        2.37457658, 2.37457658, 2.37457658],\n",
       "       [2.37722576, 2.37722576, 2.37722576, 2.37722576, 2.37722576,\n",
       "        2.37722576, 2.37722576, 2.37722576],\n",
       "       [2.37987493, 2.37987493, 2.37987493, 2.37987493, 2.37987493,\n",
       "        2.37987493, 2.37987493, 2.37987493],\n",
       "       [2.38252411, 2.38252411, 2.38252411, 2.38252411, 2.38252411,\n",
       "        2.38252411, 2.38252411, 2.38252411],\n",
       "       [2.38517329, 2.38517329, 2.38517329, 2.38517329, 2.38517329,\n",
       "        2.38517329, 2.38517329, 2.38517329],\n",
       "       [2.38782247, 2.38782247, 2.38782247, 2.38782247, 2.38782247,\n",
       "        2.38782247, 2.38782247, 2.38782247],\n",
       "       [2.39047165, 2.39047165, 2.39047165, 2.39047165, 2.39047165,\n",
       "        2.39047165, 2.39047165, 2.39047165],\n",
       "       [2.39312083, 2.39312083, 2.39312083, 2.39312083, 2.39312083,\n",
       "        2.39312083, 2.39312083, 2.39312083],\n",
       "       [2.39577001, 2.39577001, 2.39577001, 2.39577001, 2.39577001,\n",
       "        2.39577001, 2.39577001, 2.39577001],\n",
       "       [2.39841919, 2.39841919, 2.39841919, 2.39841919, 2.39841919,\n",
       "        2.39841919, 2.39841919, 2.39841919],\n",
       "       [2.40106837, 2.40106837, 2.40106837, 2.40106837, 2.40106837,\n",
       "        2.40106837, 2.40106837, 2.40106837],\n",
       "       [2.40371754, 2.40371754, 2.40371754, 2.40371754, 2.40371754,\n",
       "        2.40371754, 2.40371754, 2.40371754],\n",
       "       [2.40636672, 2.40636672, 2.40636672, 2.40636672, 2.40636672,\n",
       "        2.40636672, 2.40636672, 2.40636672],\n",
       "       [2.4090159 , 2.4090159 , 2.4090159 , 2.4090159 , 2.4090159 ,\n",
       "        2.4090159 , 2.4090159 , 2.4090159 ],\n",
       "       [2.41166508, 2.41166508, 2.41166508, 2.41166508, 2.41166508,\n",
       "        2.41166508, 2.41166508, 2.41166508],\n",
       "       [2.41431426, 2.41431426, 2.41431426, 2.41431426, 2.41431426,\n",
       "        2.41431426, 2.41431426, 2.41431426],\n",
       "       [2.41696344, 2.41696344, 2.41696344, 2.41696344, 2.41696344,\n",
       "        2.41696344, 2.41696344, 2.41696344],\n",
       "       [2.41961262, 2.41961262, 2.41961262, 2.41961262, 2.41961262,\n",
       "        2.41961262, 2.41961262, 2.41961262],\n",
       "       [2.4222618 , 2.4222618 , 2.4222618 , 2.4222618 , 2.4222618 ,\n",
       "        2.4222618 , 2.4222618 , 2.4222618 ],\n",
       "       [2.42491098, 2.42491098, 2.42491098, 2.42491098, 2.42491098,\n",
       "        2.42491098, 2.42491098, 2.42491098],\n",
       "       [2.42756016, 2.42756016, 2.42756016, 2.42756016, 2.42756016,\n",
       "        2.42756016, 2.42756016, 2.42756016],\n",
       "       [2.43020933, 2.43020933, 2.43020933, 2.43020933, 2.43020933,\n",
       "        2.43020933, 2.43020933, 2.43020933],\n",
       "       [2.43285851, 2.43285851, 2.43285851, 2.43285851, 2.43285851,\n",
       "        2.43285851, 2.43285851, 2.43285851],\n",
       "       [2.43550769, 2.43550769, 2.43550769, 2.43550769, 2.43550769,\n",
       "        2.43550769, 2.43550769, 2.43550769],\n",
       "       [2.43815687, 2.43815687, 2.43815687, 2.43815687, 2.43815687,\n",
       "        2.43815687, 2.43815687, 2.43815687],\n",
       "       [2.44080605, 2.44080605, 2.44080605, 2.44080605, 2.44080605,\n",
       "        2.44080605, 2.44080605, 2.44080605],\n",
       "       [2.44345523, 2.44345523, 2.44345523, 2.44345523, 2.44345523,\n",
       "        2.44345523, 2.44345523, 2.44345523],\n",
       "       [2.44610441, 2.44610441, 2.44610441, 2.44610441, 2.44610441,\n",
       "        2.44610441, 2.44610441, 2.44610441],\n",
       "       [2.44875359, 2.44875359, 2.44875359, 2.44875359, 2.44875359,\n",
       "        2.44875359, 2.44875359, 2.44875359],\n",
       "       [2.45140277, 2.45140277, 2.45140277, 2.45140277, 2.45140277,\n",
       "        2.45140277, 2.45140277, 2.45140277],\n",
       "       [2.45405195, 2.45405195, 2.45405195, 2.45405195, 2.45405195,\n",
       "        2.45405195, 2.45405195, 2.45405195],\n",
       "       [2.45670112, 2.45670112, 2.45670112, 2.45670112, 2.45670112,\n",
       "        2.45670112, 2.45670112, 2.45670112],\n",
       "       [2.4593503 , 2.4593503 , 2.4593503 , 2.4593503 , 2.4593503 ,\n",
       "        2.4593503 , 2.4593503 , 2.4593503 ],\n",
       "       [2.46199948, 2.46199948, 2.46199948, 2.46199948, 2.46199948,\n",
       "        2.46199948, 2.46199948, 2.46199948]])"
      ]
     },
     "execution_count": 59,
     "metadata": {},
     "output_type": "execute_result"
    }
   ],
   "source": [
    "rest"
   ]
  },
  {
   "cell_type": "code",
   "execution_count": 81,
   "id": "8c1b2fb2-9405-4238-91d3-7c74390feb05",
   "metadata": {},
   "outputs": [
    {
     "data": {
      "text/plain": [
       "(0.004882874547827559, 0.1411951)"
      ]
     },
     "execution_count": 81,
     "metadata": {},
     "output_type": "execute_result"
    }
   ],
   "source": [
    "MSE(rest, true_data[0, :, :]), MSE(pred_data[0, :, :], true_data[0, :, :])"
   ]
  },
  {
   "cell_type": "code",
   "execution_count": 82,
   "id": "69054e9a-e8e3-46a9-86a5-31e4684cafe6",
   "metadata": {
    "scrolled": true
   },
   "outputs": [
    {
     "data": {
      "text/plain": [
       "[0.04481729920224709,\n",
       " 0.06088898345493865,\n",
       " 0.04816451492140078,\n",
       " 0.08129575240108584,\n",
       " 0.006447890096728613,\n",
       " 0.08800224955668984,\n",
       " 0.032979710206630646,\n",
       " 0.05657014846388511]"
      ]
     },
     "execution_count": 82,
     "metadata": {},
     "output_type": "execute_result"
    }
   ],
   "source": [
    "[MAE(rest[:, k], true_data[0, :, k]) for k in range(8)]"
   ]
  },
  {
   "cell_type": "code",
   "execution_count": 83,
   "id": "46fa1c5b-6971-4bd9-a9cf-2441dbf1b6b5",
   "metadata": {
    "scrolled": true
   },
   "outputs": [
    {
     "data": {
      "text/plain": [
       "[0.055344135,\n",
       " 0.13963874,\n",
       " 0.23333226,\n",
       " 0.12147683,\n",
       " 0.028011987,\n",
       " 0.860792,\n",
       " 0.10175135,\n",
       " 0.07720589]"
      ]
     },
     "execution_count": 83,
     "metadata": {},
     "output_type": "execute_result"
    }
   ],
   "source": [
    "[MAE(pred_data[0, :,k], true_data[0, :, k]) for k in range(8)]"
   ]
  },
  {
   "cell_type": "code",
   "execution_count": 85,
   "id": "47a679fc-bace-40f8-873d-6b7a2da02299",
   "metadata": {
    "scrolled": true
   },
   "outputs": [
    {
     "data": {
      "image/png": "[encoded data removed]",
      "text/plain": [
       "<Figure size 640x480 with 1 Axes>"
      ]
     },
     "metadata": {},
     "output_type": "display_data"
    }
   ],
   "source": [
    "idx = 0\n",
    "jdx = 4\n",
    "plt.plot(x0, pred_data[idx, :, jdx], 'k', label='pred')\n",
    "plt.plot(x0, true_data[idx, :, jdx], 'b', label='true')\n",
    "plt.plot(x0, resa[idx, :, jdx], 'y.', label='lin-approx')\n",
    "plt.plot(x0, rest[:, jdx], 'r.', label='lin-approx')\n",
    "plt.legend()\n",
    "plt.show()"
   ]
  },
  {
   "cell_type": "code",
   "execution_count": 75,
   "id": "a5891415-d028-49ff-9a57-f74e152780a2",
   "metadata": {},
   "outputs": [
    {
     "data": {
      "text/plain": [
       "0.0"
      ]
     },
     "execution_count": 75,
     "metadata": {},
     "output_type": "execute_result"
    }
   ],
   "source": [
    "MAE(rest[:, 0], rest[:,-1])"
   ]
  },
  {
   "cell_type": "code",
   "execution_count": null,
   "id": "8a14de33-81a8-42a3-8408-47f6fc20ff41",
   "metadata": {},
   "outputs": [],
   "source": []
  }
 ],
 "metadata": {
  "kernelspec": {
   "display_name": "Python 3 (ipykernel)",
   "language": "python",
   "name": "python3"
  },
  "language_info": {
   "codemirror_mode": {
    "name": "ipython",
    "version": 3
   },
   "file_extension": ".py",
   "mimetype": "text/x-python",
   "name": "python",
   "nbconvert_exporter": "python",
   "pygments_lexer": "ipython3",
   "version": "3.8.11"
  }
 },
 "nbformat": 4,
 "nbformat_minor": 5
}
