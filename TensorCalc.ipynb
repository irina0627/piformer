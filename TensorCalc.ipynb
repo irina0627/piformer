{
 "cells": [
  {
   "cell_type": "code",
   "execution_count": 1,
   "id": "d73ff09e-c811-44a5-8d00-f91875ce8e6e",
   "metadata": {},
   "outputs": [],
   "source": [
    "import torch\n",
    "\n",
    "def transform_tensor(X, weights):\n",
    "    # X is a 4D tensor of shape (a, b, c, d)\n",
    "    # weights is a 1D tensor of shape (2,)\n",
    "    \n",
    "    a, b, c, d = X.shape\n",
    "    # 스택하고 리쉐이프하는 과정\n",
    "    X_stacked = X.permute(1, 2, 0, 3).reshape(b, c, a * d)\n",
    "    \n",
    "    # 새로운 텐서를 생성하는데, 마지막 차원을 계산에 이용\n",
    "    new_last_dim = []\n",
    "    for i in range(0, a * d, 2):  # 2개씩 짝을 지어 처리\n",
    "        # 인접한 값들을 가중 평균\n",
    "        weighted_avg = (weights[0] * X_stacked[:, :, i] + weights[1] * X_stacked[:, :, i+1]) / weights.sum()\n",
    "        new_last_dim.append(weighted_avg)\n",
    "    \n",
    "    # 새로운 마지막 차원을 스택\n",
    "    new_tensor = torch.stack(new_last_dim, dim=-1)\n",
    "    return new_tensor\n",
    "\n",
    "# 예시 텐서\n",
    "X = torch.tensor([[[[1, 2], [3, 4]], [[1, 2], [3, 4]]], [[[5, 6], [7, 8]], [[5, 6], [7, 8]]]])\n",
    "weights = torch.tensor([1, 2])"
   ]
  },
  {
   "cell_type": "code",
   "execution_count": 12,
   "id": "4b360e70-7e28-4519-9422-fcaec5b285ef",
   "metadata": {
    "scrolled": true
   },
   "outputs": [
    {
     "data": {
      "text/plain": [
       "tensor([[[[1, 2],\n",
       "          [3, 4]],\n",
       "\n",
       "         [[1, 2],\n",
       "          [3, 4]]],\n",
       "\n",
       "\n",
       "        [[[5, 6],\n",
       "          [7, 8]],\n",
       "\n",
       "         [[5, 6],\n",
       "          [7, 8]]]])"
      ]
     },
     "execution_count": 12,
     "metadata": {},
     "output_type": "execute_result"
    }
   ],
   "source": [
    "X"
   ]
  },
  {
   "cell_type": "code",
   "execution_count": 18,
   "id": "e1ae1cd7-00da-407e-a618-ac3afbd7457f",
   "metadata": {},
   "outputs": [
    {
     "data": {
      "text/plain": [
       "tensor([[[1, 2, 5, 6],\n",
       "         [3, 4, 7, 8]],\n",
       "\n",
       "        [[1, 2, 5, 6],\n",
       "         [3, 4, 7, 8]]])"
      ]
     },
     "execution_count": 18,
     "metadata": {},
     "output_type": "execute_result"
    }
   ],
   "source": [
    "X_stacked = X.permute(1, 2, 0, 3).reshape(2, 2, 4)\n",
    "X_stacked"
   ]
  },
  {
   "cell_type": "code",
   "execution_count": 25,
   "id": "53ec1c0c-3005-4826-94d2-9d5f504a5bbf",
   "metadata": {},
   "outputs": [],
   "source": [
    "# 부드럽게 Tensor 연결하는 함수 정의\n",
    "def smoothing(X):\n",
    "    # X is a 4D tensor of shape (a, b, c, d)\n",
    "    # weights is a 1D tensor of shape (2,)\n",
    "    \n",
    "    a, b, c, d = X.shape\n",
    "    # 스택하고 리쉐이프하는 과정\n",
    "    X_stacked = X.permute(1, 2, 0, 3).reshape(b, c, a * d)\n",
    "    \n",
    "    # 2개씩 짝을 지어 처리\n",
    "    for j in range(a-1):  \n",
    "        ct_point = d*(j+1)\n",
    "\n",
    "        ct_before = X_stacked[:, :, ct_point-1]\n",
    "        ct_after = X_stacked[:, :, ct_point]\n",
    "        for k in range(d//2):\n",
    "            X_stacked[:, :, k + ct_point - d//2] = (d-k)/(d+1) * X_stacked[:, :, k + ct_point - d//2] + (k+1)/(d+1) * ct_after\n",
    "        for k in range(d//2):\n",
    "            X_stacked[:, :, k + ct_point ] = (d//2 + k +1)/(d+1) * X_stacked[:, :, k + ct_point ] + (d//2 - k)/(d+1) * ct_before\n",
    "    \n",
    "    return X_stacked"
   ]
  },
  {
   "cell_type": "code",
   "execution_count": 21,
   "id": "06b9fb59-05ec-4ef8-99e4-3135876768e5",
   "metadata": {},
   "outputs": [
    {
     "data": {
      "text/plain": [
       "(tensor([[2, 4],\n",
       "         [2, 4]]),\n",
       " tensor([[5, 7],\n",
       "         [5, 7]]))"
      ]
     },
     "execution_count": 21,
     "metadata": {},
     "output_type": "execute_result"
    }
   ],
   "source": [
    "ct_point = 2\n",
    "ct_before = X_stacked[:, :, ct_point-1]\n",
    "ct_after = X_stacked[:, :, ct_point]\n",
    "ct_before, ct_after"
   ]
  },
  {
   "cell_type": "code",
   "execution_count": 22,
   "id": "b52c3e6d-40f4-4d1a-ae00-973f1cc79f7d",
   "metadata": {},
   "outputs": [],
   "source": [
    "X_stacked[:, :,1] = 2/3 * X_stacked[:, :, 1] + 1/3 * ct_after"
   ]
  },
  {
   "cell_type": "code",
   "execution_count": 23,
   "id": "2560fb49-3fb4-4299-b0e1-2dd1be8db575",
   "metadata": {},
   "outputs": [],
   "source": [
    "X_stacked[:, :,2] = 2/3 * X_stacked[:, :, 2] + 1/3 * ct_before"
   ]
  },
  {
   "cell_type": "code",
   "execution_count": 24,
   "id": "d4741fb6-2f02-445b-bc19-56e4aa6a8c73",
   "metadata": {
    "scrolled": true
   },
   "outputs": [
    {
     "data": {
      "text/plain": [
       "tensor([[[1, 3, 4, 6],\n",
       "         [3, 5, 6, 8]],\n",
       "\n",
       "        [[1, 3, 4, 6],\n",
       "         [3, 5, 6, 8]]])"
      ]
     },
     "execution_count": 24,
     "metadata": {},
     "output_type": "execute_result"
    }
   ],
   "source": [
    "X_stacked"
   ]
  },
  {
   "cell_type": "code",
   "execution_count": null,
   "id": "fb8cca73-e913-4fc6-a6b8-d53a25311391",
   "metadata": {},
   "outputs": [],
   "source": []
  }
 ],
 "metadata": {
  "kernelspec": {
   "display_name": "Python 3 (ipykernel)",
   "language": "python",
   "name": "python3"
  },
  "language_info": {
   "codemirror_mode": {
    "name": "ipython",
    "version": 3
   },
   "file_extension": ".py",
   "mimetype": "text/x-python",
   "name": "python",
   "nbconvert_exporter": "python",
   "pygments_lexer": "ipython3",
   "version": "3.8.11"
  }
 },
 "nbformat": 4,
 "nbformat_minor": 5
}
